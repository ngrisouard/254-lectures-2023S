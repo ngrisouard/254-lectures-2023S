{
 "cells": [
  {
   "cell_type": "raw",
   "metadata": {
    "raw_mimetype": "text/latex",
    "slideshow": {
     "slide_type": "skip"
    }
   },
   "source": [
    "\\DefineVerbatimEnvironment{Verbatim}{Verbatim}{fontsize=\\scriptsize}\n",
    "\n",
    "\\newcommand{\\bnabla}{\\boldsymbol{\\nabla}}\n",
    "\\newcommand{\\eexp}[1]{\\text{e}^{#1}}\n",
    "\\newcommand{\\di}[0]{\\text{d}}\n",
    "\\newcommand{\\bs}[1]{\\boldsymbol{#1}}\n",
    "\\newcommand{\\ode}[2]{\\frac{\\di {#1}}{\\di {#2}}}\n",
    "\\newcommand{\\oden}[3]{\\frac{\\di^{#1} {#2}}{\\di {#3}^{#1}}}\n",
    "\\newcommand{\\odel}[2]{\\di {#1}/\\di {#2}}\n",
    "\\newcommand{\\odeln}[3]{\\di^{#1} {#2}/\\di {#3}^{#1}}\n",
    "\\newcommand{\\pde}[2]{\\frac{\\partial {#1}}{\\partial {#2}}}\n",
    "\\newcommand{\\pden}[3]{\\frac{\\partial^{#1} {#2}}{\\partial {#3}^{#1}}}\n",
    "\\newcommand{\\pdel}[2]{\\partial_{#2} {#1}}\n",
    "\\newcommand{\\pdenl}[3]{\\partial^{#1}_{#3} {#2}}\n",
    "\\newcommand{\\divr}[1]{\\vec\\nabla \\cdot {#1}}\n",
    "\\newcommand{\\divrb}[1]{\\boldsymbol{\\nabla} \\cdot {#1}}\n",
    "\\newcommand{\\grad}[1]{\\vec \\nabla {#1}}\n",
    "\\newcommand{\\gradb}[1]{\\boldsymbol\\nabla {#1}}\n",
    "\\newcommand{\\curl}[1]{\\vec\\nabla \\times {#1}}\n",
    "\\newcommand{\\curlb}[1]{\\boldsymbol{\\nabla}\\times\\boldsymbol{#1}}\n",
    "\\newcommand{\\lapl}[0]{\\vec\\nabla^2}\n",
    "\\newcommand{\\laplb}[0]{\\boldsymbol{\\nabla}^2}\n",
    "\\newcommand{\\ci}[0]{\\text{i}}\n",
    "\\newcommand{\\unit}[1]{\\boldsymbol{\\hat{#1}}}\n",
    "\\newcommand{\\red}[1]{\\textcolor{red}{#1}}\n",
    "\\newcommand{\\blue}[1]{\\textcolor{blue}{#1}}\n",
    "\\newcommand{\\mage}[1]{\\textcolor{magenta}{#1}}\n",
    "\\newcommand{\\with}[0]{\\quad\\text{with}\\quad}\n",
    "\\newcommand{\\thrfor}[0]{\\quad\\Rightarrow\\quad}\n",
    "\\newcommand{\\andeq}[0]{\\quad\\text{and}\\quad}\n",
    "\\newcommand{\\oreq}[0]{\\quad\\text{or}\\quad}\n",
    "\\newcommand{\\stirling}[2]{\\genfrac{[}{]}{0pt}{}{#1}{#2}}"
   ]
  },
  {
   "cell_type": "markdown",
   "metadata": {
    "slideshow": {
     "slide_type": "skip"
    }
   },
   "source": [
    "$\\newcommand{\\bnabla}{\\boldsymbol{\\nabla}}$\n",
    "$\\newcommand{\\eexp}[1]{\\text{e}^{#1}}$\n",
    "$\\newcommand{\\di}[0]{\\text{d}}$\n",
    "$\\newcommand{\\bs}[1]{\\boldsymbol{#1}}$\n",
    "$\\newcommand{\\ode}[2]{\\frac{\\di {#1}}{\\di {#2}}}$\n",
    "$\\newcommand{\\oden}[3]{\\frac{\\di^{#1} {#2}}{\\di {#3}^{#1}}}$\n",
    "$\\newcommand{\\odel}[2]{\\di {#1}/\\di {#2}}$\n",
    "$\\newcommand{\\odeln}[3]{\\di^{#1} {#2}/\\di {#3}^{#1}}$\n",
    "$\\newcommand{\\pde}[2]{\\frac{\\partial {#1}}{\\partial {#2}}}$\n",
    "$\\newcommand{\\pden}[3]{\\frac{\\partial^{#1} {#2}}{\\partial {#3}^{#1}}}$\n",
    "$\\newcommand{\\pdel}[2]{\\partial_{#2} {#1}}$\n",
    "$\\newcommand{\\pdenl}[3]{\\partial^{#1}_{#3} {#2}}$\n",
    "$\\newcommand{\\divr}[1]{\\vec\\nabla \\cdot {#1}}$\n",
    "$\\newcommand{\\divrb}[1]{\\boldsymbol{\\nabla} \\cdot {#1}}$\n",
    "$\\newcommand{\\grad}[1]{\\vec \\nabla {#1}}$\n",
    "$\\newcommand{\\gradb}[1]{\\boldsymbol\\nabla {#1}}$\n",
    "$\\newcommand{\\curl}[1]{\\vec\\nabla \\times {#1}}$\n",
    "$\\newcommand{\\curlb}[1]{\\boldsymbol{\\nabla}\\times\\boldsymbol{#1}}$\n",
    "$\\newcommand{\\lapl}[0]{\\vec\\nabla^2}$\n",
    "$\\newcommand{\\laplb}[0]{\\boldsymbol{\\nabla}^2}$\n",
    "$\\newcommand{\\ci}[0]{\\text{i}}$\n",
    "$\\newcommand{\\unit}[1]{\\boldsymbol{\\hat{#1}}}$\n",
    "$\\newcommand{\\thrfor}[0]{\\quad\\Rightarrow\\quad}$\n",
    "$\\newcommand{\\red}[1]{\\textcolor{red}{#1}}$\n",
    "$\\newcommand{\\blue}[1]{\\textcolor{blue}{#1}}$\n",
    "$\\newcommand{\\mage}[1]{\\textcolor{magenta}{#1}}$\n",
    "$\\newcommand{\\with}[0]{\\quad\\text{with}\\quad}$\n",
    "$\\newcommand{\\thrfor}[0]{\\quad\\Rightarrow\\quad}$\n",
    "$\\newcommand{\\andeq}[0]{\\quad\\text{and}\\quad}$\n",
    "$\\newcommand{\\oreq}[0]{\\quad\\text{or}\\quad}$\n",
    "$\\newcommand{\\stirling}[2]{\\genfrac{[}{]}{0pt}{}{#1}{#2}}$"
   ]
  },
  {
   "cell_type": "code",
   "execution_count": 1,
   "metadata": {
    "raw_mimetype": "text/x-python",
    "slideshow": {
     "slide_type": "slide"
    }
   },
   "outputs": [],
   "source": [
    "from IPython.display import Image, display, YouTubeVideo\n",
    "import numpy as np\n",
    "import matplotlib.pyplot as plt\n",
    "from matplotlib import interactive\n",
    "from ipywidgets import interact, FloatSlider, fixed\n",
    "from matplotlib import rcParams\n",
    "interactive(True)\n",
    "rcParams['figure.dpi'] = 150  # for crisper figures later"
   ]
  },
  {
   "cell_type": "markdown",
   "metadata": {
    "slideshow": {
     "slide_type": "skip"
    }
   },
   "source": [
    "*Readings:*\n",
    "\n",
    "* *Morin 4.5*\n",
    "* *French 5, roughly the 1st half.*"
   ]
  },
  {
   "cell_type": "markdown",
   "metadata": {
    "slideshow": {
     "slide_type": "skip"
    }
   },
   "source": [
    "# Expectations"
   ]
  },
  {
   "cell_type": "markdown",
   "metadata": {
    "slideshow": {
     "slide_type": "subslide"
    }
   },
   "source": [
    "## Remember\n",
    "\n",
    "* A normal mode of oscillation occurs by definition when all of the components of a coupled system of oscillators oscillate at the same frequency. It is an object that is shared globally, by *all* of the components of the oscillator;\n",
    "* That the modes are completely independent when the system is linear; they all have their own quantity of energy;\n",
    "* The definitions of normal frequencies, normal modes, normal coordinates. \n",
    "* That the word 'normal' is equivalent to the prefix 'eigen';\n",
    "* The determinant of a $2\\times2$ matrix.\n",
    "* Any solution of an initial value problem (IVP) can be written as a linear combination of the $n$ eigenmodes."
   ]
  },
  {
   "cell_type": "markdown",
   "metadata": {
    "slideshow": {
     "slide_type": "subslide"
    }
   },
   "source": [
    "## Understand\n",
    "\n",
    "* What a degree of freedom is.\n",
    "* The connection between the modes of a coupled oscillator system and the theory of eigenvectors and eigenvalues (or at least begin to make the connection)."
   ]
  },
  {
   "cell_type": "markdown",
   "metadata": {
    "slideshow": {
     "slide_type": "subslide"
    }
   },
   "source": [
    "## Apply\n",
    "\n",
    "* A systematic approach to retrieve all of the normal-stuff is to solve an eigenvalue/vector problem. Remember how to cast the equations of motion into a matrix equation, and how to proceed to find all of the eigen-stuff (solve for the roots of the determinant, replace $\\omega$ by $\\omega_n$ to find the eigenvectors, maybe normalize).\n",
    "* Worked examples, tutorials and problem sets."
   ]
  },
  {
   "cell_type": "markdown",
   "metadata": {
    "slideshow": {
     "slide_type": "skip"
    }
   },
   "source": [
    "# Introduction"
   ]
  },
  {
   "cell_type": "markdown",
   "metadata": {
    "slideshow": {
     "slide_type": "skip"
    }
   },
   "source": [
    "This lecture is a pivotal chapter in this lecture series, because it makes the transition between the behaviour of simple oscillators and wave behaviour.\n",
    "However, these two things look very, very different.\n",
    "Where does the connection happen?"
   ]
  },
  {
   "cell_type": "markdown",
   "metadata": {
    "slideshow": {
     "slide_type": "skip"
    }
   },
   "source": [
    "Here is the pivot, and understanding it is pretty much the goal of this lecture: when two oscillators are coupled, i.e., the motion of one oscillator is influenced by the motion of the other, any motion that ensues can be thought of as a linear combination of two orthogonal types of motion.\n",
    "The features of these orthogonal types of motion can be found by solving for the eigenmodes of the matrix, corresponding to the $2\\times2$ linear system of equations of the two oscillators.\n",
    "Each orthogonal mode of motion evolves independently, and its evolution equation is that of a simple harmonic oscillator.\n",
    "Physically, the most visible manifestation of one single mode of motion is that all parts of the coupled system of oscillators oscillate at the same frequency, while a different mode will have those parts oscillate at different frequencies."
   ]
  },
  {
   "cell_type": "markdown",
   "metadata": {
    "slideshow": {
     "slide_type": "skip"
    }
   },
   "source": [
    "In the next lecture, we will see that if an infinite number of oscillators are coupled, the number of orthogonal modes of motion are not to the number of two, but are infinite."
   ]
  },
  {
   "cell_type": "markdown",
   "metadata": {
    "slideshow": {
     "slide_type": "skip"
    }
   },
   "source": [
    "From now on, in order to simplify the presentation, we neglect damping unless otherwise stated."
   ]
  },
  {
   "cell_type": "markdown",
   "metadata": {
    "slideshow": {
     "slide_type": "skip"
    }
   },
   "source": [
    "But first, let's take a look at the go-to experimental demo of this chapter: the coupled pendulums (also at https://youtu.be/BSC0HG1Nz74 and https://play.library.utoronto.ca/a185a674af2647fc6639939b765f7454)."
   ]
  },
  {
   "cell_type": "code",
   "execution_count": null,
   "metadata": {
    "slideshow": {
     "slide_type": "skip"
    },
    "tags": []
   },
   "outputs": [],
   "source": [
    "YouTubeVideo('BSC0HG1Nz74', width=560, height=315)"
   ]
  },
  {
   "cell_type": "markdown",
   "metadata": {
    "slideshow": {
     "slide_type": "skip"
    }
   },
   "source": [
    "# Two Pendulums and a Spring\n",
    "\n",
    "## Qualitative considerations\n",
    "\n",
    "### Setup\n",
    "\n",
    "Let me use the example of the setup is shown in French's fig. 5-2, reproduced below. \n",
    "\n",
    "* Two pendulums of identical lengths $\\ell$.\n",
    "* At the end of a each pendulum, two identical masses $m$ hang.\n",
    "* The masses are attached via a spring of stiffness $k$. The masses are placed at a distance such that at rest, the spring is neither stretched or compressed.\n"
   ]
  },
  {
   "cell_type": "markdown",
   "metadata": {
    "slideshow": {
     "slide_type": "subslide"
    }
   },
   "source": [
    "![From A.P. French, p. 121](CoupledPendulumsFrench.png)"
   ]
  },
  {
   "cell_type": "markdown",
   "metadata": {
    "slideshow": {
     "slide_type": "skip"
    }
   },
   "source": [
    "Let's call $B$ the mass on the left, and $A$ the mass on the right.\n",
    "$x_A$ and $x_B$ are the *horizontal* distances of each mass from their respective rest positions.\n",
    "I will show how a systematic mathematical treatment of the equations of motion reveals that there are two \"natural\", i.e., normal, modes of motion.\n",
    "But first, let me introduce them qualitatively."
   ]
  },
  {
   "cell_type": "markdown",
   "metadata": {
    "slideshow": {
     "slide_type": "skip"
    }
   },
   "source": [
    "### Antisymmetric Normal Mode"
   ]
  },
  {
   "cell_type": "markdown",
   "metadata": {
    "slideshow": {
     "slide_type": "subslide"
    }
   },
   "source": [
    "![Fig. 3: the antisymmetric normal mode](pendulum_syn.gif)"
   ]
  },
  {
   "cell_type": "markdown",
   "metadata": {
    "slideshow": {
     "slide_type": "skip"
    }
   },
   "source": [
    "Imagine that at $t=0$, $x_{A0} = x_{B0} = A$, and both masses are held steady initially (no initial velocity).\n",
    "Since the motion of both masses is initialized in the same way, and both pendulums have the same natural frequency $\\omega_p = \\sqrt{g/\\ell}$, they would naturally oscillate in perfect sync, with same amplitude and in phase:"
   ]
  },
  {
   "cell_type": "markdown",
   "metadata": {
    "slideshow": {
     "slide_type": "-"
    }
   },
   "source": [
    "$$ x_A(t) = x_B(t) = A\\cos(\\omega_1 t). $$"
   ]
  },
  {
   "cell_type": "markdown",
   "metadata": {
    "slideshow": {
     "slide_type": "skip"
    }
   },
   "source": [
    "The spring is neither stretched or compressed, and therefore plays no role in this motion.\n",
    "Here is why this mode of motion is what we call a normal mode:\n",
    "**all elements of the coupled system oscillate at the same frequency**, $\\omega_1 =\\omega_p$ here."
   ]
  },
  {
   "cell_type": "markdown",
   "metadata": {
    "slideshow": {
     "slide_type": "skip"
    }
   },
   "source": [
    "### Symmetric Normal Mode"
   ]
  },
  {
   "cell_type": "markdown",
   "metadata": {
    "slideshow": {
     "slide_type": "fragment"
    }
   },
   "source": [
    "![Fig. 4: the symmetric normal mode](pendulum_asyn.gif)"
   ]
  },
  {
   "cell_type": "markdown",
   "metadata": {
    "slideshow": {
     "slide_type": "skip"
    }
   },
   "source": [
    "We can come up with another type of motion, for which each mass will oscillate sinusoidally with a well-defined frequency."
   ]
  },
  {
   "cell_type": "markdown",
   "metadata": {
    "slideshow": {
     "slide_type": "skip"
    }
   },
   "source": [
    "Our initial conditions are now $x_{A0} = -x_{B0} = A$, with zero initial velocity again. By symmetry, one can expect the motion to now be described by "
   ]
  },
  {
   "cell_type": "markdown",
   "metadata": {
    "slideshow": {
     "slide_type": "-"
    }
   },
   "source": [
    "$$ x_A(t) = A\\cos(\\omega_2 t)\\quad\\textrm{and}\\quad x_{B}(t) = A\\cos(\\omega_2 t +\\pi). $$"
   ]
  },
  {
   "cell_type": "markdown",
   "metadata": {
    "slideshow": {
     "slide_type": "skip"
    }
   },
   "source": [
    "I.e., both positions will oscillate $\\pi$ rad (or 180$^\\circ$) out of phase, and with a single angular frequency $\\omega_2$.\n",
    "What $\\omega_2$ is, is not trivial at this point, because it will include effects due to both restoring forces, i.e., weight and the spring tension.\n",
    "I will derive it soon after, but at this point, I want you to remember that the type of motion is a normal mode because **both pendulums oscillate at the same frequency.**"
   ]
  },
  {
   "cell_type": "markdown",
   "metadata": {
    "slideshow": {
     "slide_type": "skip"
    }
   },
   "source": [
    "Could I find a third normal mode?\n",
    "The answer is no, because there are only two degrees of freedom (the positions of the masses).\n",
    "Is it obvious?\n",
    "Again, the answer is no.\n",
    "The definitive proof is a basic result of linear algebra.\n",
    "In this chapter, I will simply show that these forms of motion appear naturally out of the equations of motion, that no other normal mode is apparent, and that any other form of motion can be described as a linear combination of both forms of motion."
   ]
  },
  {
   "cell_type": "markdown",
   "metadata": {
    "slideshow": {
     "slide_type": "skip"
    }
   },
   "source": [
    "## General Derivation\n",
    "\n",
    "Let us now drop any symmetry assumption.\n",
    "The positions $x_A(t)$ and $x_B(t)$ are just what they are, like in French's fig. 5-5, reproduced below."
   ]
  },
  {
   "cell_type": "markdown",
   "metadata": {
    "slideshow": {
     "slide_type": "subslide"
    }
   },
   "source": [
    "![From A.P. French, fig. 5-5](French_5_5.png)"
   ]
  },
  {
   "cell_type": "markdown",
   "metadata": {
    "slideshow": {
     "slide_type": "skip"
    }
   },
   "source": [
    "### Linearization and basic equations\n",
    "\n",
    "Recall that for $\\theta \\ll 1$, $\\sin\\theta \\approx \\theta\\approx \\tan\\theta$ and $\\cos\\theta \\approx 1$.\n",
    "\n",
    "We assume that the motion of each pendulum is very small, meaning we can linearize.\n",
    "For the sake of example, take mass $A$, call $\\theta$ the angle of pendulum $A$ and take the rest position as the origin, namely, $x_A=y_A=0$ when $\\theta=0$.\n",
    "\n",
    "* The **horizontal position** of mass $A$ when the angle of the pendulum $\\theta \\neq 0$ is $x_A = \\ell\\sin\\theta \\approx \\ell \\theta$.\n",
    "* The **gravitational force along the $\\bs{x}$-direction is zero**, but the tension $\\vec T$ in the pendulum arm, connecting the mass to the arm, isn't. \n",
    "    In the vertical direction, $T_y =|\\vec T|\\cos\\theta \\approx |\\vec T|$.\n",
    "    The vertical position is $y = \\ell(1-\\cos\\theta) \\approx \\ell\\theta^2/2$, and its vertical acceleration is negligible.\n",
    "    This last bit is because $y$ barely changes and its acceleration therefore has to be much smaller than the other two forces, which balance each other out (to prove it rigorously would take a fair bit of calculus; it is not the focus of this lecture, and I feel like the conclusion is fairly intuitive).\n",
    "    At any rate, the FBD in the vertical would therefore yield $0 \\approx T_y - mg \\Rightarrow |\\vec T| \\approx mg$.\n",
    "* The **horizontal projection of the tension $\\bs{\\vec T}$** is therefore $-|\\vec T|\\sin\\theta \\approx  -mg x_A/\\ell$.\n",
    "* Finally, because all angles are small, the elongation of the spring is approximately equal to $x_A-x_B$.\n",
    "    Figuring out the sign of the spring force can be tricky, so do the following thought experiment.\n",
    "    If $x_B$ is held at zero and $x_A$ moved to the right (positive direction), the spring force is $-kx_A$. Now moving $x_B$, the force becomes $-k(x_A - x_B)$.\n",
    "\n",
    "The FBD on mass $A$ then leads us to the conclusion that $m \\ddot x_A = -\\frac{mg}\\ell x_A - k(x_A - x_B)$,\n",
    "\\begin{equation}\n",
    "\\thrfor \\ddot x_A + \\omega_p^2 x_A + \\omega_s^2(x_A - x_B) = 0,\n",
    "\\label{eq:mxA}\n",
    "\\end{equation}\n",
    "where we recall that $\\omega_p = \\sqrt{g/\\ell}$ is the natural angular frequency of the pendulum and $\\omega_s = \\sqrt{k/m}$ is the natural angular frequency of the \\{mass A + spring\\} system.\n",
    "\n",
    "Symmetric considerations about mass $B$ would yield \n",
    "\\begin{equation}\n",
    "\\ddot x_B + \\omega_p^2 x_B + \\omega_s^2(x_B - x_A) = 0.\n",
    "\\label{eq:mxB}\n",
    "\\end{equation}"
   ]
  },
  {
   "cell_type": "markdown",
   "metadata": {
    "slideshow": {
     "slide_type": "skip"
    }
   },
   "source": [
    "Both equations are almost the same, except that the terms that result from the spring tension, which couples the motion of both masses, are opposite."
   ]
  },
  {
   "cell_type": "markdown",
   "metadata": {
    "slideshow": {
     "slide_type": "skip"
    }
   },
   "source": [
    "### Change of variables"
   ]
  },
  {
   "cell_type": "markdown",
   "metadata": {
    "slideshow": {
     "slide_type": "skip"
    }
   },
   "source": [
    "It is not obvious at first, how to solve for $x_A$ and $x_B$ with this coupling term involved.\n",
    "The method we use is a **change of variables.**\n",
    "Define\n",
    "$$ q_1 = x_A + x_B \\andeq q_2 = x_A - x_B.$$"
   ]
  },
  {
   "cell_type": "markdown",
   "metadata": {
    "slideshow": {
     "slide_type": "skip"
    }
   },
   "source": [
    "One simple way to make them appear is to sum and subtract equation \\eqref{eq:mxA} and \\eqref{eq:mxB}:\n",
    "\n",
    "* $\\eqref{eq:mxA} + \\eqref{eq:mxB} \\quad\\Rightarrow\\quad \\ddot q_1 + \\omega_1^2 q_1 = 0$.\n",
    "\n",
    "    This is the equation for an SHO of angular frequency $\\omega_1 = \\omega_p$.\n",
    "    The antisymmetric mode of motion that I described earlier on was also oscillating at frequency $\\omega_p$, because the spring wasn't stretching or compressing, and therefore the presence of said spring was not modifying the pendulum natural frequency $\\omega_p$.\n",
    "    And since it was characterized by $x_A(t) = x_B(t)$, it corresponded to $q_1 = 2x_A = 2x_B \\neq 0$ and $q_2 = 0$.\n",
    "\n",
    "    *Note: why do I feel the need to introduce $\\omega_1$ on top of $\\omega_p$? Because in general, no frequency of the normal modes is equal to one of the frequencies of the uncoupled oscillators. In this simple case, yes, but I do not want to give false impressions.*"
   ]
  },
  {
   "cell_type": "markdown",
   "metadata": {
    "slideshow": {
     "slide_type": "skip"
    }
   },
   "source": [
    "* $\\eqref{eq:mxA} - \\eqref{eq:mxB} \\quad\\Rightarrow\\quad \\ddot q_2 + \\omega_p^2 q_2 + 2\\omega_s^2 q_2 = 0.$\n",
    "\n",
    "    Or, defining $\\omega_2^2 = \\omega_p^2 + 2\\omega_s^2$,\n",
    "    $$ \\ddot q_2 + \\omega_2^2 q_2 = 0. $$\n",
    "    Recall the symmetric oscillation mode: it was characterized by $x_A = -x_B$, and therefore $q_1 = 0$ and $q_2 = 2x_A = -2x_B \\neq 0.$\n",
    "    I had also mentioned, back then, that $\\omega_2^2$ was not trivial, because it was a mix of the influences of gravity and spring tension.\n",
    "    Indeed, here, $\\omega_2$ does contain both the influences of gravity (via $\\omega_p^2$) and spring tension (via $2\\omega_s^2$).\n",
    "    Therefore, this mode corresponds to the symmetric mode of motion."
   ]
  },
  {
   "cell_type": "markdown",
   "metadata": {
    "slideshow": {
     "slide_type": "skip"
    }
   },
   "source": [
    "#### Comments (to be remembered!)"
   ]
  },
  {
   "cell_type": "markdown",
   "metadata": {
    "slideshow": {
     "slide_type": "skip"
    }
   },
   "source": [
    "* Modes of oscillations cannot be thought on as simple oscillations anymore, with one object or easily identifiable quantity such as mass position describing an oscillation. It is a **global** concept in which **all** components of one coupled system of oscillators oscillate in phase, at the same frequency, as if described by a (D or S)HO model.\n",
    "* The oscillations of each individual component are not independent from each other, but **the modes are completely independent**: there is no trace of $q_1$ in the equation for $q_2$, and vice-versa. It means that if one initiates the coupled system in a funky way (\"funky\" as opposed to the clean symmetric and antisymmetric initialisations I did so far), and the coupled system does a weird dance of oscillations, the degree of complexity is actually finite: one mode has a certain amplitude and a certain phase, and the other mode has a certain amplitude, presumably different, and a certain phase shift with the first mode. The pattern of oscillations might look crazy, but there are only two modes, and they don't exchange momentum from one to the other as long as the system is linear.\n",
    "* $q_1$ and $q_2$ are called the **normal coordinates**, or **eigencoordinates**, of the **normal modes**, or **eigenmodes**. Their respective **normal frequencies**, or **eigenfrequencies**, are $\\omega_1$ and $\\omega_2$."
   ]
  },
  {
   "cell_type": "markdown",
   "metadata": {
    "slideshow": {
     "slide_type": "skip"
    }
   },
   "source": [
    "It is as if there is a physical space, in which physical coordinates $x_A$ and $x_B$ exist, and a dual space, in which $q_1$ and $q_2$ exist.\n",
    "Both spaces describe the same physical reality, but because they don't describe it in the same way, the \"dual\" space may be more useful in some cases, including this one."
   ]
  },
  {
   "cell_type": "markdown",
   "metadata": {
    "slideshow": {
     "slide_type": "skip"
    }
   },
   "source": [
    "We mentioned this dual space before, though in different terms.\n",
    "When you start studying Fourier series and later on Fourier analysis, you may call this dual space the \"Fourier\" space, or \"spectral\" space.\n",
    "It has nothing to do with Halloween, and everything to do with the fact that the visualization of the physical reality in this dual space is called a (Fourier) spectrum, which looks like the display on a sound equalizer (and it is not a coincidence).\n",
    "I may use the term \"Fourier\" inadvertently, by force of habit."
   ]
  },
  {
   "cell_type": "markdown",
   "metadata": {
    "slideshow": {
     "slide_type": "skip"
    }
   },
   "source": [
    "## More on the Independence of the Modes\n",
    "\n",
    "### General solution as a linear superposition of all modes"
   ]
  },
  {
   "cell_type": "markdown",
   "metadata": {
    "slideshow": {
     "slide_type": "skip"
    }
   },
   "source": [
    "A bit more algebra, because I want to drive home the fact that the two modes are independent.\n",
    "If the coupled system is initiated somewhat randomly, both modes of oscillation will coexist.\n",
    "They both are solutions of two different SHO equations, and their expressions are therefore\n",
    "$$q_1 = C_1\\cos(\\omega_1 t + \\phi_1)\\andeq q_2 = C_2\\cos(\\omega_2 t + \\phi_2).$$"
   ]
  },
  {
   "cell_type": "markdown",
   "metadata": {
    "slideshow": {
     "slide_type": "skip"
    }
   },
   "source": [
    "In physical coordinates, this translates into\n",
    "$$ x_A = \\frac{q_1 + q_2}2 = \\frac12\\left[C_1\\cos(\\omega_1 t + \\phi_1) + C_2\\cos(\\omega_2 t + \\phi_2) \\right],$$\n",
    "$$ x_B = \\frac{q_1 - q_2}2 = \\frac12\\left[C_1\\cos(\\omega_1 t + \\phi_1) - C_2\\cos(\\omega_2 t + \\phi_2) \\right].$$"
   ]
  },
  {
   "cell_type": "markdown",
   "metadata": {
    "slideshow": {
     "slide_type": "skip"
    }
   },
   "source": [
    "Meaning that any motion can be considered a linear superposition of the two modes.\n",
    "For the motion of the antisymmetric mode, $C_2 = 0$, for the symmetric mode, $C_1 = 0$, and in general, $C_1\\neq 0$ and $C_2\\neq 0$."
   ]
  },
  {
   "cell_type": "markdown",
   "metadata": {
    "slideshow": {
     "slide_type": "skip"
    }
   },
   "source": [
    "#### Energetic independence of the modes\n",
    "\n",
    "Here I show that the two modes each have a certain amount of energy, and that this energy does not get traded from one mode to the other.\n",
    "The kinetic energies of $A$ and $B$ are \n",
    "$$ K_{A, B} = \\frac12 m\\left(\\dot x_{A, B}\\right)^2.$$\n",
    "\n",
    "The restoring force due to gravity applied to one mass, by way of the tension in the pendulum, is $-mgx_{A, B}/\\ell$, and therefore their gravitational potential energies are minus the anti-derivatives,\n",
    "$$ U^{(g)}_{A, B} = \\frac12 m\\omega_p^2 x_{A, B}^2.$$"
   ]
  },
  {
   "cell_type": "markdown",
   "metadata": {
    "slideshow": {
     "slide_type": "skip"
    }
   },
   "source": [
    "Finally, the potential energy stored in the spring is\n",
    "$$ U^{(s)}  = \\frac12 k (x_A - x_B)^2 = \\frac12 m\\omega_s^2 (x_A - x_B)^2.$$ "
   ]
  },
  {
   "cell_type": "markdown",
   "metadata": {
    "slideshow": {
     "slide_type": "skip"
    }
   },
   "source": [
    "The total energy stored in the coupled system is therefore\n",
    "\\begin{align*}\n",
    "    E & = K_A + K_B + U^{(g)}_A + U^{(g)}_B + U^{(s)}, \\\\ \n",
    "      & = \\frac m2\\left[(\\dot x_A)^2 + (\\dot x_B)^2 + \\omega_p^2 \\left(x_A^2 + x_B^2\\right) + \\omega_s^2 (x_A - x_B)^2\\right], \\\\\n",
    "      & = E_1 + E_2,\n",
    "\\end{align*}\n",
    "with \n",
    "$$ E_1 = \\frac14 m \\left[\\left(\\dot q_1\\right)^2 + \\omega_1^2 q_1^2\\right]\\andeq E_2 = \\frac14 m \\left[\\left(\\dot q_2\\right)^2 + \\omega_2^2 q_2^2\\right],$$\n",
    "which you can check by plugging in the definitions of $q_1$ and $q_2$ in $E_1$ and $E_2$ above, and by \n",
    "recalling that $\\omega_1^2 = \\omega_p^2$ and $\\omega_2^2 = \\omega_p^2 + 2\\omega_s^2$."
   ]
  },
  {
   "cell_type": "markdown",
   "metadata": {
    "slideshow": {
     "slide_type": "skip"
    }
   },
   "source": [
    "As for the coordinates, each reservoir of energy, $E_1$ and $E_2$, is uncoupled from the other one: **there is no exchange of energy from one mode of motion to the other**.\n",
    "This is true for any system of coupled oscillators, as long as the linear model is valid."
   ]
  },
  {
   "cell_type": "markdown",
   "metadata": {
    "slideshow": {
     "slide_type": "skip"
    }
   },
   "source": [
    "## Beating Phenomenon"
   ]
  },
  {
   "cell_type": "markdown",
   "metadata": {
    "slideshow": {
     "slide_type": "skip"
    }
   },
   "source": [
    "When a coupled system contains two frequencies that are very close to each other, and the two modes beat with similar amplitudes, we observe beating in physical space for each mass position."
   ]
  },
  {
   "cell_type": "markdown",
   "metadata": {
    "slideshow": {
     "slide_type": "skip"
    }
   },
   "source": [
    "Indeed, take the solutions we derived earlier in physical space, but let us assume that $\\phi_1 = \\phi_2 = 0$.\n",
    "As we saw before, it can be physically realized by choosing initial conditions appropriately.\n",
    "But more basically, the phase shifts won't fundamentally change what I am about to describe anyway, so we might as well choose easy ones.\n",
    "$$ x_A = \\frac12\\left[C_1\\cos(\\omega_1 t) + C_2\\cos(\\omega_2 t) \\right],$$\n",
    "$$ x_B = \\frac12\\left[C_1\\cos(\\omega_1 t) - C_2\\cos(\\omega_2 t) \\right].$$"
   ]
  },
  {
   "cell_type": "markdown",
   "metadata": {
    "slideshow": {
     "slide_type": "skip"
    }
   },
   "source": [
    "Let us also consider the case $C_1 = C_2 = C$, because it is the simplest case that can illustrate the beating phenomenon:\n",
    "$$ x_A = \\frac C2\\left[\\cos(\\omega_1 t) + \\cos(\\omega_2 t) \\right] = C\\cos\\left(\\Omega t\\right)\\cos\\left(\\Delta\\omega t\\right),$$\n",
    "$$ x_B = \\frac C2\\left[\\cos(\\omega_1 t) - \\cos(\\omega_2 t) \\right] = C\\sin\\left(\\Omega t\\right)\\sin\\left(\\Delta\\omega t\\right),$$\n",
    "with $\\Delta\\omega = (\\omega_2 - \\omega_1)/2$ and $\\Omega = (\\omega_1 + \\omega_2)/2$, as we saw in lecture 2."
   ]
  },
  {
   "cell_type": "markdown",
   "metadata": {
    "slideshow": {
     "slide_type": "skip"
    }
   },
   "source": [
    "Beating is especially pronounced if $\\Delta\\omega \\ll \\Omega$, as plotted below."
   ]
  },
  {
   "cell_type": "code",
   "execution_count": 2,
   "metadata": {
    "slideshow": {
     "slide_type": "subslide"
    }
   },
   "outputs": [],
   "source": [
    "def plot_beating(k, l, ratioA):\n",
    "    \"\"\" This function creates two oscillations, and plots each of them\n",
    "    separately as well as a superposition of\n",
    "    INPUT:\n",
    "    l is the length of the pendulums, increasing it increases periods\n",
    "    k is the stiffness of he spring. Increasing it increases the difference\n",
    "        between the two frequencies. \"\"\"\n",
    "    # basic quantities\n",
    "    m = 0.4  # mass [kg]\n",
    "    g = 9.81  # gravitational acceleration [m/s2]\n",
    "    C1 = 1.e-1  # amplitude of mode 1 [m]\n",
    "    C2 = ratioA*C1  # amplitude of mode 2 [m]\n",
    "    ftsz = 11  # font size on plots\n",
    "    lnwt = 1\n",
    "    t_end = 60.\n",
    "\n",
    "    # derived quantities\n",
    "    t = np.linspace(0., t_end, 2048)\n",
    "    omega_p = np.sqrt(g/l)  # natural frequency of uncoupled pendulum\n",
    "    omega_s = np.sqrt(k/m)  # natural frequency of mass+spring\n",
    "\n",
    "    omega_1 = omega_p  # 1st eigenfrequency\n",
    "    omega_2 = np.sqrt(omega_p**2 + 2.*omega_s**2)  # 2nd eigenfrequency\n",
    "    \n",
    "    q1 = C1*np.cos(omega_1*t)\n",
    "    q2 = C2*np.cos(omega_2*t)\n",
    "\n",
    "    xA = 0.5*(q1 + q2)  # position of A\n",
    "\n",
    "    Domega = 0.5*(omega_2 - omega_1)  # Delta omega\n",
    "    envelope = 0.5*C1*((ratioA-1)*np.sin(Domega*t) + \n",
    "                       (ratioA+1)*np.cos(Domega*t))  # C*np.cos(Domega*t)\n",
    "    envelope = 0.5*C1*np.sqrt(1 + ratioA**2 + 2*ratioA*(1 - 2*np.sin(Domega*t)**2))  # other try\n",
    "\n",
    "    # 1st plot: each mode individually\n",
    "    plt.figure(figsize=(12, 4), dpi=100)\n",
    "    plt.subplot(311)\n",
    "    ax1 = plt.gca()\n",
    "    #ax1.axvline(0., color='k')\n",
    "    ax1.plot(t, q1/2, 'b', linewidth=lnwt)\n",
    "    ax1.set_xlim([0., t_end])\n",
    "    ax1.set_ylim([-0.05, 0.05])\n",
    "    ax1.set_ylabel('$C_1\\,\\cos(\\omega_1 t)/2$', fontsize=ftsz)\n",
    "    ax1.grid()\n",
    "\n",
    "    plt.subplot(312, sharex=ax1, sharey=ax1)\n",
    "    ax2 = plt.gca()\n",
    "    #ax2.axvline(0., color='k')\n",
    "    ax2.plot(t, q2/2, 'y', linewidth=lnwt)\n",
    "    ax2.set_ylabel('$C_2\\,\\cos(\\omega_2 t)/2$', fontsize=ftsz)\n",
    "    ax2.grid()\n",
    "\n",
    "    plt.subplot(313, sharex=ax1, sharey=ax1)\n",
    "    ax3 = plt.gca()\n",
    "    #ax2.axvline(0., color='k')\n",
    "    ax3.plot(t, q1/2, 'b', linewidth=lnwt, label='$C_1\\,\\cos(\\omega_1 t)/2$')\n",
    "    ax3.plot(t, q2/2, 'y', linewidth=lnwt, label='$C_2\\,\\cos(\\omega_2 t)/2$')\n",
    "    ax3.set_ylabel('Both', fontsize=ftsz)\n",
    "    ax3.set_xlabel('time [s]', fontsize=ftsz)\n",
    "    ax3.legend()\n",
    "    ax3.grid()\n",
    "\n",
    "    # make these tick labels invisible\n",
    "    plt.setp(ax2.get_xticklabels(), visible=False)\n",
    "    plt.setp(ax1.get_xticklabels(), visible=False)\n",
    "    plt.tight_layout()\n",
    "    plt.autoscale(enable=True, axis='x', tight=True)\n",
    "    # plt.savefig('BeatingIndividual.png')\n",
    "    # plt.close()\n",
    "\n",
    "    # 2nd plot: adding the two, the beating phenomenon\n",
    "    plt.figure(figsize=(12, 4), dpi=100)\n",
    "    ax = plt.gca()\n",
    "    ax.axvline(0., color='k')\n",
    "    ax.plot(t, xA, 'g', linewidth=lnwt, label='$x_A(t)$')\n",
    "    # if ratioA > 0.99:\n",
    "    ax.plot(t, envelope, 'r-.', label='$C\\,\\cos(\\Delta\\omega t)$')\n",
    "    ax.plot(t, -envelope, 'r--', label='$-C\\,\\cos(\\Delta\\omega t)$')\n",
    "    ax.set_ylim([-0.14, 0.16])\n",
    "    ax.set_xlabel('time [s]', fontsize=ftsz)\n",
    "    ax.set_ylabel('position [m]', fontsize=ftsz)\n",
    "    ax.grid()\n",
    "    ax.legend()\n",
    "\n",
    "    # annotation to highlight the envelope period\n",
    "    if ratioA > 0.99:\n",
    "        T = 2*np.pi/Domega\n",
    "        ax.axvline(T/4, color='k', linestyle='-.')  # the t=T/2 mark\n",
    "        ax.axvline(5*T/4, color='k', linestyle='-.')  # the t=3T/2 mark\n",
    "        ax.annotate(text='', xy=(T/4, -.12), xytext=(5*T/4, -0.12),\n",
    "                    arrowprops=dict(arrowstyle='<|-|>'))  # the double arrow\n",
    "        ax.text(1.5*np.pi/Domega, -.12, r'$2\\pi/\\Delta\\omega$',\n",
    "                verticalalignment='center', horizontalalignment='center',\n",
    "                backgroundcolor='w', fontsize=ftsz)\n",
    "\n",
    "    # annotation to highlight the fast oscillation period\n",
    "    T = 4.*np.pi/(omega_2 + omega_1)\n",
    "    pp = 20.5\n",
    "    t1 = pp*T\n",
    "    t2 = (pp+1)*T\n",
    "    ax.plot([t1]*2, [-C1*np.cos(Domega*t1), 0.13],\n",
    "            color='k')  # the fast period mark #1\n",
    "    ax.plot([t2]*2, [-C1*np.cos(Domega*t2), 0.13],\n",
    "            color='k')  # the fast period mark #2\n",
    "    ax.annotate(text='', xy=(t1-0.2, .11), xytext=(t2+0.2, 0.11),\n",
    "                arrowprops=dict(arrowstyle='<|-|>'))  # the double arrow\n",
    "    ax.text((t1+t2)/2, 0.135, r'$2\\pi/\\Omega$',\n",
    "            verticalalignment='center', horizontalalignment='center',\n",
    "            backgroundcolor='w', fontsize=ftsz)\n",
    "\n",
    "    # finishes\n",
    "    plt.tight_layout()\n",
    "    plt.autoscale(enable=True, axis='x', tight=True)\n",
    "    # plt.savefig('Beating.png')\n",
    "    plt.show()\n",
    "    # plt.close()"
   ]
  },
  {
   "cell_type": "code",
   "execution_count": null,
   "metadata": {
    "slideshow": {
     "slide_type": "skip"
    }
   },
   "outputs": [],
   "source": [
    "plot_beating(k=0.5, l=0.5, ratioA=1.)  # for pdf export"
   ]
  },
  {
   "cell_type": "code",
   "execution_count": 3,
   "metadata": {
    "slideshow": {
     "slide_type": "subslide"
    }
   },
   "outputs": [
    {
     "data": {
      "application/vnd.jupyter.widget-view+json": {
       "model_id": "df57338afd56490c86a107bf6be944e1",
       "version_major": 2,
       "version_minor": 0
      },
      "text/plain": [
       "interactive(children=(FloatSlider(value=0.5, description='k', max=3.0, min=0.5), FloatSlider(value=0.5, descri…"
      ]
     },
     "metadata": {},
     "output_type": "display_data"
    },
    {
     "data": {
      "text/plain": [
       "<function __main__.plot_beating(k, l, ratioA)>"
      ]
     },
     "execution_count": 3,
     "metadata": {},
     "output_type": "execute_result"
    }
   ],
   "source": [
    "interact(plot_beating, k=FloatSlider(min=0.5, max=3., step=.1, value=.5), l=FloatSlider(min=0.5, max=2.5, step=.1, value=.5), ratioA=FloatSlider(min=0.0, max=1., step=.1, value=1.))"
   ]
  },
  {
   "cell_type": "markdown",
   "metadata": {
    "slideshow": {
     "slide_type": "skip"
    }
   },
   "source": [
    "Below (Jupyter; also at https://youtu.be/CYnR0haH_Qc), I repeat a demo you saw in lecture 2, illustrating the phenomenon of beating with acoustic waves."
   ]
  },
  {
   "cell_type": "code",
   "execution_count": null,
   "metadata": {
    "slideshow": {
     "slide_type": "skip"
    }
   },
   "outputs": [],
   "source": [
    "YouTubeVideo('CYnR0haH_Qc', width=560, height=315)"
   ]
  },
  {
   "cell_type": "markdown",
   "metadata": {
    "slideshow": {
     "slide_type": "skip"
    }
   },
   "source": [
    "And below is another fun example of beating: the Wilberforce pendulum:\n",
    "\n",
    "https://ugdemos.physics.utoronto.ca/db/demos/s-h-m-wilberforce-pendulum\n",
    "\n",
    "(you have to go on the page and scroll down to see the video; for some reason I don't have it, but it is yours truly again)"
   ]
  },
  {
   "cell_type": "markdown",
   "metadata": {
    "slideshow": {
     "slide_type": "skip"
    }
   },
   "source": [
    "# An even more general solution method"
   ]
  },
  {
   "cell_type": "markdown",
   "metadata": {
    "slideshow": {
     "slide_type": "skip"
    }
   },
   "source": [
    "In the previous case, we had only two coupled oscillators, which meant, two degrees of freedom (two normal coordinates).\n",
    "It was simple enough that we could solve it \"by hand\", by defining simple normal coordinates, and adding and subtracting the equations of motion."
   ]
  },
  {
   "cell_type": "markdown",
   "metadata": {
    "slideshow": {
     "slide_type": "skip"
    }
   },
   "source": [
    "But as with all things in linear algebra, difficulty increases rapidly with every equation that we add.\n",
    "For example, what if we coupled 5 oscillators?\n",
    "Not to mention the infinity of oscillators that approximate a continuous medium.\n",
    "We need the systematic and powerful approaches that are offered by linear algebra.\n",
    "And in particular, we will eventually need to use the eigenvector/eigenvalue formalism, which some of you have probably seen. \n",
    "The rest of you can take what follows as a recipe for now, and a first introduction to it.\n",
    "\n",
    "We will essentially do what is described in the following video (Jupyter) or at https://youtu.be/PFDu9oVAE-g?t=315.\n",
    "Note that if you go the beginning of this video, the author (Grant Sanderson) says (I am actually paraphrasing him) that if finding eigenvalues and eigenvectors feels complicated, it is usually because our own understanding of vectors and matrices is shaky to begin with.\n",
    "Fortunately, this particular video is the 10th of 11 videos on linear algreba (https://www.youtube.com/playlist?list=PLZHQObOWTQDPD3MizzM2xVFitgF8hE_ab), so, if your understanding of vectors and matrices feels shaky, you can watch a few.\n",
    "Careful though, it takes a few hours to go through all of them."
   ]
  },
  {
   "cell_type": "code",
   "execution_count": null,
   "metadata": {
    "scrolled": true,
    "slideshow": {
     "slide_type": "skip"
    }
   },
   "outputs": [],
   "source": [
    "YouTubeVideo('PFDu9oVAE-g', width=560, height=315, start=315)"
   ]
  },
  {
   "cell_type": "markdown",
   "metadata": {
    "slideshow": {
     "slide_type": "skip"
    }
   },
   "source": [
    "***\n",
    "## *Results from Linear Algebra*\n",
    "\n",
    "*I will only repeat the discussion that follows in class to help you connect with a linear algebra class. Reading it may help you understand why and how everything works, but it is beyond what I expect of you.*"
   ]
  },
  {
   "cell_type": "markdown",
   "metadata": {
    "slideshow": {
     "slide_type": "skip"
    }
   },
   "source": [
    "### *General results*\n",
    "\n",
    "*Linear algebra can be messy, especially when it comes to whether a matrix is diagonalizable or not. \n",
    "Fortunately for us, I will only use a few of the most basic results of linear algebra.*"
   ]
  },
  {
   "cell_type": "markdown",
   "metadata": {
    "slideshow": {
     "slide_type": "slide"
    }
   },
   "source": [
    "1. *Finding the eigenvectors and eigenvalues of an $n\\times n$ matrix $A$ means finding the vectors $\\vec V$ and scalars $\\lambda$ such that*\n",
    "    \\begin{equation}\n",
    "        A \\vec V = \\lambda \\vec V, \\oreq (A - \\lambda I_n)\\vec V = 0,\\label{eq:EVProblem}\n",
    "    \\end{equation}\n",
    "    *with $I_n$ the $n\\times n$ identity matrix.*\n",
    "2. *Equation \\eqref{eq:EVProblem} has non-trivial (i.e., non-identically zero, i.e., oscillations with non-zero amplitudes in our case) solutions for $\\vec V$ if and only if*\n",
    "    \\begin{equation}\n",
    "        \\det(A - \\lambda I_n) = 0.\\label{eq:EVProblemDet}\n",
    "    \\end{equation}\n",
    "    *The determinant of a matrix is a scalar. Here, it is a polynomial in $\\lambda$. It is called the characteristic polynomial, and its roots are the eigenvalues.*\n",
    "3. *If there is a number $n$ of eigenvalues $\\lambda$ that are all distinct from each other, then the matrix is diagonalizable, and the set of the corresponding eigenvectors forms a basis for the space of solutions. In other words, if $\\vec V_i$, $i \\in \\{1\\dots{} n\\}$ is the complete set of eigenvectors, then any linear combination of them,* \n",
    "    $$\\sum_{i=1}^n a_i \\vec V_i = \\vec X$$\n",
    "    *is a solution of the original problem as well. In all the cases we will see in this course, $a_n \\in \\mathbb R$.*\n",
    "    *Furthermore, is $\\vec X$ is a solution of equation \\eqref{eq:EVProblem}, then it can be decomposed as a linear combination of eigenvectors,*\n",
    "    $$\\vec X = \\sum_{i=1}^n a_i \\vec V_i,$$\n",
    "    *and this decomposition is unique.*\n",
    "    *Note: this condition is sufficient, not necessary. Namely, the converse is not true, and a matrix needs not have all* $n$ *eigenvalues distinct from each other to be diagonalizable. But in our cases, they will be, so let's enjoy it.*"
   ]
  },
  {
   "cell_type": "markdown",
   "metadata": {
    "slideshow": {
     "slide_type": "subslide"
    }
   },
   "source": [
    "### *How does this translate into our results?*\n",
    "\n",
    "* *First of all, we will have $n = 2$ for two oscillators;*\n",
    "* *the eigenvectors $\\vec V_i$ will have some connection to our normal modes 1 and 2;*\n",
    "* *the eigenvalues $\\lambda_i$ will have some connection to $\\omega_{1,2}^2$ (they will be the same actually);*\n",
    "* *the eigenvectors, in the abstract case, form a basis of the space of solutions. This is a mathematical way to say that any motion of the two masses can be written as the linear combination of two modes, as we saw in the previous section;*\n",
    "* *solving $\\det(A - \\lambda I_2) = 0$ for $\\lambda$ shows the way for solving coupled systems of oscillators systematically. Finding the roots of the polynomial, however messy it might become, will give us $\\omega_1$ and $\\omega_2$. Once we have them, substitution into the original eqn. (3) will give us $\\vec V_1$ and $\\vec V_2$.*\n",
    "\n",
    "*The math will become super messy, but the procedure is well-defined, and easy to make systematic.*\n",
    "\n",
    "*Resuming the normal course of operations.*\n",
    "\n",
    "***"
   ]
  },
  {
   "cell_type": "markdown",
   "metadata": {
    "slideshow": {
     "slide_type": "skip"
    }
   },
   "source": [
    "## Coupled pendulums"
   ]
  },
  {
   "cell_type": "markdown",
   "metadata": {
    "slideshow": {
     "slide_type": "skip"
    }
   },
   "source": [
    "In order to apply this method, let's recall equations \\eqref{eq:mxA} and \\eqref{eq:mxB}, and let's make each mass position one component of a state vector. That is, define\n",
    "$$\n",
    "\\vec X = \n",
    "\\begin{bmatrix}\n",
    "    x_A \\\\ \n",
    "    x_B,\n",
    "\\end{bmatrix}$$\n",
    "and two matrices\n",
    "$$\n",
    "M = \n",
    "\\begin{bmatrix}\n",
    "    m & 0 \\\\ \n",
    "    0 & m\n",
    "\\end{bmatrix}\n",
    "\\andeq\n",
    "K = \n",
    "\\begin{bmatrix}\n",
    "     \\frac{m g}\\ell + k & -k \\\\\n",
    "     -k & \\frac{m g}\\ell + k\n",
    "\\end{bmatrix}.$$\n",
    "\n",
    "Note their compact forms, which makes this method quite flexible: if the masses or lengths of pendulums were different, we could just plug in and solve the same way, as we will do numerically towards the end of the lecture."
   ]
  },
  {
   "cell_type": "markdown",
   "metadata": {
    "slideshow": {
     "slide_type": "skip"
    }
   },
   "source": [
    "You can check that\n",
    "$$ M\\ddot{\\vec X} + K \\vec X = \n",
    "\\begin{bmatrix}\n",
    "    m\\ddot x_A + \\frac{m g}{\\ell} x_A + k(x_A - x_B) \\\\\n",
    "    m\\ddot x_B + \\frac{m g}{\\ell} x_B - k(x_A - x_B)\n",
    "\\end{bmatrix}\n",
    "= \n",
    "\\begin{bmatrix}\n",
    "    0 \\\\\n",
    "    0\n",
    "\\end{bmatrix},$$\n",
    "or, more simply, that \n",
    "$$\\boxed{ M\\ddot{\\vec X} + K \\vec X = 0. }$$"
   ]
  },
  {
   "cell_type": "markdown",
   "metadata": {
    "slideshow": {
     "slide_type": "skip"
    }
   },
   "source": [
    "This is our new equation of motion.\n",
    "It strongly resembles the SHO equation, and its resolution does involve the same steps:\n",
    "\n",
    "1. adopt an exponential, $\\vec Z = \\vec Z_0\\eexp{\\ci \\omega t}$, with $\\vec Z_0 \\in \\mathbb C^2$, $\\omega \\in \\mathbb R$ and $\\text{Re}(\\vec Z) = \\vec X$.\n",
    "    A few remarks:\n",
    "    * I did not look for a more vague time dependence in $\\eexp{rt}$ like in the previous lectures.\n",
    "        That's because there is no damping, we don't expect instabilities, and with all of the experience we've built so far, we might as well go straight to the point and look for oscillating motion.\n",
    "        The power of the adopt-an-exponential method is that if this is the wrong choice to make, the ODEs will tell us right away, and we can then look for another fix.\n",
    "    * Also note that by enforcing the same time dependence $\\eexp{\\ci\\omega t}$ for both components of the vector, we are explicitly looking for a form of motion in which both masses oscillate at the same frequency, i.e., we are looking for a **normal mode**.\n",
    "    * The last bit means that $\\vec Z$ has two components $z_A$ and $z_B$, both complex, such that $\\text{Re}\\left(z_{A, B}\\right) = x_{A, B}$.\n",
    "2. substitute in the EOM and solve for $\\omega$,\n",
    "3. use initial conditions to solve for $\\vec Z_0 = \\vec A\\eexp{\\ci\\phi}$."
   ]
  },
  {
   "cell_type": "markdown",
   "metadata": {
    "slideshow": {
     "slide_type": "skip"
    }
   },
   "source": [
    "### The first step...\n",
    "... implies that $\\ddot{\\vec Z} = -\\omega^2 \\vec Z$.\n",
    "Moreover, $M\\ddot{\\vec Z} = M \\left(-\\omega^2\\right) \\vec Z = -\\omega^2 M \\vec Z$ because the algebra is linear."
   ]
  },
  {
   "cell_type": "markdown",
   "metadata": {
    "slideshow": {
     "slide_type": "skip"
    }
   },
   "source": [
    "### For the second step (solving for $\\omega$),\n",
    "\\begin{equation}\n",
    "M\\ddot{\\vec Z} + K \\vec Z = -\\omega^2 M \\vec Z + K\\vec Z = \\boxed{\\left(K - \\omega^2 M\\right)\\vec Z = 0.}\n",
    "\\label{eq:K-w2M}\n",
    "\\end{equation}"
   ]
  },
  {
   "cell_type": "markdown",
   "metadata": {
    "slideshow": {
     "slide_type": "skip"
    }
   },
   "source": [
    "Let me recall one of the most important results of linear algebra: **A matrix equation** $\\bs{RV = 0}$ **has non-trivial (i.e., non-identically zero) solutions if and only if** $\\bs{\\det[R] =0}$, as I stated in a different form around equation \\eqref{eq:EVProblemDet}.\n",
    "Physically, trivial solutions are zero-amplitude oscillations of each mass position or of each mode.\n",
    "Trivially speaking, it is nothing."
   ]
  },
  {
   "cell_type": "markdown",
   "metadata": {
    "slideshow": {
     "slide_type": "skip"
    }
   },
   "source": [
    "The matrices $M$ and $K$ both contain elements that are determined by the physics of the system: masses, stiffness, lengths of pendulums and gravitational acceleration.\n",
    "The only parameter that can be varied is therefore $\\omega$, and it is $\\omega$ we are solving for."
   ]
  },
  {
   "cell_type": "markdown",
   "metadata": {
    "slideshow": {
     "slide_type": "skip"
    }
   },
   "source": [
    "Mathematically, this step corresponds to finding the **eigenvalues** of equation \\eqref{eq:K-w2M}.\n",
    "It looks different from equation \\eqref{eq:EVProblem} though.\n",
    "However, we can cast our equation in this form very easily by multiplying it with the inverse of matrix $M$, namely,\n",
    "$$ M^{-1} = \n",
    "\\begin{bmatrix}\n",
    "    1/m & 0 \\\\\n",
    "    0 & 1/m\n",
    "\\end{bmatrix},\n",
    "$$\n",
    "i.e.,\n",
    "$$\n",
    "M^{-1}K \\vec Z = \\omega^2 \\vec Z,\n",
    "$$\n",
    "which looks like a standard eigenvalue problem. The two ways of writing it are strictly equivalent, the form above would appear if I divided both equations \\eqref{eq:mxA} and \\eqref{eq:mxB} by $m$."
   ]
  },
  {
   "cell_type": "markdown",
   "metadata": {
    "slideshow": {
     "slide_type": "skip"
    }
   },
   "source": [
    "We will also need the following formula:\n",
    "$$\\boxed{ \\det\\left(\n",
    "\\begin{bmatrix}\n",
    "    a & b \\\\\n",
    "    c & d\n",
    "\\end{bmatrix}\n",
    "\\right) = ad - bc} \\quad\\textrm{(which I expect you to remember!!!)}.$$"
   ]
  },
  {
   "cell_type": "markdown",
   "metadata": {
    "slideshow": {
     "slide_type": "skip"
    }
   },
   "source": [
    "I am going to do it by hand once, but the real advantage to this method is that it is fairly easy to ask a symbolic calculator or symbolic math software to solve for it. I will do it later, but for now, it is instructional to do it by hand."
   ]
  },
  {
   "cell_type": "markdown",
   "metadata": {
    "slideshow": {
     "slide_type": "skip"
    }
   },
   "source": [
    "Here we go:\n",
    "\\begin{align*}\n",
    "    0 = \\det(K - \\omega^2 M) & = \\det\\left(\n",
    "                                \\begin{bmatrix}\n",
    "                                    \\frac{m g}\\ell + k - \\omega^2 m & -k \\\\\n",
    "                                    -k & \\frac{m g}\\ell + k - \\omega^2 m\n",
    "                                \\end{bmatrix}\\right) \\\\\n",
    "                         & = \\left(\\frac{m g}\\ell + k - \\omega^2 m\\right)^2 - k^2\n",
    "                           = m^2 \\left[\\left(\\omega_p^2 + \\omega_{s}^2 - \\omega^2 \\right)^2 - \\omega_{s}^4\\right]\\\\\n",
    "                         & = m^2 \\left[\\left(\\omega_p^2 + \\omega_{s}^2 - \\omega^2 - \\omega_{s}^2 \\right)\\left(\\omega_p^2 + \\omega_{s}^2 - \\omega^2 + \\omega_{s}^2\\right)\\right]\\\\\n",
    "                         & = m^2 \\left[\\left(\\omega_p^2 - \\omega^2 \\right)\\left(\\omega_p^2 + 2\\omega_{s}^2 - \\omega^2\\right)\\right].\n",
    "\\end{align*}"
   ]
  },
  {
   "cell_type": "markdown",
   "metadata": {
    "slideshow": {
     "slide_type": "skip"
    }
   },
   "source": [
    "The characteristic polynomial on the RHS was relatively easy to write as the product of factors, which immediately yields the two roots,\n",
    "$$\\omega_1 = \\omega_p\\andeq \\omega_2 = \\sqrt{\\omega_p^2 + 2\\omega_s^2}.$$\n",
    "Tadaa.\n",
    "\n",
    "This might have felt like overkill given how easy it was to find these two frequencies earlier on.\n",
    "However, take a minute to reflect on how much more systematic this method was: no need to rely on symmetries, intuition or clever changes of variables.\n",
    "We just followed a recipe, which will later on mean that we can apply this method to much more complicated systems."
   ]
  },
  {
   "cell_type": "markdown",
   "metadata": {
    "slideshow": {
     "slide_type": "skip"
    }
   },
   "source": [
    "### The third step (solving for $\\vec A$ and $\\phi$)"
   ]
  },
  {
   "cell_type": "markdown",
   "metadata": {
    "slideshow": {
     "slide_type": "skip"
    }
   },
   "source": [
    "This step is a lot harder than with just one oscillator (I mean, even more than how much harder it's been so far), because we need to compute the amplitude of each mode, and to do that, we need to compute what each mode looks like, its \"shape\", or phase shifts between the motion of each mass.\n",
    "\n",
    "#### \"Shapes\" of the normal modes\n",
    "\n",
    "First, we can separate $\\vec A$ into $C\\vec Y$, with $\\|\\vec Y\\| = 1$, and looks for $C$ and for the coordinates of $\\vec Y$ separately.\n",
    "This makes it easier in the sense that we separate the amplitude of the mode, its strength, or weight, if you will, which resides in $C$ and which is calculated with the knowledge of the initial condition, and $\\vec Y$, which is a feature of the matrix $K - \\omega^2 M$, or of the physical system, and does not depend on the initial conditions.\n",
    "However, requiring that $\\|\\vec Y\\| = 1$ is not required in order to solve a problem! I do it, but some textbooks might do it differently, and Python certainly doesn't do it.\n",
    "\n",
    "As it turns out, we will have to find one set of $(C, \\vec Y)$ per normal mode."
   ]
  },
  {
   "cell_type": "markdown",
   "metadata": {
    "slideshow": {
     "slide_type": "skip"
    }
   },
   "source": [
    "We have\n",
    "$$ \\left(K - \\omega^2 M\\right)\\vec Z = 0 = C \\left(K - \\omega^2 M\\right)\\vec Y \\eexp{\\ci(\\omega t + \\phi)} \\quad\\Leftrightarrow\\quad \\left(K - \\omega^2 M\\right)\\vec Y = 0. $$"
   ]
  },
  {
   "cell_type": "markdown",
   "metadata": {
    "slideshow": {
     "slide_type": "skip"
    }
   },
   "source": [
    "Let \n",
    "$$\\vec Y = \n",
    "\\begin{bmatrix}\n",
    "    a \\\\ \n",
    "    b\n",
    "\\end{bmatrix}, \\with \\sqrt{a^2 + b^2} = 1.$$"
   ]
  },
  {
   "cell_type": "markdown",
   "metadata": {
    "slideshow": {
     "slide_type": "skip"
    }
   },
   "source": [
    "\\begin{align} \n",
    "    (K - \\omega^2 M)\\vec Y & = \\begin{bmatrix}\n",
    "                                m\\omega_p^2 + k - \\omega^2 m & -k \\\\\n",
    "                                -k & m \\omega_p^2 + k - \\omega^2 m_B\n",
    "                            \\end{bmatrix}\n",
    "                            \\begin{bmatrix}\n",
    "                                a \\\\ \n",
    "                                b\n",
    "                            \\end{bmatrix} \\nonumber\\\\\n",
    "                           & = \\begin{bmatrix}\n",
    "                                \\left(m \\omega_p^2 + k - \\omega^2 m\\right)a - kb \\\\ \n",
    "                                -ka + \\left(m \\omega_p^2 + k - \\omega^2 m\\right)b\n",
    "                            \\end{bmatrix} \\nonumber\\\\\n",
    "                           & = \\begin{bmatrix}\n",
    "                                   m\\left[\\left(\\omega_p^2 + \\omega_s^2 - \\omega^2 \\right)a - \\omega_s^2 b \\right] \\\\ \n",
    "                                   m\\left[-\\omega_s^2 a + \\left(\\omega_p^2 + \\omega_s^2 - \\omega^2 \\right)b\\right]\n",
    "                               \\end{bmatrix} = \\stirling{0}{0}. \\label{eq:FindEVs}\n",
    "\\end{align}"
   ]
  },
  {
   "cell_type": "markdown",
   "metadata": {
    "slideshow": {
     "slide_type": "skip"
    }
   },
   "source": [
    "* Case $\\omega^2 = \\omega_1^2 = \\omega_p^2$:\n",
    "$$ \\begin{bmatrix}\n",
    "        ka - kb \\\\ \n",
    "        -ka + kb\n",
    "   \\end{bmatrix} = \\stirling{0}{0} \\thrfor a = b.$$\n",
    "    *(Notice how the two equations are redundant. This is always the case for $2\\times 2$ matrices. For $3\\times3$ matrices you need  2 equations, etc.)*\n",
    "    Therefore, $a=b$, and since $\\|\\vec Y\\| = \\sqrt{a^2 + b^2} = 1$, $a = b= 1/\\sqrt{2}$.\n",
    "    This is the antisymmetric mode."
   ]
  },
  {
   "cell_type": "markdown",
   "metadata": {
    "slideshow": {
     "slide_type": "subslide"
    }
   },
   "source": [
    "![Fig. 8: the antisymmetric normal mode](pendulum_syn.gif)"
   ]
  },
  {
   "cell_type": "markdown",
   "metadata": {
    "slideshow": {
     "slide_type": "skip"
    }
   },
   "source": [
    "* Case $\\omega^2 = \\omega_2^2 = \\omega_p^2 + 2\\omega_{s}^2$.\n",
    "    I just use the first line in equation \\eqref{eq:FindEVs} because the second line is redundant again:\n",
    "    $$ -\\omega_{s}^2(a + b) = 0.$$\n",
    "    Therefore, $a = -b = 1/\\sqrt2$, the symmetric mode, oscillating faster because of the spring."
   ]
  },
  {
   "cell_type": "markdown",
   "metadata": {
    "slideshow": {
     "slide_type": "-"
    }
   },
   "source": [
    "![Fig. 9: the symmetric normal mode, in the case $m_A = m_B$.](pendulum_asyn.gif)"
   ]
  },
  {
   "cell_type": "markdown",
   "metadata": {
    "slideshow": {
     "slide_type": "skip"
    }
   },
   "source": [
    "#### Eigenvectors as a basis for all the solutions\n",
    "\n"
   ]
  },
  {
   "cell_type": "markdown",
   "metadata": {
    "slideshow": {
     "slide_type": "skip"
    }
   },
   "source": [
    "So far, the connection with general linear algebra results is the following.\n",
    "\n",
    "* $\\vec Y_1$ and $\\vec Y_2$ are eigenvectors of the matrix problem,\n",
    "* $\\omega_1^2$ and $\\omega_2^2$ are the eigenvalues (or $\\omega_1$ and $\\omega_2$ the eigenfrequencies, or normal frequencies) and \n",
    "* $\\vec X_1 = \\text{Re}(\\vec Z_1)$ and $\\vec X_2 = \\text{Re}(\\vec Z_2)$ are the eigenmodes of oscillation."
   ]
  },
  {
   "cell_type": "markdown",
   "metadata": {
    "slideshow": {
     "slide_type": "skip"
    }
   },
   "source": [
    "I mentioned earlier that the two eigenvectors form a basis of all the vectors in the problem.\n",
    "It means that all solutions can be written as a linear combination of these eigenmodes, namely,\n",
    "$$ \\vec X = C_1 \\vec Y_1\\cos(\\omega_1 t + \\phi_1) + C_2 \\vec Y_2\\cos(\\omega_2 t + \\phi_2),$$\n",
    "where I switched back to real notation.\n",
    "The velocity is then simply\n",
    "$$ \\vec V = -\\omega_1 C_1 \\vec Y_1\\sin(\\omega_1 t + \\phi_1) -\\omega_2 C_2 \\vec Y_2\\sin(\\omega_2 t + \\phi_2).$$"
   ]
  },
  {
   "cell_type": "markdown",
   "metadata": {
    "slideshow": {
     "slide_type": "skip"
    }
   },
   "source": [
    "#### Amplitudes ($C$'s) and phases ($\\phi$'s)."
   ]
  },
  {
   "cell_type": "markdown",
   "metadata": {
    "slideshow": {
     "slide_type": "skip"
    }
   },
   "source": [
    "One trick to solving any initial value problem is to realize that $\\vec Y_1 \\cdot \\vec Y_2 = 0$ and $\\vec Y_1\\cdot\\vec Y_1 = \\vec Y_2 \\cdot \\vec Y_2 = 1$, which is true in this symmetric problem, though not always (there are always orthogonality relations, but they are not always that simple... but I digress).\n",
    "Therefore, for any set of initial conditions $\\vec X_0$ and $\\vec V_0$ (that's four of them), you find the amplitude and phase in each mode by setting $t=0$ in the equations above, dotting with $\\vec Y_1$ or $\\vec Y_2$ depending on the mode you're after, et voilà.\n",
    "\n",
    "For example, if you want to find $C_1$ and $\\phi_1$, knowing $\\vec X_0 = [x_{A0}, x_{B0}]^T$ and $\\vec V_0 = [v_{A0}, v_{B0}]^T$, you do\n",
    "$$\\vec X(t=0)\\cdot \\vec Y_1 \n",
    "= C_1 \\underbrace{\\vec Y_1\\cdot \\vec Y_1}_{{}=1}\\cos(\\phi_1) + C_2 \\underbrace{\\vec Y_2\\cdot \\vec Y_1}_{{}=0}\\cos(\\phi_2)\n",
    "= \\left(x_{A0} + x_{B0}\\right)/\\sqrt2$$\n",
    "and, skipping the same steps as above,\n",
    "$$\\vec V(t=0)\\cdot \\vec Y_1 \n",
    "= -\\omega_1 C_1 \\sin(\\phi_1)\n",
    "= \\left(v_{A0} + v_{B0}\\right)/\\sqrt2.$$\n",
    "That's a system of two unknown ($C_1$, $\\phi_1$) and two equations.\n",
    "\n",
    "Do the same for the second mode, and you have completely solved the system, with\n",
    "\\begin{align*}\n",
    "& C_1\\cos\\phi_1 = \\frac{x_{A0} + x_{B0}}{\\sqrt{2}},\n",
    "& C_1\\sin\\phi_1 = -\\frac{v_{A0} + v_{B0}}{\\sqrt{2}\\omega_1},\\\\\n",
    "& C_2\\cos\\phi_2 = \\frac{x_{A0} - x_{B0}}{\\sqrt{2}},\\andeq\n",
    "& C_2\\sin\\phi_2 = -\\frac{v_{A0} - v_{B0}}{\\sqrt{2}\\omega_2}.\n",
    "\\end{align*}"
   ]
  },
  {
   "cell_type": "markdown",
   "metadata": {
    "slideshow": {
     "slide_type": "skip"
    }
   },
   "source": [
    "To do a full example would be quite tedious and not super useful.\n",
    "Let's do something simpler, i.e., the masses held and released from symmetric and antisymmetric initial positions.\n",
    "\n",
    "Because both initial velocities are zero, we can see from the last equation we wrote that $\\phi_1 = \\phi_2 = 0$.\n",
    "\n",
    "The first example is $x_{A0} = x_{B0} = A$, which means that the antisymmetric mode is selected by the initial conditions.\n",
    "In vector form, this means\n",
    "$$\\vec X_0 = \\begin{bmatrix}\n",
    "    x_A(t=0) \\\\ \n",
    "    x_B(t=0)\n",
    "\\end{bmatrix}\n",
    "= \\begin{bmatrix}\n",
    "    A \\\\ \n",
    "    A\n",
    "\\end{bmatrix} =  \\sqrt{2} A \\vec Y_1 + 0\\vec Y_2.$$\n",
    "Bam! No need to do any sort of math, we know right away that the symmetric mode is zero."
   ]
  },
  {
   "cell_type": "markdown",
   "metadata": {
    "slideshow": {
     "slide_type": "skip"
    }
   },
   "source": [
    "The second example is $x_A = -x_B = A$, which means that the symmetric mode is selected by the initial conditions.\n",
    "In vector form, this means\n",
    "$$\\vec X_0 =\n",
    "\\begin{bmatrix}\n",
    "    A \\\\ \n",
    "    -A\n",
    "\\end{bmatrix} =  0\\vec Y_1 + \\sqrt{2}A\\vec Y_2.$$\n",
    "And again! We know right away that the antisymmetric mode is zero."
   ]
  },
  {
   "cell_type": "markdown",
   "metadata": {
    "slideshow": {
     "slide_type": "subslide"
    }
   },
   "source": [
    "### Numerical resolution"
   ]
  },
  {
   "cell_type": "markdown",
   "metadata": {
    "slideshow": {
     "slide_type": "skip"
    }
   },
   "source": [
    "The equations we have been solving up to now were fairly easy to deal with analytically. \n",
    "If the masses had been different, the math would have been a lot hairier, though still doable with a bit of patience.\n",
    "However, computers can solve these problems very easily, so, let's first see what a symbolic solver could do."
   ]
  },
  {
   "cell_type": "markdown",
   "metadata": {
    "slideshow": {
     "slide_type": "fragment"
    }
   },
   "source": [
    "Let's spice up the problem and make $m_A\\neq m_B$:\n",
    "\\begin{align*}\n",
    "m_A\\ddot x_A + \\frac{m_A g}{\\ell} x_A + k(x_A - x_B) & = 0,\\\\\n",
    "m_B\\ddot x_B + \\frac{m_B g}{\\ell} x_B - k(x_A - x_B) & = 0.\n",
    "\\end{align*}"
   ]
  },
  {
   "cell_type": "markdown",
   "metadata": {
    "slideshow": {
     "slide_type": "fragment"
    }
   },
   "source": [
    "The two matrices are now\n",
    "$$\n",
    "M = \n",
    "\\begin{bmatrix}\n",
    "    m_A & 0 \\\\ \n",
    "    0 & m_B\n",
    "\\end{bmatrix}\n",
    "\\andeq\n",
    "K = \n",
    "\\begin{bmatrix}\n",
    "     \\frac{m_A g}\\ell + k & -k \\\\\n",
    "     -k & \\frac{m_B g}\\ell + k\n",
    "\\end{bmatrix},$$\n",
    "and the matrix equation to solve is\n",
    "$$\\boxed{ M\\ddot{\\vec X} + K \\vec X = 0. }$$"
   ]
  },
  {
   "cell_type": "markdown",
   "metadata": {
    "slideshow": {
     "slide_type": "skip"
    }
   },
   "source": [
    "Uncharacteristically, I will use the symbolic math package SymPy. It is great at some things, and has limitations. In this lecture, we will see a bit of both, and in the next lecture, we will see that NumPy can do all the math as well, if you give it actual numbers to work with instead of symbolic expressions."
   ]
  },
  {
   "cell_type": "code",
   "execution_count": 4,
   "metadata": {
    "slideshow": {
     "slide_type": "subslide"
    }
   },
   "outputs": [],
   "source": [
    "from sympy import *  # here I import the entire symbolic math package\n",
    "init_printing(use_unicode=True)  # to print pretty"
   ]
  },
  {
   "cell_type": "code",
   "execution_count": 5,
   "metadata": {
    "slideshow": {
     "slide_type": "fragment"
    }
   },
   "outputs": [],
   "source": [
    "# we need to declare some symbolic quantities\n",
    "# omega_sA, omega_p, omega = symbols('omega_sA, omega_p, omega', real=True)\n",
    "g, l = symbols('g, ell', positive=True)\n",
    "k, m_A, m_B = symbols('k, m_A, m_B', positive=True)"
   ]
  },
  {
   "cell_type": "code",
   "execution_count": 6,
   "metadata": {
    "slideshow": {
     "slide_type": "-"
    }
   },
   "outputs": [
    {
     "data": {
      "image/png": "[encoded data removed]",
      "text/latex": [
       "$\\displaystyle m_{A}$"
      ],
      "text/plain": [
       "m_A"
      ]
     },
     "execution_count": 6,
     "metadata": {},
     "output_type": "execute_result"
    }
   ],
   "source": [
    "m_A"
   ]
  },
  {
   "cell_type": "code",
   "execution_count": 7,
   "metadata": {
    "slideshow": {
     "slide_type": "subslide"
    }
   },
   "outputs": [
    {
     "data": {
      "image/png": "[encoded data removed]",
      "text/latex": [
       "$\\displaystyle \\left[\\begin{matrix}m_{A} & 0\\\\0 & m_{B}\\end{matrix}\\right]$"
      ],
      "text/plain": [
       "⎡m_A   0 ⎤\n",
       "⎢        ⎥\n",
       "⎣ 0   m_B⎦"
      ]
     },
     "execution_count": 7,
     "metadata": {},
     "output_type": "execute_result"
    }
   ],
   "source": [
    "# define the mass matrix\n",
    "M = Matrix([[m_A, 0],\n",
    "            [0, m_B]])\n",
    "M"
   ]
  },
  {
   "cell_type": "code",
   "execution_count": 8,
   "metadata": {
    "slideshow": {
     "slide_type": "fragment"
    }
   },
   "outputs": [
    {
     "data": {
      "image/png": "[encoded data removed]",
      "text/latex": [
       "$\\displaystyle \\left[\\begin{matrix}k + \\frac{g m_{A}}{\\ell} & - k\\\\- k & k + \\frac{g m_{B}}{\\ell}\\end{matrix}\\right]$"
      ],
      "text/plain": [
       "⎡    g⋅m_A           ⎤\n",
       "⎢k + ─────     -k    ⎥\n",
       "⎢     ell            ⎥\n",
       "⎢                    ⎥\n",
       "⎢               g⋅m_B⎥\n",
       "⎢   -k      k + ─────⎥\n",
       "⎣                ell ⎦"
      ]
     },
     "execution_count": 8,
     "metadata": {},
     "output_type": "execute_result"
    }
   ],
   "source": [
    "# Define the stiffness matrix\n",
    "K = Matrix([[m_A*g/l+k, -k],\n",
    "            [-k, m_B*g/l+k]])\n",
    "K"
   ]
  },
  {
   "cell_type": "code",
   "execution_count": 9,
   "metadata": {
    "slideshow": {
     "slide_type": "subslide"
    }
   },
   "outputs": [
    {
     "data": {
      "image/png": "[encoded data removed]",
      "text/latex": [
       "$\\displaystyle \\left[\\begin{matrix}\\frac{k}{m_{A}} + \\frac{g}{\\ell} & - \\frac{k}{m_{A}}\\\\- \\frac{k}{m_{B}} & \\frac{k}{m_{B}} + \\frac{g}{\\ell}\\end{matrix}\\right]$"
      ],
      "text/plain": [
       "⎡ k     g      -k    ⎤\n",
       "⎢─── + ───     ───   ⎥\n",
       "⎢m_A   ell     m_A   ⎥\n",
       "⎢                    ⎥\n",
       "⎢   -k       k     g ⎥\n",
       "⎢   ───     ─── + ───⎥\n",
       "⎣   m_B     m_B   ell⎦"
      ]
     },
     "execution_count": 9,
     "metadata": {},
     "output_type": "execute_result"
    }
   ],
   "source": [
    "# Compute M**(-1)*K\n",
    "EVecMat = M.inv()*K\n",
    "expand(EVecMat)"
   ]
  },
  {
   "cell_type": "code",
   "execution_count": 11,
   "metadata": {
    "slideshow": {
     "slide_type": "fragment"
    }
   },
   "outputs": [],
   "source": [
    "# A bit of refinement: we can substitute k/m_A by omega_sA, etc.\n",
    "# but first, we need to declare those symbolic variables\n",
    "omega_sA, omega_sB = symbols('omega_sA, omega_sB', real=True)\n",
    "omega_p = Symbol('omega_p', real=True)"
   ]
  },
  {
   "cell_type": "code",
   "execution_count": 13,
   "metadata": {
    "slideshow": {
     "slide_type": "subslide"
    }
   },
   "outputs": [
    {
     "data": {
      "image/png": "[encoded data removed]",
      "text/latex": [
       "$\\displaystyle \\left[\\begin{matrix}\\omega_{sA}^{2} + \\frac{g}{\\ell} & - \\omega_{sA}^{2}\\\\- \\frac{k}{m_{B}} & \\frac{k}{m_{B}} + \\frac{g}{\\ell}\\end{matrix}\\right]$"
      ],
      "text/plain": [
       "⎡    2    g         2  ⎤\n",
       "⎢ω_sA  + ───   -ω_sA   ⎥\n",
       "⎢        ell           ⎥\n",
       "⎢                      ⎥\n",
       "⎢    -k        k     g ⎥\n",
       "⎢    ───      ─── + ───⎥\n",
       "⎣    m_B      m_B   ell⎦"
      ]
     },
     "execution_count": 13,
     "metadata": {},
     "output_type": "execute_result"
    }
   ],
   "source": [
    "New_EVMat = expand(EVecMat).subs(k/m_A, omega_sA**2); New_EVMat"
   ]
  },
  {
   "cell_type": "code",
   "execution_count": 14,
   "metadata": {
    "slideshow": {
     "slide_type": "fragment"
    }
   },
   "outputs": [
    {
     "data": {
      "image/png": "[encoded data removed]",
      "text/latex": [
       "$\\displaystyle \\left[\\begin{matrix}\\omega_{sA}^{2} + \\frac{g}{\\ell} & - \\omega_{sA}^{2}\\\\- \\omega_{sB}^{2} & \\omega_{sB}^{2} + \\frac{g}{\\ell}\\end{matrix}\\right]$"
      ],
      "text/plain": [
       "⎡    2    g          2   ⎤\n",
       "⎢ω_sA  + ───    -ω_sA    ⎥\n",
       "⎢        ell             ⎥\n",
       "⎢                        ⎥\n",
       "⎢       2         2    g ⎥\n",
       "⎢  -ω_sB      ω_sB  + ───⎥\n",
       "⎣                     ell⎦"
      ]
     },
     "execution_count": 14,
     "metadata": {},
     "output_type": "execute_result"
    }
   ],
   "source": [
    "New_EVMat = expand(New_EVMat).subs(k/m_B, omega_sB**2); New_EVMat"
   ]
  },
  {
   "cell_type": "code",
   "execution_count": 15,
   "metadata": {
    "slideshow": {
     "slide_type": "fragment"
    }
   },
   "outputs": [
    {
     "data": {
      "image/png": "[encoded data removed]",
      "text/latex": [
       "$\\displaystyle \\left[\\begin{matrix}\\omega_{p}^{2} + \\omega_{sA}^{2} & - \\omega_{sA}^{2}\\\\- \\omega_{sB}^{2} & \\omega_{p}^{2} + \\omega_{sB}^{2}\\end{matrix}\\right]$"
      ],
      "text/plain": [
       "⎡  2       2         2   ⎤\n",
       "⎢ωₚ  + ω_sA     -ω_sA    ⎥\n",
       "⎢                        ⎥\n",
       "⎢       2       2       2⎥\n",
       "⎣  -ω_sB      ωₚ  + ω_sB ⎦"
      ]
     },
     "execution_count": 15,
     "metadata": {},
     "output_type": "execute_result"
    }
   ],
   "source": [
    "New_EVMat = expand(New_EVMat).subs(g/l, omega_p**2); New_EVMat"
   ]
  },
  {
   "cell_type": "code",
   "execution_count": 16,
   "metadata": {
    "slideshow": {
     "slide_type": "subslide"
    }
   },
   "outputs": [
    {
     "data": {
      "image/png": "[encoded data removed]",
      "text/latex": [
       "$\\displaystyle \\left[\\begin{matrix}\\omega_{p}^{2} + \\omega_{sA}^{2} & - \\omega_{sA}^{2}\\\\- \\omega_{sB}^{2} & \\omega_{p}^{2} + \\omega_{sB}^{2}\\end{matrix}\\right]$"
      ],
      "text/plain": [
       "⎡  2       2         2   ⎤\n",
       "⎢ωₚ  + ω_sA     -ω_sA    ⎥\n",
       "⎢                        ⎥\n",
       "⎢       2       2       2⎥\n",
       "⎣  -ω_sB      ωₚ  + ω_sB ⎦"
      ]
     },
     "execution_count": 16,
     "metadata": {},
     "output_type": "execute_result"
    }
   ],
   "source": [
    "# Or it can be done in one fell swoop:\n",
    "New_EVMat = (expand(EVecMat).subs(k/m_A, omega_sA**2)\n",
    "                            .subs(k/m_B, omega_sB**2)\n",
    "                            .subs(g/l, omega_p**2))\n",
    "New_EVMat"
   ]
  },
  {
   "cell_type": "code",
   "execution_count": 17,
   "metadata": {
    "slideshow": {
     "slide_type": "subslide"
    }
   },
   "outputs": [
    {
     "data": {
      "image/png": "[encoded data removed]",
      "text/latex": [
       "$\\displaystyle \\left[ \\left( \\omega_{p}^{2}, \\  1, \\  \\left[ \\left[\\begin{matrix}1\\\\1\\end{matrix}\\right]\\right]\\right), \\  \\left( \\omega_{p}^{2} + \\omega_{sA}^{2} + \\omega_{sB}^{2}, \\  1, \\  \\left[ \\left[\\begin{matrix}- \\frac{\\omega_{sA}^{2}}{\\omega_{sB}^{2}}\\\\1\\end{matrix}\\right]\\right]\\right)\\right]$"
      ],
      "text/plain": [
       "⎡                 ⎛                        ⎡⎡     2 ⎤⎤⎞⎤\n",
       "⎢                 ⎜                        ⎢⎢-ω_sA  ⎥⎥⎟⎥\n",
       "⎢⎛  2     ⎡⎡1⎤⎤⎞  ⎜  2       2       2     ⎢⎢───────⎥⎥⎟⎥\n",
       "⎢⎜ωₚ , 1, ⎢⎢ ⎥⎥⎟, ⎜ωₚ  + ω_sA  + ω_sB , 1, ⎢⎢     2 ⎥⎥⎟⎥\n",
       "⎢⎝        ⎣⎣1⎦⎦⎠  ⎜                        ⎢⎢ ω_sB  ⎥⎥⎟⎥\n",
       "⎢                 ⎜                        ⎢⎢       ⎥⎥⎟⎥\n",
       "⎣                 ⎝                        ⎣⎣   1   ⎦⎦⎠⎦"
      ]
     },
     "execution_count": 17,
     "metadata": {},
     "output_type": "execute_result"
    }
   ],
   "source": [
    "# And now the finishing touch\n",
    "New_EVMat.eigenvects()"
   ]
  },
  {
   "cell_type": "markdown",
   "metadata": {
    "slideshow": {
     "slide_type": "fragment"
    }
   },
   "source": [
    "The line above is to be interpreted in the following way:\n",
    "\n",
    "1. There are two different eigenvalues, $\\omega_p^2$ and $\\omega_p^2+\\omega_{sA}^2+\\omega_{sB}^2$. In our simpler analytical calculation, we had $\\omega_{sA} = \\omega_{sB} = \\omega_s$ and $\\omega_2 = \\omega_p^2+\\omega_{sA}^2+\\omega_{sB}^2$.\n",
    "2. each of these eigenvalues appears only once (this is what the \"1\" numbers mean in second positions),\n",
    "3. the eigenvectors are $[1, 1]$ (antisymmetric) and $[-\\omega_{sA}^2/\\omega_{sB}^2, 1]$ (pseudo-symmetric).\n",
    "\n",
    "Note how python doesn't care about normalizing the eigenvector norms, and that it used a different sign convention than me. This is because it does not really matter."
   ]
  },
  {
   "cell_type": "code",
   "execution_count": 19,
   "metadata": {
    "slideshow": {
     "slide_type": "subslide"
    }
   },
   "outputs": [
    {
     "data": {
      "image/png": "[encoded data removed]",
      "text/latex": [
       "$\\displaystyle \\left[\\begin{matrix}\\omega_{pA}^{2} + \\omega_{sA}^{2} & - \\omega_{sA}^{2}\\\\- \\omega_{sB}^{2} & \\omega_{pB}^{2} + \\omega_{sB}^{2}\\end{matrix}\\right]$"
      ],
      "text/plain": [
       "⎡    2       2          2    ⎤\n",
       "⎢ω_pA  + ω_sA      -ω_sA     ⎥\n",
       "⎢                            ⎥\n",
       "⎢        2          2       2⎥\n",
       "⎣   -ω_sB       ω_pB  + ω_sB ⎦"
      ]
     },
     "execution_count": 19,
     "metadata": {},
     "output_type": "execute_result"
    }
   ],
   "source": [
    "# I can even do it with two different length of pendulums!\n",
    "l_A, l_B = symbols('ell_A, ell_B', real=True)\n",
    "omega_pA, omega_pB = symbols('omega_pA, omega_pB', real=True)\n",
    "\n",
    "# New stiffness matrix\n",
    "K_2 = Matrix([[m_A*g/l_A + k, -k],\n",
    "              [-k, m_B*g/l_B + k]])\n",
    "\n",
    "# new eigenvector problem\n",
    "EVecMat_2 = M.inv()*K_2\n",
    "New_EVMat_2 = (expand(EVecMat_2).subs(k/m_A, omega_sA**2)\n",
    "                                .subs(k/m_B, omega_sB**2)\n",
    "                                .subs(g/l_A, omega_pA**2)\n",
    "                                .subs(g/l_B, omega_pB**2))\n",
    "\n",
    "New_EVMat_2"
   ]
  },
  {
   "cell_type": "code",
   "execution_count": 20,
   "metadata": {
    "slideshow": {
     "slide_type": "subslide"
    }
   },
   "outputs": [
    {
     "data": {
      "image/png": "[encoded data removed]",
      "text/latex": [
       "$\\displaystyle \\left[ \\left( \\frac{\\omega_{pA}^{2}}{2} + \\frac{\\omega_{pB}^{2}}{2} + \\frac{\\omega_{sA}^{2}}{2} + \\frac{\\omega_{sB}^{2}}{2} - \\frac{\\sqrt{\\omega_{pA}^{4} - 2 \\omega_{pA}^{2} \\omega_{pB}^{2} + 2 \\omega_{pA}^{2} \\omega_{sA}^{2} - 2 \\omega_{pA}^{2} \\omega_{sB}^{2} + \\omega_{pB}^{4} - 2 \\omega_{pB}^{2} \\omega_{sA}^{2} + 2 \\omega_{pB}^{2} \\omega_{sB}^{2} + \\omega_{sA}^{4} + 2 \\omega_{sA}^{2} \\omega_{sB}^{2} + \\omega_{sB}^{4}}}{2}, \\  1, \\  \\left[ \\left[\\begin{matrix}\\frac{\\omega_{pB}^{2} + \\omega_{sB}^{2}}{\\omega_{sB}^{2}} - \\frac{\\frac{\\omega_{pA}^{2}}{2} + \\frac{\\omega_{pB}^{2}}{2} + \\frac{\\omega_{sA}^{2}}{2} + \\frac{\\omega_{sB}^{2}}{2} - \\frac{\\sqrt{\\omega_{pA}^{4} - 2 \\omega_{pA}^{2} \\omega_{pB}^{2} + 2 \\omega_{pA}^{2} \\omega_{sA}^{2} - 2 \\omega_{pA}^{2} \\omega_{sB}^{2} + \\omega_{pB}^{4} - 2 \\omega_{pB}^{2} \\omega_{sA}^{2} + 2 \\omega_{pB}^{2} \\omega_{sB}^{2} + \\omega_{sA}^{4} + 2 \\omega_{sA}^{2} \\omega_{sB}^{2} + \\omega_{sB}^{4}}}{2}}{\\omega_{sB}^{2}}\\\\1\\end{matrix}\\right]\\right]\\right), \\  \\left( \\frac{\\omega_{pA}^{2}}{2} + \\frac{\\omega_{pB}^{2}}{2} + \\frac{\\omega_{sA}^{2}}{2} + \\frac{\\omega_{sB}^{2}}{2} + \\frac{\\sqrt{\\omega_{pA}^{4} - 2 \\omega_{pA}^{2} \\omega_{pB}^{2} + 2 \\omega_{pA}^{2} \\omega_{sA}^{2} - 2 \\omega_{pA}^{2} \\omega_{sB}^{2} + \\omega_{pB}^{4} - 2 \\omega_{pB}^{2} \\omega_{sA}^{2} + 2 \\omega_{pB}^{2} \\omega_{sB}^{2} + \\omega_{sA}^{4} + 2 \\omega_{sA}^{2} \\omega_{sB}^{2} + \\omega_{sB}^{4}}}{2}, \\  1, \\  \\left[ \\left[\\begin{matrix}\\frac{\\omega_{pB}^{2} + \\omega_{sB}^{2}}{\\omega_{sB}^{2}} - \\frac{\\frac{\\omega_{pA}^{2}}{2} + \\frac{\\omega_{pB}^{2}}{2} + \\frac{\\omega_{sA}^{2}}{2} + \\frac{\\omega_{sB}^{2}}{2} + \\frac{\\sqrt{\\omega_{pA}^{4} - 2 \\omega_{pA}^{2} \\omega_{pB}^{2} + 2 \\omega_{pA}^{2} \\omega_{sA}^{2} - 2 \\omega_{pA}^{2} \\omega_{sB}^{2} + \\omega_{pB}^{4} - 2 \\omega_{pB}^{2} \\omega_{sA}^{2} + 2 \\omega_{pB}^{2} \\omega_{sB}^{2} + \\omega_{sA}^{4} + 2 \\omega_{sA}^{2} \\omega_{sB}^{2} + \\omega_{sB}^{4}}}{2}}{\\omega_{sB}^{2}}\\\\1\\end{matrix}\\right]\\right]\\right)\\right]$"
      ],
      "text/plain": [
       "⎡⎛                                                                                                                                               \n",
       "⎢⎜                                                                                                                                               \n",
       "⎢⎜                                   ____________________________________________________________________________________________________________\n",
       "⎢⎜    2       2       2       2     ╱     4         2     2         2     2         2     2       4         2     2         2     2       4      \n",
       "⎢⎜ω_pA    ω_pB    ω_sA    ω_sB    ╲╱  ω_pA  - 2⋅ω_pA ⋅ω_pB  + 2⋅ω_pA ⋅ω_sA  - 2⋅ω_pA ⋅ω_sB  + ω_pB  - 2⋅ω_pB ⋅ω_sA  + 2⋅ω_pB ⋅ω_sB  + ω_sA  + 2⋅ω\n",
       "⎢⎜───── + ───── + ───── + ───── - ───────────────────────────────────────────────────────────────────────────────────────────────────────────────\n",
       "⎢⎜  2       2       2       2                                                                     2                                              \n",
       "⎢⎜                                                                                                                                               \n",
       "⎢⎜                                                                                                                                               \n",
       "⎣⎝                                                                                                                                               \n",
       "\n",
       "                        ⎡⎡                                                   ____________________________________________________________________\n",
       "                        ⎢⎢                    2       2       2       2     ╱     4         2     2         2     2         2     2       4      \n",
       "___________________     ⎢⎢                ω_pA    ω_pB    ω_sA    ω_sB    ╲╱  ω_pA  - 2⋅ω_pA ⋅ω_pB  + 2⋅ω_pA ⋅ω_sA  - 2⋅ω_pA ⋅ω_sB  + ω_pB  - 2⋅ω\n",
       "   2     2       4      ⎢⎢    2       2   ───── + ───── + ───── + ───── - ───────────────────────────────────────────────────────────────────────\n",
       "_sA ⋅ω_sB  + ω_sB       ⎢⎢ω_pB  + ω_sB      2       2       2       2                                                                     2      \n",
       "───────────────────, 1, ⎢⎢───────────── - ───────────────────────────────────────────────────────────────────────────────────────────────────────\n",
       "                        ⎢⎢        2                                                                                         2                    \n",
       "                        ⎢⎢    ω_sB                                                                                      ω_sB                     \n",
       "                        ⎢⎢                                                                                                                       \n",
       "                        ⎣⎣                                                                                        1                              \n",
       "\n",
       "___________________________________________________________⎤⎤⎞  ⎛                                                                                \n",
       "   2     2         2     2       4         2     2       4 ⎥⎥⎟  ⎜                                                                                \n",
       "_pB ⋅ω_sA  + 2⋅ω_pB ⋅ω_sB  + ω_sA  + 2⋅ω_sA ⋅ω_sB  + ω_sB  ⎥⎥⎟  ⎜                                   _____________________________________________\n",
       "───────────────────────────────────────────────────────────⎥⎥⎟  ⎜    2       2       2       2     ╱     4         2     2         2     2       \n",
       "                                                           ⎥⎥⎟  ⎜ω_pA    ω_pB    ω_sA    ω_sB    ╲╱  ω_pA  - 2⋅ω_pA ⋅ω_pB  + 2⋅ω_pA ⋅ω_sA  - 2⋅ω_\n",
       "───────────────────────────────────────────────────────────⎥⎥⎟, ⎜───── + ───── + ───── + ───── + ────────────────────────────────────────────────\n",
       "                                                           ⎥⎥⎟  ⎜  2       2       2       2                                                     \n",
       "                                                           ⎥⎥⎟  ⎜                                                                                \n",
       "                                                           ⎥⎥⎟  ⎜                                                                                \n",
       "                                                           ⎦⎦⎠  ⎝                                                                                \n",
       "\n",
       "                                                                                       ⎡⎡                                                   _____\n",
       "                                                                                       ⎢⎢                    2       2       2       2     ╱     \n",
       "__________________________________________________________________________________     ⎢⎢                ω_pA    ω_pB    ω_sA    ω_sB    ╲╱  ω_pA\n",
       "  2     2       4         2     2         2     2       4         2     2       4      ⎢⎢    2       2   ───── + ───── + ───── + ───── + ────────\n",
       "pA ⋅ω_sB  + ω_pB  - 2⋅ω_pB ⋅ω_sA  + 2⋅ω_pB ⋅ω_sB  + ω_sA  + 2⋅ω_sA ⋅ω_sB  + ω_sB       ⎢⎢ω_pB  + ω_sB      2       2       2       2             \n",
       "──────────────────────────────────────────────────────────────────────────────────, 1, ⎢⎢───────────── - ────────────────────────────────────────\n",
       "                2                                                                      ⎢⎢        2                                               \n",
       "                                                                                       ⎢⎢    ω_sB                                                \n",
       "                                                                                       ⎢⎢                                                        \n",
       "                                                                                       ⎣⎣                                                        \n",
       "\n",
       "__________________________________________________________________________________________________________________________⎤⎤⎞⎤\n",
       "4         2     2         2     2         2     2       4         2     2         2     2       4         2     2       4 ⎥⎥⎟⎥\n",
       "  - 2⋅ω_pA ⋅ω_pB  + 2⋅ω_pA ⋅ω_sA  - 2⋅ω_pA ⋅ω_sB  + ω_pB  - 2⋅ω_pB ⋅ω_sA  + 2⋅ω_pB ⋅ω_sB  + ω_sA  + 2⋅ω_sA ⋅ω_sB  + ω_sB  ⎥⎥⎟⎥\n",
       "──────────────────────────────────────────────────────────────────────────────────────────────────────────────────────────⎥⎥⎟⎥\n",
       "                                                        2                                                                 ⎥⎥⎟⎥\n",
       "──────────────────────────────────────────────────────────────────────────────────────────────────────────────────────────⎥⎥⎟⎥\n",
       "                                          2                                                                               ⎥⎥⎟⎥\n",
       "                                      ω_sB                                                                                ⎥⎥⎟⎥\n",
       "                                                                                                                          ⎥⎥⎟⎥\n",
       "                                1                                                                                         ⎦⎦⎠⎦"
      ]
     },
     "execution_count": 20,
     "metadata": {},
     "output_type": "execute_result"
    }
   ],
   "source": [
    "New_EVMat_2.eigenvects()"
   ]
  },
  {
   "cell_type": "markdown",
   "metadata": {
    "slideshow": {
     "slide_type": "skip"
    }
   },
   "source": [
    "*Note: the result above is so long that it will not display properly on the pdf version of the notes. Which is the message here: the result is so long, it is not practical to handle it symbolically.*"
   ]
  },
  {
   "cell_type": "markdown",
   "metadata": {
    "slideshow": {
     "slide_type": "skip"
    }
   },
   "source": [
    "Obviously, in a practical setting, we would be using a numerical math package, not a symbolic one!\n",
    "These excruciatingly complicated expressions would become mere numbers, which computers could crunch out."
   ]
  },
  {
   "cell_type": "markdown",
   "metadata": {
    "slideshow": {
     "slide_type": "slide"
    }
   },
   "source": [
    "# Summary\n",
    "\n",
    "In this lecture, we saw that\n",
    "\n",
    "* When $n$ (we saw two, but it is more general) oscillators are coupled, the game is to turn the system into $n$ uncoupled oscillations.\n",
    "    Each equation you find by this procedure is meant to model the behaviour of one **normal mode**.\n",
    "* A **normal mode** is a mode of motion in which all components of the coupled system oscillate at the same frequency.\n",
    "    Each components may have phase shifts with respect to the others, and have different amplitudes of motion, but the frequencies have to be the same.\n",
    "* You can try clever changes of variables to retrieve the **normal modes** in terms of **normal coordinates** oscillating at **normal frequencies**.\n",
    "* You can also turn the coupled system of equations into a matrix equation and look for the eigenvalues and eigenvectors of the problem.\n",
    "    Each eigenvalue is the square of a normal frequency, and the associated eigenvector describes the \"shape\" of the oscillation.\n",
    "    This method may seem more tedious than the clever method at first, but it always works, even in complicated cases.\n",
    "* The eigenvalue/eigenvectors is systematic enough that it is easy to program on a computer.\n",
    "* Each mode is completely decoupled from the others.\n",
    "    You can see it because each modal ODE does not feature any other mode, or you can see it because the energy of each mode stays constant and does not exchange energy with the other modes, or you can use the language of linear algebra, and the orthogonality of eigenmodes.\n",
    "* Each mode behaves like an SHO: you can apply the same suite of procedures:\n",
    "    1. adopt-an-exponential,\n",
    "    2. find the natural frequencies, which we do when solving for eigenvalues,\n",
    "    3. Use initial conditions to find the amplitudes and phases (or equivalents) of the oscillation."
   ]
  },
  {
   "cell_type": "markdown",
   "metadata": {
    "slideshow": {
     "slide_type": "slide"
    }
   },
   "source": [
    "# Appendix: Forced Problems"
   ]
  },
  {
   "cell_type": "markdown",
   "metadata": {
    "slideshow": {
     "slide_type": "skip"
    }
   },
   "source": [
    "*I will not have time to cover this sub-section, which you should treat as optional.\n",
    "I wrote it at some point and I find it an interesting connection to the driven oscillators we saw in lecture 5, but I have to make choices.*"
   ]
  },
  {
   "cell_type": "markdown",
   "metadata": {
    "slideshow": {
     "slide_type": "subslide"
    }
   },
   "source": [
    "Let us assume that there is some periodic force applied to the masses, and let's use $m_A = m_B = m$:\n",
    "$$ m\\ddot x_A + \\frac{mg}{l}x_A + k(x_A - x_B) = F_A\\cos(\\omega t),$$\n",
    "$$ m\\ddot x_B + \\frac{mg}{l}x_B -k(x_A - x_B) = F_B\\cos(\\omega t),$$\n",
    "which in matrix form can be written\n",
    "\\begin{equation}\n",
    "    \\ddot{\\vec X} + M^{-1}K \\vec X = \\vec \\Psi\\cos(\\omega t),\n",
    "    \\label{eq:forcedEVs}\n",
    "\\end{equation}\n",
    "with $\\vec \\Psi = [F_A/m, F_B/m]$.\n",
    "Note that the problem is not an eigenvalue problem anymore, because it is inhomogeneous."
   ]
  },
  {
   "cell_type": "markdown",
   "metadata": {
    "slideshow": {
     "slide_type": "skip"
    }
   },
   "source": [
    "The vectors $\\vec Y_1$ and $\\vec Y_2$, which were eigenvectors of the free problem, form an orthogonal basis for any 2D vector.\n",
    "Let me repeat this: $\\vec Y_1$ and $\\vec Y_2$ lose their special status as eigenvectors, but they still form an orthogonal basis on which any vector can be decomposed.\n",
    "Meaning that we can write\n",
    "$$\\vec X = h_1\\vec Y_1 + h_2 \\vec Y_2.$$"
   ]
  },
  {
   "cell_type": "markdown",
   "metadata": {
    "slideshow": {
     "slide_type": "skip"
    }
   },
   "source": [
    "Let me reiterate that the projections of $\\vec X$ on $\\vec Y_1$ and $\\vec Y_2$, i.e., $h_1$  and $h_2$, are not eigenmodes of the forced problem.\n",
    "\"Eigenmodes of the forced problem\" makes as much sense as \"free oscillations of the forced oscillator\" in the case of just one oscillator, which only applies to the boring homogeneous part of the solution.\n",
    "Note however that in this particular case, $h_1 = q_1/\\sqrt2$ and $h_2 = q_2/\\sqrt2$ if $q_1 = x_A + x_B$ and $q_2 = x_A - x_B$."
   ]
  },
  {
   "cell_type": "markdown",
   "metadata": {
    "slideshow": {
     "slide_type": "skip"
    }
   },
   "source": [
    "The forcing can also the projected onto $\\vec Y_1$ and $\\vec Y_2$:\n",
    "$$\\vec\\Psi = \\Psi_1 \\vec Y_1 + \\Psi_2 \\vec Y_2,$$\n",
    "with $\\Psi_1 = (F_A + F_B)/(\\sqrt{2}m)$ and $\\Psi_2 = (F_A - F_B)/(\\sqrt{2}m)$."
   ]
  },
  {
   "cell_type": "markdown",
   "metadata": {
    "slideshow": {
     "slide_type": "skip"
    }
   },
   "source": [
    "However, the crucial point here is that $M^{-1}K \\vec Y_{1, 2} = \\omega^2_{1,2}\\vec Y_{1, 2}$ is still true, by construction of $\\vec Y_{1,2}$.\n",
    "Collecting all of these comments, eq. \\eqref{eq:forcedEVs} can therefore be re-written\n",
    "$$ \\ddot h_1{\\vec Y}_1 + \\ddot h_2 {\\vec Y}_2  + \\omega_1^2 h_1 \\vec Y_1 + \\omega_2^2 h_2 \\vec Y_2 = (\\Psi_1 \\vec Y_1 + \\Psi_2 \\vec Y_2)\\cos(\\omega t).$$"
   ]
  },
  {
   "cell_type": "markdown",
   "metadata": {
    "slideshow": {
     "slide_type": "skip"
    }
   },
   "source": [
    "Projecting the equation above on $\\vec Y_1$ and $\\vec Y_2$ yields, respectively,\n",
    "$$\\ddot h_1 + \\omega_1^2 h_1 = \\Psi_1\\cos(\\omega t).$$\n",
    "$$\\ddot h_2 + \\omega_2^2 h_2 = \\Psi_2\\cos(\\omega t).$$"
   ]
  },
  {
   "cell_type": "markdown",
   "metadata": {
    "slideshow": {
     "slide_type": "skip"
    }
   },
   "source": [
    "Therefore, individual modes can resonate, just like a simple oscillator can resonate.\n",
    "This time however, the complexity of the possible cases increases.\n",
    "For one mode to resonate, two conditions need to be satisfied.\n",
    "For example, for the first mode to resonate, we need $\\omega = \\omega_1$, just like in the simple oscillator case, but we also need $\\Psi_1 \\neq 0$."
   ]
  },
  {
   "cell_type": "markdown",
   "metadata": {
    "slideshow": {
     "slide_type": "skip"
    }
   },
   "source": [
    "In our coupled pendulums, the first mode (the antisymmetric one) does not grow if the forcing is symmetric, i.e., if $F_A = -F_B$, in which case $\\Psi_1 = 0$.\n",
    "In order to induce a resonance phenomenon, the frequency of the forcing has to match the corresponding frequency, and the forcing pattern needs to match the polarization of the mode, i.e., the \"shape of the mode\" (i.e. whether it is symmetric or antisymmetric, or whatever the pattern actually looks like), somewhat.\n",
    "\"Somewhat\" means that the projection of the force on the eigenvector has to be non-zero.\n",
    "For example, if only one mass feels a force, say, $F_A \\neq 0$ and $F_B = 0$, the pattern is not exactly matched, but $\\Psi_1 = F_A/\\sqrt{2}m + 0/\\sqrt{2} = F_A/\\sqrt2m \\neq 0$, which is enough to trigger a resonance."
   ]
  },
  {
   "cell_type": "markdown",
   "metadata": {
    "slideshow": {
     "slide_type": "skip"
    }
   },
   "source": [
    "All of this is true for any coupled system of oscillators, and for however many degrees of freedom there are. It is also true for non-symmetric matrices, but the mathematics are more complicated to describe in the short amount of time I have."
   ]
  },
  {
   "cell_type": "markdown",
   "metadata": {
    "slideshow": {
     "slide_type": "skip"
    }
   },
   "source": [
    "Of course, everything you have learned about damped harmonic oscillator resonance also applies to the modes.\n",
    "For example, if there is damping, the resonance curve will have a certain width:\n",
    "there can be amplification for frequencies that do not exactly match the eigenfrequencies of the free system.\n",
    "Each mode will have its own damping rate, and its own quality factor."
   ]
  }
 ],
 "metadata": {
  "anaconda-cloud": {},
  "celltoolbar": "Diaporama",
  "kernelspec": {
   "display_name": "Python 3 (ipykernel)",
   "language": "python",
   "name": "python3"
  },
  "language_info": {
   "codemirror_mode": {
    "name": "ipython",
    "version": 3
   },
   "file_extension": ".py",
   "mimetype": "text/x-python",
   "name": "python",
   "nbconvert_exporter": "python",
   "pygments_lexer": "ipython3",
   "version": "3.8.16"
  }
 },
 "nbformat": 4,
 "nbformat_minor": 4
}
