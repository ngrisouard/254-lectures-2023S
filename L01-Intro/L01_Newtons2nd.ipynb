{
 "cells": [
  {
   "cell_type": "raw",
   "id": "80da4daf",
   "metadata": {
    "slideshow": {
     "slide_type": "skip"
    }
   },
   "source": [
    "\\DefineVerbatimEnvironment{Verbatim}{Verbatim}{fontsize=\\scriptsize}\n",
    "\n",
    "\\newcommand{\\rads}{~rad.s$^{-1}$}\n",
    "\\newcommand{\\BV}{Brunt-V\\\"ais\\\"al\\\"a{} }\n",
    "\\newcommand{\\bnabla}{\\boldsymbol{\\nabla}}\n",
    "\\newcommand{\\eexp}[1]{\\text{e}^{#1}}\n",
    "\\newcommand{\\glm}[1]{\\overline{#1}^L}\n",
    "\\newcommand{\\psmom}[0]{\\boldsymbol{\\textsf{p}}}\n",
    "\\newcommand{\\di}[0]{\\textrm{d}}\n",
    "\\newcommand{\\bs}[1]{\\boldsymbol{#1}}\n",
    "\\newcommand{\\ode}[2]{\\frac{\\di {#1}}{\\di {#2}}}\n",
    "\\newcommand{\\oden}[3]{\\frac{\\di^{#1} {#2}}{\\di {#3}^{#1}}}\n",
    "\\newcommand{\\odel}[2]{\\di {#1}/\\di {#2}}\n",
    "\\newcommand{\\odeln}[3]{\\di^{#1} {#2}/\\di {#3}^{#1}}\n",
    "\\newcommand{\\pde}[2]{\\frac{\\partial {#1}}{\\partial {#2}}}\n",
    "\\newcommand{\\pden}[3]{\\frac{\\partial^{#1} {#2}}{\\partial {#3}^{#1}}}\n",
    "\\newcommand{\\pdel}[2]{\\partial_{#2} {#1}}\n",
    "\\newcommand{\\pdenl}[3]{\\partial^{#1}_{#3} {#2}}\n",
    "\\newcommand{\\mde}[1]{\\frac{\\textrm{D} {#1}}{\\textrm{D} t}}\n",
    "\\newcommand{\\mdel}[1]{\\textrm{D}_t {#1}}\n",
    "\\newcommand{\\divr}[1]{\\vec\\nabla \\cdot {#1}}\n",
    "\\newcommand{\\divrb}[1]{\\boldsymbol{\\nabla} \\cdot {#1}}\n",
    "\\newcommand{\\grad}[1]{\\vec \\nabla {#1}}\n",
    "\\newcommand{\\gradb}[1]{\\boldsymbol\\nabla {#1}}\n",
    "\\newcommand{\\curl}[1]{\\vec\\nabla \\times {#1}}\n",
    "\\newcommand{\\curlb}[1]{\\boldsymbol{\\nabla}\\times\\boldsymbol{#1}}\n",
    "\\newcommand{\\lapl}[0]{\\vec\\nabla^2}\n",
    "\\newcommand{\\laplb}[0]{\\boldsymbol{\\nabla}^2}\n",
    "\\newcommand{\\cplxi}[0]{\\mathrm i}\n",
    "\\newcommand{\\unit}[1]{\\boldsymbol{\\hat{#1}}}\n",
    "\\newcommand{\\red}[1]{\\textcolor{red}{#1}}\n",
    "\\newcommand{\\blue}[1]{\\textcolor{blue}{#1}}\n",
    "\\newcommand{\\mage}[1]{\\textcolor{magenta}{#1}}\n",
    "\\newcommand{\\with}[0]{\\quad\\text{with}\\quad}\n",
    "\\newcommand{\\thrfor}[0]{\\quad\\Rightarrow\\quad}\n",
    "\\newcommand{\\andeq}[0]{\\quad\\text{and}\\quad}\n",
    "\\newcommand{\\oreq}[0]{\\quad\\text{or}\\quad}\n",
    "\\newcommand{\\Fma}[0]{\\vec F=m\\vec a}"
   ]
  },
  {
   "cell_type": "markdown",
   "id": "c802a7a0",
   "metadata": {
    "slideshow": {
     "slide_type": "skip"
    }
   },
   "source": [
    "$\\newcommand{\\rads}{~rad.s$^{-1}$}$\n",
    "$\\newcommand{\\bnabla}{\\boldsymbol{\\nabla}}$\n",
    "$\\newcommand{\\eexp}[1]{\\text{e}^{#1}}$\n",
    "$\\newcommand{\\glm}[1]{\\overline{#1}^L}$\n",
    "$\\newcommand{\\psmom}[0]{\\boldsymbol{\\textsf{p}}}$\n",
    "$\\newcommand{\\di}[0]{\\textrm{d}}$\n",
    "$\\newcommand{\\bs}[1]{\\boldsymbol{#1}}$\n",
    "$\\newcommand{\\ode}[2]{\\frac{\\di {#1}}{\\di {#2}}}$\n",
    "$\\newcommand{\\oden}[3]{\\frac{\\di^{#1} {#2}}{\\di {#3}^{#1}}}$\n",
    "$\\newcommand{\\odel}[2]{\\di {#1}/\\di {#2}}$\n",
    "$\\newcommand{\\odeln}[3]{\\di^{#1} {#2}/\\di {#3}^{#1}}$\n",
    "$\\newcommand{\\pde}[2]{\\frac{\\partial {#1}}{\\partial {#2}}}$\n",
    "$\\newcommand{\\pden}[3]{\\frac{\\partial^{#1} {#2}}{\\partial {#3}^{#1}}}$\n",
    "$\\newcommand{\\pdel}[2]{\\partial_{#2} {#1}}$\n",
    "$\\newcommand{\\pdenl}[3]{\\partial^{#1}_{#3} {#2}}$\n",
    "$\\newcommand{\\mde}[1]{\\frac{\\textrm{D} {#1}}{\\textrm{D} t}}$\n",
    "$\\newcommand{\\mdel}[1]{\\textrm{D}_t {#1}}$\n",
    "$\\newcommand{\\divr}[1]{\\vec\\nabla \\cdot {#1}}$\n",
    "$\\newcommand{\\divrb}[1]{\\boldsymbol{\\nabla} \\cdot {#1}}$\n",
    "$\\newcommand{\\grad}[1]{\\vec \\nabla {#1}}$\n",
    "$\\newcommand{\\gradb}[1]{\\boldsymbol\\nabla {#1}}$\n",
    "$\\newcommand{\\curl}[1]{\\vec\\nabla \\times {#1}}$\n",
    "$\\newcommand{\\curlb}[1]{\\boldsymbol{\\nabla}\\times\\boldsymbol{#1}}$\n",
    "$\\newcommand{\\lapl}[0]{\\vec\\nabla^2}$\n",
    "$\\newcommand{\\laplb}[0]{\\boldsymbol{\\nabla}^2}$\n",
    "$\\newcommand{\\cplxi}[0]{\\mathrm i}$\n",
    "$\\newcommand{\\unit}[1]{\\boldsymbol{\\hat{#1}}}$\n",
    "$\\newcommand{\\thrfor}[0]{\\quad\\Rightarrow\\quad}$\n",
    "$\\newcommand{\\red}[1]{\\textcolor{red}{#1}}$\n",
    "$\\newcommand{\\blue}[1]{\\textcolor{blue}{#1}}$\n",
    "$\\newcommand{\\mage}[1]{\\textcolor{magenta}{#1}}$\n",
    "$\\newcommand{\\with}[0]{\\quad\\text{with}\\quad}$\n",
    "$\\newcommand{\\thrfor}[0]{\\quad\\Rightarrow\\quad}$\n",
    "$\\newcommand{\\andeq}[0]{\\quad\\text{and}\\quad}$\n",
    "$\\newcommand{\\oreq}[0]{\\quad\\text{or}\\quad}$\n",
    "$\\newcommand{\\Fma}[0]{\\vec F=m\\vec a}$"
   ]
  },
  {
   "cell_type": "code",
   "execution_count": 2,
   "id": "0e349c2b",
   "metadata": {
    "slideshow": {
     "slide_type": "slide"
    }
   },
   "outputs": [],
   "source": [
    "import numpy as np\n",
    "import matplotlib.pyplot as plt\n",
    "import matplotlib as mpl\n",
    "mpl.rcParams['figure.dpi'] = 150  # for crisper figures later"
   ]
  },
  {
   "cell_type": "markdown",
   "id": "2bbff4eb",
   "metadata": {
    "slideshow": {
     "slide_type": "fragment"
    }
   },
   "source": [
    "*Readings: Morin 3.1 to 3.3 and 3.5; start going through the computational physics website, do tutorials 1 and 2 (see Syllabus)*"
   ]
  },
  {
   "cell_type": "markdown",
   "id": "6d4657b1",
   "metadata": {
    "slideshow": {
     "slide_type": "slide"
    }
   },
   "source": [
    "# Expectations"
   ]
  },
  {
   "cell_type": "markdown",
   "id": "6e187039",
   "metadata": {
    "slideshow": {
     "slide_type": "fragment"
    }
   },
   "source": [
    "## Remember\n",
    "\n",
    "* Newton's three laws.\n",
    "* What is an inertial reference frame.\n",
    "* Newton's second law $\\Fma$.\n",
    "* $\\vec a = \\dot{\\vec v} = \\ddot{\\vec r}$.\n",
    "* What a conservative force is.\n",
    "* Always try a variable separation first.\n",
    "* $x = r\\cos\\theta$ and $y = r\\sin\\theta$, and what it means."
   ]
  },
  {
   "cell_type": "markdown",
   "id": "76e6481b",
   "metadata": {
    "slideshow": {
     "slide_type": "subslide"
    }
   },
   "source": [
    "## Understand\n",
    "\n",
    "* How to solve $\\Fma$ problems using basic ODE techniques\n",
    "* Why we need polar coordinates sometimes\n",
    "* In polar coordinates, why the unit vectors change depending on position."
   ]
  },
  {
   "cell_type": "markdown",
   "id": "b9a494e8",
   "metadata": {
    "slideshow": {
     "slide_type": "fragment"
    }
   },
   "source": [
    "## Apply\n",
    "\n",
    "* Use separation of variables.\n",
    "* Know when to use polar coordinates.\n",
    "* How to derive the velocity and acceleration expressions in polar coordinates.\n",
    "* How to use $\\Fma$ formulas in polar coordinates.\n",
    "* ... and make sure you can do worked examples, tutorials and problem sets."
   ]
  },
  {
   "cell_type": "markdown",
   "id": "a5098516",
   "metadata": {
    "slideshow": {
     "slide_type": "skip"
    }
   },
   "source": [
    "# Introduction\n",
    "\n",
    "## Newton's laws\n",
    "\n",
    "In PHY131 and PHY151/2 (*or equivalent, which I will omit from now on*), you saw how to use Newton's laws to solve basic mechanics problems. As a reminder, according to Morin (§3.1), Newton's three laws are\n",
    "\n",
    "> * **First law:** A body moves with constant velocity (which may be zero) unless acted on by a (net) force.\n",
    "> * **Second law:** The time rate of change of the momentum of a body equals the force acting on the body.\n",
    "> * **Third law:** For every force on one body, there is an equal and opposite force on another body.\n",
    "\n",
    "The **first law** allows us to introduce the concept of an inertial (or Galilean) frame of reference, i.e., a frame of references that moves with a constant velocity $\\vec v_I$... *Relative to other inertial frames of reference.* Which may seem a bit circular, so let's consider a counter-example: a rotating frame of reference. Consider Alice sitting on a pony on a Mary-go-round, Bob chillin on a bench nearby, and Nico on a nearby frozen pond. You see, Nico can't skate, so he fell and is now drifting on the ice with the velocity he had when he fell. Bob and Nico are both subjected to zero net forces: for Bob, the reaction of the bench and maybe the ground perfectly balances any other forces the people are subjected to: weight, maybe strong bursts of wind. For Nico, let's neglect the friction due to the air and ice: again, reaction from the ground perfectly balances his weight, even his extra Covid-lbs (we assume that the ice is thick enough), and he will keep drifting at the same speed until he hits the edge. To Bob, Nico travels at constant velocity, and to Nico, Bob travels at an equal-and-opposite velocity. It is Alice who is the odd one out: to her, Bob and Nico appear to change their velocity all the time: they go left, away, right, closer... for no good reason, other than she is moving herself. To Bob and Nico, her velocity also changes all the time, being constant in the direction, tangential to her trajectory, but constantly changing her orientation. But the situations are not symmetric: Nico and Bob understand that her velocity keeps changing because she is *not* subjected to zero net forces: the reaction of the pony on her crotch keeps pulling her towards the centre of the Mary-go-round, and she feels a centrifugal acceleration that wants to ejects her outward (but doesn't).\n",
    "\n",
    "In fact, you just need to ask them to know that their situations are not equal: Bob and Nico don't feel any acceleration and Nico could close his eyes and pretend that he is the one not moving. Alice on the other hand will soon want to trow up if she does not get out soon.\n",
    "\n",
    "*Note: in this course, all our velocities will be much smaller than the speed of light. No relativity here!*\n",
    "\n",
    "The **second law** is of course the darling of physics profs, because it is the law that allows us to solve simple and not-so-simple mechanical problems, and to design homework assignments and exams. I would feel silly, not to write it, so I will: if an object has a mass $m$ and velocity $\\vec v$ in an inertial frame of reference, and is subjected to $N$ forces $\\vec F_n$, $n=1\\dots N$, then we have\n",
    "\\begin{equation}\n",
    "    \\ode{(m\\vec v)}t = \\sum_{n=1}^N\\vec F_n.\n",
    "    \\label{eq:Newton2ndFull}\n",
    "\\end{equation}\n",
    "If the mass stays constant (for example, Nico doesn't take off and throw his skates in a fit of rage), and defining $\\vec F = \\sum_{n=1}^N\\vec F_n$, then we have the celebrated\n",
    "$$\\vec F = m\\vec a,\\with{} \\vec a=\\ode{\\vec v}{t}.$$"
   ]
  },
  {
   "cell_type": "markdown",
   "id": "5e7198e0",
   "metadata": {
    "slideshow": {
     "slide_type": "skip"
    }
   },
   "source": [
    "Also, recall that $\\vec v = \\odel{\\vec r}t$, with $\\vec r$ the position of the centre of mass of the object in the same reference frame. Because I will use time derivatives often, I will often use the \"dot\" notation: one dot on top of an object is one time derivative, two dots denote a second derivative, and so on.\n",
    "That is,\n",
    "$$\\vec a = \\dot{\\vec v} = \\ddot{\\vec r}.$$\n",
    "Do not worry, we will never go beyond two times derivatives (but we will often go there)."
   ]
  },
  {
   "cell_type": "markdown",
   "id": "60c5904f",
   "metadata": {
    "slideshow": {
     "slide_type": "skip"
    }
   },
   "source": [
    "Note that the **third law** is sort of embedded in the extended version of the 2nd law I wrote in eqn. \\eqref{eq:Newton2ndFull}: you simply need to consider that $m\\vec v$ represents the momentum of not one object or particle, but the momentum of, say, *two* objects: $m\\vec v = m_1\\vec v_1 + m_2\\vec v_2$. And now assume that these two objects are exerting a force on each other, $\\vec F_{1\\to2}$ and $\\vec F_{2\\to1}$, and that no net force is acting on this system, that is, \n",
    "$$m \\dot{\\vec v} = m_1 \\dot{\\vec v}_1 + m_2 \\dot{\\vec v}_2 = 0.$$\n",
    "And individually, each object follows\n",
    "$$ m_1 \\dot{\\vec v}_1 = \\vec F_{2\\to1} \\andeq m_2 \\dot{\\vec v}_2 = \\vec F_{1\\to2}.$$\n",
    "Now, because adding the two equations above leads to zero on the LHS, the RHS reads $$\\vec F_{1\\to2}+ \\vec F_{2\\to1}=0,$$\n",
    "and you have the 3rd law. \n",
    "This was a bit quick and Morin has a lengthier discussion, including about how this law is not *always* valid unless you extend the definition of what has a momentum to fields and other tricky concepts. Fortunately for us, we will not touch upon these situations in this course."
   ]
  },
  {
   "cell_type": "markdown",
   "id": "aa9bf6bf",
   "metadata": {
    "slideshow": {
     "slide_type": "skip"
    }
   },
   "source": [
    "## Forces\n",
    "\n",
    "There are four fundamental forces in the entire universe:\n",
    "\n",
    "* Gravitational force\n",
    "* Electromagnetic (EM) force\n",
    "* Strong nuclear force\n",
    "* Weak nuclear force\n",
    "\n",
    "In this course, we will deal with forces that derive from the first two, the last two being non-classical and short-range.\n",
    "Of course, they may not look like it.\n",
    "For example, we will pull a lot of springs and use Hooke's law a lot.\n",
    "The spring force results from the interactions between microscopic elements in the spring, which, if you really boil it down to the inter-atomic scales, are of EM nature."
   ]
  },
  {
   "cell_type": "markdown",
   "id": "8de8d06d",
   "metadata": {
    "slideshow": {
     "slide_type": "skip"
    }
   },
   "source": [
    "In particular, most of the forces we will deal with in this course are dubbed \"conservative\", such as the gravitational force of the electrostatic, or Coulomb, force.\n",
    "These forces derive from the gradient of a potential field $U$, e.g., $$F = -\\ode{U}x$$ in the case of a 1D force along $x$.\n",
    "A few pairs of forces and potentials you know are:\n",
    "\n",
    "* For the electrostatic force experienced by a charge $q_1$ due to the presence of a second charge $q_2$, Coulomb's law states that \n",
    "    $$\\vec F_{2\\to 1} = k\\frac{q_1 q_2}{r^2}\\unit r_{2\\to1} = -\\ode{U_C}r \\unit r_{2\\to1} \\with U_C = k\\frac{q_1 q_2}{r},$$\n",
    "    where $k$ is the Coulomb constant (you might have seen that $k=1/(4\\pi\\varepsilon_0)$, with $\\varepsilon_0\\approx 8.8541878128\\times10^{-12}$ F$\\,$m$^{-1}$, but that's a detail), $r$ is the distance between the charges, $\\unit r_{2\\to1}$ is the unit vector pointing from $q_2$ to $q_1$. It is attractive (repulsive), i.e., the force points towards (away from) $q_2$, when $q_1$ and $q_2$ have opposite (same) signs, in which case $U_C<0$ ($U_C>0$).\n",
    "* For the gravitational force experienced by a mass $m_1$ due to the presence of a second mass $m_2$, Newton's law of universal gravitation states that \n",
    "    $$\\vec F_{2\\to 1} = -G\\frac{m_1 m_2}{r^2}\\unit r_{2\\to1} = -\\ode{U_G}r \\unit r_{2\\to1} \\with U_G = -G\\frac{m_1 m_2}{r},$$\n",
    "    where $G\\approx 6.674\\times 10^{-11}$ m$^3\\,$kg$^{-1}\\,$s$^{-2}$ is the gravitational constant, $r$ is the distance between the centres of their masses, $\\unit r$ is the unit vector pointing from the centre of $m_2$ to that of $m_1$. It is always attractive, i.e., the force points towards $m_2$, $m_1$ and $m_2$ being both positive. We also have $U_G<0$ everywhere.\n",
    "* For the force exerted by a spring, pulled by a distance $x$ (positive or negative) along an axis oriented by unit vector $\\unit x$, Hooke's law states that\n",
    "    $$\\vec F_s = -kx\\unit x = -\\ode{U_s}x \\unit x \\with U_s = \\frac12 kx^2,$$\n",
    "    where $k$ is the spring stiffness.\n",
    "* *... and more!*"
   ]
  },
  {
   "cell_type": "markdown",
   "id": "205c22b0",
   "metadata": {
    "slideshow": {
     "slide_type": "skip"
    }
   },
   "source": [
    "## Transitioning from first to second year\n",
    "\n",
    "In the PHY151/2 and PHY131 context, you applied these laws on several problems, and as a result, most of the concepts we will discuss in this course will feel familiar:\n",
    "\n",
    "* Mass and spring system\n",
    "* Pendulum\n",
    "* Vibrations of a string\n",
    "* Mechanical waves in general\n",
    "* Central force problems (orbits, etc)\n",
    "* Mechanical energy: kinetic and potential energies, work...\n",
    "* *and more!*\n",
    "\n",
    "There have been differences in approaches however: students who took PHY131 saw a more descriptive presentation of these concepts, while students who took PHY151/2 saw more mathematical derivations. \n",
    "\n",
    "In this course, we will adopt the approach, PHY151/2 students are more familiar with: start from first principles (e.g., conservations of momentum and energy) and work our way up towards the solutions, while taking as few shortcuts as possible. In a way, this course has to fulfill two contradictory objectives: to help PHY131/2 students catch up with a more quantitative description of physical phenomena, and to build upon the foundations of PHY13X/15X to tackle more advanced problems.\n",
    "\n",
    "But for now, let's dig into $\\Fma$-types of problems."
   ]
  },
  {
   "cell_type": "markdown",
   "id": "45b42cf8",
   "metadata": {
    "slideshow": {
     "slide_type": "slide"
    }
   },
   "source": [
    "# Setting up $\\vec F =m\\vec a$ problems: dynamics"
   ]
  },
  {
   "cell_type": "markdown",
   "id": "1b9ef8c3",
   "metadata": {
    "slideshow": {
     "slide_type": "skip"
    }
   },
   "source": [
    "We cover an example of $\\Fma$ that is not static, then consider $\\Fma$ problems in a more general format using ODEs (Ordinary Differential Equations).  "
   ]
  },
  {
   "cell_type": "markdown",
   "id": "baace443",
   "metadata": {
    "slideshow": {
     "slide_type": "skip"
    }
   },
   "source": [
    "If a problem is static (no acceleration), all forces applied to an object must be equal to the zero vector, meaning that the centre of mass of the object does not move (or moves with constant velocity). \n",
    "Additionally, we could consider the case where the object does not spin around an axis, or spins at a constant angular velocity: in this case, all torques would need to sum up to to zero. In this lecture, we omit the torque business and focus on forces."
   ]
  },
  {
   "cell_type": "markdown",
   "id": "c26336e3",
   "metadata": {
    "slideshow": {
     "slide_type": "subslide"
    }
   },
   "source": [
    "## Example: Atwood's machine (Morin, example p. 58)\n",
    "\n",
    "Let's consider a slightly more complicated example where the acceleration is not zero, shown in Fig. 3.5 of Morin and reproduced here."
   ]
  },
  {
   "cell_type": "markdown",
   "id": "5288a61b",
   "metadata": {
    "cell_style": "split",
    "slideshow": {
     "slide_type": "-"
    }
   },
   "source": [
    "<img src=\"Morin_3_5.png\" alt=\"Drawing\" style=\"width: 150px;\"/>"
   ]
  },
  {
   "cell_type": "markdown",
   "id": "fcf48139",
   "metadata": {
    "cell_style": "split",
    "slideshow": {
     "slide_type": "-"
    }
   },
   "source": [
    "Make the following assumptions:\n",
    "\n",
    "* we know the values of $m_1$ and $m_2$,\n",
    "* we start from a perfect state of rest,\n",
    "* all masses initially hang vertically, \n",
    "* the strings and pulleys are \"ideal\": they have no mass, experience no friction, and do not deform.\n",
    "\n",
    "Let's find the acceleration of the masses and the tension in the string (i.e., the force, pulling on a section of the string by an adjacent section of the same string)."
   ]
  },
  {
   "cell_type": "markdown",
   "id": "ed9b1ad4",
   "metadata": {
    "slideshow": {
     "slide_type": "skip"
    }
   },
   "source": [
    "The first reflex is to draw a force balance diagram (FBD), and decompose the vector forces into its components.\n",
    "\n",
    "**Partial answer**\n",
    "\n",
    "*Apologies for not adding a drawing on the notes, you will need to use your imagination a little. See class for drawing.*\n",
    "\n",
    "* The horizontal components of the forces are zero because the masses are initially hanging perfectly vertically. No \"pendulum\" here.\n",
    "* To figure out the vertical components, notice first that the string having no mass, the tension $T$ within the main string has to be the same everywhere in magnitude. Indeed, take a tiny bit of string anywhere (let's consider somewhere where it is vertical, although the orientation really doesn't matter), and do the force balance: on top of it, the tension $|T_{top}|$ pulls upward. At its bottom, a tension $-|T_{bot}|$ pulls downward. Because it has no mass, gravity doesn't act, and $m a=0$. Therefore, $\\Fma$ here reads $\\sum F = |T_{top}|-|T_{bot}| = 0$, and because we picked anywhere, the tension $T$ is everywhere the same along that main strand (again, orientation didn't really matter here, it just made things simpler to describe in words).\n",
    "    Now, for the other elements, we have\n",
    "    * For $m_1$, $T -m_1 g = m_1 a_1$\n",
    "    * For $m_2$, $T_2 - m_2 g = m_2 a_2$, with $T_2$ the tension in the little string, $m_2$ hangs off of.\n",
    "    * The pulley attached to $m_2$ has no mass, therefore $2 T - T_2 =0$."
   ]
  },
  {
   "cell_type": "markdown",
   "id": "f2732672",
   "metadata": {
    "slideshow": {
     "slide_type": "skip"
    }
   },
   "source": [
    "Keeping the first equation *as is* for now and plugging in the 3rd equation into the 2nd equation we get the following 2 equations:\n",
    "$$T - m_1 g = m_1 a_1 \\andeq 2 T -m_2 g=m_2 a_2.$$\n",
    "That's 2 equations and 3 unknowns, we need one extra piece of info. To do that, recall that the string does not deform: if $m_1$ moves down by a distance $2 d$, $m_2$ moves up by a distance $d$.\n",
    "Same for the velocities and onto the accelerations, namely,\n",
    "$$a_1=-2 a_2,$$\n",
    "which is the third equation we need.\n",
    "This is now a $3\\times3$ linear system of equations, which I will let you solve for yourselves."
   ]
  },
  {
   "cell_type": "markdown",
   "id": "a9179203",
   "metadata": {
    "slideshow": {
     "slide_type": "subslide"
    }
   },
   "source": [
    "The final answers are\n",
    "$$ a_2 = \\frac{2 m_1-m_2}{4 m_1+m_2}g, \\quad a_1=\\frac{2(m_2-2 m_1)}{4 m_1 + m_2}g, \\quad T=\\left(\\frac{2 (m_2-2 m_1)}{4 m_1+m_2}+ 1 \\right)m_1 g$$ "
   ]
  },
  {
   "cell_type": "markdown",
   "id": "d814eef5",
   "metadata": {
    "slideshow": {
     "slide_type": "skip"
    }
   },
   "source": [
    "This is an example of how using constraints provides required extra information. There are lots of examples in Morin's book."
   ]
  },
  {
   "cell_type": "markdown",
   "id": "f2675f4d",
   "metadata": {
    "slideshow": {
     "slide_type": "skip"
    }
   },
   "source": [
    "## $\\Fma$ as an ODE\n",
    "\n",
    "In the previous example, forces were constant, which made them easy to deal with.\n",
    "You will notice that the accelerations were also constants.\n",
    "This meant that it would then be easy to find the velocity and position by using constant acceleration kinematics.  \n",
    "\n",
    "In general however, forces can depend on variables such as time $t$, position $\\vec r$ and velocity $\\vec v$.\n",
    "We want to develop a way of solving an $\\Fma$ problem for a general $\\vec F$.\n",
    "Let's consider the following one-dimensional case (or you can consider this as a single component of the vector case), for which we can write\n",
    "$$F = F(t, x, v).$$\n",
    "Newton's second law states that \n",
    "\\begin{equation}\n",
    "    ma = m\\dot v = F(t,x,v).\n",
    "    \\label{eq:Newt_alldep}\n",
    "\\end{equation}"
   ]
  },
  {
   "cell_type": "markdown",
   "id": "ebee5184",
   "metadata": {
    "slideshow": {
     "slide_type": "skip"
    }
   },
   "source": [
    "To get to a solution for $v(t)$ and $x(t)$, we are going to need to do 2 integrations, which means we will have 2 constants of integration.  These can be solved for using initial conditions on the initial position *and* the initial velocity.\n",
    "Let's assume the initial conditions to our above problem are given by $$x(t_0)=x_0\\andeq v(t_0)=v_0.$$\n",
    "Equation \\eqref{eq:Newt_alldep} combined with the initial conditions has no general solution, but we can consider three relatively simple cases: a force $F(t)$ that depends on time only, a force $F(x)$ that depends on position only, and a force $F(v)$ that depends on velocity only."
   ]
  },
  {
   "cell_type": "markdown",
   "id": "3d582d4f",
   "metadata": {
    "slideshow": {
     "slide_type": "skip"
    }
   },
   "source": [
    "### Time dependent force $F=F(t)$\n",
    "\n",
    "#### General case\n",
    "\n",
    "In this case we have\n",
    "$$m\\ode{v}t =F(t)$$\n",
    "We can separate variables $t$ and $v$, as in\n",
    "$$m\\di v = F(t) \\di t,$$\n",
    "and then we can integrate the equation, namely,\n",
    "\\begin{equation}\n",
    "m\\int_{v_0}^{v(t)}\\di v'=m[v(t)-v_0]=\\int_{t_0}^t F(t')\\di t' \\thrfor\n",
    "v(t)=v_0+\\frac 1m\\int_{t_0}^tF(t')\\di t'\n",
    "\\label{eq:sol4v}\n",
    "\\end{equation}\n",
    "This gives us $v(t)$.\n",
    "And since $v=\\dot x$, we can integrate again to obtain\n",
    "\\begin{equation}\n",
    "    x(t) = x_0 + \\int_{t_0}^{t}v(t')\\di t'.\n",
    "    \\label{eq:sol4x}\n",
    "\\end{equation}\n",
    "If there is no obvious analytical solution, solving for the position in two steps (first $v$, then $x$) like above is both less confusing and a better way to code it."
   ]
  },
  {
   "cell_type": "markdown",
   "id": "bf356526",
   "metadata": {
    "slideshow": {
     "slide_type": "skip"
    }
   },
   "source": [
    "#### Example (Morin problem 3.9)\n",
    "\n",
    "> A particle at rest at $t_0=0$ and $x_0=0$ is subject to an exponential force $F(t) = m a_0 \\eexp{-bt}$ in the $x$ direction. Find its subsequent position.\n",
    "\n",
    "First, *think* about the situation. The force looks like:"
   ]
  },
  {
   "cell_type": "code",
   "execution_count": 3,
   "id": "d756577e",
   "metadata": {
    "slideshow": {
     "slide_type": "subslide"
    }
   },
   "outputs": [],
   "source": [
    "b, a0 = 10., 0.2  # for illustration; m will cancel out\n",
    "t = np.linspace(0., 5./b, 100)\n",
    "Fnorm = a0*np.exp(-b*t)  # \"norm\" for \"normalized\", i.e. divided by m\n",
    "def plot_FMorin39():\n",
    "    \"\"\"I use a function so that the plot has its own cell; useful for slideshows\"\"\"\n",
    "    plt.plot(b*t, Fnorm/a0)\n",
    "    plt.xlabel(\"$bt$\")\n",
    "    plt.ylabel(\"$F(t)/(ma_0)$\")\n",
    "    plt.axvline(0., color='k', linestyle='--')\n",
    "    plt.axhline(0., color='k', linestyle='--')\n",
    "    plt.grid()\n",
    "    return"
   ]
  },
  {
   "cell_type": "code",
   "execution_count": 4,
   "id": "44ead58d",
   "metadata": {
    "slideshow": {
     "slide_type": "subslide"
    }
   },
   "outputs": [
    {
     "data": {
      "image/png": "[encoded data removed]",
      "text/plain": [
       "<Figure size 960x720 with 1 Axes>"
      ]
     },
     "metadata": {},
     "output_type": "display_data"
    }
   ],
   "source": [
    "plot_FMorin39()"
   ]
  },
  {
   "cell_type": "markdown",
   "id": "050efe3c",
   "metadata": {
    "slideshow": {
     "slide_type": "skip"
    }
   },
   "source": [
    "So, what is the expected behaviour? The force tails off, so we expect strong acceleration at first and as $t\\to\\infty$, the LHS of $F = m\\dot v$ tends to zero too and we expect constant $v$.\n",
    "\n",
    "Now for solving: you can plug into equations \\eqref{eq:sol4v} and \\eqref{eq:sol4x}, but if you never want to memorize them then why not start with $F=m\\dot v$ and just derive from there?\n",
    "\n",
    "$$m\\ode{v}{t}=ma_0 \\eexp{-bt} \\Rightarrow \\di v = a_0 \\eexp{-bt}\\di t$$\n",
    "$$\\Rightarrow \\int_{v_0}^{v(t)}\\di v'=\\int_{t_0}^t a_0 \\eexp{-bt'}\\di t'$$\n",
    "$$\\Rightarrow v(t)=v_0-\\left[\\frac{a_0}{b}\\eexp{-bt'}\\right]_{t_0}^{t}=v_0+\\frac{a_0}{b}\\left(\\eexp{-bt_0}-\\eexp{-bt}\\right).$$\n",
    "Notice that as $t\\rightarrow \\infty$, $v \\rightarrow v_0+ (a_0/b)\\eexp{-bt_0}$, which is constant as we expected.  \n",
    "\n",
    "If you plug in the initial condition $t_0=0$, $v_0=0$, you get\n",
    "$$v(t)=\\frac{a_0}{b}\\left(1-\\eexp{-bt}\\right),$$\n",
    "which has all of the expected properties we listed earlier."
   ]
  },
  {
   "cell_type": "markdown",
   "id": "0a2d884c",
   "metadata": {
    "slideshow": {
     "slide_type": "skip"
    }
   },
   "source": [
    "Now for the $x(t)$ equation.  We can start from\n",
    "$$\\ode{x}{t} = v(t) \\Rightarrow \\di x = \\frac{a_0}{b}\\left(1-\\eexp{-bt}\\right)\\di t \\Rightarrow \\int_{x_0}^{x(t)} \\di x' = \\frac{a_0}{b}\\int_{t_0}^t\\left(1-\\eexp{-bt'}\\right)\\di t'$$\n",
    "$$\\Rightarrow x(t) - x(t_0)=\\frac{a_0}{b}\\left[ t'+ \\frac{1}{b} \\eexp{-bt'}\\right]_{t_0}^t = \\frac{a_0}{b}\\left[t-t_0+\\frac{1}{b} \\left(\\eexp{-bt}-\\eexp{-bt_0}\\right)\\right].$$\n",
    "Plug in the intial condition $t_0=0$, $x(t_0)=0$ to obtain\n",
    "$$x(t)=\\frac{a_0}{b}\\left[t+\\frac{1}{b}\\left(e^{-bt}-1\\right)\\right].$$"
   ]
  },
  {
   "cell_type": "markdown",
   "id": "00abfa6a",
   "metadata": {
    "slideshow": {
     "slide_type": "skip"
    }
   },
   "source": [
    "And once plotted, our solution looks like the following."
   ]
  },
  {
   "cell_type": "code",
   "execution_count": 5,
   "id": "36ec4223",
   "metadata": {
    "slideshow": {
     "slide_type": "subslide"
    }
   },
   "outputs": [],
   "source": [
    "def plot_Morin39():\n",
    "    \"\"\" I use a function to let the plot appear in a separate cell\n",
    "    (useful during slideshow) \"\"\"\n",
    "    v = a0*(1 - np.exp(-b*t))/b\n",
    "    x = a0*(t + (np.exp(-b*t) - 1)/b)/b\n",
    "\n",
    "    ax1 = plt.subplot(311)  # 3 lines, 1 column, 1st box\n",
    "    ax1.plot(b*t, Fnorm/a0)\n",
    "    ax1.set_ylabel(\"$F/(ma_0)$\")\n",
    "    ax1.axvline(1, color='g', linestyle='--')  # the 1/b time constant\n",
    "    ax1.grid()\n",
    "\n",
    "    ax2 = plt.subplot(312, sharex=ax1)  # 3 lines, 1 column, 2nd box\n",
    "    ax2.plot(b*t, v/(a0/b))\n",
    "    ax2.set_ylabel(\"$v/(a_0/b)$\")\n",
    "    ax2.axvline(1, color='g', linestyle='--')  # the 1/b time constant\n",
    "    ax2.grid()\n",
    "\n",
    "    ax3 = plt.subplot(313, sharex=ax1)  # 3 lines, 1 column, 2nd box\n",
    "    ax3.plot(b*t, x/(a0/b**2))\n",
    "    ax3.set_xlabel(\"$bt$\")\n",
    "    ax3.set_ylabel(\"$x/(a_0/b^2)$\")\n",
    "    ax3.axvline(1, color='g', linestyle='--')  # the 1/b time constant\n",
    "    ax3.grid()\n",
    "\n",
    "    plt.tight_layout()\n",
    "    return"
   ]
  },
  {
   "cell_type": "code",
   "execution_count": 6,
   "id": "19279059",
   "metadata": {
    "slideshow": {
     "slide_type": "subslide"
    }
   },
   "outputs": [
    {
     "data": {
      "image/png": "[encoded data removed]",
      "text/plain": [
       "<Figure size 960x720 with 3 Axes>"
      ]
     },
     "metadata": {},
     "output_type": "display_data"
    }
   ],
   "source": [
    "plot_Morin39()"
   ]
  },
  {
   "cell_type": "markdown",
   "id": "f21db3f3",
   "metadata": {
    "slideshow": {
     "slide_type": "skip"
    }
   },
   "source": [
    "### Velocity dependent force $F=F(v)$\n",
    "\n",
    "#### General case \n",
    "\n",
    "We have\n",
    "$$m\\ode{v}t = F(v).$$\n",
    "Using separation of variables we get:\n",
    "$$m\\frac{\\di v}{F(v)}=\\di t \\thrfor m\\int_{v_0}^{v} \\frac{\\di v'}{F(v')} = \\int_{t_0}^{t}\\di t'\n",
    "    \\thrfor t-t_0=m\\int_{v_0}^{v}\\frac{dv}{F(v)}.$$\n",
    "\n",
    "We can't go any further until we know what $F(v)$ is.\n",
    "In principle, this expression gives you $t=t(v)$, which can be inverted to obtain $v=v(t)$.\n",
    "Then you can solve for $x(t)$."
   ]
  },
  {
   "cell_type": "markdown",
   "id": "f82139e6",
   "metadata": {
    "slideshow": {
     "slide_type": "skip"
    }
   },
   "source": [
    "#### Example \n",
    "*(time permitting; work out at home if not)*\n",
    "\n",
    "**Q:** A particle experiences drag, given by $F(v)=-kv$. If it starts at velocity $v_0$, find its subsequent speed.\n",
    "\n",
    "**A:**\n",
    "$$m\\ode{v}{t} = -kv \\thrfor -\\frac{m}{k}\\int_{v_0}^v \\frac{\\di v'}{v'} = \\int_{t_0}^t \\di t'$$\n",
    "$$\\thrfor t-t_0 = -\\frac mk\\left[\\ln(v')\\right]_{v_0}^v \\thrfor t-t_0=-\\frac mk\\ln\\left(\\frac{v}{v_0}\\right),$$\n",
    "(recall that $\\forall a, b >0$, $\\ln a - \\ln b = \\ln(a/b)$ to simplify the expression).  Taking the exponential of both sides and using our initial condition $t_0=0$, $v=v_0$, we get\n",
    "$$v=v_0\\eexp{-kt/m}$$"
   ]
  },
  {
   "cell_type": "markdown",
   "id": "ce732eb1",
   "metadata": {
    "slideshow": {
     "slide_type": "skip"
    }
   },
   "source": [
    "### Position dependent force $F=F(x)$\n",
    "\n",
    "In this case we have\n",
    "$$m\\ode{v}{t}=F(x) \\quad \\text{or in another common form} \\quad   m\\oden2xt = F(x)$$\n",
    "Notice that unlike the other cases, we can't solve this one with separation of variables right away.\n",
    "We will have to do something else.\n",
    "Also, this isn't some strange outlier case, since conservative forces all fall in this category.\n",
    "So, how do we solve it?\n",
    "Answer: by converting it to a form that will allow us to use separation of variables."
   ]
  },
  {
   "cell_type": "markdown",
   "id": "0a7d0934",
   "metadata": {
    "slideshow": {
     "slide_type": "skip"
    }
   },
   "source": [
    "Using the chain rule we can write\n",
    "$$a=\\ode{v}{t} = \\ode{v}{x}\\ode{x}{t} = \\ode{v}{x}v.$$\n",
    "We have essentially removed the variable time from the derivative.\n",
    "By plugging this form of the acceleration into $F=ma$, we get\n",
    "$$mv\\ode{v}{x}=F(x).$$\n",
    "and we can now use separation of variables!\n",
    "\n",
    "$$mv\\di v = F(x)\\di x \\thrfor m\\int_{v_0}^v v'\\di v' = \\int_{x_0}^x F(x')\\di x'$$\n",
    "$$\\thrfor\\frac12 m\\left[v'^2\\right]_{v_0}^v = \\int_{x_0}^x F(x')\\di x' \\thrfor \\frac12 m \\left(v^2 -  v_0^2\\right)= \\int_{x_0}^x F(x')\\di x'.$$\n",
    "You might recognize this as a standard Work/Kinetic energy equation.\n",
    "\n",
    "### Epilogue\n",
    "\n",
    "So, have we considered all possible cases?  No!  We have not considered the case where the force is a function of some combination of these variables.  What about $F=F(x,v)$ or $F=F(v,t)$? These are harder examples that generally can't be solved using separation of variables.  Other methods of solving ODEs can sometimes be used.  Sometimes, there is no known analytic solution!  Luckily, we can (pretty much) always numerically integrate the ODE so get a numerical solution.  We'll see how to do this in the next lecture."
   ]
  },
  {
   "cell_type": "markdown",
   "id": "e912c649",
   "metadata": {
    "slideshow": {
     "slide_type": "slide"
    }
   },
   "source": [
    "# Motion in plane, polar coordinates"
   ]
  },
  {
   "cell_type": "markdown",
   "id": "1094716e",
   "metadata": {
    "slideshow": {
     "slide_type": "skip"
    }
   },
   "source": [
    "... but before that, we need to introduce another tool to describe some mechanical problems: polar coordinates.\n",
    "We will restrict ourselves to motions in planes to keep it simple.\n",
    "\n",
    "\n",
    "Sometimes, Cartesian coordinates $(x, y)$ are awkward.\n",
    "For example, motion is sometimes restricted to circles (wheels, pendulums...) or there is a central symmetry to the problem (e.g., big old star attracting everything in its vicinity).\n",
    "In such cases, it is more useful to define a centre, and then to define the distance $r$ (some prefer to use $\\rho$) to that centre, and the angle $\\theta$ (some prefer to use $\\phi$) with respect to some reference angle. \n",
    "\n",
    "## Definitions\n",
    "\n",
    "Let's introduce: \n",
    "* the coordinate transformation $(x,y)\\rightarrow(r,\\theta)$ (See Morin's fig. 3.7, reproduced below)\n",
    "    \\begin{equation}\n",
    "    (x,y) = r(\\cos\\theta,\\sin\\theta)\n",
    "    \\end{equation}\n",
    "* the transformation of unit vectors $(\\unit \\imath,\\unit\\jmath)\\rightarrow(\\unit r,\\unit\\theta)$ (See Morin's fig. 3.8, also reproduced below)\n",
    "    \\begin{equation}\n",
    "    \\unit r = \\cos\\theta\\unit\\imath  + \\sin\\theta\\unit\\jmath,\\quad \\unit\\theta = -\\sin\\theta\\unit\\imath + \\cos\\theta\\unit\\jmath\n",
    "    \\end{equation}\n",
    "    \n",
    "The directions are called \"radial\" when it comes to $r$ and $\\unit r$ and \"azimuthal\" when it comes to $\\theta$ and $\\unit \\theta$."
   ]
  },
  {
   "cell_type": "markdown",
   "id": "d353b38d",
   "metadata": {
    "cell_style": "split",
    "slideshow": {
     "slide_type": "-"
    }
   },
   "source": [
    "<div>\n",
    "<img src=\"Morin_3_7.png\" width=\"200\"/>\n",
    "</div>"
   ]
  },
  {
   "cell_type": "markdown",
   "id": "419c8cfb",
   "metadata": {
    "cell_style": "split",
    "slideshow": {
     "slide_type": "-"
    }
   },
   "source": [
    "![Morin Fig. 3.8, p. 69](Morin_3_8.png)"
   ]
  },
  {
   "cell_type": "markdown",
   "id": "74e3af1b",
   "metadata": {
    "slideshow": {
     "slide_type": "skip"
    }
   },
   "source": [
    "How does one use $\\Fma$ these new coordinates then? Indeed, velocity and acceleration look different in polar coordinates, let's see how to calculate them. \n",
    "\n",
    "* We keep using the dot notation, namely, $\\dot f = \\odel{f}t$, $\\ddot f= \\odeln{2}ft$."
   ]
  },
  {
   "cell_type": "markdown",
   "id": "fc438171",
   "metadata": {
    "slideshow": {
     "slide_type": "skip"
    }
   },
   "source": [
    "* Unlike Cartesian unit vectors, the radial and azimuthal unit vectors have non-zero time derivatives, namely,\n",
    "    \\begin{align}\n",
    "    \\dot{\\unit r} & = -\\dot\\theta \\sin\\theta\\unit\\imath + \\dot\\theta\\cos\\theta\\unit\\jmath = \\dot\\theta \\unit \\theta\\\\\n",
    "    \\text{and likewise,}\\quad\\dot{\\unit\\theta} & = -\\dot\\theta\\unit r.\n",
    "    \\end{align}\n",
    "* Now the position vector is $$\\vec r = x\\unit\\imath+y\\unit\\jmath=r\\unit r.$$\n",
    "* The velocity is\n",
    "    \\begin{equation}\n",
    "    \\vec v = \\dot{\\vec r}=\\dot r\\unit r + r\\dot {\\unit r}=\\dot r\\unit r+r\\dot\\theta\\unit\\theta\n",
    "    \\end{equation}\n",
    "    Thus, the radial component of the velocity is $\\dot r$ and the azimuthal component of the velocity is $r\\dot\\theta$.\n",
    "* Now the acceleration:\n",
    "    \\begin{align}\n",
    "        \\vec a = \\ddot{\\vec r} & = \\ddot r\\unit r + \\dot r\\dot{\\unit r} + \\dot r\\dot\\theta\\unit\\theta + r\\ddot\\theta\\unit\\theta + r\\dot\\theta\\dot{\\unit\\theta}\\nonumber \\\\\n",
    "               & = \\bigl(\\ddot r-r\\dot\\theta^2\\bigr)\\unit r + \\bigl(2\\dot r\\dot\\theta+r\\ddot\\theta\\bigr)\\unit\\theta\n",
    "    \\end{align}\n",
    "* Now, Newton's second law is $\\Fma$.\n",
    "    Expressing $\\vec F = F_r\\unit r + F_\\theta\\unit \\theta$, we find\n",
    "    \\begin{align}\n",
    "    F_r & = m\\bigl(\\ddot r -r\\dot \\theta^2\\bigr), \\label{eq:Fr}\\\\ \n",
    "    F_\\theta & = m \\bigl(2\\dot r \\dot \\theta + r\\ddot\\theta\\bigr).  \\label{eq:Ft}\n",
    "    \\end{align}"
   ]
  },
  {
   "cell_type": "markdown",
   "id": "5949be9e",
   "metadata": {
    "slideshow": {
     "slide_type": "skip"
    }
   },
   "source": [
    "## Examples"
   ]
  },
  {
   "cell_type": "markdown",
   "id": "d1374712",
   "metadata": {
    "slideshow": {
     "slide_type": "skip"
    }
   },
   "source": [
    "### First example\n",
    "\n",
    "> Find the radius of orbit $r$ of a planet in uniform circular motion around the sun under the influence of gravity with $F_r = -GMm/r^2$, if the period is one year.\n",
    "\n",
    "**Answer:** In this case, $\\dot r= 0$, $\\dot\\theta=\\omega=2\\pi/(365.25\\times24\\times3600)$, $\\ddot r = 0$, $F_\\theta=0$. So,\n",
    "\\begin{equation}\n",
    "-\\frac{GMm}{r^2}=-mr\\omega^2\\Rightarrow r=\\left(\\frac{GM}{\\omega^2}\\right)^{1/3}.\n",
    "\\end{equation}"
   ]
  },
  {
   "cell_type": "code",
   "execution_count": 7,
   "id": "71d78ecc",
   "metadata": {
    "scrolled": true,
    "slideshow": {
     "slide_type": "fragment"
    }
   },
   "outputs": [],
   "source": [
    "from astropy.constants import G, M_sun\n",
    "# Do the math in Python..."
   ]
  },
  {
   "cell_type": "markdown",
   "id": "6f0103f7",
   "metadata": {
    "slideshow": {
     "slide_type": "fragment"
    }
   },
   "source": [
    "Barring typing errors, the answer should be $\\approx 1.5\\times 10^8$ km."
   ]
  },
  {
   "cell_type": "markdown",
   "id": "17d52ade",
   "metadata": {
    "slideshow": {
     "slide_type": "skip"
    }
   },
   "source": [
    "### Morin p. 75, Problem 3.23\n",
    "    \n",
    "*Note: we might not have time to do it in class, in which case I urge you to to it at home, and I will answer question at the beginning of the next lecture.*\n",
    "\n",
    "> Consider a particle that feels an angular force only, of the form $F_{\\theta} = m\\dot{r}\\dot{\\theta}$.\n",
    "Show that $\\dot{r}=\\sqrt{A\\ln r + B}$, where $A$ and $B$ are constants of integration, determined by initial conditions.\n",
    "\n",
    "**Answer:**  Applying force equations (\\ref{eq:Fr}-\\ref{eq:Ft}), we get\n",
    "\\begin{align}\n",
    "0 & = m(\\ddot{r}-r\\dot{\\theta}^2) \\andeq \\label{eq:Fr:ex}\\\\\n",
    "m\\dot{r}\\dot{\\theta} & = m(r\\ddot{\\theta}+2\\dot{r}\\dot{\\theta}). \\label{eq:Ft:ex}\n",
    "\\end{align}\n",
    "If you start fidgeting with both equations you might stumble upon the answer eventually, but is there a more systematic way?  Probably.  Here's one possibility. Choose one of the equations, identify the type of ODE as we did earlier in this lecture and integrate it.  In this example, things may seem stranger because of all the dots over variables, but $\\dot{r}$ is still a velocity and can be treated as such.  Let's start with the second equation, eq. \\eqref{eq:Ft:ex}.  Simplifying it a bit gives\n",
    "$$-\\dot{r}\\dot{\\theta} = r\\ddot{\\theta}.$$\n",
    "Separating the variables gives\n",
    "$$-\\frac{\\dot{r}}{r} = \\frac{\\ddot{\\theta}}{\\dot{\\theta}}.$$\n",
    "\n",
    "Both sides are a derivative over a variable.  Substituting $\\omega = \\dot{\\theta}$, we can write\n",
    "$$-\\frac{\\dot{r}}{r} = \\frac{\\dot{\\omega}}{\\omega} \\oreq \\frac{1}{r}\\ode{r}{t} = -\\frac{1}{\\omega} \\ode{\\omega}{t}.$$\n",
    "\n",
    "We can integrate in time. Note that the way the question is written implicitly assumes that we know the initial conditions. He couldn't be bothered to introduce notations, nor should he have been, because it's just an example and we are grown ups who can come up with our own. So, let's introduce the initial radius $r_0$ and angular velocity $\\omega_0$. An alternative would be to not be bothered ourselves and use indefinite integrals, i.e., the kinds of integrals where we don't write the bounds. Either option is fine.\n",
    "    \n",
    "So, multiplying both sides by $\\di t$ and integrating both sides from the initial conditions gives\n",
    "$$\\int_{r_0}^r \\frac{\\di r'}{r'} = -\\int_{\\omega_0}^\\omega\\frac{\\di\\omega'}{\\omega'}   \\thrfor \\ln\n",
    "\\left(\\frac{r}{r_0}\\right) = - \\ln\\left(\\frac{\\omega}{\\omega_0}\\right) = \\ln\\left(\\frac{\\omega_0}{\\omega}\\right).$$\n",
    "\n",
    "We can take the exponential of both sides and get\n",
    "$$r = \\frac{r_0\\omega_0}{\\omega} = \\frac{r_0\\omega_0}{\\dot\\theta} \\thrfor \\dot{\\theta}=\\frac{r_0\\omega_0}{r}.$$\n",
    "    \n",
    "Now we can use equation \\eqref{eq:Fr:ex}, which was starting to feel left out:\n",
    "\\begin{equation}\n",
    "\\ddot{r} = r\\dot{\\theta}^2 = r \\left(\\frac{r_0\\omega_0}{r}\\right)^2 = \\frac{r_0^2\\omega_0^2}{r}.\\label{eq:left_out}\n",
    "\\end{equation}\n",
    "\n",
    "To solve this equation we notice that it is similar in form to the ODEs where the force was dependent on position (remember $m\\ddot{x} = F(x)$).   Notice how like earlier, the second derivative of position $\\ddot{r}$ is a function of position $r$.  In order to solve this equation we therefore have to apply the same trick of eliminating time from the problem.  Remember that $\\dot{r} = v_r$. Using the chain rule we get\n",
    "$$\\ddot{r} = \\ode{v_r}{t} = \\ode{v_r}{r}\\ode{r}{t} = v_r\\ode{v_r}{r}.$$\n",
    "\n",
    "Substituting this into Eq. \\eqref{eq:left_out}, introducing $v_r(t=0) = v_{r0}$, and separating variables gives\n",
    "\\begin{equation}\n",
    "v_r\\di v_r = r_0^2\\omega_0^2\\frac{\\di r}{r} \\thrfor \\int_{v_{r0}}^{v_r}  v_r'\\di v_r' = r_0^2\\omega_0^2\\int_{r_0}^r \\frac{\\di r'}{r'}  \\thrfor \\frac{1}{2}\\left(v_r^2 - v_{r0}^2\\right) = r_0^2\\omega_0^2 \\ln \\left(\\frac{r}{r_0}\\right)\n",
    "\\end{equation}\n",
    "\n",
    "Now, remembering that $v_r=\\dot{r}$, we can substitute back in and solve for $\\dot{r}$ to get\n",
    "$$\\boxed{\\dot{r} = \\sqrt{A\\ln r + B}},$$\n",
    "with $A = 2r_0^2\\omega_0^2$ and $B = v_{r0}^2 - A\\ln r_0$, as requested.\n",
    "\n",
    "*Note:  The key to this problem was not to be confused by all the dots.  Always remember to try to relate back to one of the ODE forms from the last section of this lecture.  That will tell you how to get to the point where you can separate the variables and integrate.*\n",
    "    \n",
    "*Note #2: Maybe I am being too ana... particular, but dimensional arguments of mathematical functions are bad etiquette. Looking at you, $\\ln r$, which should be $ln(r/r_0)$. Same goes for $\\exp$, $\\sin$, $\\cos$... Always using non-dimensional arguments also makes it a lot easier to check the units of your expressions, which then prevents avoidable mistakes during exams.*"
   ]
  },
  {
   "cell_type": "code",
   "execution_count": 8,
   "id": "62302e61",
   "metadata": {
    "slideshow": {
     "slide_type": "subslide"
    }
   },
   "outputs": [],
   "source": [
    "r0, omega0, vr0 = 1., 10., 0.5  # why not\n",
    "A = 2*(r0*omega0)**2\n",
    "B = vr0**2 - A*np.log(r0)\n",
    "r = np.linspace(r0, 10*r0, 128)  # 128 values between r0 and 10*r0\n",
    "dotr = (A*np.log(r) + B)**.5"
   ]
  },
  {
   "cell_type": "code",
   "execution_count": 11,
   "id": "1551f507",
   "metadata": {
    "scrolled": false,
    "slideshow": {
     "slide_type": "subslide"
    }
   },
   "outputs": [
    {
     "data": {
      "text/plain": [
       "Text(0, 0.5, '$\\\\dot r/v_{r0}$')"
      ]
     },
     "execution_count": 11,
     "metadata": {},
     "output_type": "execute_result"
    },
    {
     "data": {
      "image/png": "[encoded data removed]",
      "text/plain": [
       "<Figure size 960x720 with 1 Axes>"
      ]
     },
     "metadata": {},
     "output_type": "display_data"
    }
   ],
   "source": [
    "plt.plot(r/r0, dotr/vr0)\n",
    "plt.grid()\n",
    "plt.xlabel('$r/r_0$')  # alway put units on your axes. Here, r0 is the unit\n",
    "plt.ylabel('$\\dot r/v_{r0}$')  # idem"
   ]
  },
  {
   "cell_type": "markdown",
   "id": "4a6cd138",
   "metadata": {
    "slideshow": {
     "slide_type": "skip"
    }
   },
   "source": [
    "### Suggested example: Morin p. 70\n",
    "\n",
    "We definitely won't have time to see it in class, but it is a good one and I recommend you study it."
   ]
  }
 ],
 "metadata": {
  "celltoolbar": "Diaporama",
  "kernelspec": {
   "display_name": "Python 3 (ipykernel)",
   "language": "python",
   "name": "python3"
  },
  "language_info": {
   "codemirror_mode": {
    "name": "ipython",
    "version": 3
   },
   "file_extension": ".py",
   "mimetype": "text/x-python",
   "name": "python",
   "nbconvert_exporter": "python",
   "pygments_lexer": "ipython3",
   "version": "3.11.3"
  },
  "latex_metadata": {
   "affiliation": "University of Toronto, Department of Physics",
   "author": "Nicolas Grisouard, nicolas.grisouard@utoronto.ca",
   "date": "6 July 2021",
   "title": "PHY254H1-SUM Lecture 01\\ **F**=m**a** problems"
  }
 },
 "nbformat": 4,
 "nbformat_minor": 5
}
