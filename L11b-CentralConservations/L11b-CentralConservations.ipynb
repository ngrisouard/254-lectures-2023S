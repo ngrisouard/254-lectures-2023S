{
 "cells": [
  {
   "cell_type": "raw",
   "id": "fda65ebf",
   "metadata": {},
   "source": [
    "\\DefineVerbatimEnvironment{Verbatim}{Verbatim}{fontsize=\\scriptsize}\n",
    "\n",
    "\\newcommand{\\bnabla}{\\boldsymbol{\\nabla}}\n",
    "\\newcommand{\\eexp}[1]{\\text{e}^{#1}}\n",
    "\\newcommand{\\di}[0]{\\text{d}}\n",
    "\\newcommand{\\bs}[1]{\\boldsymbol{#1}}\n",
    "\\newcommand{\\ode}[2]{\\frac{\\di {#1}}{\\di {#2}}}\n",
    "\\newcommand{\\oden}[3]{\\frac{\\di^{#1} {#2}}{\\di {#3}^{#1}}}\n",
    "\\newcommand{\\odel}[2]{\\di {#1}/\\di {#2}}\n",
    "\\newcommand{\\odeln}[3]{\\di^{#1} {#2}/\\di {#3}^{#1}}\n",
    "\\newcommand{\\pde}[2]{\\frac{\\partial {#1}}{\\partial {#2}}}\n",
    "\\newcommand{\\pden}[3]{\\frac{\\partial^{#1} {#2}}{\\partial {#3}^{#1}}}\n",
    "\\newcommand{\\pdel}[2]{\\partial_{#2} {#1}}\n",
    "\\newcommand{\\pdenl}[3]{\\partial^{#1}_{#3} {#2}}\n",
    "\\newcommand{\\divr}[1]{\\vec\\nabla \\cdot {#1}}\n",
    "\\newcommand{\\divrb}[1]{\\boldsymbol{\\nabla} \\cdot {#1}}\n",
    "\\newcommand{\\grad}[1]{\\vec \\nabla {#1}}\n",
    "\\newcommand{\\gradb}[1]{\\boldsymbol\\nabla {#1}}\n",
    "\\newcommand{\\curl}[1]{\\vec\\nabla \\times {#1}}\n",
    "\\newcommand{\\curlb}[1]{\\boldsymbol{\\nabla}\\times\\boldsymbol{#1}}\n",
    "\\newcommand{\\lapl}[0]{\\vec\\nabla^2}\n",
    "\\newcommand{\\laplb}[0]{\\boldsymbol{\\nabla}^2}\n",
    "\\newcommand{\\ci}[0]{\\text{i}}\n",
    "\\newcommand{\\unit}[1]{\\boldsymbol{\\hat{#1}}}\n",
    "\\newcommand{\\red}[1]{\\textcolor{red}{#1}}\n",
    "\\newcommand{\\blue}[1]{\\textcolor{blue}{#1}}\n",
    "\\newcommand{\\mage}[1]{\\textcolor{magenta}{#1}}\n",
    "\\newcommand{\\with}[0]{\\quad\\text{with}\\quad}\n",
    "\\newcommand{\\thrfor}[0]{\\quad\\Rightarrow\\quad}\n",
    "\\newcommand{\\andeq}[0]{\\quad\\text{and}\\quad}\n",
    "\\newcommand{\\oreq}[0]{\\quad\\text{or}\\quad}\n",
    "\\newcommand{\\stirling}[2]{\\genfrac{[}{]}{0pt}{}{#1}{#2}}"
   ]
  },
  {
   "cell_type": "markdown",
   "id": "49e238d8",
   "metadata": {},
   "source": [
    "$\\newcommand{\\bnabla}{\\boldsymbol{\\nabla}}$\n",
    "$\\newcommand{\\eexp}[1]{\\text{e}^{#1}}$\n",
    "$\\newcommand{\\di}[0]{\\text{d}}$\n",
    "$\\newcommand{\\bs}[1]{\\boldsymbol{#1}}$\n",
    "$\\newcommand{\\ode}[2]{\\frac{\\di {#1}}{\\di {#2}}}$\n",
    "$\\newcommand{\\oden}[3]{\\frac{\\di^{#1} {#2}}{\\di {#3}^{#1}}}$\n",
    "$\\newcommand{\\odel}[2]{\\di {#1}/\\di {#2}}$\n",
    "$\\newcommand{\\odeln}[3]{\\di^{#1} {#2}/\\di {#3}^{#1}}$\n",
    "$\\newcommand{\\pde}[2]{\\frac{\\partial {#1}}{\\partial {#2}}}$\n",
    "$\\newcommand{\\pden}[3]{\\frac{\\partial^{#1} {#2}}{\\partial {#3}^{#1}}}$\n",
    "$\\newcommand{\\pdel}[2]{\\partial_{#2} {#1}}$\n",
    "$\\newcommand{\\pdenl}[3]{\\partial^{#1}_{#3} {#2}}$\n",
    "$\\newcommand{\\divr}[1]{\\vec\\nabla \\cdot {#1}}$\n",
    "$\\newcommand{\\divrb}[1]{\\boldsymbol{\\nabla} \\cdot {#1}}$\n",
    "$\\newcommand{\\grad}[1]{\\vec \\nabla {#1}}$\n",
    "$\\newcommand{\\gradb}[1]{\\boldsymbol\\nabla {#1}}$\n",
    "$\\newcommand{\\curl}[1]{\\vec\\nabla \\times {#1}}$\n",
    "$\\newcommand{\\curlb}[1]{\\boldsymbol{\\nabla}\\times\\boldsymbol{#1}}$\n",
    "$\\newcommand{\\lapl}[0]{\\vec\\nabla^2}$\n",
    "$\\newcommand{\\laplb}[0]{\\boldsymbol{\\nabla}^2}$\n",
    "$\\newcommand{\\ci}[0]{\\text{i}}$\n",
    "$\\newcommand{\\unit}[1]{\\boldsymbol{\\hat{#1}}}$\n",
    "$\\newcommand{\\thrfor}[0]{\\quad\\Rightarrow\\quad}$\n",
    "$\\newcommand{\\red}[1]{\\textcolor{red}{#1}}$\n",
    "$\\newcommand{\\blue}[1]{\\textcolor{blue}{#1}}$\n",
    "$\\newcommand{\\mage}[1]{\\textcolor{magenta}{#1}}$\n",
    "$\\newcommand{\\with}[0]{\\quad\\text{with}\\quad}$\n",
    "$\\newcommand{\\thrfor}[0]{\\quad\\Rightarrow\\quad}$\n",
    "$\\newcommand{\\andeq}[0]{\\quad\\text{and}\\quad}$\n",
    "$\\newcommand{\\oreq}[0]{\\quad\\text{or}\\quad}$\n",
    "$\\newcommand{\\stirling}[2]{\\genfrac{[}{]}{0pt}{}{#1}{#2}}$"
   ]
  },
  {
   "cell_type": "code",
   "execution_count": 1,
   "id": "0e082584",
   "metadata": {},
   "outputs": [],
   "source": [
    "from IPython.display import Image, display, YouTubeVideo, HTML, Video\n",
    "import numpy as np\n",
    "import matplotlib.pyplot as plt\n",
    "from matplotlib import interactive, rcParams, animation\n",
    "from ipywidgets import interact, FloatSlider, fixed, IntSlider\n",
    "from scipy.constants import pi  # otherwise it's too annoying to type np.pi\n",
    "interactive(True)\n",
    "rcParams['figure.dpi'] = 150  # for crisper figures later"
   ]
  },
  {
   "cell_type": "markdown",
   "id": "05f0cbcc",
   "metadata": {},
   "source": [
    "*Readings:*\n",
    "\n",
    "* *Morin 7.1*"
   ]
  },
  {
   "cell_type": "markdown",
   "id": "6df8e4f7",
   "metadata": {},
   "source": [
    "# Expectations\n",
    "\n",
    "## Remember\n",
    "\n",
    "* A central force is one that only depends on $r$, and points radially: $\\vec F = F(r)\\unit r$.\n",
    "* Central forces are conservative. Their potential only depend on $r$.\n",
    "* The definition of the angular momentum: $\\vec L = \\vec r \\times \\vec p$, where $\\vec p = m\\vec v$ is the momentum.\n",
    "* The angular momentum is conserved when only central forces are present.\n",
    "* When angular momentum is conserved, the motion stays in a plane.\n",
    "\n",
    "## Understand\n",
    "\n",
    "* How all derivations work.\n",
    "\n",
    "## Create and apply\n",
    "\n",
    "* There are many formulas in this chapter. You don't have to remember any of them, but you should know how to use them.\n",
    "* Problems and exercises."
   ]
  },
  {
   "cell_type": "markdown",
   "id": "0f1d6964",
   "metadata": {},
   "source": [
    "# Introduction\n",
    "\n",
    "A central force (CF) points radially from origin and depends only on the distance from it $r=|\\vec r|$.\n",
    "That is, a force $\\vec F$ is is said to be central if \n",
    "$$\\vec F = F(r)\\unit{r}.$$\n",
    "Equivalently, we can define a central force as one whose potential only depends on $r$, but we need to discuss why such a force would be conservative first.\n",
    "\n",
    "CF equations are relevant to a very large class of problems, for example planetary motion about a large star, scattering problems involving interactions between two particles.\n",
    "Morin derives the central force equation of motion from Lagrangian formalism, but this isn't necessary.\n",
    "We will first consider conservation of energy in 3D, and then focus on the central force case."
   ]
  },
  {
   "cell_type": "markdown",
   "id": "01697840",
   "metadata": {},
   "source": [
    "# Central forces conserve energy"
   ]
  },
  {
   "cell_type": "markdown",
   "id": "ed58061c",
   "metadata": {},
   "source": [
    "## Potential energy of a central force\n",
    "\n",
    "Recall from lecture 6 what we mean by \"a force conserves energy\": we mean that we can define a potential energy associated with that force that can store or release energy.\n",
    "It does not mean that energy is conserved, because it does not preclude the existence of other forces such as friction that aren't conservative.\n",
    "\n",
    "In lecture 6, we introduced the two necessary and sufficient conditions for a force to be conservative:\n",
    "\n",
    "1. That the force only depends on position $\\vec r$, not time or velocity: $\\vec F = \\vec F(\\vec r)$.\n",
    "2. That the force can be expressed as the gradient of a potential: $\\vec F = -\\grad{U}$.\n",
    "\n",
    "In the last expression, the minus sign is necessary to say things like \"$E = K+U$\" or \"Equilibrium points are at the bottom of potential wells\" whenever appropriate. (We'd need to flip all signs otherwise.)\n",
    "\n",
    "We recall that in Cartesian coordinates,\n",
    "$$\\grad{f} = \\pde{f}x \\unit x + \\pde{f}y \\unit y + \\pde{f}z \\unit z,$$\n",
    "and in less dimensions, you can ignore appropriate terms.\n",
    "    For example, if the motion happens in the $(x, z)$ plane, you can write $\\grad{f} = (\\partial f/\\partial x)\\unit x + (\\partial f/\\partial z) \\unit z$.\n",
    "In polar coordinates, the gradient of a function $f(r)$ is\n",
    "$$\\grad{f} = \\pde{}{r}\\unit r + \\frac1r\\pde{}\\theta \\unit \\theta.$$\n",
    "So, if the force is central, there is no $\\theta$-dependence and and $\\grad{f} = (\\odel{f}r)\\unit r$.\n",
    "Defining $U(r)$ such that\n",
    "$$F(r) = -\\ode{U}r,$$\n",
    "we have our potential energy. We can then say that **all central forces are conservative**.\n",
    "\n",
    "Even though we will study motion happening on a 2D plane (think orbits), we are in the 1D case that we focused on in lecture 6 because of the \"central\" character of $\\vec F$."
   ]
  },
  {
   "cell_type": "markdown",
   "id": "c38e3b8e",
   "metadata": {},
   "source": [
    "***\n",
    "\n",
    "*I will stray away from PHY254 material for a minute to discuss something you might be puzzled about: if you don't pay attention, what I wrote is kind of trivial, so, why spend the effort? You are not responsible for this part, but it might help you understand the discussion we just had.\n",
    "If you haven't already, you may see in PHY250 and/or the accompanying MAT course that any vector field $\\vec V$ can be written as*\n",
    "$$\\vec V = -\\grad U + \\curl{\\vec A},$$\n",
    "*where $U$ is a scalar potential (up to a scalar) and $\\vec A$ is a vector potential (up to a gradient).\n",
    "This is called the Helmholtz decomposition of $\\vec V$.*\n",
    "\n",
    "*So, the problem I was tiptoeing around was that if $\\curl{\\vec A}\\neq 0$, we can't say that the force is conservative.\n",
    "The little derivation above should be sufficient to prove it, but if you want to convince yourself that the curl part is zero, here goes.\n",
    "In polar coordinates, writing $\\vec A(r, \\theta) = A_r(r, \\theta)\\unit r + A_\\theta(r, \\theta)\\unit \\theta$, the curl is*\n",
    "$$\\curl{\\vec A} = \\left(\\frac1r \\pde{(r A_\\theta)}r - \\pde{A_r}\\theta\\right)\\unit z,$$\n",
    "*where $\\unit z$ is the unit vector pointing out of the $(r, \\theta)$ plane such that $(\\unit r, \\unit \\theta, \\unit z)$ forms a right-handed coordinate system.*\n",
    "*Now, if $\\vec V$ is our central force $\\vec F = F(r)\\unit r$ in the above, the first term is zero.\n",
    "We don't know what $A_\\theta$ is, but there is nothing that could break an azimuthal symmetry, so, it must be that $A_\\theta =0$.*\n",
    "*And if there is no $\\theta$-dependence for $\\vec F$, there is also no reason for $A_r$ to depend on $\\theta$.\n",
    "Therefore, the second term of the curl is also zero.*\n",
    "\n",
    "*An equivalent way to show that the curl part is zero is to prove that $\\curl{\\vec V} = 0$, for reasons that you will see in PHY250... I don't mean to be glib, but it takes the better part of a PHY250 lecture to discuss and understand the equivalence, so, I will leave it at that in this (already too detailed) discussion. In any case, it's very easy to show that $\\curl{\\left[V_r(r)\\unit r\\right]} = 0$ if you feel like it.*\n",
    "\n",
    "*In 3D, we would need to do the same reasoning as above but on the three components of the curl in spherical coordinates. We would find the same result for the same reasons, however. So, in conclusion, if a force is central, then $\\curl{\\vec A} = 0 = \\curl{\\vec F}$, and the force is conservative.*\n",
    "\n",
    "*In PHY250, the $\\vec A$ you encounter is associated with the Lorentz magnetic force $q\\vec v\\times \\vec B$, but (1) that force depends on velocity, not position, and (2) because $\\vec B$ \"orients\" its perpendicular plane with the right-hand rule, there is symmetry breaking indeed.*\n",
    "\n",
    "***"
   ]
  },
  {
   "cell_type": "markdown",
   "id": "32f5bf09",
   "metadata": {},
   "source": [
    "The potential energy also only depends on $r$, and we calculate it by integrating $F$ between a reference radius $r_0$ and our radius $r$:\n",
    "\\begin{align*}\n",
    "U(r) - U_0 & = -\\int_{r_0}^{r} F(r') \\di r',\n",
    "\\end{align*}\n",
    "with $U_0 = U(r=r_0)$.\n",
    "$U_0$ is as arbitrary as $r_0$ is, but in practice, we try to find a $r_0$ such that $U_0 = 0$."
   ]
  },
  {
   "cell_type": "markdown",
   "id": "2b920c22",
   "metadata": {},
   "source": [
    "**Example:** Gravitational force between two masses $M$ and $m$:\n",
    "$$\\vec F = -\\frac{GMm}{r^2} \\unit r \\thrfor U(r) - U_0 = GMm\\int_{r_0}^r \\frac{\\di r'}{{r'}^2} = GMm\\left(\\frac{1}{r_0} - \\frac1{r}\\right).$$\n",
    "If we choose $r_0 \\to \\infty$ and $U_0 = 0$, we have the much more convenient expression $U(r) = -GMm/r$.\n",
    "\n",
    "**Example:** any 1D force that depends only on position, like the spring force, is central. We choose $r_0$ as the equilibrium point."
   ]
  },
  {
   "cell_type": "markdown",
   "id": "b494c41f",
   "metadata": {},
   "source": [
    "## Rate of change of the mechanical energy\n",
    "\n",
    "This is more of an illustration of the same statement about conservation of energy.\n",
    "\n",
    "So, the force might be pointing radially, but the motion could still happen in any of the three dimensions (think orbits).\n",
    "For motion in 3D, kinetic energy (KE) is\n",
    "$$K = \\frac12 mv^2= \\frac12 m\\vec v\\cdot \\vec v,$$\n",
    "where $\\vec v = (\\dot x, \\dot y, \\dot z)$.\n",
    "The rate of change of KE is\n",
    "$$\\dot K = \\ode{}t \\left(\\frac12 m\\vec v \\cdot \\vec v \\right) = \\frac m2\\left(\\dot{\\vec v} \\cdot \\vec v + \\vec v \\cdot \\dot{\\vec v}\\right) = \\ode{(m\\vec v)}t \\cdot \\vec v = \\vec F\\cdot\\vec v,$$\n",
    "by Newton's second law, and this is true for any force, central or not."
   ]
  },
  {
   "cell_type": "markdown",
   "id": "f2325188",
   "metadata": {},
   "source": [
    "Also for a general force, the rate of change of potential energy following a particle is\n",
    "$$\\dot U = \\ode{U(\\vec r)}t = \\pde{U}x \\dot x + \\pde{U}y \\dot y + \\pde{U}z \\dot z = \\vec v \\cdot \\grad U.$$\n",
    "\n",
    "In the case of a conservative force where $\\grad U = -\\vec F$, we have\n",
    "$$\\dot U = -\\vec F \\cdot \\vec v = -\\dot K \\thrfor \\boxed{\\dot E = 0},$$\n",
    "where\n",
    "$$E=\\frac12 mv^2+U(\\vec r).$$\n",
    "This is true for any conservative force, and therefore for the special case of central forces."
   ]
  },
  {
   "cell_type": "markdown",
   "id": "fb5691b0",
   "metadata": {},
   "source": [
    "# Central forces conserve angular momentum\n",
    "\n",
    "Let us introduce the angular momentum of a particle of mass $m$ in a central field, \n",
    "$$\\vec L = \\vec r \\times \\vec p,$$\n",
    "where $\\vec p = m\\vec v$ is the momentum of the particle."
   ]
  },
  {
   "cell_type": "code",
   "execution_count": 2,
   "id": "5d0448d7",
   "metadata": {
    "cell_style": "split"
   },
   "outputs": [
    {
     "data": {
      "text/html": [
       "<img src=\"08-central2.png\" width=\"300\">\n"
      ],
      "text/plain": [
       "<IPython.core.display.HTML object>"
      ]
     },
     "metadata": {},
     "output_type": "display_data"
    }
   ],
   "source": [
    "%%html\n",
    "<img src=\"08-central2.png\" width=\"300\">"
   ]
  },
  {
   "cell_type": "markdown",
   "id": "4b0985f8",
   "metadata": {},
   "source": [
    "$\\vec L$ has some useful properties, some of which we now list and demonstrate.\n",
    "\n",
    "## If a particle is subjected to a central force only, $\\vec L$ is conserved\n",
    "\n",
    "Indeed,\n",
    "$$\\dot L=\\dot{\\vec r}\\times\\vec p + \\vec r\\times\\dot{\\vec p}=\\vec v\\times (m\\vec v) + \\vec r \\times \\vec F=0,$$\n",
    "where we used $\\dot {\\vec p} = \\vec F$ and the fact that $\\vec F \\parallel \\vec r$ if the force is central.\n",
    "Indeed, recall that if two vectors $\\vec v_1$ and $\\vec v_2$ are parallel, which is the case for both terms in the equation above, then $\\vec v_1 \\times \\vec v_2 = 0$.\n",
    "\n",
    "The vectors $\\vec r$ and $\\vec p$ are both in the plane of motion, by construction/definition.\n",
    "By construction, $\\vec L \\perp \\vec r, \\vec p$ and so $\\vec L$ is perpendicular to the plane of motion."
   ]
  },
  {
   "cell_type": "markdown",
   "id": "bdd9e9e5",
   "metadata": {},
   "source": [
    "## If $\\vec L$ is conserved, the plane of motion is fixed\n",
    "\n",
    "This makes sense intuitively: once a particle starts in a particular plane of motion, there is no component of force to kick it out of that plane.\n",
    "In other words, if the particle were to deviate from its initial plane of motion, in which direction would it go? Would it go above the plane, or would it go below it?\n",
    "We can't even define what is above and below because there is nothing to break that symmetry.\n",
    "\n",
    "If the plane of motion is fixed, we can define polar coordinates in the plane of motion. See figure above for a sketch, and let the third dimension be carried by $\\unit z = \\unit r \\times \\unit \\theta$.\n",
    "We can then define $L$ such that $\\vec L = L\\unit z$."
   ]
  },
  {
   "cell_type": "markdown",
   "id": "f8ea6649",
   "metadata": {},
   "source": [
    "# Summary\n",
    "\n",
    "And that's it for this tidbit of lecture! The main thing to remember are two two conservation laws, and especially the new one, that of conservation of angular momentum.\n",
    "As we will see in the next lecture, it links many seemingly disparate quantities together and therefore drastically reduces the dimensionality of central force problems, which makes them "
   ]
  }
 ],
 "metadata": {
  "kernelspec": {
   "display_name": "Python 3 (ipykernel)",
   "language": "python",
   "name": "python3"
  },
  "language_info": {
   "codemirror_mode": {
    "name": "ipython",
    "version": 3
   },
   "file_extension": ".py",
   "mimetype": "text/x-python",
   "name": "python",
   "nbconvert_exporter": "python",
   "pygments_lexer": "ipython3",
   "version": "3.8.16"
  }
 },
 "nbformat": 4,
 "nbformat_minor": 5
}
