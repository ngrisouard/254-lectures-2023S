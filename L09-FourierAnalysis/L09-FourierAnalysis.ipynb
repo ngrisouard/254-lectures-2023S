{
 "cells": [
  {
   "cell_type": "raw",
   "metadata": {
    "raw_mimetype": "text/latex",
    "slideshow": {
     "slide_type": "skip"
    }
   },
   "source": [
    "\\DefineVerbatimEnvironment{Verbatim}{Verbatim}{fontsize=\\scriptsize}\n",
    "\n",
    "\\newcommand{\\bnabla}{\\boldsymbol{\\nabla}}\n",
    "\\newcommand{\\eexp}[1]{\\text{e}^{#1}}\n",
    "\\newcommand{\\di}[0]{\\,\\text{d}}\n",
    "\\newcommand{\\bs}[1]{\\boldsymbol{#1}}\n",
    "\\newcommand{\\ode}[2]{\\frac{\\di {#1}}{\\di {#2}}}\n",
    "\\newcommand{\\oden}[3]{\\frac{\\di^{#1} {#2}}{\\di {#3}^{#1}}}\n",
    "\\newcommand{\\odel}[2]{\\di {#1}/\\di {#2}}\n",
    "\\newcommand{\\odeln}[3]{\\di^{#1} {#2}/\\di {#3}^{#1}}\n",
    "\\newcommand{\\pde}[2]{\\frac{\\partial {#1}}{\\partial {#2}}}\n",
    "\\newcommand{\\pden}[3]{\\frac{\\partial^{#1} {#2}}{\\partial {#3}^{#1}}}\n",
    "\\newcommand{\\pdel}[2]{\\partial_{#2} {#1}}\n",
    "\\newcommand{\\pdenl}[3]{\\partial^{#1}_{#3} {#2}}\n",
    "\\newcommand{\\divr}[1]{\\vec\\nabla \\cdot {#1}}\n",
    "\\newcommand{\\divrb}[1]{\\boldsymbol{\\nabla} \\cdot {#1}}\n",
    "\\newcommand{\\grad}[1]{\\vec \\nabla {#1}}\n",
    "\\newcommand{\\gradb}[1]{\\boldsymbol\\nabla {#1}}\n",
    "\\newcommand{\\curl}[1]{\\vec\\nabla \\times {#1}}\n",
    "\\newcommand{\\curlb}[1]{\\boldsymbol{\\nabla}\\times\\boldsymbol{#1}}\n",
    "\\newcommand{\\lapl}[0]{\\vec\\nabla^2}\n",
    "\\newcommand{\\laplb}[0]{\\boldsymbol{\\nabla}^2}\n",
    "\\newcommand{\\ci}[0]{\\text{i}}\n",
    "\\newcommand{\\unit}[1]{\\boldsymbol{\\hat{#1}}}\n",
    "\\newcommand{\\red}[1]{\\textcolor{red}{#1}}\n",
    "\\newcommand{\\blue}[1]{\\textcolor{blue}{#1}}\n",
    "\\newcommand{\\mage}[1]{\\textcolor{magenta}{#1}}\n",
    "\\newcommand{\\with}[0]{\\quad\\text{with}\\quad}\n",
    "\\newcommand{\\thrfor}[0]{\\quad\\Rightarrow\\quad}\n",
    "\\newcommand{\\andeq}[0]{\\quad\\text{and}\\quad}\n",
    "\\newcommand{\\oreq}[0]{\\quad\\text{or}\\quad}\n",
    "\\newcommand{\\stirling}[2]{\\genfrac{[}{]}{0pt}{}{#1}{#2}}"
   ]
  },
  {
   "cell_type": "markdown",
   "metadata": {
    "slideshow": {
     "slide_type": "skip"
    }
   },
   "source": [
    "$\\newcommand{\\bnabla}{\\boldsymbol{\\nabla}}$\n",
    "$\\newcommand{\\eexp}[1]{\\text{e}^{#1}}$\n",
    "$\\newcommand{\\di}[0]{\\,\\text{d}}$\n",
    "$\\newcommand{\\bs}[1]{\\boldsymbol{#1}}$\n",
    "$\\newcommand{\\ode}[2]{\\frac{\\di {#1}}{\\di {#2}}}$\n",
    "$\\newcommand{\\oden}[3]{\\frac{\\di^{#1} {#2}}{\\di {#3}^{#1}}}$\n",
    "$\\newcommand{\\odel}[2]{\\di {#1}/\\di {#2}}$\n",
    "$\\newcommand{\\odeln}[3]{\\di^{#1} {#2}/\\di {#3}^{#1}}$\n",
    "$\\newcommand{\\pde}[2]{\\frac{\\partial {#1}}{\\partial {#2}}}$\n",
    "$\\newcommand{\\pden}[3]{\\frac{\\partial^{#1} {#2}}{\\partial {#3}^{#1}}}$\n",
    "$\\newcommand{\\pdel}[2]{\\partial_{#2} {#1}}$\n",
    "$\\newcommand{\\pdenl}[3]{\\partial^{#1}_{#3} {#2}}$\n",
    "$\\newcommand{\\divr}[1]{\\vec\\nabla \\cdot {#1}}$\n",
    "$\\newcommand{\\divrb}[1]{\\boldsymbol{\\nabla} \\cdot {#1}}$\n",
    "$\\newcommand{\\grad}[1]{\\vec \\nabla {#1}}$\n",
    "$\\newcommand{\\gradb}[1]{\\boldsymbol\\nabla {#1}}$\n",
    "$\\newcommand{\\curl}[1]{\\vec\\nabla \\times {#1}}$\n",
    "$\\newcommand{\\curlb}[1]{\\boldsymbol{\\nabla}\\times\\boldsymbol{#1}}$\n",
    "$\\newcommand{\\lapl}[0]{\\vec\\nabla^2}$\n",
    "$\\newcommand{\\laplb}[0]{\\boldsymbol{\\nabla}^2}$\n",
    "$\\newcommand{\\ci}[0]{\\text{i}}$\n",
    "$\\newcommand{\\unit}[1]{\\boldsymbol{\\hat{#1}}}$\n",
    "$\\newcommand{\\thrfor}[0]{\\quad\\Rightarrow\\quad}$\n",
    "$\\newcommand{\\red}[1]{\\textcolor{red}{#1}}$\n",
    "$\\newcommand{\\blue}[1]{\\textcolor{blue}{#1}}$\n",
    "$\\newcommand{\\mage}[1]{\\textcolor{magenta}{#1}}$\n",
    "$\\newcommand{\\with}[0]{\\quad\\text{with}\\quad}$\n",
    "$\\newcommand{\\thrfor}[0]{\\quad\\Rightarrow\\quad}$\n",
    "$\\newcommand{\\andeq}[0]{\\quad\\text{and}\\quad}$\n",
    "$\\newcommand{\\oreq}[0]{\\quad\\text{or}\\quad}$\n",
    "$\\newcommand{\\stirling}[2]{\\genfrac{[}{]}{0pt}{}{#1}{#2}}$"
   ]
  },
  {
   "cell_type": "code",
   "execution_count": 1,
   "metadata": {
    "raw_mimetype": "text/x-python",
    "slideshow": {
     "slide_type": "skip"
    }
   },
   "outputs": [],
   "source": [
    "from IPython.display import Image, display, YouTubeVideo, HTML\n",
    "import numpy as np\n",
    "import matplotlib.pyplot as plt\n",
    "from matplotlib import interactive, rcParams, animation\n",
    "from ipywidgets import interact, FloatSlider, fixed, IntSlider\n",
    "interactive(True)\n",
    "rcParams['figure.dpi'] = 100  # for crisper figures later"
   ]
  },
  {
   "cell_type": "markdown",
   "metadata": {
    "slideshow": {
     "slide_type": "skip"
    }
   },
   "source": [
    "*Readings:*\n",
    "\n",
    "* *French 6, starting p.189.*\n",
    "\n",
    "Like for the previous lecture, these notes come with a lot of animations. If you use Jupyter, you can re-create them all from the notebook.\n",
    "If instead you read the pdf notes, I saved them all in .mp4 format and included them in the .zip archive."
   ]
  },
  {
   "cell_type": "markdown",
   "metadata": {
    "slideshow": {
     "slide_type": "skip"
    }
   },
   "source": [
    "And finally, a reminder about our go-to set-up: the wave on a string. I recorded three demos, shown below and also at\n",
    "\n",
    "* https://youtu.be/bcIeaNoB880 and https://play.library.utoronto.ca/1b369519194f7f25a371f977467e023d\n",
    "* https://youtu.be/DL47_MbRPmc and https://play.library.utoronto.ca/0813eb54d3f1db4a9c7ce2274c9ed8cd\n",
    "* https://youtu.be/_am6ogAuSjc and https://play.library.utoronto.ca/9553f6a2c1dea0c96f41ed9347fa1fbe"
   ]
  },
  {
   "cell_type": "code",
   "execution_count": 2,
   "metadata": {
    "scrolled": true,
    "slideshow": {
     "slide_type": "subslide"
    }
   },
   "outputs": [
    {
     "data": {
      "image/jpeg": "[encoded data removed]",
      "text/html": [
       "\n",
       "        <iframe\n",
       "            width=\"560\"\n",
       "            height=\"315\"\n",
       "            src=\"https://www.youtube.com/embed/bcIeaNoB880\"\n",
       "            frameborder=\"0\"\n",
       "            allowfullscreen\n",
       "            \n",
       "        ></iframe>\n",
       "        "
      ],
      "text/plain": [
       "<IPython.lib.display.YouTubeVideo at 0x7f7b90268670>"
      ]
     },
     "execution_count": 2,
     "metadata": {},
     "output_type": "execute_result"
    }
   ],
   "source": [
    "YouTubeVideo('bcIeaNoB880', width=560, height=315)"
   ]
  },
  {
   "cell_type": "code",
   "execution_count": 3,
   "metadata": {
    "slideshow": {
     "slide_type": "skip"
    }
   },
   "outputs": [
    {
     "data": {
      "image/jpeg": "[encoded data removed]",
      "text/html": [
       "\n",
       "        <iframe\n",
       "            width=\"560\"\n",
       "            height=\"315\"\n",
       "            src=\"https://www.youtube.com/embed/DL47_MbRPmc\"\n",
       "            frameborder=\"0\"\n",
       "            allowfullscreen\n",
       "            \n",
       "        ></iframe>\n",
       "        "
      ],
      "text/plain": [
       "<IPython.lib.display.YouTubeVideo at 0x7f7bb942ab50>"
      ]
     },
     "execution_count": 3,
     "metadata": {},
     "output_type": "execute_result"
    }
   ],
   "source": [
    "YouTubeVideo('DL47_MbRPmc', width=560, height=315)"
   ]
  },
  {
   "cell_type": "code",
   "execution_count": 4,
   "metadata": {
    "scrolled": true,
    "slideshow": {
     "slide_type": "skip"
    }
   },
   "outputs": [
    {
     "data": {
      "image/jpeg": "[encoded data removed]",
      "text/html": [
       "\n",
       "        <iframe\n",
       "            width=\"560\"\n",
       "            height=\"315\"\n",
       "            src=\"https://www.youtube.com/embed/_am6ogAuSjc\"\n",
       "            frameborder=\"0\"\n",
       "            allowfullscreen\n",
       "            \n",
       "        ></iframe>\n",
       "        "
      ],
      "text/plain": [
       "<IPython.lib.display.YouTubeVideo at 0x7f7bb9aefa30>"
      ]
     },
     "execution_count": 4,
     "metadata": {},
     "output_type": "execute_result"
    }
   ],
   "source": [
    "YouTubeVideo('_am6ogAuSjc', width=560, height=315)"
   ]
  },
  {
   "cell_type": "markdown",
   "metadata": {
    "slideshow": {
     "slide_type": "skip"
    }
   },
   "source": [
    "# Expectations"
   ]
  },
  {
   "cell_type": "markdown",
   "metadata": {
    "slideshow": {
     "slide_type": "slide"
    }
   },
   "source": [
    "## Remember\n",
    "\n",
    "* The orthogonality relations for sines and cosines.\n",
    "* The energy of any solution is the sum of the energies of each single mode."
   ]
  },
  {
   "cell_type": "markdown",
   "metadata": {
    "slideshow": {
     "slide_type": "-"
    }
   },
   "source": [
    "## Understand\n",
    "\n",
    "* Why standing wave modes are orthogonal normal modes of the vibrating taut string.\n",
    "* How a spectrum is a quick graphic way to show a series of modes\n",
    "* How and why standing wave modes behave like simple harmonic oscillators."
   ]
  },
  {
   "cell_type": "markdown",
   "metadata": {
    "slideshow": {
     "slide_type": "-"
    }
   },
   "source": [
    "## Apply\n",
    "\n",
    "* Anything that appears in the worked examples, tutorials and problem sets."
   ]
  },
  {
   "cell_type": "markdown",
   "metadata": {
    "slideshow": {
     "slide_type": "skip"
    }
   },
   "source": [
    "# Results from Fourier Series"
   ]
  },
  {
   "cell_type": "markdown",
   "metadata": {
    "slideshow": {
     "slide_type": "skip"
    }
   },
   "source": [
    "We just saw that if $y_n$ and $y_m$ were modes of vibrations of the string, then a linear combination of those two was a solution. But is the converse true? Namely, if $y$ is a solution, can it be written as $\\sum_{n=1}^{\\infty} A_n y_n$? After all, maybe we have only covered the set of solutions which were separable, and we are missing plenty of elementary solutions that cannot be written as $y_n(t, x) = f_n(x)h_n(t)$."
   ]
  },
  {
   "cell_type": "markdown",
   "metadata": {
    "slideshow": {
     "slide_type": "skip"
    }
   },
   "source": [
    "The answer is yes, the decomposition exists and is unique.\n",
    "You may see the proof in a calculus course, when you learn about Fourier series. Just like earlier in the course, you are not required to know the math of it, and in this lecture we will just accept the results. I recommended you watch the video below in a previous lecture (https://youtu.be/r6sGWTCMz2k; 25 minutes) because it is nice. The recommendation still holds, if you have the time."
   ]
  },
  {
   "cell_type": "code",
   "execution_count": 5,
   "metadata": {
    "scrolled": true,
    "slideshow": {
     "slide_type": "skip"
    }
   },
   "outputs": [
    {
     "data": {
      "image/jpeg": "[encoded data removed]",
      "text/html": [
       "\n",
       "        <iframe\n",
       "            width=\"560\"\n",
       "            height=\"315\"\n",
       "            src=\"https://www.youtube.com/embed/r6sGWTCMz2k\"\n",
       "            frameborder=\"0\"\n",
       "            allowfullscreen\n",
       "            \n",
       "        ></iframe>\n",
       "        "
      ],
      "text/plain": [
       "<IPython.lib.display.YouTubeVideo at 0x7f7bb9aefee0>"
      ]
     },
     "execution_count": 5,
     "metadata": {},
     "output_type": "execute_result"
    }
   ],
   "source": [
    "YouTubeVideo('r6sGWTCMz2k', width=560, height=315)"
   ]
  },
  {
   "cell_type": "markdown",
   "metadata": {
    "slideshow": {
     "slide_type": "skip"
    }
   },
   "source": [
    "Just as the existence and unicity of the decomposition into eigenmodes for a coupled system of oscillations was a gift from a linear algebra class, the existence and unicity of the decomposition of any solution into standing wave modes is a gift from Fourier analysis."
   ]
  },
  {
   "cell_type": "markdown",
   "metadata": {
    "slideshow": {
     "slide_type": "slide"
    }
   },
   "source": [
    "Namely, the main result to remember from a lecture on Fourier series is that if a function $s(x)$ of the real variable $x$ is periodic[^1], with period $2L$, then $\\exists \\{A_n, B_n\\}_{n\\in \\mathbb N^*}$ such that \n",
    "$$ s(x) = \\frac{A_0}2 + \\sum_{n=1}^\\infty\\left[ A_n \\cos(k_n x) + B_n \\sin(k_n x)\\right], $$\n",
    "with $k_n = \\pi n/L$, and\n",
    "$$A_n = \\frac1L\\int_{-L}^{L}s(x)\\cos(k_n x)\\di x \\andeq B_n = \\frac1L\\int_{-L}^{L}s(x)\\sin(k_n x)\\di x.$$\n",
    "\n",
    "*Note: I defined the period to be $2L$ in anticipation of the content of this lecture, which makes the expressions above look different from what you would see in other resources like Wikipedia.*"
   ]
  },
  {
   "cell_type": "markdown",
   "metadata": {
    "slideshow": {
     "slide_type": "skip"
    }
   },
   "source": [
    "* If the function is odd, i.e., $s(x) = -s(-x)$, then it is even simpler, with\n",
    "    $$A_n \\equiv 0 \\andeq s(x) = \\sum_{n=1}^\\infty B_n \\sin(k_n x).$$\n",
    "    Moreover, because $\\sin(k_n x)$ is also odd, $s(x)\\sin(k_n x)$ is even ($odd\\times odd = even$), we don't need to compute the coefficient over the whole interval:\n",
    "    $$B_n = 2\\times \\frac{1}L\\int_0^L s(x)\\sin(k_n x) \\di x,$$\n",
    "    which will be useful in this lecture.\n",
    "\n",
    "* Similarly, if the function is even, i.e., $s(x) = s(-x)$, then $B_n \\equiv 0$ and the Fourier series simplifies into\n",
    "    $$s(x) = \\frac{A_0}{2} + \\sum_{n=1}^\\infty A_n \\cos(k_n x),$$\n",
    "    where we have again that\n",
    "    $$A_n = \\frac{2}L\\int_0^L s(x)\\cos(k_n x) \\di x,$$\n",
    "    which we won't use in this lecture but could use in problems and exercises.\n"
   ]
  },
  {
   "cell_type": "markdown",
   "metadata": {
    "slideshow": {
     "slide_type": "skip"
    }
   },
   "source": [
    "You may object that Fourier series apply to periodic functions, i.e., functions that exist on $(-\\infty, \\infty)$, not $[0, L]$.\n",
    "The connection is that we can imagine our solution on $[0, L]$ as a \"cropped\" sub-set of a function that would be periodic.\n",
    "In this case, the actual solution and the corresponding infinitely long and periodic function share the same Fourier coefficients."
   ]
  },
  {
   "cell_type": "markdown",
   "metadata": {
    "slideshow": {
     "slide_type": "skip"
    }
   },
   "source": [
    "Let me plot a sketch of what I mean by \"actual solution\" (below) and \"infinitely long and periodic function\" (figure after that one)."
   ]
  },
  {
   "cell_type": "code",
   "execution_count": 6,
   "metadata": {
    "slideshow": {
     "slide_type": "skip"
    }
   },
   "outputs": [],
   "source": [
    "# Definition of the function\n",
    "# Let's draw a triangular shape, with the top at a point where the string is plucked\n",
    "L = 1.  # [m] length of the string\n",
    "x = np.linspace(0., L, 128)  # x-array\n",
    "ftsz = 13  # font size\n",
    "a = 0.01  # how high the string is plucked [m]\n",
    "\n",
    "def plot_pluck(pluck_point):\n",
    "    s = a * x / pluck_point  # the first part of the string\n",
    "    s[x > pluck_point] = a * (L - x[x > pluck_point]) / (L-pluck_point)  # the 2nd part\n",
    "\n",
    "    plt.figure(figsize=(6, 3))\n",
    "    plt.plot(x/L, s/a, 'r')\n",
    "    plt.grid()\n",
    "    plt.xlabel('$x/L$', fontsize=ftsz)\n",
    "    plt.ylabel('$s/a$', fontsize=ftsz)\n",
    "    plt.axvline(pluck_point/L, color='k', linestyle='--')\n",
    "    plt.title('The plucked string on $[0, L]$', fontsize=ftsz)\n",
    "    plt.ylim([0., 1.2])\n",
    "    plt.autoscale(enable=True, axis='x', tight=True)\n",
    "    \n",
    "    return s"
   ]
  },
  {
   "cell_type": "code",
   "execution_count": 7,
   "metadata": {
    "slideshow": {
     "slide_type": "subslide"
    }
   },
   "outputs": [
    {
     "data": {
      "image/png": "[encoded data removed]",
      "text/plain": [
       "<Figure size 600x300 with 1 Axes>"
      ]
     },
     "metadata": {},
     "output_type": "display_data"
    }
   ],
   "source": [
    "s = plot_pluck(0.25*L)"
   ]
  },
  {
   "cell_type": "code",
   "execution_count": 8,
   "metadata": {
    "slideshow": {
     "slide_type": "skip"
    }
   },
   "outputs": [],
   "source": [
    "def plot_extension(pluck_point, s):\n",
    "    x_extend = np.linspace(-1.5*L, 2.5*L, 512)  # x extended beyoind [0, L]\n",
    "    s_extend = a * x_extend / pluck_point  # the first part of the string\n",
    "    s_extend[x_extend > pluck_point] = (L - x_extend[x_extend > pluck_point]\n",
    "                                       ) * a / (L-pluck_point)\n",
    "    s_extend[x_extend > 2*L-pluck_point] = (x_extend[x_extend > 2*L-pluck_point]/pluck_point\n",
    "                                            - 2*L/pluck_point) * a\n",
    "    s_extend[x_extend > 2*L+pluck_point] = (L - x_extend[x_extend > 2*L+pluck_point]\n",
    "                                           )  * a / (L-pluck_point) + 2*a*L/(L-pluck_point)\n",
    "    s_extend[x_extend < -pluck_point] = a * (L - x_extend[x_extend < -pluck_point]\n",
    "                                            ) / (L-pluck_point) - 2*a*L/(L-pluck_point)\n",
    "\n",
    "    plt.figure(figsize=(12, 3))\n",
    "    plt.plot(x_extend/L, s_extend/a, 'b--', label='$s(x)$ extended')\n",
    "    plt.plot(x/L, s/a, 'r', label='$s(x)$')\n",
    "    plt.grid()\n",
    "    plt.xlabel('$x/L$', fontsize=ftsz)\n",
    "    plt.ylabel('$s/a$', fontsize=ftsz)\n",
    "    plt.ylim([-1.2, 1.2])\n",
    "    plt.axhline(0., color='k')\n",
    "    plt.axvline(pluck_point/L, color='k', linestyle='--')\n",
    "    plt.axvline(0., color='k')\n",
    "    plt.axvline(1., color='k')\n",
    "    plt.axvline(-1., color='k', linestyle=\":\")\n",
    "    plt.axvline(2., color='k', linestyle=\":\")\n",
    "    plt.title('Equivalent plucked string on an extended interval', fontsize=ftsz)\n",
    "    plt.legend(fontsize=ftsz)\n",
    "    plt.autoscale(enable=True, axis='x', tight=True)\n",
    "    \n",
    "    return"
   ]
  },
  {
   "cell_type": "code",
   "execution_count": 9,
   "metadata": {
    "slideshow": {
     "slide_type": "subslide"
    }
   },
   "outputs": [
    {
     "data": {
      "image/png": "[encoded data removed]",
      "text/plain": [
       "<Figure size 1200x300 with 1 Axes>"
      ]
     },
     "metadata": {},
     "output_type": "display_data"
    }
   ],
   "source": [
    "plot_extension(0.25*L, s)"
   ]
  },
  {
   "cell_type": "markdown",
   "metadata": {
    "slideshow": {
     "slide_type": "skip"
    }
   },
   "source": [
    "While the plucked string (red, solid line on fig. 6) is not periodic, the blue, dashed line is, with period $2L$.\n",
    "Morevoer, it is odd, and can be decomposed as a Fourier series.\n",
    "In the interval $[0, L]$, the two are indistinguishable, and the plucked string shares the extended string's expression.\n",
    "\n",
    "In general, any function that is zero at both ends can be extended as an odd function, and only the sine decomposition need to be performed."
   ]
  },
  {
   "cell_type": "markdown",
   "metadata": {
    "slideshow": {
     "slide_type": "skip"
    }
   },
   "source": [
    "So, let me recapitulate, and this part is important.\n",
    "Because the wave equation is linear (that's because there are only derivatives in them, and the derivation operation is linear), we knew from last lecture that\n",
    "$$y = \\sum_{n=1}^\\infty \\cos(\\omega_n t +\\phi_n)\\left[A_n\\cos(k_n x) + B_n\\sin(k_n x)\\right] \\thrfor y\\text{ is a solution},$$\n",
    "provided $k_n = \\pi n/L$ and $\\omega_n = vk_n$.\n",
    "\n",
    "And because any string shape can be described as a periodic function evaluated on $[0, L]$, Fourier tells us that the reverse is true: that if $y$ is a solution, then it can be written as a Fourier series, which is essentially what is left of the \"$\\Rightarrow$\" above. In this case, the mean position is zero, so, $A_0 = 0$ and we can turn the \"$\\Rightarrow$\" in the previous statement into a \"$\\Leftrightarrow$\"."
   ]
  },
  {
   "cell_type": "markdown",
   "metadata": {
    "slideshow": {
     "slide_type": "skip"
    }
   },
   "source": [
    "Mathematically speaking, the rest of this section is basically an application of the Fourier series theory to string vibrations.\n",
    "Knowing Fourier series is not a prerequisite, though, because I will basically walk you through all the important steps as if you have never seen it."
   ]
  },
  {
   "cell_type": "markdown",
   "metadata": {
    "slideshow": {
     "slide_type": "skip"
    }
   },
   "source": [
    "# Orthogonality of Standing Wave Modes"
   ]
  },
  {
   "cell_type": "markdown",
   "metadata": {
    "slideshow": {
     "slide_type": "skip"
    }
   },
   "source": [
    "With a homogeneous chain of coupled oscillators (i.e., all masses, stiffnesses, pendulums, etc., were equal), the linked masses resulted in a symmetric matrix to diagonalize, in which case the eigenvectors were orthogonal to each other.\n",
    "Something similar is happening here: the string is homogeneous ($\\mu$ is a constant), and the normal modes are orthogonal to each other.\n",
    "The \"dot product\" however needs to be redefined, because the vector space has changed.\n",
    "With symmetric coupled oscillators, the inner product of the vector space was the good ol' dot product.\n",
    "Now, the inner product for two functions $f$ and $g$ is (assuming the integral can be computed, of course)\n",
    "\\begin{equation}\n",
    "    f\\odot g = \\frac2L \\int_0^L f(x)g(x)\\di x.\\label{eq:odot}\n",
    "\\end{equation}"
   ]
  },
  {
   "cell_type": "markdown",
   "metadata": {
    "slideshow": {
     "slide_type": "skip"
    }
   },
   "source": [
    "The $2/L$ pre-factor is optional. We use it to ensure that the functions are orthonormal with respect to the inner product. Indeed, here is a claim:\n",
    "$$ \\boxed{\\sin(k_n x) \\odot \\sin(k_m x) = \\delta_{mn}}.$$\n",
    "The symbol $\\delta_{mn}$ is called the Kronecker delta, defined by $\\delta_{mn} = 1$ if $m=n$, and zero otherwise.\n",
    "That is, **modes are orthonormal to each other**."
   ]
  },
  {
   "cell_type": "markdown",
   "metadata": {
    "slideshow": {
     "slide_type": "skip"
    }
   },
   "source": [
    "*Note: Similarly,* $\\cos(k_n x) \\odot \\cos(k_m x) = \\delta_{mn}$ and $\\cos(k_n x) \\odot \\sin(k_m x) = 0$. *Yes, the last one is always zero, even if* $m = n$ *, but the inner product has to be redefined as*\n",
    "$$f\\odot g = \\frac1L \\int_{-L}^L f(x)g(x)\\di x,$$\n",
    "*and the string position has to be artificially extended into the negative positions range. This inner product actually gives the same result for the former inner product, but the first definition uses parity properties of $\\sin$ and $\\cos$ and is simple enough for our purposes. As far as I can tell though, we won't be using these other two relationships with the boundary conditions of strings attached to walls. We would if the origin of the $x$-axis was in the middle of the two walls, or if we had other boundary conditions. Therefore, it is not completely useless to know that these relationships exist.*"
   ]
  },
  {
   "cell_type": "markdown",
   "metadata": {
    "slideshow": {
     "slide_type": "skip"
    }
   },
   "source": [
    "***\n",
    "\n",
    "*While not difficult, and even though it resembles a result we have seen earlier, I skipped the proof in class. Here it is, FYI. I am also providing a graphic example below, where you should see that the areas of $\\sin(k_n x)\\sin(k_m x)$ above the zero line compensate exactly those under the zero line, yielding a zero value (unless $n=m$ of course). Don't worry about remembering or even understanding the mathematical derivation.*\n",
    "\n",
    "Recall that \n",
    "$$\\cos(a\\pm b) = \\cos a \\cos b \\mp \\sin a \\sin b.$$\n",
    "\n",
    "Sum those two and you get\n",
    "$$ 2\\cos a\\cos b = \\cos(a-b) + \\cos(a+b). $$\n",
    "Subtract them and you obtain\n",
    "$$ 2\\sin a\\sin b = \\cos(a-b) - \\cos(a+b). $$\n",
    "\n",
    "\n",
    "Let $a = n\\pi x/L$ and $b = m\\pi x/L$.\n",
    "Consider two cases:\n",
    "\n",
    "* $m\\neq n$: \n",
    "\n",
    "\\begin{align*}\n",
    "    \\sin a \\odot \\sin b & = \\frac{1}{L} \\int_0^L \\left[\\cos\\left(\\frac{(n-m) \\pi x}{L}\\right) +  \\cos\\left(\\frac{(n+m)\\pi x}{L}\\right) \\right] \\di x \\\\\n",
    "                        & = \\frac{1}{L} \\left[\\frac{L}{\\pi(n-m)}\\sin\\left(\\frac{(n-m) \\pi x}{L}\\right) + \\frac{L}{\\pi(n+m)} \\sin\\left(\\frac{(n+m)\\pi x}{L}\\right) \\right]_0^L \\\\\n",
    "                        & = 0 + 0 = 0 \\quad\\textrm{if}\\quad m \\neq n.\n",
    "\\end{align*}\n",
    "\n",
    "* $m=n$ on the other hand, we need to go back to $2\\sin a\\sin b = \\cos(a-b) - \\cos(a+b)$, which, if $a = b$, becomes $2\\sin^2(a) = 1 - \\cos(2a)$. \n",
    "Of the two integrals that are to be computed, $\\int_0^L \\cos(2n\\pi x/L) \\di x = 0$ but $\\int_0^L \\di x = L$, and therefore,\n",
    "$$\\sin\\left(\\frac{n\\pi x}L\\right) \\odot \\sin\\left(\\frac{n\\pi x}L\\right) = \\frac{2}{L}\\frac{L}2 = 1. $$\n",
    "\n",
    "Very similar derivations exist for $\\cos(k_n x) \\odot \\cos(k_m x) = \\delta_{mn}$ and $\\cos(k_n x) \\odot \\sin(k_m x) = 0$.\n",
    "\n",
    "***"
   ]
  },
  {
   "cell_type": "code",
   "execution_count": 10,
   "metadata": {
    "slideshow": {
     "slide_type": "skip"
    }
   },
   "outputs": [],
   "source": [
    "def multsincos(n, m, first, second):\n",
    "    \"\"\" a graphic illustration of what happens when two sines and/or cosines\n",
    "    are multiplied \n",
    "    IN: n, m are strictly positive integer modes\n",
    "    first, second are both 'sin' or 'cos' \"\"\"\n",
    "    def fct(nm, xloc, choice):\n",
    "        if choice == 'sin':\n",
    "            return np.sin(nm*np.pi*xloc)\n",
    "        elif choice == 'cos':\n",
    "            return np.cos(nm*np.pi*xloc)\n",
    "    \n",
    "    if first != second:\n",
    "        xmin = -1.\n",
    "    else:\n",
    "        xmin = 0.\n",
    "    \n",
    "    x = np.linspace(xmin, 1, 256)  # use L=1 m for simplicity\n",
    "        \n",
    "    fg, ax = plt.subplots(2, 1, dpi=100, sharex=True)\n",
    "    ftsz = 13  # font size\n",
    "    \n",
    "    ax[0].plot(x, fct(n, x, first), label='{0}$({1} \\pi x/L)$'.format(first, n))\n",
    "    ax[0].plot(x, fct(m, x, second), '--', label='{0}$({1}\\pi x/L)$'.format(second, m))\n",
    "    ax[0].axhline(0., color='k')\n",
    "    ax[0].axvline(0., color='k')\n",
    "    ax[0].set_xlim(xmin, 1)\n",
    "    ax[0].set_ylabel('$y_n$ and $y_m$', fontsize=ftsz)\n",
    "    ax[0].legend()\n",
    "    ax[0].grid()\n",
    "    \n",
    "    ax[1].plot(x, fct(n, x, first)*fct(m, x, second),\n",
    "               label='{0}$(1\\pi x/L)${2}$({3} \\pi x/L)$'.format(first, n, second, m))\n",
    "    plt.fill_between(x , fct(n, x, first)*fct(m, x, second))\n",
    "    ax[1].axvline(0., color='k')\n",
    "    ax[1].axhline(0., color='k')\n",
    "    ax[1].set_xlabel('$x/L$', fontsize=ftsz)\n",
    "    ax[1].set_ylabel('$y_n y_m$', fontsize=ftsz)\n",
    "    ax[1].legend()\n",
    "    ax[1].grid()\n",
    "    \n",
    "    fg.tight_layout()"
   ]
  },
  {
   "cell_type": "code",
   "execution_count": 11,
   "metadata": {
    "scrolled": false,
    "slideshow": {
     "slide_type": "skip"
    }
   },
   "outputs": [
    {
     "data": {
      "image/png": "[encoded data removed]",
      "text/plain": [
       "<Figure size 640x480 with 2 Axes>"
      ]
     },
     "metadata": {},
     "output_type": "display_data"
    }
   ],
   "source": [
    "multsincos(1, 2, 'sin', 'sin')  # for pdf export"
   ]
  },
  {
   "cell_type": "code",
   "execution_count": 12,
   "metadata": {
    "scrolled": false,
    "slideshow": {
     "slide_type": "subslide"
    }
   },
   "outputs": [
    {
     "data": {
      "application/vnd.jupyter.widget-view+json": {
       "model_id": "1cc3d70122fe4a8e98e247f51e149943",
       "version_major": 2,
       "version_minor": 0
      },
      "text/plain": [
       "interactive(children=(IntSlider(value=1, description='n', max=5, min=1), IntSlider(value=2, description='m', m…"
      ]
     },
     "metadata": {},
     "output_type": "display_data"
    },
    {
     "data": {
      "text/plain": [
       "<function __main__.multsincos(n, m, first, second)>"
      ]
     },
     "execution_count": 12,
     "metadata": {},
     "output_type": "execute_result"
    }
   ],
   "source": [
    "interact(multsincos, n=IntSlider(min=1, max=5, value=1), m=IntSlider(min=1, max=5, value=2), first=['sin', 'cos'], second=['sin', 'cos'])"
   ]
  },
  {
   "cell_type": "markdown",
   "metadata": {
    "slideshow": {
     "slide_type": "skip"
    }
   },
   "source": [
    "Note that similarly to the last lecture, these results can be extended to strings that are non-homogeneous (i.e., $v$ depends on $x$, like a whip getting thinner away from the handle). A new inner product would need to be defined.\n",
    "This would be the equivalent of a matrix that is not symmetric in the case of coupled oscillators, sort of like what you have (or had) to do in the homework assignment.\n",
    "These considerations are outside of what you need to know for this class, besides playing with it numerically."
   ]
  },
  {
   "cell_type": "markdown",
   "metadata": {
    "slideshow": {
     "slide_type": "skip"
    }
   },
   "source": [
    "# Initial value problems\n",
    "\n",
    "## Method"
   ]
  },
  {
   "cell_type": "markdown",
   "metadata": {
    "slideshow": {
     "slide_type": "skip"
    }
   },
   "source": [
    "Like in previous lectures, while we know that the general form of the solution is in the form\n",
    "$$y(t, x) = \\sum_{n = 1}^{\\infty} C_n\\cos(\\omega_n t + \\phi_n)\\sin(k_n x),$$\n",
    "finding the amplitudes $C_n$ and phases $\\phi_n$ remains to be computed for an IVP.\n",
    "And like for coupled oscillators, the orthogonality condition will help us to solve this problem relatively easily."
   ]
  },
  {
   "cell_type": "markdown",
   "metadata": {
    "slideshow": {
     "slide_type": "skip"
    }
   },
   "source": [
    "First of all, let me to rewrite the general solution as\n",
    "\\begin{equation}\n",
    "    \\boxed{y(t, x) = \\sum_{n = 1}^{\\infty} \\left[\\alpha_n \\cos(\\omega_n t) + \\beta_n \\sin(\\omega_n t)\\right]\\sin(k_n x)},\\label{eq:generaly}\n",
    "\\end{equation}\n",
    "which is more convenient for IVPs."
   ]
  },
  {
   "cell_type": "markdown",
   "metadata": {
    "slideshow": {
     "slide_type": "skip"
    }
   },
   "source": [
    "Consider now an initial value problem\n",
    "$$ y(0, x) = P(x)\\andeq \\dot y(0, x) = V(x). $$"
   ]
  },
  {
   "cell_type": "markdown",
   "metadata": {
    "slideshow": {
     "slide_type": "skip"
    }
   },
   "source": [
    "We now have two equations,\n",
    "$$\\sum_{n = 1}^{\\infty} \\alpha_n\\sin(k_n x) = P(x) \\andeq \\sum_{n = 1}^{\\infty} \\omega_n\\beta_n\\sin(k_n x) = V(x).$$"
   ]
  },
  {
   "cell_type": "markdown",
   "metadata": {
    "slideshow": {
     "slide_type": "skip"
    }
   },
   "source": [
    "These could be seen as two equations with an infinite number of unknown each ($2\\times \\infty$ unknown total). But because these unknown multiply eigenfunctions that are all orthogonal to each other, we can use projections to turn it into a system with as many equations as there are unknown.\n",
    "For example,\n",
    "$$\\left[\\sum_{n = 1}^{\\infty} \\alpha_n\\sin(k_n x)\\right] \\odot \\sin(k_m x) = \\sum_{n = 1}^{\\infty} \\alpha_n\\left[\\sin(k_n x) \\odot \\sin(k_m x)\\right] = \\alpha_m.$$\n",
    "*Note: in the result above, I used that the $\\sin(k_n x)$ functions are orthonormal with respect to the inner product that I defined. Had I not added a $2/L$ pre-factor in my definition of the inner product (equation \\ref{eq:odot}), I would have needed to multiply the right-most-hand-side of the equation above with $L/2$.*"
   ]
  },
  {
   "cell_type": "markdown",
   "metadata": {
    "slideshow": {
     "slide_type": "skip"
    }
   },
   "source": [
    "Therefore, \n",
    "$$ \\forall m\\in \\mathbb N^*, \\quad \\alpha_m = P(x) \\odot \\sin(k_m x) \\andeq \\beta_m = \\frac{1}{\\omega_m}V(x) \\odot \\sin(k_m x). $$"
   ]
  },
  {
   "cell_type": "markdown",
   "metadata": {
    "slideshow": {
     "slide_type": "skip"
    }
   },
   "source": [
    "We solved one problem but created a new one, which is to compute the $P(x)\\odot \\sin(k_m x)$ and $V(x)\\odot \\sin(k_m x)$ and infinite number of times.\n",
    "But at least, there is a road map, which is to compute integrals.\n",
    "If the initial condition is simple enough, the integrals can be computed analytically (which we will do for a couple of examples), and if not, a computer can do it."
   ]
  },
  {
   "cell_type": "markdown",
   "metadata": {
    "slideshow": {
     "slide_type": "skip"
    }
   },
   "source": [
    "# Example: Plucked string.\n",
    "\n",
    "I recorded a demo about this (also at https://youtu.be/KjjZx5MP36s and https://play.library.utoronto.ca/75d36f7d33c34eb9206ce68f642f0891)."
   ]
  },
  {
   "cell_type": "code",
   "execution_count": 13,
   "metadata": {
    "slideshow": {
     "slide_type": "subslide"
    }
   },
   "outputs": [
    {
     "data": {
      "image/jpeg": "[encoded data removed]",
      "text/html": [
       "\n",
       "        <iframe\n",
       "            width=\"560\"\n",
       "            height=\"315\"\n",
       "            src=\"https://www.youtube.com/embed/KjjZx5MP36s\"\n",
       "            frameborder=\"0\"\n",
       "            allowfullscreen\n",
       "            \n",
       "        ></iframe>\n",
       "        "
      ],
      "text/plain": [
       "<IPython.lib.display.YouTubeVideo at 0x7f7b904389a0>"
      ]
     },
     "execution_count": 13,
     "metadata": {},
     "output_type": "execute_result"
    }
   ],
   "source": [
    "YouTubeVideo('KjjZx5MP36s', width=560, height=315)"
   ]
  },
  {
   "cell_type": "markdown",
   "metadata": {
    "slideshow": {
     "slide_type": "skip"
    }
   },
   "source": [
    "## Analytical resolution\n",
    "\n",
    "Analytically speaking, it is relatively easy to compute the Fourier decomposition of a string, plucked in the middle:\n",
    "$$ y(0, x) = P(x) = \\frac{2a x}{L} \\quad \\textrm{for} \\quad 0\\leq x < L/2, $$\n",
    "$$ y(0, x) = P(x) = 2a\\left(1 - \\frac{x}{L}\\right) \\quad \\textrm{for} \\quad L/2 \\leq x \\leq L. $$"
   ]
  },
  {
   "cell_type": "markdown",
   "metadata": {
    "slideshow": {
     "slide_type": "skip"
    }
   },
   "source": [
    "As before, we will consider the case $\\dot y(0, x) = V(x) = 0$, which again means that $\\forall n\\in \\mathbb N^*$, $\\beta_n = 0$."
   ]
  },
  {
   "cell_type": "markdown",
   "metadata": {
    "slideshow": {
     "slide_type": "skip"
    }
   },
   "source": [
    "\\begin{align*}\n",
    "    \\alpha_n & = P(x) \\odot \\sin(k_n x) \\\\\n",
    "             & = \\frac{4a}L \\left[\\int_0^{L/2}\\frac{x}{L} \\sin(k_n x)\\di x + \\int_{L/2}^L \\left(1 - \\frac{x}{L}\\right) \\sin(k_n x)\\di x\\right].\n",
    "\\end{align*}"
   ]
  },
  {
   "cell_type": "markdown",
   "metadata": {
    "slideshow": {
     "slide_type": "skip"
    }
   },
   "source": [
    "A useful formula to compute these integrals is\n",
    "$$ \\int x' \\sin(bx') \\di x' = \\frac{\\sin(bx)}{b^2} - \\frac{x\\cos(bx)}{b} \\quad\\text{for}\\quad b\\neq 0,$$\n",
    "which is the result of an integration by parts, followed by a simple integration.\n",
    "Ask SymPy if you are curious:"
   ]
  },
  {
   "cell_type": "code",
   "execution_count": 32,
   "metadata": {
    "raw_mimetype": "text/markdown",
    "slideshow": {
     "slide_type": "subslide"
    }
   },
   "outputs": [
    {
     "data": {
      "image/png": "[encoded data removed]",
      "text/latex": [
       "$\\displaystyle \\begin{cases} - \\frac{x \\cos{\\left(b x \\right)}}{b} + \\frac{\\sin{\\left(b x \\right)}}{b^{2}} & \\text{for}\\: b \\neq 0 \\\\0 & \\text{otherwise} \\end{cases}$"
      ],
      "text/plain": [
       "⎧  x⋅cos(b⋅x)   sin(b⋅x)           \n",
       "⎪- ────────── + ────────  for b ≠ 0\n",
       "⎪      b            2              \n",
       "⎨                  b               \n",
       "⎪                                  \n",
       "⎪           0             otherwise\n",
       "⎩                                  "
      ]
     },
     "execution_count": 32,
     "metadata": {},
     "output_type": "execute_result"
    }
   ],
   "source": [
    "from sympy import symbols, sin, integrate, init_printing  # symbolic math operations\n",
    "init_printing(use_unicode=True)  # to print pretty\n",
    "\n",
    "n = symbols('n', integer=True, positive=True)\n",
    "x, L = symbols('x, L', real=True, positive=True)\n",
    "b = symbols('b', real=True)\n",
    "\n",
    "integrate(x*sin(b*x), x)"
   ]
  },
  {
   "cell_type": "markdown",
   "metadata": {
    "slideshow": {
     "slide_type": "skip"
    }
   },
   "source": [
    "Told ya.\n",
    "\n",
    "The first integral is\n",
    "\\begin{align*}\n",
    "    \\int_0^{L/2}\\frac{x}{L} \\sin(k_n x)\\di x \n",
    "        & = \\frac{1}{k_n L} \\left[ \\frac{\\sin(k_n x)}{k_n} - x\\cos(k_n x) \\right]_0^{L/2} \\\\\n",
    "        & = \\frac{L}{n\\pi}\\left[\\frac{1}{n\\pi}\\sin\\left(\\frac{n\\pi}{2}\\right) - \\frac12\\cos\\left(\\frac{n\\pi}{2}\\right) \\right].\n",
    "\\end{align*}"
   ]
  },
  {
   "cell_type": "code",
   "execution_count": 31,
   "metadata": {
    "raw_mimetype": "text/markdown",
    "slideshow": {
     "slide_type": "subslide"
    }
   },
   "outputs": [
    {
     "data": {
      "image/png": "[encoded data removed]",
      "text/latex": [
       "$\\displaystyle - \\frac{L \\left(\\pi n \\cos{\\left(\\frac{\\pi n}{2} \\right)} - 2 \\sin{\\left(\\frac{\\pi n}{2} \\right)}\\right)}{2 \\pi^{2} n^{2}}$"
      ],
      "text/plain": [
       "   ⎛       ⎛π⋅n⎞        ⎛π⋅n⎞⎞ \n",
       "-L⋅⎜π⋅n⋅cos⎜───⎟ - 2⋅sin⎜───⎟⎟ \n",
       "   ⎝       ⎝ 2 ⎠        ⎝ 2 ⎠⎠ \n",
       "───────────────────────────────\n",
       "               2  2            \n",
       "            2⋅π ⋅n             "
      ]
     },
     "execution_count": 31,
     "metadata": {},
     "output_type": "execute_result"
    }
   ],
   "source": [
    "from sympy import pi\n",
    "# SymPy check:\n",
    "factor(integrate(x/L*sin(n*pi*x/L), (x, 0, L/2)))  # for verification"
   ]
  },
  {
   "cell_type": "markdown",
   "metadata": {
    "slideshow": {
     "slide_type": "skip"
    }
   },
   "source": [
    "For the other integral, and following a similar calculation, we get\n",
    "$$\\int_{L/2}^L\\left(1 - \\frac{x}{L}\\right) \\sin(k_n x)\\di x = \\frac{L}{n\\pi}\\left[\\frac{1}{n\\pi}\\sin\\left(\\frac{n\\pi}{2}\\right) + \\frac12\\cos\\left(\\frac{n\\pi}{2}\\right) \\right]. $$"
   ]
  },
  {
   "cell_type": "code",
   "execution_count": 16,
   "metadata": {
    "raw_mimetype": "text/markdown",
    "slideshow": {
     "slide_type": "skip"
    }
   },
   "outputs": [
    {
     "data": {
      "image/png": "[encoded data removed]",
      "text/latex": [
       "$\\displaystyle \\frac{L \\left(\\pi n \\cos{\\left(\\frac{\\pi n}{2} \\right)} + 2 \\sin{\\left(\\frac{\\pi n}{2} \\right)}\\right)}{2 \\pi^{2} n^{2}}$"
      ],
      "text/plain": [
       "  ⎛       ⎛π⋅n⎞        ⎛π⋅n⎞⎞\n",
       "L⋅⎜π⋅n⋅cos⎜───⎟ + 2⋅sin⎜───⎟⎟\n",
       "  ⎝       ⎝ 2 ⎠        ⎝ 2 ⎠⎠\n",
       "─────────────────────────────\n",
       "              2  2           \n",
       "           2⋅π ⋅n            "
      ]
     },
     "execution_count": 16,
     "metadata": {},
     "output_type": "execute_result"
    }
   ],
   "source": [
    "# SymPy check\n",
    "factor(integrate((1-x/L)*sin(n*pi*x/L), (x, L/2, L)))  # for verification"
   ]
  },
  {
   "cell_type": "markdown",
   "metadata": {
    "slideshow": {
     "slide_type": "skip"
    }
   },
   "source": [
    "Adding the two, we get\n",
    "$$ \\int_0^{L/2}\\frac{x}{L} \\sin(k_n x)\\di x + \\int_{L/2}^L \\left(1 - \\frac{x}{L}\\right) \\sin(k_n x)\\di x = \\frac{2L}{(n\\pi)^2}\\sin\\left(\\frac{n\\pi}{2}\\right) $$"
   ]
  },
  {
   "cell_type": "markdown",
   "metadata": {
    "slideshow": {
     "slide_type": "skip"
    }
   },
   "source": [
    "The final form of $\\alpha_n$ is therefore\n",
    "$$ \\alpha_n = \\frac{8 a}{(n\\pi)^2}\\sin\\left(\\frac{n\\pi}{2}\\right) = 0 \\quad\\textrm{if } n\\textrm{ is even,  and } \\quad \\frac{8 a}{(n\\pi)^2}(-1)^{(n-1)/2}\\quad\\textrm{if } n\\textrm{ odd}. $$"
   ]
  },
  {
   "cell_type": "markdown",
   "metadata": {
    "slideshow": {
     "slide_type": "skip"
    }
   },
   "source": [
    "Let us only consider the $n$-is-odd case then.\n",
    "If we introduce the intermediate integer $m = 1, 2, \\dots{}$ and let $n=2m+1$, we make sure $n$ is indeed odd.\n",
    "From equation \\eqref{eq:generaly}, the solution to the string, plucked in the middle is therefore:\n",
    "$$ \\boxed{y(t, x) = \\frac{8a}{\\pi^2}\\sum_{m=0}^{\\infty}\\frac{(-1)^{m}}{(2m+1)^2}\\cos\\left(\\frac{(2m+1)\\pi v}{L}t\\right)\\sin\\left(\\frac{(2m+1)\\pi}{L}x\\right)}. $$"
   ]
  },
  {
   "cell_type": "markdown",
   "metadata": {
    "slideshow": {
     "slide_type": "skip"
    }
   },
   "source": [
    "## Plotting the solution: Spectrum\n",
    "\n",
    "Then, there is the problem of the graphic representation of any solution we found.\n",
    "I could display an animation, as I did before, but while pedagogically useful, there is a better way to represent the same amount of the information in a more concise way.\n",
    "After all, if the motion is harmonic, we don't need to display a moving string to know the time information, which is completely encapsulated in the the pre-factors of each harmonic as a function of $n$, $\\omega_n$ or $k_n$."
   ]
  },
  {
   "cell_type": "markdown",
   "metadata": {
    "slideshow": {
     "slide_type": "skip"
    }
   },
   "source": [
    "A solution is therefore to plot the amplitude as a function of frequency, and the plot is called a **spectrum**."
   ]
  },
  {
   "cell_type": "markdown",
   "metadata": {
    "slideshow": {
     "slide_type": "skip"
    }
   },
   "source": [
    "Two remarks on spectra.\n",
    "\n",
    "* We did plot very similar graphs on the lecture on resonance, when we were plotting the amplitude (or dissipated power) as a function of frequency. And indeed, we do not have dissipation, meaning that we don't need to invoke forcing to describe sustained oscillations. If we introduced damping and forcing, we could plot spectra of the string vibrations under a certain periodic forcing as a function of frequency indeed, and it would look very similar.\n",
    "* You might remember from your linear algebra class that \"spectrum\" is also the name of the set of eigenvalues of a matrix. While a set is not a plot, there is a connection, because the plot will have all the frequencies on the $x$-axis, and because there is a connection between these frequencies, the eigenfrequencies of the coupled oscillators, and linear algebra."
   ]
  },
  {
   "cell_type": "markdown",
   "metadata": {
    "slideshow": {
     "slide_type": "skip"
    }
   },
   "source": [
    "Although complicated, we can plot the formula above relatively easily as a spectrum. Let me compute a few values, with $d = 1$ cm, $L = 1$ m.\n",
    "\n",
    "* $y_1(t, x) = \\frac{8a}{\\pi^2}\\cos\\frac{\\pi v t}L\\sin\\frac{\\pi x}L$,\n",
    "* $y_2(t, x) = 0$,\n",
    "* $y_3(t, x) = -\\frac{8a}{9\\pi^2}\\cos\\frac{3\\pi v t}L\\sin\\frac{3\\pi x}L$,\n",
    "* $y_4(t, x) = 0$,\n",
    "* $y_5(t, x) = \\frac{8a}{25\\pi^2}\\cos\\frac{5\\pi v t}L\\sin\\frac{5\\pi x}L$,\n",
    "* $y_6(t, x) = 0$,\n",
    "* ...\n",
    "\n",
    "We can easily plot the spectrum for the first few modes."
   ]
  },
  {
   "cell_type": "code",
   "execution_count": 17,
   "metadata": {
    "slideshow": {
     "slide_type": "skip"
    }
   },
   "outputs": [],
   "source": [
    "# Let's plot\n",
    "def plot_spectrum():\n",
    "    N = 8\n",
    "    ftsz = 13\n",
    "    plt.figure()\n",
    "    for n in range(N):\n",
    "        plt.plot([n+1]*2, [0, np.sin(0.5*(n+1)*np.pi)/(n+1)**2], 'o-', linewidth=5)\n",
    "    plt.axis([0, N+0.5, -0.15, 1.1])\n",
    "    plt.axhline(0., color='k')\n",
    "    plt.xticks(range(1, N+1), \n",
    "              ['$\\omega_{0:1d}$'.format(n) for n in range(1, N+1)],\n",
    "              fontsize=ftsz)\n",
    "    plt.xlabel('Vibration frequency ($\\omega_n = n\\pi v/L$)', fontsize=ftsz)\n",
    "    plt.ylabel(r'Modal amplitude $\\alpha_n\\pi^2/(8a)$', fontsize=ftsz)\n",
    "    plt.grid()\n",
    "    return"
   ]
  },
  {
   "cell_type": "code",
   "execution_count": 18,
   "metadata": {
    "scrolled": false,
    "slideshow": {
     "slide_type": "subslide"
    }
   },
   "outputs": [
    {
     "data": {
      "image/png": "[encoded data removed]",
      "text/plain": [
       "<Figure size 640x480 with 1 Axes>"
      ]
     },
     "metadata": {},
     "output_type": "display_data"
    }
   ],
   "source": [
    "plot_spectrum()"
   ]
  },
  {
   "cell_type": "markdown",
   "metadata": {
    "slideshow": {
     "slide_type": "skip"
    }
   },
   "source": [
    "The amplitude of each mode decays fast with the mode number.\n",
    "This is because by plucking the string in the middle, we created a \"large-scale pattern\" whose Fourier series converges very fast.\n",
    "We can plot this to visualise better."
   ]
  },
  {
   "cell_type": "markdown",
   "metadata": {
    "slideshow": {
     "slide_type": "skip"
    }
   },
   "source": [
    "*Note: usually, a \"spectrum\" plots $|\\alpha_n|$ or $|\\alpha_n|^2$, not $\\alpha_n$ as I did, as if the sign was included in the phase of $\\cos(\\omega_n t)$.*"
   ]
  },
  {
   "cell_type": "code",
   "execution_count": 19,
   "metadata": {
    "scrolled": false,
    "slideshow": {
     "slide_type": "skip"
    }
   },
   "outputs": [],
   "source": [
    "def plot_convergence():\n",
    "    N = 8\n",
    "    # I have to redefine the two quantities below because I used them as symbols in-between\n",
    "    L = 1.  # length of string: 33 cm\n",
    "    x = np.linspace(0., L, 128)  # the x array\n",
    "\n",
    "    mode = {}  # all modes stored in a dictionary\n",
    "    y_approx = 0*x  # this will be the sum of thre first N modes\n",
    "    y_init = 2*x/L  # the first part of the string; I will divide all y's by d\n",
    "    y_init[x > 0.5*L] = 2. * (1 - x[x > 0.5*L]/L)  # the 2nd part\n",
    "\n",
    "    fig = plt.figure(figsize=(8, 6))  # Make the figure a little bigger than usual\n",
    "\n",
    "    ff = 1  # frame number, or subplot number\n",
    "    for m in range(N//2):\n",
    "        n = 2*m + 1\n",
    "\n",
    "        mMax = 8/(n*np.pi)**2\n",
    "        mode[n] = mMax * np.sin(0.5*n*np.pi) * np.sin(n*np.pi*x/L)\n",
    "        y_approx += mode[n]\n",
    "\n",
    "        axl = fig.add_subplot(len(range(N//2)), 2, ff)\n",
    "        axl.plot(x/L, mode[n])\n",
    "        axl.axis([0, 1., -mMax*1.1, mMax*1.1])\n",
    "        axl.ticklabel_format(axis='y', style='sci', scilimits=(-1, 1))\n",
    "        axl.set_ylabel(r'$N = {0:1d}$'.format(n))\n",
    "        axl.set_yticks([-mMax, 0., mMax])\n",
    "        axl.grid()\n",
    "\n",
    "        axr = fig.add_subplot(len(range(N//2)), 2, ff+1)\n",
    "        axr.plot(x/L, y_approx, x/L, y_init, 'r--')\n",
    "        axr.axis([0, 1., 0., y_init.max()])\n",
    "        axr.set_yticks([0., 0.5, 1.])\n",
    "        axr.grid()\n",
    "\n",
    "        if n == 1:\n",
    "            axl.set_title(r'$\\alpha_N\\sin(k_N x)$')\n",
    "            axr.set_title(r'$\\sum_{n=1}^N\\alpha_n\\sin(k_n x)$')\n",
    "\n",
    "        if m == N//2-1:\n",
    "            axl.set_xlabel('$x/L$')\n",
    "            axr.set_xlabel('$x/L$')\n",
    "        else:\n",
    "            axl.set_xticklabels([])\n",
    "            axr.set_xticklabels([])\n",
    "\n",
    "        ff += 2\n",
    "\n",
    "    plt.tight_layout()\n",
    "    plt.autoscale(enable=True, axis='x', tight=True)\n",
    "    \n",
    "    return mode"
   ]
  },
  {
   "cell_type": "code",
   "execution_count": 20,
   "metadata": {
    "slideshow": {
     "slide_type": "subslide"
    }
   },
   "outputs": [
    {
     "data": {
      "image/png": "[encoded data removed]",
      "text/plain": [
       "<Figure size 800x600 with 8 Axes>"
      ]
     },
     "metadata": {},
     "output_type": "display_data"
    }
   ],
   "source": [
    "mode = plot_convergence()"
   ]
  },
  {
   "cell_type": "markdown",
   "metadata": {
    "slideshow": {
     "slide_type": "skip"
    }
   },
   "source": [
    "In the figure above, the left column shows each individual initial mode, and the right column shows their sum, up to the mode on the left.\n",
    "Notice how after three modes ($N = 5$), most of the pattern is captured, and adding the fourth mode ($n=7$) does not improve the solution that much.\n",
    "This is why this approach is feasible: because we usually don't need an infinite number of modes to obtain a satisfying approximation to the solution."
   ]
  },
  {
   "cell_type": "markdown",
   "metadata": {
    "slideshow": {
     "slide_type": "skip"
    }
   },
   "source": [
    "Solving for the initial conditions means that we solved the problem at all times, as the animation below (saved under `PluckMiddle.mp4`) shows."
   ]
  },
  {
   "cell_type": "code",
   "execution_count": 21,
   "metadata": {
    "slideshow": {
     "slide_type": "skip"
    }
   },
   "outputs": [],
   "source": [
    "# Various quantities\n",
    "N = 8  # number of modes I want to display\n",
    "# Below are number for the string E of a violin (I think)\n",
    "L = .33  # length of string: 33 cm\n",
    "x = np.linspace(0., L, 128)  # the x array\n",
    "F = 68  # tension in the string: 68 N\n",
    "mu = 0.125/L  # mass per unit lenght of the string\n",
    "\n",
    "v = np.sqrt(F/mu)  # phase speed\n",
    "k0 = np.pi/L  # the fundamental k; k_n = n*k0 and omega_n = n*v*k0\n",
    "\n",
    "k = [n*k0 for n in range(1, N+1)]  # the list of k's\n",
    "omega = [n*k0*v for n in range(1, N+1)]  # the list of k's\n",
    "\n",
    "t_end = 2.*np.pi/(omega[0]) # time array spans one fundamental frequency\n",
    "n_frames = 100  # number of frames for animation\n",
    "time = np.linspace(0., t_end, n_frames)  # time array\n",
    "\n",
    "k = [n*k0 for n in range(1, N+1)]  # the list of k's\n",
    "omega = [n*k0*v for n in range(1, N+1)]  # the list of k's\n",
    "\n",
    "imagelist = []  # list of frames to eventually animate\n",
    "\n",
    "# Animation\n",
    "fig = plt.figure()\n",
    "ax = plt.gca()\n",
    "ax.set_xlim([0., 1.])\n",
    "ax.set_ylim([-1., N//2+0.5])\n",
    "ax.set_xlabel('$x/L$', fontsize=ftsz)\n",
    "ax.set_yticks(range(0, N//2+1))\n",
    "ax.set_yticklabels(['$tot$', '1', '3', '5', '7'])\n",
    "ax.set_ylabel('$y_n(t, x)/a + \\mathrm{ mode\\ number}\\ n$', fontsize=ftsz)\n",
    "ax.grid()\n",
    "\n",
    "k = [n*k0 for n in range(1, N+1)]  # the list of k's\n",
    "omega = [n*k0*v for n in range(1, N+1)]  # the list of k's\n",
    "\n",
    "x_positions = np.tile(x, (N//2+1, 1))/L  # replicate the x array N/2+1 times\n",
    "for t in time: # We loop over time to animate the modes\n",
    "    y_modes = 0*x_positions  # nx positions for N modes\n",
    "    for m in range(N//2):\n",
    "        n = 2*m + 1\n",
    "        y_modes[m, :] = 1 + m + mode[n]*np.cos(omega[n]*t)\n",
    "        y_modes[N//2, :] += y_modes[m, :] - 1 - m\n",
    "\n",
    "    im = plt.scatter(x_positions, y_modes, c=y_modes, cmap='copper')\n",
    "    imagelist.append([im])\n",
    "\n",
    "# Creation of the animation\n",
    "ani = animation.ArtistAnimation(fig, imagelist, interval=40, blit=True, repeat_delay=80)\n",
    "plt.close()"
   ]
  },
  {
   "cell_type": "code",
   "execution_count": 22,
   "metadata": {
    "scrolled": false,
    "slideshow": {
     "slide_type": "subslide"
    }
   },
   "outputs": [
    {
     "data": {
      "text/html": [
       "<video width=\"640\" height=\"480\" controls autoplay loop>\n",
       "  <source type=\"video/mp4\" src=\"data:video/mp4;base64,AAAAIGZ0eXBNNFYgAAACAE00ViBpc29taXNvMmF2YzEAAAAIZnJlZQACYpltZGF0AAACrwYF//+r\n",
       "3EXpvebZSLeWLNgg2SPu73gyNjQgLSBjb3JlIDE2NCByMzA5NSBiYWVlNDAwIC0gSC4yNjQvTVBF\n",
       "Ry00IEFWQyBjb2RlYyAtIENvcHlsZWZ0IDIwMDMtMjAyMiAtIGh0dHA6Ly93d3cudmlkZW9sYW4u\n",
       "b3JnL3gyNjQuaHRtbCAtIG9wdGlvbnM6IGNhYmFjPTEgcmVmPTMgZGVibG9jaz0xOjA6MCBhbmFs\n",
       "eXNlPTB4MzoweDExMyBtZT1oZXggc3VibWU9NyBwc3k9MSBwc3lfcmQ9MS4wMDowLjAwIG1peGVk\n",
       "X3JlZj0xIG1lX3JhbmdlPTE2IGNocm9tYV9tZT0xIHRyZWxsaXM9MSA4eDhkY3Q9MSBjcW09MCBk\n",
       "ZWFkem9uZT0yMSwxMSBmYXN0X3Bza2lwPTEgY2hyb21hX3FwX29mZnNldD0tMiB0aHJlYWRzPTEy\n",
       "IGxvb2thaGVhZF90aHJlYWRzPTIgc2xpY2VkX3RocmVhZHM9MCBucj0wIGRlY2ltYXRlPTEgaW50\n",
       "ZXJsYWNlZD0wIGJsdXJheV9jb21wYXQ9MCBjb25zdHJhaW5lZF9pbnRyYT0wIGJmcmFtZXM9MyBi\n",
       "X3B5cmFtaWQ9MiBiX2FkYXB0PTEgYl9iaWFzPTAgZGlyZWN0PTEgd2VpZ2h0Yj0xIG9wZW5fZ29w\n",
       "PTAgd2VpZ2h0cD0yIGtleWludD0yNTAga2V5aW50X21pbj0yNSBzY2VuZWN1dD00MCBpbnRyYV9y\n",
       "ZWZyZXNoPTAgcmNfbG9va2FoZWFkPTQwIHJjPWNyZiBtYnRyZWU9MSBjcmY9MjMuMCBxY29tcD0w\n",
       "LjYwIHFwbWluPTAgcXBtYXg9NjkgcXBzdGVwPTQgaXBfcmF0aW89MS40MCBhcT0xOjEuMDAAgAAA\n",
       "J2FliIQAN//+9vD+BTY7mNCXEc3onTMfvxW4ujQ3vc4AAAMAAAMAAAMBuaWF/3Z384ggAAADAHbA\n",
       "Fl7fwQkf5r+Jp8K59OVWGofb6UIxO5oJe+eCEdREUpByyNdXGD4bBgLYXnhJwxaQDQ2q2vb9JwWp\n",
       "kLJslW9IecyJdWBFqBvjUoG3DPxGrEOl39Phrk5KYeLKthLyD/PAqBmDIwOmZzov0Eh0hyf8Q0nE\n",
       "L0EiTm5MuoeVmbe7vhSL61nOuiw8m40NhYFHCwP6NcIm9E7NzRP9pCMKlsR+9y2H2r9g513O+MNm\n",
       "LBY1/mO1lhKbIYglo91lVJt+578PCXGEX19/tz621daxPM7NUgLwzp0q8ulVO9vI6IB5BRyxMhhH\n",
       "DwEli4u8bL44gq9ytAEu6WchkE3Q85cY6V0dPe/Y7jJH927RR8oHbw7HupZ45kkJapKTQLUceuaf\n",
       "cgyyIWcv0BxC3kvu8VV2LmwXzq+VYshjcTTtoZwL9bhFfsKZ6NUivWFnqwusvWDMa6tckvWPEOj8\n",
       "OnJ4VkFCbvEz7+o5GYEtY9aC5a+YDAjdPkU4s+GSpYWdM+p8u8koVLeUxzkDcKQJAds96ZBkgWP0\n",
       "sY/xKaKIBRI6iawkbkTszRmn6JZMEkNr5+zDl3t03ByjqvzN3ktzeMlxUfz6lCsJ92HFzNdTqO6n\n",
       "c00DK/EnuToDwqEGV88iYag5EXK4YKoW73ZGo1/Y0tCtyms5ggILEjgSrZ7Hvvt9aKCiFQqPoFPE\n",
       "AWVKfeMOtjNRy7k0Ll9RRuGpfXqIvHViCG5lMyZ1Mj4U1msvFOCrMso4bMGhSRXfIvl1fcxhKixi\n",
       "G7YwLWzj5xxtoL0bdSCq/oF4P/oWOl1lVgLhZAnkF42PMx0qCwWCqBdXrLmNrzjYcEa2Pufg+13I\n",
       "tth2clO0n419PV7C0Zv7TsJIBTj217k1CkvEf19qodQftMsWFlAHHy0mUYGKF28TeJ2u58Nae+pi\n",
       "ILurgKL33ti5fP2IEPuKR+uWwDAhXGquTupMOASyMLtjJ4aROujnyrTje1w2x791cou7yvpy7Op1\n",
       "Tk9nCvBN+CTAWuncWOZzdibZc7k36swSS/qTH9vYlHeiPIEZfwGKlEixaCC5qTGjjEFQt9ItWuKi\n",
       "mSa6Hpm92TbV3Hr8SrVEErGXWKG0JIOcvw3tpnEm8CfoBlSygP8IYsp73AE3nYsfyk4kNVfrZ1TG\n",
       "rEXvYrQRcwaHuGYUA0QeOg1oRhijoQAWVMSTLNA0k4klCZGjfhJGr49RiHq60ABc+mRxG5RHYzWL\n",
       "utfsjPIDFDUv4JSKhi+f+iPRfhjYXuWBNgCPmy2ANfXHfRFr2Bo22MfUw4e+bBdj+MzTu7y5LB7I\n",
       "/+6TlwTkxjypwck3lNjuXodcor+LtuFLIFhUKnpj1ac5xtCurGiLUP5w0fczoyca79zysFm2gB8n\n",
       "r0J9OBeC9KldYf9k7cPgXeFa58L3q4yPrX+OxTzJ4ZM63/+tj5H+TlbC6su/EeqwngZ2a0bJ6tHR\n",
       "Gp7vPuQc8E7EUy1ywAAn07LkEWspg0TswMk5Xd2AuwU66byU9RM495aISJ/L04Egt09QkEEcZDa/\n",
       "ixxudUQgegAcY1QYxfZiRbRn1DzS3i4xaivpieH63fDteYH1EvKT7qWIz8MeNLNYgKIsURXgGwHP\n",
       "Ju2JNzkAStzCCuxPhNLeMVXc7N/DIQXvbRByChaHxrlcFouVgMXwGutDUqNzoGBbjQWcBOkh6cMd\n",
       "GknUuYwSs4wsUN2lXNDkNeFRuhfRpmAG6tKT2LN27aq+ogScDB1rLveP3I7SbLkgZmt3AQre9Zf1\n",
       "SLmdhqO005FvONLwWwJ4rXNnK79a5XYL1/mP/heSfSP2onw3kO4a36njYpmpcuxvbgwzFeLIwddg\n",
       "s7/7vZXGK1+NYNE6WDQm+jplD5fLG8rRWmU4eQ2XefvG8cglbYYZGB4hN/ZE/6IMdc2//pZW07Dg\n",
       "nm1DhxUyTBGs14+fH9tNu5DOYcePV1OPcCZftyP2bgBwkwzHhbiEhWlb545Qq+o4vPH5sWYjtSTz\n",
       "V9szbyjqBEepxmO3a1hd2Fj0Q2ehD/HQoZuicP9o1nTSHtAJ8zuffRp0JGC3Ubcj0e3+fCmleq8H\n",
       "Wl441+8n63qufXkLII9HII9HT3Tw7SfG4WJhvQu71h7VLPA/2DHFSM8+1W1eQZ/912iWnrwYxtJs\n",
       "m6xsizIiuur3xC0LlxgwPxq4MABCewp9D+XgYAkzDr0dlTVDnb1qORRxF44mdMjZ+Kab29VSgAxK\n",
       "iy8h4T/anhdkIX4IU/O4XfWfN4GcOs59MtdRvsWAUoL5QBmnCvvnP2XkrjO+NAskz4/bP/yG1W+2\n",
       "1gTG4BVnR7RmkPMiDTQ2vJXoqfxBWrhgyKGKOubne1RQKeea/47YcrbmzscoHZ8YMz7dqs4Yciv6\n",
       "CunMXKqtPxzzf1hvPVG7pewrvv936PBMw+CZv53Cq4/7RPFXmG5rklwpI7+OOgcEGEf0Jf1vd9vA\n",
       "hq2xAygQMW+vDOI1ILnr/22WtYfl0kHADwnye7jvvNuEYYJMcgGsO01AH1K/5oKvblLz9C72PV2l\n",
       "s0czawGvJcr+YoMTDpQAO+KLvykB3Z54bgqYnKXxWeH0YWND5jPvuqQHBdm8KRdYG5rEP+DdV+hP\n",
       "IxEji5MTv1AkkROOxxyijwHue14LljTkbW3Jwh4KHfjRLsapW3fwNoFIwwKT4kRaVEXEA3E7Tiux\n",
       "MDleiDmJu8assU98Gmvo6xOZUuPRnTAOLW+fZ33Oag2/RnCP9W5mtBx1vwfA3r82h9z9iyO4ZtHe\n",
       "HY1GZui/oQqZ2lq5ISUY/0N+prUwj0ZvMPXv4TXp7FOB+GVe/Z5sdhMXvW/Dzk9ENMb7oscmDRRs\n",
       "hRK3iCA2a3VYC9+1Von0NveP9jLioDl5HrxB3akecd+8Xaik6DQKRkqT5pVcleFYWmetd4cVbzUe\n",
       "WoGNYm4bH0ukwEWx9OMxzSJhyMBryYmPkmvyw7M7AHPV/W7EBtVfFng3I11Sli7J5iLqiumy1Yuf\n",
       "OkRBy+XP5Ec3NHoyt9C3vPhRlgXI9tMowb5n4/ZaOWdHHbsk1imPGsRHaaWETdxDXU4JBYG0+f21\n",
       "vdgETCZxXD/tQ6+Iwm5RfNnSOObPxTHeBvI+wW8Kc9WpS2bqjrlA5qSqA/Dmhs0QxVbW0RA7W3gz\n",
       "GBj0gUEdG1wq/6Dc/dnEIBj403fNQK7gbMaie4jephxr3wHu8V0IniwSGcd7oVowMRXKPxeh5HoJ\n",
       "1xnmSik7r64XuQqM+r4Ek1tMd7X+5ej/TPLMfWag5nVWVSLFRYAInLmKAoPtCcrYwuVGb74NoCIR\n",
       "eUiiIXlzCtfXM2/JiKqOY9ea353HXwcuvEUmDiFbVsy1qTexb6+m3qXPkkmUbonENFLfBiEDxGkv\n",
       "LtmkaJWmou5+yHsFqBu5Vwd8LeWAAAW1p5fXh47EQPli9fwsJBm1A/85OYVjdYOVqBtEV2ZvocZG\n",
       "njrzilWg7eD7uU94Q4ei79y7CWqxtRMZ+Z7S6guksRYWClSZh2Ixu0GmGesANgyEErAMYiIV0kJe\n",
       "Bci8XjUL/lTyjNYSboTH5Xh0C2mSiQ7rQ1zLcDXrSP9GbWIXV+YduQ51Ek/chhH265CrZX4cUhr1\n",
       "ISK99u/hJcEM8YA//bXGeo9EBpHrOSwg4bZBXLexnLp+lgzKyLUnRJp27Zids4R6UeUBWrqwAp38\n",
       "3oLQLNMpjA+L8ZNT4loW68KpwawEEBnm/8hUY89f+fegb+Ue0ZlVI8hb6SL53jvBT8ryu5W3PMLy\n",
       "dwGSWe+GCBA719QoP3HG5D6SdpSfoAOSdZDbB0ZSKMuDn/yTFy/nUCYsQzG/MKUEPu/QgBrdrXg2\n",
       "wJ3RVtUaymRkV2TXH60cQXxwM10p0r3c8t1r4IGeKeIrq3Ii5agVectfLQaAA9hrbDB3JcnKxuOY\n",
       "Ovq06/X+2vli41OCq1yFMxQvaVXzUQ9Tu7EgoGMcBRbrjy8fw7rMm/l5Dn9mXQjttOewCLwI6POg\n",
       "zj9V+31IXj8ElI/22YOCg7Shxg3DCQ5SwpjkXJzGbuDsdx78z7PJ5sZDhYWCKN5U1fIbiudtdBPh\n",
       "rot19V24Fe3ZwmwWhv7WF6oFKuFZ7eSdhdsgAg7kSZ5dPV7NkH988i7Ei3I/oeCDgPzesnT0G4X4\n",
       "BJB+apA/bSgWbjVF6BwUCl95lkogXO9idzX5370IYUd8ObF1568m1k6aidIg4v7df1p/Jfdh2mdI\n",
       "1rhrgi/G5HsfayCSHReBAod8UOUZD4WBjIwGMDS2indDk7KP3HKMJ2erOXwkk3cdaMLTFeRXX9B5\n",
       "X0t6PigxH9JVxwF7u1VIkfr/2+1tgPWFSC5Kgot9I3TP4fI7xtbT83J0K0lbFvgh89zXKb83uPji\n",
       "iqwl3H6XT824p5RZP72rT4YmyEgtDFkUM85HLKMgoHl48CeBnoFbAbuz8vTOXM1VOrbAo2OfzSz6\n",
       "upDki32dWvgCG6K+knL443l+xaEmb7lEX9kF8d1E935pH8jv10nAqefiy50xbUJY7M/+yb7IC86T\n",
       "dw2SdVn4WZ/fYLU/fi1IECVJkHtQ/Y7+TfpZylPZccfYLw0bW58fcdWfEiV/tRi6p3LFKrltjGA2\n",
       "p6COHkFTRKI9TE2+uvrGshBA0gNon5rAN+SMknNoeMbQEkEqdL6xBFSQ5oLMTzoE5wH5QVJAJvTC\n",
       "x/5JbLywhxy8YAtiTPK7FT7DcAc87gJ/juDKAsse35ctSOXUkwswMwfdZUzyj6sAcsSTQmQGmL2r\n",
       "6u9w8zioxNqpVBt2xnijaKVNS17BDdiNJWGH1VpgXMULdZHbU2rklIAvQuBIKhUgkt5ruZmzNQQw\n",
       "exBhU4UmIdb+O4pnXZ+9CjEJJUSTMQWEYH4YP0V02+2asiohEhF6zLQvS0HabaVvAPPBl1bzzWZA\n",
       "kNgDoXbAbuxPQAJkQx7UYg80PEbEOY0iNiclIItf3LNlfMccOrhTbxo5kBYgwtNDl24R2YJOSOQK\n",
       "yoMbYvIjZBwPliBgvFij7xeLQXWNG77gxmjesSu/qBm+yKXQqearT0MTufez0NH4O1PafEdHxxPm\n",
       "HFY8t7zHMqzphbPu3znmsqBrwRt16BU69rxtyZkW7I360ZabMX1exFh6uuN+Am4TGFs+rjLwKTnr\n",
       "c5a1V/VVsjeygOzGTXvyV8ropBdNmYSdVIFXk6AJMUEaF0tHsOt/oyOi0v7JN1AAminwejpvqYnx\n",
       "5ji53WUrmHQPqghlP7yaz23L+9xtu4QXhE14gG79b2gBedfED45xTLfB+3OH9c519Tz+xpMsb4On\n",
       "tGNa3LNQvQUA0VbI7qvOgFK9ZxiYAhjj3K1wAr+f3DrlYQfnhjQ2oOpznk+bR1hVCa1P044wE8r+\n",
       "lzLlRZa5igrWLsI+IibebQEBm08lHl5isjWy7lufEQHZYrr6fZs4ITBBZ6qm4MHGhTkjgflIaGK9\n",
       "lvETkhdwSlD4lZAjxgRpS3alKX8T+hDbZTI+uqDABTGiBu0Rda3rI9dab5qkQuJLITxx2v62GTTg\n",
       "p1Mettyqd645+R3mM+Nn6sN7dln8rZmQnL/MpSh1SKAnCdBWumw4C70vPVZH1MWhbNg6GwcfBExn\n",
       "q9l0oOF+kf2+EMeoq3bryNM/ij6btNDJydqjbc0CQk17SELUb/ZB7OZkeyRPOzLxyJG457K4aOrE\n",
       "OiYeu9wagQ0feKKbhMvhmtgeUll7qLBGIQdWA+evPGPgrLRI1fa8/JB2EVFfJLUSpEzc6Alqig5V\n",
       "wnHwEhj0leDaic96lgQk65uncBc8NqSKekyHPSvqsix2WowwSZgipB9WpsXL+phuuDdcnFj7rB6Y\n",
       "hZk6IAMRR07rkGSDUI5NGrctSDjkpEb9OHl6+ZTYHuQpLn5mnnIrqjQ4u5T3DV+6xcOLN7VwDYra\n",
       "H1JIHgsLSzraQ1KImnuvTEqwuujrzGMuLu60zKRIP7mgJZYPVZpGldrwGvMc/CnNyf2B+sr35sAn\n",
       "DOFHusuIjmq7u9RiN1ncUbwBOcnmokLEFRQadnOqL4cfcIh+hq8ZhOR55YoDQOUvGmWCyYELgufh\n",
       "oH00gCk0pZKK0dFZZP8/jMOh/spSz50dIyBAF1ryhbAQBmaXGEpgD2MDG55kgig5pqGmrAiZrnjN\n",
       "mH03OCH4j9mqTizevKfEXOd3QF+NJJiEW7CzfibYTEMoqzwLZ8lPCnXFGIAjEXKWGfwBBnQnAWtt\n",
       "JwyxphFhDwzLWx2oO57nWYj7TAunljcdz4zNkYFABnwlQWkslgldvYJrUOhOtZ31SOPXRXMHp2Za\n",
       "/T3kyiykuxRj/vJ/rcCtLF1CS51ILw+cal+0kzt7xjmzy8FqP7uDOjiTGC6HL6IFNAZTFewlc949\n",
       "i9YO+T0ZT+s1JdSnZC/tZuRph+k++QUT380HtOUpLE5ieVytsmcpyOTVL4lYc8ab4Zr9zAXSLQvf\n",
       "ZgJmOT+bn4he1Yca5Z8g+fAKPjJYY4zosKCVja2hB00BG8lfpNSv97cEi75YbHEZQAQ98aDkeyhG\n",
       "vNazhZSXKsjedhfvsJpG1sFOAf5Jljoen0CdvgtIZwOrOZ9fGmgJXAgLfrph0tb/8+wGioQ8guzP\n",
       "oU56i6uBB4eiELsJmJ1l+YTRO20UZj/5FDoDhht3YgwvrdZHTI46FUtJt8LoqbUwCXim1B34YzOG\n",
       "a8Njqx/HkwC/ovFliFu0ZTs7bKu3GZdy5ao1lJElRaHn+6aXhVAfPTpQsQMkQFNYhLgHqCNA+2KC\n",
       "0SlH8AuVR0xQsRcYrXWKa1tVUQ6m7xXoO2r0FTg1JsrKUDnHRC8ehxcHTmYOfli3wKJSFeXscRrd\n",
       "mPKaQWVkvk48usUXikglwJT1YSb8BKsYVWb2PNavCHNL3r/5axkpu2OGkKIcj3/SneeNDDZg3Thj\n",
       "M25hvo6iM30pfSXUgbMhv+TcJMK+l3/LPiQKnO+F+XT5S5/imgDHVrMs3TPU3atsIQiJvWY8xw5+\n",
       "DHlK89imtJ0YoMZCoRi9khe0jUKcilMP9HAQrabezcsJ3rJfXzLejnBGbd7Nw9H93KLKrwAmCVjR\n",
       "/JIHwiZpTSIJmwOJyqrh0pGvlswdDngAmFXQJLEwAlRrbPqTvUEynMssTU6aD3j8KRjQv3UItV0e\n",
       "8VAMuQAAGJBHT7V6iqfHfyAtwPoCFqkpEeHjbCZsZnFMusgxL76WXxrxIA25zWJ/0MP3k7NBCUxO\n",
       "PbI8hvFhUkihF9WVio8f0fwG+HNkjx/KfX+jhT7VF+BKNh4gY/VzT6m1NLyjSBvo65ms6WxQ3qjN\n",
       "mMqnmyudkiCEH2LGTSgE7vkot7a+OCA7e5oEwnobxoNyYbV4GoaRO0oO+OoePMD65fGWfC+a8BVT\n",
       "IEnBYac+6fYPIEXkHFrxC1O+70xsjPvUXdsV3iz+MVletn+PgoVACUdzeJd/6kNl19uW16Pzr5ZL\n",
       "XIhtK61psNJhEoOChYgndLYNZtMyvlXElos+Xx8UzRX+P3y1Zv+X+x5C4C3wZIAGr21XsO9lZGAX\n",
       "h1dFkYsNc3b3ca+LIHbDpxUTATJ4R/vkvPETmA/6Ll/rNGej+EqYW9udXx7tQadh/o8CuXmQJDhZ\n",
       "2UWwxJqUdyCszpQ8wSg5xxWXhEO9NJFlbcu9X6VseYSTbViHTURcvf0wUooso3psMs5dzeqnqRY4\n",
       "Yy57XEH1KGBuf/98l2IwqTYQ/nfeAWP12VwaI1OSwOxnfb0P0H0QYqmRK1L6v65EXEuPGZb4wR8G\n",
       "K6+CzpC5GoEOrRqZukOmmeY2i9/CDuvOCpSW0bOXRJadZc9k7bUgAv8pqE4LSxksLliNUhmfjZnc\n",
       "l/ZgqSz6X0jWL72bE3PKJwYXliMNY7tv4SYW4O+iOGhEXwiOKsdicC+M2528hTdOHVqxlQk1PKIt\n",
       "vBZ//s8/t4z1RlNVldhC77cvd0Bssj1//gmAVYWRbCHOUaKAA3USiLaGx3/LP9WGIrKoIceWDevT\n",
       "h8I0I2vL3SBlZG6QfhhVovJQlZ5kSyu9KhibK6+mxEIJGId6IpPKm95GiIanGBganEVRn/pBCuUm\n",
       "W5JdEDVP8BsbXCISAYx531eAsoYqQIgLpozAhZYXRqopVxSs3coUVM7D6Cu39AqbYJSqLiSGjIr8\n",
       "OF4s1UNZ9Hpp2UVckyeFmcR2jWxBY4KZw7qPtGs7d+QpFP9edQrBFQneYbzVdLGAoUmMuYNhKOsA\n",
       "z3kZja6kV9wP+JxpVwuc2WQzG0kwnvJcnfAabTchgpOmYshTRl+QJH7DlH9ZXFMk3b1VxQVWZve+\n",
       "Dtc+49TRztaYJn0CS635hij0ZXdkADqPZMnjVHUetUIdgBTtWzhUoBWJG0lCWKsW7ZZ96CMlv5S/\n",
       "4NM3dUV6ODGRAn1H1aoafbU+GfM2bqyp+2CVMuk/mmsM+EBMdmSk4HoslRx6Yn2TQh/g+z0fiEGP\n",
       "hGGodM6uXgvkAxBh/3C5LySQIHjcGq4iX8O6s+7Gluh0V+brMMXOs5oxHq6irgqcojWMHzEuAYKG\n",
       "OUseEKoqYRE6HtUU07dZxSfN2ayPtVB9outO+VqCGmVWafgpLmkqIW/ERvRjakgAmToHKHZzZsJf\n",
       "u5Q7iuOTHib4whxz4uMKQY0lJW6rIBj5tVyDkvFU5up6UuTiU1LAIUI+FhmC/GbRlpBeiYyu4jF0\n",
       "huGVVItOdSrIF3lfuBlHKEE/JFOwOwJuPlFuqWji1hZ+Ar54tfK2E88Btwf7FbUqQrsdj0UHT+vZ\n",
       "iC0Pcomp2wPVhy/7/dukMCPAR6TGQKKOCU84SugQ2VEg93vHs6vjEBWRghnt3sArivIJm2VoXwYl\n",
       "P0S8wdtfNrPFvvSappD0x5ibXTO411YUi+f0Iu9QmvNYn8HVs2c1fOcf3e5g6XbO1pguj4OMUUtC\n",
       "uyCU6p1+bIQsQv68vJEmOU6YzFWWgGW787qjm4p9J0lhD1grKpnl0pgGg8eBwuHHAo9Hy7VHYobG\n",
       "J56JwE08656SPi81+5AShNeuAiLs2CLOGyppAuG1BrzVGyx4I25sAHv02JLgKDyMblVvLxYalvsw\n",
       "n573xJbsdDbxl/e10jlloCjT7F/+iMQOQ1J9w954MrLKf97XpWcLxpTlLwzmPpEkKq2o2ucmzVx/\n",
       "ZCN7vDo7x6sAF6fnbTKul15RsCIh/W2l+Qpsuukscm/Mu0oRj0aAhSfn/94lVJFbEQxpI1XPNRSl\n",
       "r0VpmH2f8WRLQflPzXw0LjhVaabGx/CXFjJmU2dOK3Orw/qQzIva3V5WnI5Quwyhhmna3OCRC23Q\n",
       "PI8rQretiJTZEg30UblKeIIzUP6AoF+sI3oa0YCdmjNkOH2b1Fxti2H5kSHPdotgxqmSCd9H+Iq1\n",
       "8op3AceISkTkp/Er3CgWiEKcpqsOmFp7di7XoU/IGPacRd7sH6xochHMb5+xCp1nIwuaONSFMQdr\n",
       "fS5YQgKb/hjrVqDakUTGVksiT4kHNGwxNslwesxI/82MefWJrna7HxVhtHTAYZjsYYa03NHHmYdl\n",
       "A7lWKXjmv0rIcF1bmYEfLqZ4hXy9ccC8O/i7NLJAcxDUrjtD/+GsCwAu3x7nUDMU5gxn2WkKhQzq\n",
       "dT9T3lErp63V4vccqfTl1DHJEoVB7bCuqTHP6h/ESawtRP+LW8xrmnmkOF1ahhIR93m0/WhxDiFN\n",
       "0XG1WOTFU/rjKRNy60kadO2B8wqaOhzmNeI6/OjZ1lLmJEILq84z5kjDBmhNARWQNh7C6C5i42Rd\n",
       "NSa+dcA6jw34WyEnC2kkVzLFwXPlYhdLxKbJcxsvbk6BtOBApByj8OpevXW2h1bR011uJHHdkfge\n",
       "bDSGjAaq0IsXtNC7FSXfJ8209Ix2poekJMQijvgD10RPLafvNyWy/QAKn565cEdu6vB7LLSqm0zp\n",
       "4Svy2jIFvANnB5ok4eYeG5iBC7jZfN8WiYw/wUA9TmvqUMw1tTyFMOTvwQTWAWyqBXTctZG0COW8\n",
       "69m38KecK4CPJKCRfLK1AhhVcuFSmZxiBc0HGNvz2XH0zZt8QkuHFGIpcRjiaN1+teewRVcIVCF3\n",
       "WRFBv+CmESalbJQDcTinfT/u1H08jAYqoVcosSOD9MrlW8yq4VVTjA6uGonMLxcj9XBC0LgwDqLi\n",
       "cExPpxlmQMricBwiRpQdc4b/2H4e+9ZcwkDBWZodNcxVfanChJXsMFO5BrqHFAvZIm7xJqgxNzE/\n",
       "KfvN4umDMEIB/qzw32KoTCvVO17dZqFeZFUAcfe1WuGyTtHFItRr9QPKTvhcj2Tn5MFBCkMxk1Id\n",
       "qOBaFFHOPhGRioCGJxC2m/6AtD2C+/FDCZZaBQba/XoVs5vqg1wLLyBsjmGI9nz1Q8VI1cJy/VgF\n",
       "JA0LS2P8SZAqIwUU5TOTLdAN0KBbkJtj73izbkD4IjjeytTlb3vLd3Gs+PpFvFmLgt4loSKFYZhy\n",
       "jG7O+DupRhdc6igqIyWcSj//+m4DRlpF2SZeea3d3dE4krMbYyvgorcsbC0hch1qR3s2y0inpztp\n",
       "Ji8La9xZROTaquEcKCcPHIg3MnZ2oQxwDA8+UdXj4oo5S1UmtsC3fc9lun9meTwA1jAMdNR10yYg\n",
       "oTrwc/QJ07Q0Fbydy9pKIM3ZZZz0bF9vJWglBvWP29VWy4YLDIukV1u9FzLuOyYQnDn5I6M3D9ji\n",
       "drfXmFHNCHBn/qjwoPMCs32CYEJb4ViGfVts7QFpSausP1kleSiDvLWraybKaET5xxXL9TgqEW9u\n",
       "vpUxZ4vU2ffTOnMPiWNAmlHyTorLCgcGyE4tMuLoF8FzRkwrwpZBhOOdpNqMAbswhXu+7MOXTGW3\n",
       "h8LcU5fKOR8Qn3LyEfdFDy6Qqh/r9584kzDJVN24v+UAOefOsZ/5wEV0RsWuw6FxIbKy7ixW2igm\n",
       "UPsujMXtgo1d1ipsdsLI2bfzQ3YIOG0GhoMN8Eyt1Ibqyjro+b1ZlAKj/J9YvJrgN86iplj493ve\n",
       "1pPwq9PmXw0m11+xkavkrjp16Cv0n/O+PN7ImnyaCN+7h7pxgMq3W8OaWbbXqYE+zPt52W6ihGi/\n",
       "WjWV8PL9AYv74ZpGsnWzspGIBQ2XZkcX0j8i/SDkScMJQsHMxm+5BqeaS1Lgt4BvkFidsG6KsLcu\n",
       "M1cj83NNTk/+3re8MFIvIl35cy90yCGq84vARStec93WgX5UgTOpOoB3BKtopD72J7FW3TI9jQ1E\n",
       "8cmA/QJvfcmx12xC9SDPCp/2xw/i/mm6PIe/ChVHIclu4B9oROsKtSGDqBOVdIl7TgysVa8rPwGq\n",
       "LCx5JWLibpjQzRqGGGQ+GRaswE7fp6d53ly7waRva3ienHt1CpqBQv9XNTG+RSbXLTBNQVYWXUK4\n",
       "QmjvGJvB2bHzY486T3RR4rwdaMh/F8oCmGW4gBik2pBHYGaM5pwtIQzaVraePXNnpN1fLpEqhJ/p\n",
       "ki9LPPbFg6cxfc84/eTBy25TCR5+cCaDqqOPOiRMfLT9Z4rZMLERwXWY9sHOg1JMQFTQsVaBqo2n\n",
       "Apbm4Zj6zn3cL1OOE4b7YIYvdll4/Zvbag8MwuNAHR2Ga+iYXfnEI/tiweWeAHP11DR3G+SydPox\n",
       "59dNM4wCC+4N5Ep88kUC2jgkRGIuEQimzWyhaDM9vILFkkoIl1TQzC01VfJpc4IHE6rTlUGOK1Fj\n",
       "EKDFVSQZvtbBSRm/mVUZe4j89mnY9FNVlm/nao6O+c3mN9MJucymNqenrgKO9SOQPY9EHMXdslQi\n",
       "pNKMd+g9sYhMgS1cRW/57SxFAGdFV1xSpRZvnKoeDVEV5OghspBMXoDhM22ry5/k5QuSqOD4chJ1\n",
       "Qzfng8oMPldrBOh0kpCi8zVsdvCXji3y4oisVgzc+EUezwZcLdAuIpv61bXkJsYdI38wDZPi8QIO\n",
       "kuh46zMQoOi/A1c+DLI/choqoBQXyYiNGYIim9fkfJt2rB+QiukSTY5yjF4l7DVfgjheWfo+bWpz\n",
       "BU/2g5WFp/DHjtps8aN7j3GI7HmyDv9/25Qv5l+QOJYexhym86Dt22frzwZJ5R/JH9ElBKr6uq9c\n",
       "71kIXAago5gKxsFRA9giQdwq9G0/OHXTlLtbC/aHuzuuHfOItUsK4KUiDveCS9uXCLC+mNs/vqop\n",
       "ddH8Ew3kgTcuDQCA+TkwwxJp9ok13CWEz6vy8z0/O3d9T30qNepy9ImmaAoC1p4OXcDXYQ6rr23U\n",
       "7kwwlYUy36SebY0uq+HAhpmFkiXsB2vi3xlmQpJClhIityqjHoQchrkbjrzuQuptcwmxpmpSIrT6\n",
       "3RiCFbWJLA1wWzg6isRJVoHST0DWnznB+00OcaPJ5oGed+c6/Nb2l9Yc40aRu3yVhwdGybZomcLV\n",
       "a/+Dg3+cxltDw7VKI2tk7+8ssV5i9uy949yX9XWFwHmEYIHvgWnfAA9nd46i8Y8bkYpwTn/zP1dI\n",
       "mzwc6gaS0sXF++Ut+4saynp8lpZe4m3vRbyqhIGIhzrTSKuo6gFFymO8LKOnuLhRwktD9ZQgIH/e\n",
       "5QThglQSSymjqpKsZGcM7aXrizOceXkZRsXhGRGyEUpgDWAuhqDg/pOHkAr8R7SFDefoLkk0J7Gv\n",
       "h4gV43pdghGxTxo3DlTQX7WjB7es8sjV5/d8VRLixQfxqBfzJkrKRNsW5cwpn2dikbwDLTBPL+ZW\n",
       "V97velzyr6eMacHYRnhTrHjLrH9g7PICwEC1Cw6wPMSsRlDXcMoMYa7CdiVwyrx5N/uMCofoO+p3\n",
       "Jy3UD9vrZG9qJAt6nORgvN8Ex3i3uMP1z7Rd86nMpgkK7TMSkVQqHzEZdPNRWa2G5FBlw1UCikso\n",
       "7sfOaQinmsk3O9aJ2aVK9ohAUcMyHbN0BXRYFo+ZtdnVAsiPgjpSNC3m00HiU1nqjjZo7oIfFgDl\n",
       "DvBDNNjqP3Ttv08wSTIVDVdbS2NBHeXUjJ/PFrezAvIrjyHkzQDfwJT41UxO29+vl6x3fVBXij8t\n",
       "wri1lSb1jlty4id9TEoMzb9ShCBICBfag7tUyAHJfTSWenk64UgEsoOHSYbdmnjeU0v0RtO82nMA\n",
       "fbCwH6opqv7mCufsbS8hk3IJI0arhnpWqNy8y4kzhpx0y5OXKOmr8crXlffa1A74r2oxzy95K1Pn\n",
       "4ttOsAQwzJHlK4Pw1L8MkACMzpQnsn7QnTBJceX5RLWea0jYngdBwXA4yE60C0HRNre2pQlf2L0f\n",
       "ZmzQd95NahS+0SDJlqflUdH0Hyds6sbqsvKsybKwvjuNas8oLbIy5Hc8I43ndt7waWXpCLsHhO2X\n",
       "8VtcxMURVcV32mfziOw9gAA3aN+20UFLA3Q3qixVmnVIFeEeDEeHHjAWJPAD1AL9ivjxQpWh2Uz5\n",
       "alxy89eZaGZl9pnWcXXnyrhG73l5R+MKhDZGTwzHbzFtZ5N/BgLmuCPF94Ek+ndLaJYZy1JRGXlH\n",
       "Pe9efJQLSBom/prOG1Ge4pVbOolFC4XPfyysRNYLw+48yV/Bi9Qc5A1xHG5x0jYaaAe9AAADe0Ga\n",
       "IWxDf/6nhAAINimQiPBH7yutm/QAkQ9zH+VAOWPOAw13/uLfK33hSR6Z77cgHcyiCYeecfa2FTg7\n",
       "kIHljRxwNJXkkxJcafkwI7OlkAWa1J4GB4zK0wSPAESC4aQwcIvmItVIi6HDaDv5brHxTe4SKToM\n",
       "q5uUMyJ5H82KWceqBhEbk3IQX0veSEThzFa1LUrh6pcNGHIr2dc5c4p8QQNKPY+kQIUCmYLNKKy6\n",
       "97l2UTA5WjjyB+ujum7+6gS2zpRvVhp7VmMEnXCTLn0LnKulRynAMWgx+EroEL2y5TKmiAhE35zb\n",
       "LOGJrWEUGEsSYtKHxl10rYHJQT9CGZYI+QeVz6T5cLhRfchX9Wf34uPERg2mCU9svXHcyTtllM7Q\n",
       "jIC6TQVGf5fi3V/Tdt/UNZvD7012PXlc7C8mNBXq9BpDrT/rFeGpBdjHltIKKPhC4Hc4ulexDv/S\n",
       "OAAd77Zu5Ao31CHjVHIexikt8gf0pz/8wG6L05IgaE6e+bJfHA+Suyny2WiC1dWAMEr8nNTyUHxe\n",
       "GZx6bJFfaK36epbrpeDyOLE7xmFPTrjD+aBLC4EGNcdoLbv9IM16acPNPjmx8WAC3QjSdpF706Bt\n",
       "YxQSTz9Q/GlzhLohkOxWFR/7dth7gMuLczAQqZudsb3ikZDoW0VaWAouXZ6u+rHdnFqQDjswJutc\n",
       "Cum4VGgk4GNgDJ7sUfxaIJ1HOcvO2L8K1C2raTFfoXb+KKygH4ncDbrnytEGRbc1d0IhXLXHIsxK\n",
       "SQcVFxKJBhBv1xTc34DkMsPp+8FWYcUvOOBVmP3BU2QtVIdJLk8JlHLjtDLHeCGdD28Pz9ldRm+y\n",
       "q4CKHvajwCpa+IHK7JNYw6ywqfoYQvjxw0bfxH486Uq4febAjl8TufA9oxPgkuq9IUGUH3XDNo1q\n",
       "eu2FNLbGGTUatV/sAr2sGV+jI65EJnU+Kf3pzIF3WEObQNDg8FlAlJvKpzFXFd+xRLasTIdugfld\n",
       "CZDEaiIBQsekOV403I0MKAU/Z6CWWfcyUMFAD1MoElyMoOPBJ6sryMb53lHMEkuym/uwQxo5m9pW\n",
       "zjNOu/DYRsBi2T0gtNRknHPJVE2rTDREZoMjwD5Y+KaPcHjR+vGm8r2LJ0QQNu5IVE4/816x09TB\n",
       "t9bpXYigABos0aXwKKcNueSoo8mSI7jg1ptntLrILO3F4AAACT1BmkQ8IZMphDf//qeEAAntG86W\n",
       "usAAV+IRADpnbpAMS9Oqjk4D3fiKKg+KbCUrWg2XEZn46Y1Tp1QDC75HGag4PK8ASdJQ/pnVH63k\n",
       "/Uky5BBu22FmNePX5z18NJ0+HeRAqk+f6+zJLtoGmuK1Iufvab+1dAVI/it8BtobdcN1ivWS8Q+I\n",
       "+zs//7K0sV3kW7HAIsWKQEceOoJ317WJDaTTISvxUzpgx33hj34Dn14zy4xQOTPB1fl9jQ6d4exi\n",
       "wGqAMS9XlDriq1HST2RqeMB7u3uDuy5mHLMbGUwx6FPVNYJdQ0UrqUXMdZU94SD4qZuNR1ANnsqT\n",
       "fQfiWe2uBXuO7Rnf0EXrFh0gFv1qIF0n0lEXnqGJ4xdpn04ADkQzwrj8xGqJvVw8fxiOqUFIpzz9\n",
       "RuOjH+zv499G2MPQix4Dp3Y8BCUniJhL5PadyNJDoVJed8QXT6GpKR6m12kuHD1Qe9Cw9vuKCY8x\n",
       "BzQSApbCgLG5jNn+g4WEHyalPxgt+fQ4D8W0b8hL6lg3M46nRBHqlwIvpHiWknH/L5i5tAcqeBfq\n",
       "17a8LPoeQAXHaMQ/1b6oau6w2QdT8kj2842VfSSUWpwCs8aY2izaaTSGCdxD7RqjwJ9lCErRSoja\n",
       "rzuafG4ObxS3jD2zTFkEDC0MokQNlw8AQ4IQp1SMb0fGmr4fxQb9oHdUZXBCZDtoL3Fn+yhoAAmw\n",
       "Erl+/bTnraeJhlJywhDEt6fZoAeNbxg7JoED8DUKyDO1pRWMmIf3ztCfKnNMRv2pCZzeHw9cOsZN\n",
       "Ce2z971O1tnlyNpPBBfcxhqPGzy872rZ4wvLjLE0UCFbTYDGzOYxWo7srH2UovEYcF1e8iV4jSAk\n",
       "V3oDDwUk8MdbbdjTZcH9ZTiNUPLCUbwbawtBoPVQ0NlojZu3HUJpVDQnEch4AQx0pZzlzsypgq1i\n",
       "SnBPzkhVjBI4ut6oUoL1yQ33qC7KbtPv8x0y+0xy+vM9WPRWMQOzMuQFX6vjibeLlZUIscsEvkE8\n",
       "WuCQ2sACUCVeqtyaQYGL0xsx0Za2RrCRS+djEjo6Q6zynF5LA0nMv/Ik+8UrDnAMUX5Kr4tEegcf\n",
       "s5YHQCiFC9AYcyKkMSiau8XR/r1elCEvx7d70lQkPMLiU9ss0R9Q9WJJz/+jvPWWDbUAW42k7Djc\n",
       "3ePtPLon7uSesL/7bph7QVQ+EhhIwefEjHTXxD0LUSv4Gqd/x12wFabFMvQioi+rvVU5uYiYL9TE\n",
       "Lv4tbxocqnTh9xFi47tO0oRNl6+3y1MNhz3+C687HMzqVRQbj6eGmCjTIlfwXKOLOf9tTllrf3ff\n",
       "SC3EehciNTHn+9s83mWemNhgxuQiKaWW8avYv8LXnZOxdgVBQqbFIA0QkzLI9CN5g4d0gKJZRyUN\n",
       "QKmWjAdERttFyqKCTlThD+5RVyp7okOjQzdCQsUW5E86CHki8FrOqOdznFAUksTtqoBmLHvzagMx\n",
       "RGpNC+4vjtiSTEy7KBKvwy3BM7pnbwqNGobankh4oBGvJY4vG3NFIsuwO8USqT9CP9MhBpu3TEkZ\n",
       "9l5UXID0kGHysp+7hmgI5BR5upJNGnAr17kkbiSfzSGtJk0C9RJCNz96A/O4zc732DptYwCYHZ6A\n",
       "3OwJsH/ftVz1Y/b/NOcu5ENhdRnxLxP5qu1+/nx0eGxdVoZx9+s8XzyeBpKAwH0vVkkd6UNudtjn\n",
       "L6nbnNgdW//4xiTUZKn3o8ZxpMMnfX9Ez8VPKKFWVqFpzRXh/9NTxgdWwVQJTLfNKjMyRSU91tQL\n",
       "eaxa6W/hq/QzgXerXPxsxY+F/VDpUGwEk5X9cmzU+gf3AquLBcZYrcumggN0zfFdDVmibYYoq9wr\n",
       "XMO/HhUS2yjh9GLSokZkzbRHDZGikLqf1ug26dFPi1UEMw53MqTGeVCUMtIXiQca1I6PKaLQ7kTz\n",
       "LVRL3GS+BeWrQFw3v8+f568wApEEVe/x5ZYF2h25nOmHAjZ9XbwDhwVwmqX402KxaOLL4X4NnNhA\n",
       "2GSBsqolPrA7CEzwahJfFkcc3V4Mi22h2lXnsWSoy9gHlAlD0MzbL/eS3NDmjVwx66IjZNxa3hQR\n",
       "yle7S+3NP9FqHJmRuvAlHGTZeWrDK4e0f1L8swsLP0liXki9m6UxbJwvH4tbPL5c96BSdbYWDaUx\n",
       "0QLTqs3u2TQb/OeE9U62UiqctCAl3w9HxzJ0DxxnBirZwXg+4PSF2e4OqGpqtygIY8/SK2GB//85\n",
       "mvbfdh2tWo5wd+8pv5CWNztcsgc0RHQonjOmGLFTeUJ+Jriv9y10LvpZtw13AYCkV6trM/ESIKz3\n",
       "32WA7VqytFUQUu3mseCXPSkPKfcGGK5ZieW0O+LJ/6lTKIJduhsbV+66a1iB/jkYizzsVWAl4CdR\n",
       "22aqP4Bx4BNQurYUgEzL4r5+QuytRv4QEi2uVpl8V+LFQFasXG2prCdCzTeP8qFgx1Qn6zCuo5cr\n",
       "fA6/GJY4xeW6A0B2GHq87S1ZgXiMGLBA5PsFl6w47qRga5D/QZma9LN0ltp+TsNHhRoxmMQ/OzaB\n",
       "rb0CTh6a8IysqRi9Wqn6rn1agKBDWwonE4+k7fR8dDHpewvefpzkukoZGhpFO5bdLC7cUtWvWoV1\n",
       "fRgALkj8EWAMtq3ommR5s0MWg3wJjtPDDZY5WYpDWp5WX9jqVkoKEl5iGvo1svOcp+eybV5vHeQX\n",
       "GgyFxkaRu9+COC5+b8XhFc/OeEGkNMaYXp331O0o/yXyKyyBq7kkTbOUAz2DgTg6VEkWxNpDeW8+\n",
       "Rq31Wr3NT9QxX1Trev/NXXPcB9Qqlp4Iict21RaCDLh6sowqLh2Et6z75ZBPKokUAU3Tj8OAWOG7\n",
       "OimFjES7mr7HMyKqzcV56K/MUSokQ3H/tcOZs3hh9orNGRs8Rlexm+WoxWxl6Q5DbTRmQQ2VJXuC\n",
       "Xpt9JoQLintCqEYW54mtdf0XRegL0ElI6voOmTW1BcJFZjsBrBbtDFYZc58LdekD6hfVULKfSuW5\n",
       "AVVgZClAKZDc72LT+8MFdC5xfRwbsrC8dy0hMrDo0M7BfBwrnaJbwWmgenzBlNE2xHGGObn8jW01\n",
       "2BDPWCkdT/5BqgoGf6Vy+21BcS7fN0lyGyUZoBrjakg6zz5eTZMYhMor7irIxffeygSW4N+W/awX\n",
       "Pe5fOj6f2XohAAADT0GeYmpTwr8AB8VaLKv/BVtZlT1yCOnbymW28Dzh1+zVzJXgJKm927R8TXnM\n",
       "zb0wbBq+YJnM/2R0NoS5E2IspLJRfm/ltV2AKLGsNS26+PrOAA0mzFqNkzro6T1UwViJ7mMka/3u\n",
       "jmVmDTPToSax03L891ZUCOuEDSJpf6pY3toHMgMFTqRnKN7RX0RT0VgjVBPI7UVYirJJScfLHXXA\n",
       "rQu79PK/MLtmK4uuCpkt1GGi2Q3i2DTGUA/lvjbfb8X++gbNHukdIu8zYr3LdIWkYSp2ZrP2mX1H\n",
       "Sl1hiz5mdQIrMvgz/pWIAN6rL9w6w83d+8exPzAMiDhjTGkn+tIW2D7O0ucZLUgM9JDByHfQ0P/V\n",
       "S+JUcMrneQAbTfL1ROu9j4ammW5PRaAhyEgqj946DrgtBx8437pCdu1/sTEnj2EQMLgStlc7pcrl\n",
       "DzOWe31mATjvIX9ZcbFoHhNv/6jiuI/ms1IptAOryI8fxP3SMwCXTuaWz17al+mUDgB9FVghUZIJ\n",
       "X5WVCYasHslnYK778bdTH0iSRDh2Mk0mU1anAIgoNCTywdjRuewdHNXzFz5o1DiuTLHWexkc0JJg\n",
       "1WcGlP40Ze4VofBs4+RX4KKBm6MXLZ+gf+hwZ9UP1vnUhghxgqD/gmnQW/tL0MAfb8szhwehHxeY\n",
       "FfJFEyaLnj5IcE/6y0PkPTjNlR7Wu9Uq0dBKWngO/PEWuY6kIuG9KS34Dd593LMfy6gIv9PtvhUG\n",
       "w4hOmbNAKnmTA2YxjaW4D3rzIX9U8n3ZS127wWbIMC1MQnM3ZFKsr42s2fRna3QGjZUOE7BfSOrO\n",
       "e1iDZEd6XxLqKaA7/Rjsqdkqfcg5/UlSkWsOO3iDSZqxD3L89GqJgFaSoHYkoEqTr+6L2uPHgt6t\n",
       "OqXsr1OHUSCWPobIssK+6WwykYwjqQrw2hMWhlY7365SHwD9V1Hl+qREjURqe1a/urbNAM3FqCtU\n",
       "pIqQepWzqQIyXs2dWovNaVJFBs7ufDLDIHsaV+gpQVzLALn7Rl8L1UQbcEmPUGgcgZHouX0Laut/\n",
       "6U4gSf5hU/+eHIWe0RItSiMXdT4wVfIx+1+VjLX9VhHWwHNpUIlZHssd1oFC28aS66ZzyqCRu8Oy\n",
       "kBj62aMAAALBAZ6DakK/AAWKlURjedxPgwzIyFWbbqRBM5flJMfopoEOrmgaL0db6J8Y7J/Rr1SC\n",
       "SKTXDoVrn0dmTkgHkqgJahhBjbHpL2Hs8O2GTgWp0z65T7b87YTCXshVZ3yrMdnr/LlcqMmDd1At\n",
       "k1jypt5A6+r2/NluUiCfHbTl+9M4bLKVBOMYfWvX1EMUdmxKINFy4QBRBbFgWa4+jvzabjS1MAHO\n",
       "J2hgTMRnB0ALjDzVGUOOeZc30aCmyoWXARPHPfBjKivHpXcUWMZxBg5RHejUq/stTX97h5eGAu/V\n",
       "RGd/5z/nSfpfC2VNHmsQ4+Lk6MULdyghF87krBK1quitaoxUYOjdVS7rtOLRdB5XyFyDVOcYT1fc\n",
       "y3DfPutQ48fameWPwX5neACsrXRJaRhmwwYwIxbZay4e596cN7NVj5mCRhfdetwUc0UGZSYo4M8z\n",
       "jstyHSRh/824MY10QSCC8cKX4wmzhL5VgzfEnPRfM6azHB9FH1CA/2jTFYItoKNfuc1Rj4kPbt/C\n",
       "q+UVeeJOFhAYlU1kIP9BT7dYPFAyaW7J1LPEinO1kSf4DMvq7tqxcgP5xe4pE6GiTw6Atf79JYdQ\n",
       "kaDjL5/HScWfc8/j5edRHzO7SVaAx4ArqbLAgI/5wXPFE1/ZYDq3yUo+Zic9CgDkjOLW0hrQ5gCq\n",
       "icW8bAZLJ5GSbo6JdbFS9vp+W3V5spA+r59foXd5bsiINY0N8viY6mgCR+Y3dNiutQUg1gtGZ9g5\n",
       "XA46pQTZRouDyx/H1tAlBVESEOYfFKgILFOkEWTR6FatIScq9xj25qWFn8wZrlo3LGRTJIPu2Ke3\n",
       "gdVU6i26CR2Xo9JfUGDUweL9vJR2szEinpUorZxCHaOwDU2z51Xwl30P+p86Suq24YhR3WWzJDpB\n",
       "SJbZxfMeBE+3IEVQZ0jdZI4QruTnuhgA0LhOi0x9AAALLEGah0moQWiZTAhv//6nhAAJ719pAE4T\n",
       "uLvVkZreDWZnnEVzldiD9cJRkmAEITseXYcin8STeMki46/c7yOydw4JVPilFuwGnga9DGH+l5rj\n",
       "XNbHgDibIuvsRftrTiObsqpnlwHjM83L7J5IFk76755s9jCMMXNzq97eV2TQndYRsC98n57jXGkp\n",
       "0EyOygniS9QB01fBfRnOV3za3d+QrYLd40/4LzDStdFIsS/lrb8N+MBe3R73lx78ucl58R/vc0hv\n",
       "EK312LQTNTGwqcrkvpk25bJ77Z/wWQKImc0Hu76YYnjWsW11bgi5PktjrXifFVwPg9A3SABzUg7w\n",
       "t1Dl9eDGU8qvQG6j1CtDInJNhahoyR3BRgQiYOBRzWbpZusaRH4GHEt2VMVdGKjhmk7ubTU13ERb\n",
       "o3RZsSHl/YmLLqz4IxI43lEYSoXVrwCxVPsc+X8heeAFFcEhbxtHnTD80xvl8FBEtS5Zt7oMpJhy\n",
       "EFy2PfDiuCPq5brwcEiNNgNPJ4QoQL9n4yS5F3p1uoh3T22FWFypOC8oKeX+RD2ljpgwspNZ8/TX\n",
       "uUVGvJOB9Dcy8tqinBuYNer7dJ6OL5oLe1SfwtTcQcWeQ21+y9uhtio+tQiQLBvZmyiuudNO4oAz\n",
       "4uX6+77MgXTU0ew3XGKzsPizIluj0GeKMYa6lqttg010qSH3cleknNw3gA+g1tFf2f74spqJPJC3\n",
       "laUJbJEC0rcuoCfyQV8dGUePFu/gTm2Tcu6RiuKipVNElWMwmkZdgpj8QiV9H4GaYoIEq1ufPIZo\n",
       "APA6VfYvkb4NPHBifgDgmu423XeVYyMzFrefCbQLx2qeGmbV08ANLM3Wy4Gs8NL61A77Y3C7PJNM\n",
       "THnf5aGdfSU/6WCYK+A88GHC07oEn4YxPuYBo+QJnqJ59TRrDo+We9rgf11upD+YID4qDCWYm7Ta\n",
       "5iNURQNtsAid5/zzgCk4uCH5ablUYT79f6KYS7oPq/gNrtUmYQMf2nSGz37QtDUBhCDSfx/0VubR\n",
       "U0s1zpAPb5YvoWC0K/4iYRqTAFyIwIsnBWT/C1B4kMnLsALHQwto4e3+/owr35nkBGAkknV2Pt9N\n",
       "usDjq72F2AAwxqfbtAHoxQ1O285k6PrOYh0DYAItCU1D5axhxKxZpMImvLksAgRrpyQ/oqkgmqci\n",
       "wx3CspZUOF8xEMDYt5q1IYxknWW4zx1hEcg+GVtVPfcYgJxi69Ixe7SyJHmaYRi5acgvzCQJf9xu\n",
       "Gh2P93746WhCrjYbleW84Y6SgXY7AWz0/FZXrxxPik7YgJTpqFVKr38LXOZxEluPDNsWtrZXIQMP\n",
       "/MBg4ttsXydn09gA/IL+ewDJo8/EWJrP7IeRwxZgO6muG9Qwmp08ory0SjWzRdo/2BZerbuBRmJB\n",
       "VCWI72WXiMoDrnmjTghcHoJQuXbZqHfBH/5MJMCWgpWoMxJ3Ca7TLlzI95TE5NHnQUj1NHlR9fim\n",
       "DI08KXzgG0d0pbJpErPw3AODWdrq7KHeDL/Op4j4Yip/scXzKpSwbjMg61yZXCMjWOylG3AbC457\n",
       "byC1NQxJqeGbv3jxeIiw+eVpLGPqoaSBGjiw5h0jNIoLA8CZBndgNeVATfupGq812d4VsUr7yjcF\n",
       "JL78p/dX7zN0OnYg1EU3LBPvl7YUPlJSZLTWD9fNMZm7qj9OXQ7qqDrBiacftUlnltBo90waQ2Xl\n",
       "gi4nJxERtZzCDSL9kicF+iR0YglZlGfBpDNXD4R2s2zVAYgfiSHlhsLl6kgPHq/51cY1wdrbhRHK\n",
       "DJW7cMVnS6MOcjNy+S8UiosWz63S2SGz/OJJK1Vnlg8hp740fDHH9TGEmk6LjX/Qh8tczw0SulkR\n",
       "BnoS/bXQj8aTS1pJc/fF0O2ojv7hLvRG8bo4i3eB58IzIqPnpEvlikYzsTYI2fyx2btHXcpjRyTU\n",
       "6zLaA5ueUyMLcYtN84nG2foKWPem8ZZCMbTbnDlXtGv9oQtGewYaPjvJyGxinRFlCiNjFBOqkxiC\n",
       "buLiz9K7R2wgMowjJzMAE9vpHJ0i5lkKaBz2IPOrMcvhRnGFHZVjb39f7zeEP7wmjunnbPxz+I9s\n",
       "HqsIIvk7/nD////sUsqrvIdxV8BC3gfHLM5KSU76FzR1mLMH8n6Nt5hnopg9R0+Oz648V/lCcuoG\n",
       "SLb8fO0FXLE8z7EaTTE3sxVzNlHj5N/pgaFSW8opOFi8wRunc3cSfwewhTqh+gHZf3xfntZeZupT\n",
       "ImWYugshNS5JXz6AJ7uLld6fa/WgLd90YJ6zby/xRbwRti5RwBKei2eBw48+IzG7ToaxyXAaVF0q\n",
       "js0Zjjd9VztyelHPqjvEwbXfTSvxdB2VCU2sIXFB4MwcloZ8Bwk+ISk7utsqg+B7v0FiHY/GMxFd\n",
       "VkuFkKzphfis/S9zjtikmXNXEwcdp9GKiEoubwI5cF7MSzdWGCesZXDg6CWUu6bz/NCCnaMgRQm0\n",
       "av8mP7cLJdsh+FvzAAQdzxPFZHn5Sh+qTjzGinmxr7foO1jIG8VpMB4Uz4Lwei//6WQNFM/2XIUZ\n",
       "RfICxanQqzOcDRGLRs++dxro8rM1YYZczPjCNODAIeE4C5mwhWrUYeYG1iGqDrMevgzKd0K6h4Vc\n",
       "Lyns1hinfo8YusI2A571+aWc9vm9vt24iXZjPMi91HCmeTkwTv39PzTPRE2WvXQVzelX6ouuVcCk\n",
       "8PcF7ocoVXIGSjWafgseAF7Gf9ZuewYzrBHXRbPDp8kUY6ZdolUnW42kdlTO52ZBY5sFAiR+LWni\n",
       "/6j6Yrv3RtlThVZ083cjinGEsAFuAhvV6sWoZP1C5nEFenjghr249nR+eDQnuGAIiCAUcUm4pwk0\n",
       "Y0JsqDjnUiFtsFasN9whiQ1n69DF/ykzQQfQyTOXjA7ORe+v5d5vBKCh+FDA4mj2n4rbbj3tCB2m\n",
       "8j1vXn603RVOLuflM6yd8B2mxJKySTo1VFU6BUgV++kzJq6vtrg028IUD5o15wNvgdrRgohQjvtM\n",
       "ZRFd1HkN1kCZtAA3yYrt6Z7S5oKBPmSwqvGjs3cNfBOMuYJ3M9nVQ8AHgVvOKO+Rp2IL7qjVzynE\n",
       "7UMAptWP2cV1KPDQ6CCJXbR9/vpED7EKNL8mGof0esP+56KCjxQN2xCMk0odMCrJxDISjomAIYCm\n",
       "3CFxI70jRPvEKAD/LStDZnEftP/9VHqbLvZlq57xlkiPscnI7gjCiWgwRw3Pzcz5LA4pd/N//TPX\n",
       "At0atEyura1sHGO0Gv71dz9uWthdlxte8xWONmxKfYpemnGfoqgMyhSSzjcg+OoTf5ZSmftv2ktY\n",
       "GtxhY9g/ElYkRHe6OMhUsPWDWHQnRLZgrzfapMA+1JJT8tO+/7wnSeQ9CInus2iCK8tgJ8CRxlvG\n",
       "R4Ov+1ozKrZGIe7ONNx7WWvxpuprKgMA8MUkdhjHjNu2UscfnZxTfKoHwhh2zMe4YmjJW8kpawe+\n",
       "7TOjvX9izQdMP8hWQ89QnFLJYJI6NqD89km14//14Z2pLT+qzU6nS2JjZBuzVD0FFIy6uV9JmUS8\n",
       "T9bZxceJ1lqohscVxG/Ng54wphcPSHGaST+6mJDULYxfZ5pUEdtoBva1ZzzVrg4gibE/VSRBAKpL\n",
       "bdkn+z/0LTlYRQmcQVviU/kjCyEFkq57x3h2KOTgtZZ9LJYoJTG0g2QCF5iKys/heiTI5LQ1Btr7\n",
       "Eivob9JaQ8yzQzajgdzoQTuj6m1SHB/zmBf0B6kgDzZKoWtIQ2/3+YMIPPVUg8baLk4X1xJoKcrz\n",
       "RNGcgnYyqp4XPHb09OFVxhSNpSE0p86imxKg9RXlPK971CGCt5xsV+A+ZbEAAAQkQZ6lRREsK/8A\n",
       "B/AHWtlHaT721GomWtpCloovyYBLaQZVaMzUxcjqcSYcICs1wPWWj6G0ARINh7/a0NvZwp8sN9Fu\n",
       "Pd4Di8EvH6zc+S+EgEPBzjy0Csii9AlVIGm3JizNYZtlcO2UvTqybHa9tk/LK3Mzb9C8DPr/lBuT\n",
       "zhIrQI4jPMYR2oRKphvUIMcF6BbaPXvT1S+mb8eDtMV80hNAsjVjRyk4OSE6Wxe4aBXEcr7dY3+I\n",
       "P/FZZ14ztJgT1GJ3fM++ehiAs6Ys7WtOlpApl4JZG7AbgMIYWaphmMTIkykEhzVwlrQNwz/M8Fyp\n",
       "6CwByd/GteRzVfmCSBqYBd3UdXvsy2qRoQ5fhV32ECz6huqWT9a7+k3nDszGGCKHee3SN/QzxbeE\n",
       "nE/T/q7wB1rpIQquVvQ6SP1Uvtxe84XTmSov5xSTdih9p5DF+SWFNsCcl7PBjfc1Kn6ihXXsW0ET\n",
       "ZHtG26JKPFWh/7q4Gsr5F9TpD40a6MFWiTARdjMHRh6ARh4LdYky0eAYeWiJp1n9UcexIs8UOrn8\n",
       "AFrLIOuWhuL3UfVcP7WgS9ImQaZpgFZMMCWxj+qkhvFcjZk3fPSTZcR8HIoZMBvyCFAKnfFJTQpb\n",
       "5icaCtEZNAiiKCNT0Bvbpje1Pd8fLGwp7jCC2Q0X1FLmArL4LdWSl/Rb9XIaMIvhQjkErPa7KU6/\n",
       "SI35dZPW5UkcHI/LqVMO39Qyv6R1Hcl7wkHROcXMBy1jlPkw0vcxPAjnZA6LKt38yv6Dta0Wt+ku\n",
       "ACWpbrB42g6AzRymdhbnj3JQg+jD7ydwTOHCU2CNPSFuT2cG9u4BFKqb/h1DoN9dUY/y9yRMUnMh\n",
       "TtNPruOvOtTrA+0GSLz3k6jYcbqc00um8sWPpbdSywz+GHjBVDN/dlk4LccD/DStYaZ0WoKLS04c\n",
       "2y6aEXRMVhH2OvOITVoiLFdLlygnfcBzv9HsdyYjTWeqkugaX/XY4iTmIjo/nN/0edUc7ISIdBP8\n",
       "8a/U0BAvZFw9XE6m3lAoB8r0SQEuO6/SJH2ZP1GUu3Xe5/tvkWGmYmKpZfL115kzsatAcYJ6EXey\n",
       "l3qlt+ii8wHhx1j1VbQZ64YLkzjQiJlE4ORZ8N6cvyGUAprCfo3vDF9qh1HeJuj2YyDLEKBXXPjJ\n",
       "2G69ewiWlvmCS6HHiESEpSrjSUs5oKff7QlgED2uZinSy9vnO5ZEQ2hjJNpv1jZ9wSayEz/AKxgU\n",
       "pfIeFcDCOFvFxr/werR3q0LMTIuRa6kvYnwDDpYQDqC20rpGWeT+MZstvNlUbLMwBCqC8loKpFgE\n",
       "PmDuGxlsb/8tLgEm3zcqDmCRd5OMgo/Bbd5h5zoucyvDao7kJGsFU0YUC1MadsJHYkZv9UgZWd7x\n",
       "LBtseoKXjY02X0oOaGQQHk7hAdV5T24i/wAAAzoBnsZqQr8ABkRlCLvq1IUEAg89M/WgNZnvuLaF\n",
       "ua7AX619+sLLwtRAVQwky7aooXWpxhISsuSo0aVu7RnQY9+y+bza1+OCyNhQAlPki0VtMK900DZ/\n",
       "DzAH6aGGl0Fob14/J0pW+AJQc2w6q7V+E+EnwMSXI2AGckD1hIfvngWodEJNRYUYfa3Y+MmsWItT\n",
       "WHv2VWFJoroWJhO0qvNrcXBqSC2aona/uYKVxfQymwON9Ec8ZOctxMcBJaLyrSYIR+gtUqXPwagf\n",
       "UoAZcTAXptbGOScaFMsg7thGNhiRilyT4MbC/E3UzPRug4wqrL0D/qpVx33imsMelpqlSuVDQs9x\n",
       "wN3GnavDkWnLxPiAGSKfMVzpkF7eU3dNVpktTgpcliajlXll1xWM1Rv8o5XGlASPIU2ujNI84cpx\n",
       "xnpZJ7ebs9cFP/4T6D1Dnlx2r6af4ricLkqk1UDDr6ByGXhbc2iiJ31PA71dJ3thQRW5DDh1JnVF\n",
       "rGk6O5VWb07/IU7JCQKIkQntx0D00Y8sYBHc0JXEtR2TIfHDoVuo9HhnKVIQHKQhLEGwopRYLjU+\n",
       "OX8dDEw2aatvs1LwFhjvnOEetO6leJJQJ5VMcgx7ZF5PzPTonAa3wJ6/4B76v0npsB6p5+sNn2zB\n",
       "tHi4dfBbVae0IwgpVMmH4iCnfmm/LC6xaUsNMshd+xxWQfsPY5PvkdhJl/k7+ZUlBR22nX19j1kE\n",
       "SnxGMq6SGFEclbhtMyikFYGgYj86KpVnXO+9W2GcfSU8E9fk/5d3ab++n0kT5dbXYz5mVrHR9c/c\n",
       "R5NNBYtVKxvRaW4YMz9Ko3fUVf06OiQO7/kCalv/HxlHAFapVhbBAEmJx40eAxOalqZgyizE1EdB\n",
       "93yqNU/JXNikqwcDBpoavOVQlxHDMungy0xRfz93GdTlAy8+GRrqJIlT2Mimq1pavFbrYXPrjytB\n",
       "nrUBTRUW0FYEGMnZxf7Wv/D8SwplfQ8XUA0pYGFyEPwTGkRstUI+fVma0YU5pUWM+/3U8vjyIkdq\n",
       "CUfqd4akNKe8Pcm7GB4ThZiX3zcNnOQqFcybjmtxOQNentSG4LQ3bsN9iTvg2IgnQhuI4Bpfyi8D\n",
       "AAAJDEGayUmoQWyZTBRMN//+p4QACfCGY4QxEQ3ccQ4V6Ol5oKrrJ+kdqJHhl7u+47mgTZaPt8IA\n",
       "rNABZXruo8yIcgkK27xkUSfKRjX/XQp4m5qM3bJ8fYUCL1pk6SjK5x+Jw9mYAk4FMIIwfBpULYkz\n",
       "tNakofrnHBNQ/biYe+z9RX8a+/v0NbzzIiMdPt9KvwBxd9zzb0Z364kksQc5wSWvvaI8EAO4m18C\n",
       "xT+Ek1d5IupVUz0r2L32auNkz7I+5w2iOvqx8DtDSX1qQkJM0idsuZROHvTwwiLHhyRcvAaFNvWd\n",
       "dsOdNnENa0d6INvX1spt+IiIJpQO3f9JuRgBQgXOcKwf+uDW7A+Q1Ueo02RwIkMWcu9sdfDIHFIY\n",
       "iQ0hVO1AjdeD7Mu9chdl8yU/up462Pz07v/VigvwMk27TDNcQv3T9sVOXFPLnsomvWXp+BmYKJtv\n",
       "mxvfOYK1TdtYktEohtWC+SqaRhfCdS4+fkelAC+3IxGgrMaC1xlp317W2KK8pnJkRAFNI+lg/XVv\n",
       "WLmhLuD9BDIXHCy1NwOUg1a5bbum1dcszUn73JsPG4Z88b86aeD1TPMa2hm2F5ztlM/upZyMBuXq\n",
       "c/Eh3o4JaQXPPBG++CrsTcazNP5NKtwnoBP3b1T3qQz2hX7bi27vU92gme8TOTSbHYMfMdOKoR9R\n",
       "/VefVBMRj3AJzGPEa+yLykOgh2MJvGBp9Culd9BeFp43YJe1vIVtYas0tzDaH8lQQrcqpwHNtFX2\n",
       "kvMBF2f21BWXJkcm9+BcaTTr7PJYZfr9PfdwxO3sfDd2kLRE5e/SlsbMyFPigOg/RQEyCV2dSXjK\n",
       "wTnH3bITJQOYdQWeojmFCR/E+/GJoRw/qQldSCclb+gImpxxNsVsZjEG8vODCvDVhEPDhnP6iwWw\n",
       "9kWsuiTPBeMzCY9blgyf83pVeVz6W+zyMh8EZjD+NkTX8ksqx8zYmClGPowcHwFR/I6qlY0/2SzF\n",
       "WeP++XNh6XOf4OsQHrMBNhe10S+gPUHaXWKb3JAaatLyg+LHosNbfo7uCvKWgdcvuMIIk4yTd7Dd\n",
       "n/WXlSlgrJeitY4lG1meoKIBXpj1ZLdQ1Y8u6zevi7ngY1zOBHgKxvD+K7bi98r6DAI4RX/WnvDH\n",
       "83nWACBPab7RIAtp+PzCOXohkmSC7PbvLHc/OlKC5vEkEqRKFiUWkOXFn9BfsvHKvp1Z5seSeXl9\n",
       "ucjM4UtiqLSwycnpTS8weEK3LfERdB6m+qP26rTB8XNBgJlr2OS78twKuC/L0g9xp2CGUvAYiByJ\n",
       "uJwszG73N6OCr8qzCrFLvKpJMcRDguDRX/VrspNNIdLyURjVpxC2LOQguyRhk2aUgwyH+X41+Se8\n",
       "L9EUTAja1nrykjXQaKAwSJFOy+imTruw1Uy+ReaRfaZ58DXsHAopR3vhNhVQc2kHbwhDjK2Wgxsm\n",
       "lrCHql/Yt6l3qx+pDyOMDcM/jFmp9/WCN4ejMvrpRdSJ4OupT954esihXXoCcGh5GrDdpQ3ScmM9\n",
       "puVmxE6+1sHZI2GOREUStgys0nr3BISW6c4nz08Oi7BUGv6C0gZB/fhADqKOoQBGytN6v64M2X/H\n",
       "ks+719mINBU/QBf5HUu46no665EeX/kzCmkVG4FqdLeSJf4ffM9L6WP99OS256m+Hvt/ZXyYn3AE\n",
       "bhauoXtusE9FE3J0xlLTcDT09vnQHQeawIc9EYKav2ChmUqjwChUK4S7Frk5i/o1ZhO0CWP6J8TY\n",
       "rclCIh//BMOmuvj965Mdesb112/DYnPXsjFLe26lGLy5zfQc99amm7wsFIVQebuViHQD7+Ngpdi6\n",
       "cna3XdQynlDgef2rQjoVaaIpIA3BU4EJznu2UYqpYVsXxLukD4ApVbne2Gg3QKTYu3rvUBcYh15J\n",
       "WEvp7PHSqRMLHznGoU8eQN6LSWo8Y+SaWH8+fdcPBLe3cROtT0rPbjKivzXaer5x8qN9v8u8/15D\n",
       "YSEC/ZYJYR4hGOdE7QPia/Q+Gp3xaSZiPgxU8niD5hKByq94+8vz4pZoCL8lG98Lyruu6m4os9hU\n",
       "fodEZghYuHM1GO+gaFrbfvQcY70WzpQ7SCISUbWayYEAlOmw+UuPFFrHlURAymTIzc57OkhULsqN\n",
       "8O/iH8HwwlnA/CKg4tN99hgwOr2MBwKWIziXszy5KwD7OuEe3g8HlKn7Y9SQZeLPGHZI2854lFgS\n",
       "25JuaZWM4dUwd25yHHzqPWlwivkq1NJOKqBYOvXoAjpds+zNTqI8qkYSVDSgtZuaRXzne4hC16on\n",
       "NBY6MxsqGLEDQwiou3u7n0lmZo6D2rx5/FjEsEmYuWYy0hbB1tM10OpspzJdEmOngUnoObm7T8Ck\n",
       "bd/H42mWZbTdhDoTJBYdkynP6592hSOAZBP/5cYDZ70l9jgDOFVOrr+idcitl7hZTOLEKGCVZXlb\n",
       "pI3KXkoIJ1D2raiI2SdnW2xHVkC2YQVnKQ5wT+G9vrgfWOfJZj/MNFFILOuan2VK+r5iVoiv+IJG\n",
       "JMn/nBQqE6B0jiLOXhwiUStnbMXvonLbmrDrYSsL1ptayK55QlxtZV3j2oEj8htu35ArWNj+A7LU\n",
       "JWQFA74mVZ3JwRoEA5Blp8DHNobEfmw+XJOZwjeoFStG4q0KhJeCfEoKit33DrGMpojno81s2ZI8\n",
       "9DS1b59A8VXFnP5rBFvdDF/7BAWdTJzS8H8qB1s4/xWwtxp/mP+UxYtm/c04JynyGzvWTUubssNG\n",
       "knzVLtoGTsYW/V7xcE+DwgPrp+00Fos22+zt0RWksrj2/+Phe904pl44/Y1s9aSO9oAWvaLdepKC\n",
       "j0bvsjPT4DR3GE6KUUE+uE4SxnPUv8d2i+tJL6ForrZkcQqV7bb72v28P1x/OtriMMeRfiaw4dES\n",
       "d5QYXvQM9LXw6BLaj/4DqPJwv2ENcfCdwu0uuRWp5nLo30aRRh5XfrpyLrPBuDOn7PtxsuBruCgm\n",
       "ZUW5buPYiBjYzY6m8VZQja3DIIDkhbtHU/Rb3eXC6XYrFvdne3tlzzvgv4kFuS+3BWZBNzH/QhRr\n",
       "3fqOvuLUZu/v6kx5WGgj/ck+Uk6DpuwkZSAukAEpExlC0YAgXVC4xQAAA2EBnuhqQr8AB5lbB5N5\n",
       "cZ+EehYo85y41ZTwxU8oBUjwq4p0VkENkz1O8QFgBkFN7KPPoAVU8FmY6osAOKCUqDHR8RhRZJX0\n",
       "cecyQuRYuNkvRUqOKeVgKTUJR1myYnJKcRN4OE76F2QWg9dYgwZQGMMHMjPwBVeGaIS3dzSmdLUO\n",
       "2wZQSgFo304zGUUM6jqDUd0QTcpNBQGQ4tjZukxDzxu+gxL8JUZqvvlovfWrjD2gAf5oKbyYBjVF\n",
       "YrETyCXBnSCz7WFNrNUoyYWZVBAcTnhQUVfoLb/NSEawFiXa8iMqdSMVm3Aex9S5lG3z2iW/Upxw\n",
       "gNHUia7w3nNDcBm+ovmcyA3FUrrrs2c9UewgmT5iaV592x7eDnpHqON2iV6Jd8DRw4cGPvVZfn8m\n",
       "khRI+tI7QxwRM5g+rwoccyYdwsw1tMjd7TLhocFnPq22ZWBDxb9JAUSailrraqB0vvZr8mLhNNLF\n",
       "az6vYJ3h/OxCpmGRcA1MpIegpSLGnB+OU9QYxxTzRWnjcluIYTS4tlxaGAQXqeGI64eZkcNUVTBY\n",
       "RblhAU0AcVJw2mg/N10OvoeeuZ+gWLw8247rGneoTRda70MN3Ezy6d8Ql/Bk6+JwpsffDnzpz6c2\n",
       "4qipfk/ScLSzAEOmuNqUXRJTuEcTaA5aRW6kgW8gmH8ihTokDpkCVhupuCejacqFKlKwFXjOFvDd\n",
       "bTfqHAKUocCIB7ebHsKEqul47ctCq/u3BXnMkuhiiDdJ6/XdTgNRIUy4TMxHrRZPCWxOlvqEKkWZ\n",
       "TUzXFsPWgIqKDhwNN9etyjxuQcOmsuasASEmVrTyQgnbyFJspodFHYBubFpevddTvh5t34+BSrzQ\n",
       "A9w6axcvMnmFh+MxL09phOWkidrIeOx0YbnlCU2yvhS0DQ9y4Hvp+Jd7Z0nMyt3VRzLjyifB05es\n",
       "lEbep/L3z8vDF2LlFViLREo7g90PK/C/T3I8JbK9RjPxz4fNhxAZ8glp57R90fhM/Cpl9YK+hhVc\n",
       "97cVSdA2GMeOu3i3zKFTWwAj1wKF7Y//8wEKsRAuJzbeLZAIWbyy62Oa+LVlDPT85uQWuokjq/Fx\n",
       "J+/+AMM7vK624YFtIrHSskz4A34CRDMvblhT+5dvbHHNnpy6VVIQg1qAAzbjMhleGYVy2m1QAAAJ\n",
       "vEGa7UnhClJlMCGf/p4QACabRiAPD4gEgfhYRMJlfXp+3eSNSzoDkcF3G+pqiQhtbWBMTyUaaJpv\n",
       "2F+RBY/dSiJKPyse/3lzcdL336wZJEctd0hjuLEaaTl/P5bFR8PCQcGPVmyKG1zN4MFqBNz8GjIB\n",
       "9upzWTAOPugWOV3C4Caklmv0U66kGkNz6DhDZIM+eTFRG/5r5Cnwcdf/Js9NsXHKwMDE981ANyGP\n",
       "1+Xh/uRdl83+Hc0C5tLMUW+SpwqPSTaVsJL59lDkqY3hLdC2qjv6QKlpHJ171aNZBUpzyOZf4uIe\n",
       "nZRwCa270KWnGmqO70gdLisuGyDJW4iiUG/KFnl52zDErUq/POw8/4Epv4LMeyvjHxkeWVGzZL6F\n",
       "FMsBZt1DSbkUObe8nqg/noYg7SmeogUZ86PpmXJzWGAhKRUC9yyxPDBIbp0X44E0Zej+zB9MHwuD\n",
       "itizL1grTPwGgm76RNozMeUN7JO/g3iVPMbYJ4Dhom259Vlsn7G2vYIJzisoD+LQSj266V5+O4Ie\n",
       "pc8+YKaRbh4anSP+BET+RTaldrRo6xKo+YlZ4EGsl3YwjV5GSRxwC8kqQA6VDKt1QooSC5eDD4uZ\n",
       "0hN938B2wvpHOwh3yXGiufg6xoKzYwGQI/YoulNSO82iyNjocsi4NSW8fZCiByv/L+lpiTEZSS60\n",
       "rslIswOhagI23bvdos7Vhln5X5Yb03gPsGA2DS0p2eswjhXiIECsminIeyukxnOnJo3YhpgUwP+Q\n",
       "LkjtVSTzRoV+ZVSVMx8X0emPXAAQ+L0zY7DNS2vGRyJRo7CfRsASmgrnMl9O5rUvdiqpy2RwB2qy\n",
       "n5+lhY/plFKosdu51fdTMtJ7/M5rcgS0yM7SC+4Bq/w1BRgaRl07pKrKiXPMhhvrKAr6BsIFHmQo\n",
       "o50x+c8OZAsHWMyv4zwhu3H0sala1xCkzuwtr8jRNcOda9JFqh1TsuR8zwM1ww2Lb25ik7HEA5q+\n",
       "3aBuWhgstAFRXB+9ynATfTIKlBJHI+ZFiWemJMMaooP2u2GdZp2tleZEjsy9pIAp2M5adAtPLtro\n",
       "jcfJtBLzWuDPI4N2GB890URJ9jaiwHCWu1tlCDQRXgu84sMZT/c3D7fMpGmkyhcOPLaYzvBZ8q5a\n",
       "FGl+YKvB3YX1SBtjJnpWn1yA7WtiCsKJZmVKK9DpPudtmRaCQLFXKvntH7uplIy88BYLNmyZ1gwM\n",
       "u2KLJ4C2FMZ4abC9h3oLgd9PwtSkyLmkFWjdCtnutoe4yOgLSQXyApxIQ9/MphdWxxAgsR27qoVf\n",
       "gQ5v3sIsprhW+EUY0N56EKGiXwAOaLRZSCXbTEQNjwiU+MMqv3Yr5NNAgtQukJtmYoABt3g3NuCn\n",
       "Q3u02XtfoF9ALiBIxOuDf5oc0/0WhPn92dUwTyb5oYyr5Nk8i2XJRr1wlf14OPBeW00akZE3whl6\n",
       "3OuyP2rYJiEPyc+OihHl2DpQ4v1C0UO4sdqa/Mb1+LJXOkF+Wb/J9i87fg6SkxdHp5Mxp7ZC96qJ\n",
       "XdlwP4iZlSS4/We0q4jWsMcPIe45JtgAGVynRA2nQqJYwBMCXJ92p4jpblF3XiRV4Q29KaAMliCm\n",
       "FMp5wT9q+lFsx8LPAbmsdTHYfjb0WwzXQ5miYSfJzK1mhocLopBZTlKxZHevuyK9Lh8VzagPFCXV\n",
       "OMvSE3dS7HJMthhdOiy1NTdMWj9m39xYdvZh+0MCATnjgRU4n5o3mrm8YbjD8kiDLU5BL4fUmAal\n",
       "Hs5WDuhYM7iaN2kCIiUffGKaO3MuUMbO6PniZyXR95W6tw9yeTlLDzxQPSHBeOJ2teFbOr6ht/hk\n",
       "lxd/n/PZ8/B+A7YGhfA2tGyPNnxJbOKpqnm4QuFKo0D3y5M2z/sEVxwrmStZ41W0jyMOSbwdr0Sa\n",
       "tC9+gLU/ZRQiPvAgh5RYOrv1xR02OQn5h+2LGn+7GetNodr7mJy/MJotsHqJluGxHvZcYGxFn2RA\n",
       "B5s5nO2uOTP2ZOPKJfWHXjQgO20hTg8aXd3Gomd8XRQ1Hht2yNhmGXeJjE3nZicC7PdHE6SQBO7I\n",
       "+y8u7+/Yp0CyilqbEVd1DW45KUavbVvbOxsQVrXRtRtYWihQmeGCgQjIis/o8b0pAgyCpg0vCo8F\n",
       "V9JQ/o+DLtKoe9wMvz6n3dmkrxdjnQXXu9tswSx+lP8HjGG2ZPFw2i6EKy00AdhTaKGRwtDoSPGB\n",
       "7msoMaFxSWNrI33invaq3fzu+LAdEst+iTVVPuAZ+7SGDQiPJ9h4QHcSvfBnVgo9THDLaqkPSykG\n",
       "NbihE61C0MlgO7631VxmkuAI/wzaW+HZbnyufk/Vn44/oifBWU7cgjOqbDRvwbOzKQfi9KAPW1YC\n",
       "q+Lw5gkvgWd9+zBB+3NyyInlpMwJpPn2zBoV5+KDbYmerHdbBGK+gjY9Oh9nZolA4JD3CfTVWgnM\n",
       "d/XTpqFH62MUKfslSpizcTsozlhL8c03vDynlbmQ93QsVKayHG0pPkQ6eGC7NhDauKbSSxNmes/m\n",
       "Ka+TpjCMEVNC6DV169c9OqRsQbbqcwqIQnJeIhkZQcE1EioQ8qhy4CFxypbcDiQJ4B1q0qe/Tn92\n",
       "lSiqN6bG66122FU5jEjV2r3Dih4NEMmoD4m9LKExk6vmPIjXV8Kl4yaUIIcILu6W/3JwSSw1yA/q\n",
       "2MZ3mNw/981Ec683o45z+oGAx5dShkDok819ITahGfqBrsT/GfDD5SmjutVQ+B9dmobQhkUnrsSo\n",
       "zBEnSZgFuLIAqZn4Kpogk7A16V9m32J/dWTlZYFOa8V5I2wI98KvAwHWIBxQwvntJedw//g4MOOq\n",
       "oWWypcS0NkUvrmEWXdoQxQhgt2HDE9HTu6pfFZ2ZOiOBrwNrD7JysxnG40jn4n8F93VRudZxYjbr\n",
       "s8GMiE8H02dLigiKMfiBzcn5sKfWPXryU4lKrX5QzZYfbMNAGRrVZfv8c7lhYG/3sGevnM/eG4VB\n",
       "NRbyrI2lVUQ7BX3wLeBecR2LY29whsxq9DGzjso9708Zthb1UW27t9MsCgfTfprtmyxzaK5WVIa8\n",
       "zmz8RhWYsjwtlrd6RpSWX2tjWkwfE70VzsaQAprHWb3AiCYlTbY3rWVd/HZ1PhtUABRRJ3szGpG/\n",
       "G2XJvjms15/bA33ZoyiRSqCz4s5vGdPn+6lt8XvAeSeRL8xc0RS3VhEyGQM1Zq+BNI0bA9FN4i4q\n",
       "NI3TUnBwvHROxdP6SxN0UxKpiwTDK8FMb/wD8r6bUhFI1GKV4uiwveEZfYTWPopedmMgHeFow3AX\n",
       "8S3JU3VAYssM/5vm8/MCtbcnM62aVgqFl6VZrTpa4AA5TacA35q2deDxAAAGXEGfC0U0TC//AAX4\n",
       "LcyUFaFw9QGqbVfP9VgZpYAABTtbH9Bwe94m561V0y5nT386+kAh0WoKat9j1NoXtiTxACy5vhcK\n",
       "KUfvVj2YSqIzCZp1uVjaFPA18MuS2vbM3H/gACfVB2LphhHFIV7qklAqp89NHB22X07D+PUsX8Pb\n",
       "BoZX0/2n+rHB9y0vYn0DAhysYktgwFP6mIb+aPn8ENKq3XcppR6wtSVP8GHGkjb4BZGDEfMf4Bps\n",
       "+Bg1rsyjGTOkGRp+WTcSwI4VBN946P1pnXWstRxWnWFvABkuzJYzhErdINDEf3EWL7K8cJ24QoX/\n",
       "c2D/mfUGLfvozPzPBWRfHF40xHhS+y+ELAlpshKOevlZ15ZHNkfimHlMKJB9r/i4HIQVZwcqNnhf\n",
       "Fa12QI/M43Epb0fC/AnqTx30REEfE7iKfTUfyXHTz/yiCQjpUikrcoJ8w6DiD7DX5ZJEf3O9aNVv\n",
       "mtEpZyck7drNV5ih23wsGxMEpgZAiamu05ncIgULwoONT9pLZxYjTzy3uBe/ryCC5vhuRkgyU0Fs\n",
       "ReePJUABcEsHfIhkuIJpRaluZ0o6+WA2gEBu995oskuv/Q2rJlxFO2bv1u4yNKtT+lozushNgy0s\n",
       "81yuCU6lRaKcWtOb+7zZ/QbLa9MvDVvHjtHksJpYizjHeQzdcds3irH4Gpw7R0XyTb65sAqHcTj1\n",
       "gzI3Mkt7dSDUYyAlrqV+549xyyKGhknDrpWuWZxy7791iUdbPEMqEpkY6EqNlsBTNyOY4u1G60bS\n",
       "rDwuTIh20xgr3AzHdGNNt7hXLYLM9AmMMTUHGRc8HuBhc1H6fgD94//kzkiaC+G9TlxmXsukpKjD\n",
       "41c6zbzbEKNMdSztcFogH/DX+/+TTvrSqKtbwFRD3FK/aHpTYIohGrvfVB45lDq7P2QhW9Xo0iif\n",
       "8myd6WtIz+LmUwaOa5CIe0TgN+0RfMwa5+KuTROZjuA1hnbNqgPra3xJ28XvqooyrC80NSHEAlZ2\n",
       "UNTXZkntJp4wjnzDQurAxaC8goLEkcWoiYRwaJ/maRkV3tr/erqJTjKIENItY0Qzic2hDK8N2Usp\n",
       "IzRurAXQc9/18tVXVi2qRlSk11DZC8ZkF4CbkDYrKh6WTBkHRUo7FDujGWPKNBsnckWfiK5Jx76p\n",
       "9H6M1DenhdA2w8mP1VCQ7chJ7pDywqZyTAwWNXe7VMrPX26AOwCWCpvMEybk5UO+sD5GG1sESF4n\n",
       "P9LSBTmQ5AQsDwwKyzA8GDlZzXj4vgiNTzhSuuYvchxvpHczctx5fsG+j2/zfsIz0qTJPWQc6BWs\n",
       "YeNNnYISZWQcBPP/v+OJRcxJhQeb9/d67FU/9gYDXMiMsNSOXqsHbJ+5i3jTkNBlfrnp+vYNf0eZ\n",
       "L/3/naiIVuTUpIsm/sxmOUW6ygWUDF3eWkLKqVeE/GY+VPL1KG4n7/rCt6Vv5uQj/mXY0BBoBjmO\n",
       "4gAAD6rZXmKxrNu7dwhtrzhYZbOQBiD2UkGILoUbW9znCYforUmNRQEp2vQ5uQEkiAl9Ap4rD4bo\n",
       "I9ahwthcg6ckVpiJemUtq4rdKkZvXCrF6R7xbEKuOEy6raUxrl9VfY9nlO8kG2wJJRxkFD6nUv3r\n",
       "UPVK+lknlAD9k+HWeqFpu34GqEfB1Tw9Y+pGyfn1vhhX9Q4y3bwPwB40RATHFo3JkQgwzda9zfpL\n",
       "85z6HUIwks1GeP8sYNq1EzZhzENJ40XVVxbrStQdu7b+nu7izH/2L0I5pjtKE/mgVeiKnGIN0ncC\n",
       "xhmX2JbtXakrOl05aodSLqu5+1/83hrAVRHX4ajOkpgDdO03apXT531fNFcUfMy5ev0PL8RWEFPi\n",
       "zOJHVBzDNxf6l9IIPbU1E0iVuhOrVpiP9ewFU/zt75E/Sy1BwVkus1jIN4moA3i7/nqYTYE1LaUZ\n",
       "L4KnP56MKwtsXk9+gS6TuAb190enNCSLeGdGr95RBJ3sSmxz362GsKBM27o1r+PUrxom3STMtvFB\n",
       "OPFemJugjKruOEfJBBp0mXkpANjT5uhBMuxCOlc8EPAxGWdiKOszZzUqG9Mug4+1JwApViisK8L5\n",
       "VAOsuFVqmpnXeIHarRvkO1sAmnTtxusz3AfBJNZ+lgmVc3C6iAN1uxPUfb0BKYTnIAExBGuPKPEM\n",
       "0Dpoed+Zfaw+E4RVpeo6C264KZIeAAADewGfKnRCvwAHlz5Or/Fc40z1XlYNQAXaPcHQWmoVEPsF\n",
       "8zBQLekbUM6YHQyQDz+CfN/MSfhZr+c7Vu/bOZckCB/nErS3kRqOECd6TivI+q4SwyqNNwfH+SGq\n",
       "vsrCxbgk8xcCZ4Af97LceOS6zfNqRy21MZnOazbuuW3JY75327T4g5+w3uJTpxTjc8gKjYn4tgBA\n",
       "W3kwWNd4FI5vxAl6o/GGm53n02KKU/3gKN2Fz37r0XLMYRJkDghk/EIphb5VcyyvDceXIwe1l30y\n",
       "0Cg1l6s/00Rn2vtiIRFrOnNH6h5wdcNrRDjBcNBfgKX2XpPAkskO9UV5e18ya8nKvVPKV/K8jj3i\n",
       "axGiFhd1GL/YF2/x+vxQewpDIKzsS/fguf9NZOPLxoJodzaVPma4vLVpQF2UjC5byeji41k0nCeI\n",
       "qXgHE7p2QhqXtT0ip4X9Pw9SbqF+p268PuReKgMC3AJhcYdUodD84HvbhvlmLBsQDTZ44mV+8dgd\n",
       "K4aSs5hCPP8BgcAlRzxeiYfrSdpgToO4bQCCRmsFyIHJUIUjHQSlrjULmgwH/jdqvQV/AvNW3FIP\n",
       "VgHpO+WpPlRN5o8OMjY2Q+0zOjUWgqS42jbczKld1Cxv3XGbIX9d7AUlguo7OzOWbiV73vErj9rb\n",
       "NXLlrTeM+7mJp+q6NI7rdfBSfnbym/aU87nAkwNpIpmycDU3SvWxffOe/Wm+nhwYv/tuzFtm8IYY\n",
       "qSZdr20o9eagW2zpg6b/8dUOLQfTuBDBf2tGYiGQt4mlCVSUuqjT+UzS2D4yObuoNN2FTiOPMuTI\n",
       "vVrP3M4ALdIDEYGWvpBSam/HKxwWhqYA8iC1T/1Sh6zVQ4gkeNj7wTlRbgWJNyOiXV9u9XCxGbZo\n",
       "am2xJeN74MguVMHKC9LmxNpHN8j2yp0irocNBEHFM9/Xia/qmIGDeM0mwJV4QcnHo8NRsKkZPe3K\n",
       "/tqGA27VU0h0TtFxi4nTcW1VI1+tAIDK0CKP082394TvamOl78Z4KktAV6AacqEZa7ImkgNBywfK\n",
       "APJtKah14OzgthClepVMhY6D91Dj9TtA7ce8B2sj/1iX4nMIAUIx8clM9b2gbb51yr2/rh+b2sVC\n",
       "iNhJhdF0Ru0oARAz4Oa7J8cGZaQcAhro4p8zAq3LyKdSf5swl4CjOdmZSBS/VgEaoZ/KJInBPWp9\n",
       "kHgxYAAABCUBnyxqQr8ABWWp8dSXbINJnyBo9yx2DHXIilRAO2EwOr37qEfd4uh3pjgATn03kKpr\n",
       "d0CRwfTZSpbAyzQHTTivIEn9Dh19NnfPe7ihmwluX0s09xoWZlUk0Gflt3dsDaOZlTs1XZ8eGRr4\n",
       "RXivBmn7IlIH2CALT7SVkl38ROCQlT9dc354LInbm2wSg8aaaH2IiozlK85My/FkBLTStlFt3w5H\n",
       "bHjTaY6HAmz9p+Ay48RJF0OI29G1VLg3mLZWEveBfgNcurYKb9mAPLb5bIUvJS65Ai7oTQp+BUNY\n",
       "QqKTAn0GTQ/CSgbw308f8PTz88jddaSENSyKdniZKg2GGmhRwffHha6IKXvqFWaqZQ60o5wJHmDF\n",
       "TClt66gTnZ4PsK7/4ubEvN+M0zWuhjuWxNHudDuLYzDMA+ygkcAsVMx/+EUOVIsNnTu/cLmqIRLa\n",
       "1xVsmPDtmFpZ25M47Pcmsd0OuJ6Drj5eHUBcbgtjo/8fFQvRbQ32dSxpf3HXa7dITX1tkAv9cSwT\n",
       "90mO7/ph3JPtvpr43AvJHotWKNv0rI5pwTryOdY2+mKudgCbC6t8thcmARmFcTuQEgFo1l4pgm6L\n",
       "+24BELDGK/3AN73FfZPyMjiVPbgpz22HOdHB3gREfNP3RJfV6AhNiLlS1lpN4vexXA0wOjvjcRZm\n",
       "eFC2QfaEE4oMdCLjO1SdsvPVKK20MHyJGM3xOWFVSqDrKgDT9d0SFaDGD4IGoFpYxDbw0jy93TzH\n",
       "iyvE3M1TDKBmChKyVkHyFF4xjBh8PJDMD6owVi78mMsBo9776zpt6q9X2QHAnIj3tNAEDR/5x00k\n",
       "NkvgPJdc0AusaGahvmIowBDjNBOSxcOd/dRnxDm9UpATmwTCV4m/16N30SeqfarJ18b6dT0lL2v/\n",
       "ixLs+JlQ8D/seIyEnr3giiry/JMo0U0FD5rIPmeXppjhaalf8lG7UA+90+WF58OXzSS6Bxze3Hz8\n",
       "FlssLJ1SXoOOee2L1yXsvI91bE72+ZCWbgpd/6VRKt8EkWTP+dfnqmVhIujwwbJgIAIP4q4hIDFZ\n",
       "1CqmTIwKD7LLZCdnnic5cOjXGTL4hHx6+hhfRCQgGpYhAgAughSSKxpyy+mWJHft2XLDxaYULMNv\n",
       "ZGNWcY67iqga0ObH6PuUpbtmWrYPRn6rhtd6rLpwpGiqP39LUfvH35MEBh/AXcQWFT0xzGfX6aTL\n",
       "8jvhAxa5GQr0wfoYfG+5cMEDX1qpa/s3GIGH2f1SHHdKSZso8bJfNiHj+IO3HRGZQPzPVOIwpx3G\n",
       "9dv1Bx1j+9DbpnrbySHRHMMlPbXj9A2TrnjcU8EhDP93vg4rvenbP9s+9Bi27WvuxOvVxn2KU/1j\n",
       "oQhGoM/yRKyZE0vb1U6mCx1wblKChDXlUAPe1DyveuOSuTDAMWGiuGVb0QAAB/dBmy5JqEFomUwI\n",
       "Z//+nhAAJd8zyexb2rAwQC9TjpG+Sh8IRoAgg9xpbNTI+9AG2oLOtm1S4bWuB+vbzJeTdN5qC0tP\n",
       "LINruY4BPdA8S6dA+X/+VkKXHGnFs5LbhnXCtYeeLxCLuflcDT5p01UMlc97xVvLZHNUxrw5EVqX\n",
       "JE96Y9rmTbSxmbZixqBY04PIww7sIzbshSqMETEM1zZAr5DuftZUVjHq5SU7LKpp90V54AehgWjG\n",
       "NLx1XnI0m6QlZsuA3H0RSGYhSU4Rqw+YA41qZKbgXi0UMtA7dX1+pEwNfQM1zid4Cf7v8Ofjudio\n",
       "6GTEpQWztEGMlyZ6jRhyu7nZPYX8GQ1gEoaEmATm2wl82n0mGbvXxXTpTJ5p73YkfLsjInSA+vPy\n",
       "/Ao/mtavisAswMl3ZbJA8QyrPEj6fLqLoDryDL2HJP+2ze0dQwq//vkprRsEa5eUjD/gHrZ9tX/v\n",
       "0tHtyGaJiHfzDNxyFo2Lwz27UtlQAIh9p+f6xjYN8a29pLvx6lsjhUHk7NygAhzJVLEkjIO3zZfP\n",
       "RO6asv70pv8rTffUoOJqJQoBkWpeS3ef2THWBYkG7mi9u+qMNJivi9RLsFRTuP5AwXsu6j7n0zbG\n",
       "9l28C4b7LpFT+8TlrcPWXVyiKiRgTtWs0UZeyPT1gGKSfMH/QP3M89/xWxr1cMPXt8W+mDmsK5//\n",
       "G0HjGONE3yutHGXjnbjYAJ0RoE57+9CVjyZt9oA7CMjijQvNYckizXeLmAslbMGdd/Byv7tYJ6zA\n",
       "Fcdy57CHpjxuT/QuWjmV4zBXscCZSmFw867Vfsb3eZ9p2HWGJlh0gRgqhSx+Iz0sSZMAmpZ880F1\n",
       "TXo3hIMwPZmYiAGUFwCQT2s0YKoUtKVeESXmCBzCv8u1/SL7fLJAX/8EQ7GzU0fILkC4VEiZVMsj\n",
       "fRNOyFjVeFjuQLtr7Wn16DytsN7IvMXnn48qVlE9vzojS2DpqNoRHNw0/IVTBQEyLac7uJ0NdMd0\n",
       "hvY7qapW8SKJhUHzYaEqrtKCREYUgWH56RpByT9hMIbEtjE1ErjFTO2S2TviFc8WuE67FG1Zp8+/\n",
       "BgndKUDQWbcIvk/QYNICNghYY9UiHsIQUf6wynTbQDT5Mb98jQuxKTbxPlf/Gz+LK4WSqyBQLsKE\n",
       "0FeHDz1joAT9oSoCH9gEdbkjtBpWSAHngjuZvRywDIIlinS5QuAB++/aSWEeXnD80sXwLyvvaHGM\n",
       "V7hq6O1WlVulL+uFG639hEZYtkW7EBE7/k5WsTVvdobWwxG3tLY6lm0W2SE6vQBunUqseJU+Xbcg\n",
       "gVij70qQ1qv7tvTK3wH9onkTlPQr771b8vLFVuZjGI9T6fwyBM8M9CONwutrgwQbAG1ocFsmGrEk\n",
       "pI3I8peHLuA7z2hfAHwDlm2Oc/StlRN0OQSODQDYnwJgwHD4weDmPjwzfdyxtlG1yz71YBSL7xtW\n",
       "La75syy9YuzjRADr4BbU1s1nlOugJy3Dguz1LkmN/VbmnWQzhqGJ98gF/t3JIHpn6S9vEM/RVhoz\n",
       "G5Ep2rXYZcfwgArXJP90Pmweq7H52+ilzxTPtrh/u6CXpjegAhIoeKSgT9zKTqMgNw1oCJWHTKQU\n",
       "J/oZ0+BgyPLjn0HBaNFNvIIZB8t25QAXQ5E1ZVIgPPWVt/o3GpfArJlNLyFnFdAIEUaUPZPVpt7j\n",
       "kx7VvgHgKiUUdXUjPU9ay3KxIPF8QjGBD4ZYfCo77wL7z/tXKe53VXV1zIHwqaHy2vg4msXbBEUK\n",
       "kUCtiW4B18naXa3U8inh4f4Q/Vurj74jd5SltU1upzq5+ACwj8DIGlEVKIb0ICJtw8jo0VQZfVuX\n",
       "ZBlL6fO6i1zojfLHahEJUJ+uyhyN61Db/4+qWcK5h+mmePlBobMMMWdRJqCNgjyz23FArZE8L7e1\n",
       "J41yvpsoU1k+EXQhmEFo0lnMn0MjlcCnV9+/jvc88MfcjxX3GB7HcB9PBEQ/WJVDwGsM8UnsFdYy\n",
       "3yknTsm0BM1XRo88hNVT+UFwYhWGi5rjhaQT5aIdognX15wx7XucyHKBHchmPS8IkmRB6C01nlyW\n",
       "EpoRE2cdE7oOeLGnCr91r1DZ/A3KD7gnZDKE8+X2h9Y3H/IcHNM4iDV5shHhrXhTflWRyzP0bkmc\n",
       "KIZpnNpP5b2UdEzJZSFWviK8FGjfnZq3mBWEDmAheBVMTC72k/03EBj7sENXglljiP+9UDohri5c\n",
       "NKaAr7ANLt0PWJRErZtSf/nq8zGyXSjzNEt8x1X69pPyhKHbYsBMH0LbNKlvNDDfhdoQjV2YCYyr\n",
       "S/1bteXyWIQ28McOA5sSCnHd38umPmowg3SuLfF9QetsbbL/Lka3kl8ZhSUNg2R6pa4V1fiR2oI2\n",
       "/kGHJIrW63KwnhdydDjegigEM0bSzlBTIsMXqy80N0oqj6ioCpZhZ5++2tZu41FswvG2cB2UXmIY\n",
       "epmmcJjVQxGCiqgrjC+Fk7Upe4AYW/k4V+0zvni+5QUUsUDR+wan5l7NPcli5dSf9jrPQEGGFrU9\n",
       "s2TPj41IZDkhO/GsbC4z5gDAtvLvhr8Fi5lkNWuIlyCae3g2pH/PUIBO+Ay7ZWQ9K7kRaEoEB1rA\n",
       "2l/+OIwkluzlw0pywkI2Etc8/buDkBbHeEEga+GY4HYEBAdgG2R+xyiAgYuPJQxlrFwazv6kyzIV\n",
       "Rk1qisBNWB59mKhjQCKE58UrgTDGsKLSWtOHRpGk6d+HCQAACTFBm09J4QpSZTAhv/6nhAAJ+jEa\n",
       "2mlm6ZRbT+Gm92sgCEx8SxNLSXE5Au9roDHl4XvKdAj+Fyjzu3dRDlupN6xzGIi5tYZKKQleHiwr\n",
       "PzxpU3xICtQNM5Y072Qn39YFCjmhoomyZBCJXrBe85DqepsjfsaylwVklO8b35Dxa0AC7JcXfQj8\n",
       "e2LkIx0lNhUr94VKVKh09Hsq+eP2CKHskvcUqUPyJQc7aRivzaE3maG9dOMhT5P3zMlyu75ZAI9E\n",
       "tw5rNUdTVcc8RZHjiABfZrpl4Cbc934ThIp22Pb9+FCuV5wfMZF1EYE3EsbeXlBWObdczt2MkwLN\n",
       "P968ua+vEECHteknTTcedtb0s12E2aarb04VmGAUvsRG87YAyxppdE4DgB3vvr1sFcILoosIsRk9\n",
       "tEXIHNoHgm/SgE06DX21FNvFM82oNflrMD804TctwkGtOLQ8VvT2WWQ53si4LnfH+GHlkiminVCE\n",
       "wLA0M4ce1cmCTzqZGUx9rEYKXVznQsolIaykM/whqTT6hpq2aT0Fjl5BiQn5Au/YB/9Q5gaVpw/Q\n",
       "v3xokH4CwX7JIDFK2RcKYt5O92ds+ZAX+D6Y9a4Lin9MATwz05W7riTzmajtF+LURwwSjD820+bc\n",
       "ei3Js7h7j9mvNG8ItuKC+TPDumZ6I23PgUP8QbvZudCBP1M15RlrXf9lyWNf2WYsBQ+v/8BzD6cw\n",
       "sGX6EpUsH1UK6bWGDSNpkvpLGijP3WzUZIW1CsDENfDoFK2nqT0Q2yEe9/CiPaKZvkptrVBG13lz\n",
       "303ZcIZsmQDua//KUij9cVBTuAQZDrhl/VaYwKJ4L57NFc2GbCcLzV7+jroAUjSlzTXt5qxoQd7o\n",
       "2nJ9eWi4R+6SJgdGigdbhRdtX12IrYgd8UX4+kb0KipnZLNLCAF7BIrFf7xV+rzeT4eVbNXp7jHC\n",
       "uxjgy9eaWy0FesUNk50nLVUIfuWFMOaYeent5OiyUcBD4BEQ97zd8H8er1OJOFTSDZKqkCh73gi8\n",
       "aRGGdECoOyw8YQwTCpO+hHduotEltMsbD0s3CZ+C5s5aOgXr/dUC6kHFoAioKUGWp1cighcL5php\n",
       "wKt8FNjtPY7rNX395bKYqgKUG+hu8t1E4jcttafp7R8FTK2bnMQQsaxhqLC2WXuZnQhSU/qjVy/f\n",
       "X7VLAHsC//kkRJUCe7sW9nSu+mTiO7t9BLcllQ1oDkm6w0xhvjenkJ4wJkEWeyvSr3OsYHX8AlbM\n",
       "sy/pGDpEMw8r0ByxN59u7hVhCU6rM//7rIpa6MuwPux5ZY35c6r97HgvQdUf7cE3DsylN7XzZxsm\n",
       "gwa5R2uvTKTiruO2VnvU8NQAoXGwxcEue7+E7trmPz0RGIQOe2i4TNk9hvzm/8WBSQ6JhX9cp3Ej\n",
       "DGROqzetL5sn6yEY+mmz8v0jOOvEO18PXXjqTyG/BAOGQKMVnbNZxnBrJ4ODC3yuKMQpfaJpPM3w\n",
       "vE4RUd4++0ywzxvLaETi6RzJ85eA244ReZgLr2J/YgV2DVx9iyJEp6gER2hX0haJJOROctvL+VAw\n",
       "Tu//WSV2M3qsM1UY6i53zNhDE/psxeedOebyIaWGANaFwxJC5GVpvz+v3AWvfZnuW+SDHyn1wQ9e\n",
       "I5QDXahnFXQ2eia7PjUi2vQY3uH58YpNuzttJYfvfHE3AjWfoCbYBMPV6qz6ntQyCV9JYZnHsycp\n",
       "bXnhrDwodG3FnnD2Qc1P5zLTXkxNJD3KAqEnsKS/0UrV9jBMcEIGjwWMTUixhusAS2lBkWxfsBeK\n",
       "+J+4BH3nqSnB82/OqFi2V02kgCE8Mf1Ap4QAZ68x1KpcBzohYONbte3V5dKGIDCh0KQRkaNPxBRj\n",
       "Z4rUcVQoXE+g/6K+sfKFnZEgRkBW1mJBkkUfbv4YaMGsnCW/aFuapLoDyOjJFyk+6UVnYxN+kujU\n",
       "U/j8GED4myY4jl/mOPFVOSRC7S+k4EgP5kT7dEH9kOS5HGg+9PQRJHa7Dz6qtdyham5hu0cVApbu\n",
       "nPSSI12ZeEEW2F9oXSDkScOemI/Ahq8b839MYYEhSPhH4DLdgsYAKzoxtFGbtQihtup/qvjUKB2g\n",
       "XBCGudg1Qam77HQCYt9JtkRKwlfJsRNtOEUfDl/Jug7z1tn0mN8HF0EunNdnO3Fuz9AD+Iuugcse\n",
       "4klY2ovIbLbr93ppfpKhqzV93d4r7YqyIlB4mx/Kcb2Z8tBP9p5kgRbnbRcEFA2VT2HG4cRi/SVO\n",
       "Y8B3wIIZHtNPxZbWgJKAafHW9SugPoasDrHWjiJdIiHu3HNp5E5/VDXj16givBzPwz4t6NFpt35c\n",
       "Ef5PqKoH6P+ut8iKQ88FnBlnQGQszfgIPmQScoMClVu29QzazktyMAuEC0nxhkFaJouCsUbQ31I8\n",
       "h76GmKziK/W0Kl7wNGSqY19rxEgqmyLDK0X2TKPvWnUYf3+IMeYeEzZ0cc1wmHCgnvIAkmGvD2LR\n",
       "FHqRy98UU2gWul0tOM93nllnFBnVS4UjBRVOu+gXTlK+AwNYeVLMRsfrbqJWB/w9q9VsDCBMUQOB\n",
       "HuAYZ30zuAi7cGTUt6zzc2Ah1vYjj0wYoo+z9K2HzHETpRslND/mDepbaxSNFVr3rzxwEm43wiT3\n",
       "xeb9MFua/Sk7Q2GVA5izPBMq2xGQKeE2Oc9SaEJlwTU2YbnV4ehlg1wqXqHIYAgT13OVBIBXSKHd\n",
       "m8bKTx/h1TMlteRWr8BZF9cuFLcfU7ZbGk63GSjY2cjvXgbRPycsMopCxt9gHPvG1FDptIY56fS7\n",
       "V1pU8+N5v0JyRnAZ62qT6Y1oJwkwMf9Fmaq9vCmJKkcixm74qCAZbCF/X+PmfEF2vnFffK3wywyL\n",
       "pr6D/4oMBtQTnmqcsUtJ/ZjvSxQ8Q+4HT0+owgwDrZ9A/6Whqhn5ZFwoSkqsoXlSbP/WBQpMsONb\n",
       "lvbRJhyw2Rxtvlz72vAu/IPj32DHVXZkugSuV+RdMCGHICdthkN/cxeCymDnI6+rtCn0kVH2UiHm\n",
       "T4rgHeDopAcdeqe0J78xjBiIJOlR3vbIbByWH7E2pJi3h4m7dToQ/KNzKzS9o27rr608WxO/AXur\n",
       "T9HeJw+XvugQ1iddgXTydcjlhZNzVYoQNUC30gZCxK8SsCNcZoXehotZhqziED9UNoGhiBxhAAAH\n",
       "7UGbcEnhDomUwIb//qeEAAnsL8tKHIMiX3CwAtESTwdoSmEg3clgZIcVzCxQc0ktoCbDP+9H0UbO\n",
       "2+dePDeIkJBrF7EZ6GhGn9+Tcd8sTHGpnBN939aDtaYoluG6Iz7vXMB5N43iiLkkBxlO6bFllv6P\n",
       "Y8BzvpFnbghu3mnEDo9LdkScVJ6bAO0eau+z6xe5I8QzvrkaZDX8CyO1458ry2NZNcMX9e+q2shp\n",
       "mQVRX7OP9bjDC+xy3zOUoyJ9zChaJ/O7XrKZGMv2KgoTSzAu/YOSG0fzGYPLh+o9120RMUHD9xnP\n",
       "FxJNSQgAfWGAZliWnOudSpH+u9+mYRggEHwD6J5S7w9L2WhEGlLQmE7R5p+74wLWwAAuMO+UdKZW\n",
       "gzX9XA5soUeAV+ZCazOQOIEHWpAUOguupQ+iYZlA6jRmJPBr2GWnhG6mVguE5MLzzFoZxe6BMRGr\n",
       "udVjtmySns4eqb+LPMHXTJXcFxaIJRekt0uUG1olWd7/529FlNDvRUXJcpFn68m6HzeF4b8rObrv\n",
       "BxHt6CR7SSuuu6OkDf/CIh6FjPdOjZkih+Q28LGIrVgLfBl200PKMNvUJIOqC1RpypWaN7f+uoOD\n",
       "+SQu380hIjtXrr5gyhqxhA7vXRPXkD7DIIhNFtuHTfc+tvtK6yeNerDYhVYo8/V/vRpmnmfXqXiD\n",
       "K6OrtJTNAnowoDPi9X2xR2vbNpGW5KZXGsVu7NliuDbQQ9k1fYz4X1IWtJd0zG993ECsFrPe+DNE\n",
       "VuJGOf25ucVRBJaPV08OBR5zQgh/DcM55h1TUs0WnSbTbvtOWPkOBvlmQdoSeXH78+KYUHdNRr3t\n",
       "mpixBB87KVsk+VG8/b4wp2Lrd9J4OGN/80EfC2zSgAQgFNILIIwqEMtMUFmARqX9yNd+z4Z7IdIa\n",
       "TlK31nng9IjdcsDOR/+fGa6G40IkZL+CX+NUAGc0j6dYCqRFqpVgFsgk378YQJVm9D85ccQ51M+Q\n",
       "HPbkURr5vqvPa+RSur7KStMshTdX4Dr4sYYhkgFWSUAvYNwT1WS7dWHF6pK6ZOEiVGXIFnWKJnzX\n",
       "2hCjbXl/P1nIyDk6LyfwyteJb+H4S9UNsvt0gLYEkC8eA5XVJDjtbvbjA7m1UhKYPl5IY57WqqCn\n",
       "DcQav74onMj5Xd8uXYnLI6yWlZLfFqBPTGIOQv/hkAIosVLLwfRhKVNiwkPeOasjsQE8VIKpExZe\n",
       "Zs3X1SA9kyL4sHkjOYZXA3tK/GKuOq6zM9kar1WYkDHpHC1YaYnOltdpe5DCP5FyGCXAB7y/sfvO\n",
       "O+lIjoh8Mmlm0XPU5luaHSm5lJ7jfcH72/6+dcmCMtHROKPXF641xMvGwX/uPePWiEz5kKHMIbO7\n",
       "to1/Uy6skeZexRjNagOg+a2gjoIYHOQACUq66Tenx3GNNuxOmJKfvR4iek+WMPeN9APHSIxFmYT4\n",
       "qj0yXSF4EcL16Pprn+YeJu/+p7qutsiudFKKg5lW9w8kFygBGDwqMu+ivmguA35ay/UifEg6Vcz1\n",
       "Fdk2BHocp6nhS4ljCP76UG4VCeFki8TeeH0uQ4Na/S9ZBsW7bveEsuketvrki5bIEi1OcXVL769j\n",
       "3w4IhOTbom/akSi2WEKNJIfGzHH4XaVzBePOWUWFomeTfIYMyn83WxkhRcTtrUhJrkXGY6fco895\n",
       "X9rVWWLRN1txKDf44g8AVPvMLa83iLLkMp1mZ7G9S0+tswC/IvMQhXbuT6DA9LFawrGqTS41N/s3\n",
       "pUwTCeNPD6qszPfW+2UL7ng8EjRUh68MdqGk7GFdBBGq5Bno9kBsdFuIfglJFxzTT6nzKfUGDbqL\n",
       "T3uKgIqDxjdfRR8XbOO+1iCSyzBpRcQ/+a7W/yGJH5gm+KSxMB7J9ogd2PSQisR2Cey2OVy55t01\n",
       "pYCLVI05NIKBz/5HISImAy3R+e1tVu9nBVphd8tSoYplpbHpOj2bDK4stemvZJQQ283XdXyw83yr\n",
       "a+CpL/FzOezBCR5SjZHCIc7DoQw1TlrHoBVzZKPw7Vb579IBezta5pb64ro62aQ4o001CwJ7XSwy\n",
       "Kwz+JQm65r8SsCD8LGB7/ZFL1pKEzzfj7zjKzGkgZMQ+A5wvq90rN4NqBnso3o3QSC1gGQrvT72Q\n",
       "KdmF/i29Rb5cv0aHjrMJGAdTyRbEKF6krv/CPfUaynwa/PdG3ZIVgWUkKS4GTgvof2uWoCHo1ybl\n",
       "ACYbwfxHz63GApqde4fok2baxOnrc1RXMxDTaA9vz113XjlJCIq5DU+qkl3teazDPYEQv+2vnDGD\n",
       "S7ySMJALPGw9A8AABakbQcLhcAAB74GSEvBisyQZUHGbfuR34fc0XY5laK+OOdHSej+XEAROZtAM\n",
       "3WSbQ0Ad7DLebe8LJ/KOZI48MSKBLdF/E4Nagk9I05+xF8/PwfQYcSIOKoZV0k6m4xd0VXP6deO/\n",
       "/oo0tfdSQwQYDb//9VM3puD/9L1xEmnmxTQL05bSCJRTutU6xoTTKMOUzm1+/TmLf9zpXGsgaB6l\n",
       "2quE4u6peYl3zMqSajI+OJV1ghWfZu3v0WxkFFYG8LhP0//dcQp7kIUiF0nPqiBQc7KT4zGydLBQ\n",
       "PizlwG9PmmE0r9Qenp7KgQma9DQaRndKor1UGXd5fHaPuwcN1eubbBq/jQd8bTaCXUBmyE+gitqU\n",
       "6oix0YH7xXfJsuNFBvXPjNzXZruglQs9aBpmyXPNhrRkDKgAAAmDQZuSSeEPJlMFETw3//6nhAAJ\n",
       "710yACfJ3F09LD7CYEhK7T22RGDz7461YZkr5F/T7pB8I8TxxBsk8CMv4M9y1TviTll3fn3BtOMb\n",
       "hMObbIZAKKiCQQuOCg8QLmxTv4NsKDt4TR1VKrK0yI2AF3kvh4p+mnZ4Nom0SGCGr5lmK86e2nWH\n",
       "sy7Q/CHIHReAZcsMUVPViWj1EZjYdUTVdijXUcNwWKHCw8sR7ulZGorL94Z+FNlnhvY6CdKcUwTO\n",
       "uXWGH+zlAxcdQ2JLvVWgVcCZ2jg6xm0peUgnFIkQnPwBDb6mLo+W6h5LF5CJaralBsv4ckPIDgmr\n",
       "ea3yZ+w5PVQaF23Yuf5nAAFh9nHlXAPbjaNzIcvMhgXXA6W7J47J6tBf4OQC5sqOthfMukHw3jPE\n",
       "nCP4DtlAsNmfIJahoZi9vIGRuPF8TLewtyXeB7yyLgIRISAF4UBGf2I1zSv/e7fIllzJ4kfYI/bH\n",
       "3yju9IiGVzyWQNN2xpyvXXwBozW14i7/G8y6HYBNSEG7D0kAiF5I+ulagR0dhbzeOZW4WsFiI735\n",
       "BYGtMYp3JYY7wNkEy9MaX/SY/Wc1NVmjGL1qsODIrgyHMBaG0juP00/5TBp7DIcm3x0zivvlopw+\n",
       "npxvdV24YrYAXUgN6VWSQq1PAlQ1IHO/ruvTm7xjqn/cEOeXwk9YgZgmsNlrVs6EWc8q30L0kxLU\n",
       "tP+9R/ltCFovZNrIZmgom3Ax0hCNDPoDLS4S/xlyxieuAvxSSvQsSTpy2L3mMIhGTEoa+FQ4D2Ee\n",
       "OQPvEL/MVBJqG00vxQkxBqIoAnjHCSA+O/DjMiFdRD+KXO3psdXGRnG26F2nvdFd03CelZRoN+jh\n",
       "3Q5rjL+kUu5/71gdQro9FCPRgmUPeez8ktlBEq5opWK+JeU4DnNmuzVvMoT3Biau69EGI1Tk7xfl\n",
       "LcXNdROthIXB5T4MDK/A1ii32vRsUWZHCkPpEqiW+gKRUy1l5ZTvvTIh/6oY36kQxvEQAnuidmfG\n",
       "CiydBoD2SMi1AZu7CkceWJ6JrmvTfhj0wc4AudkbJ2+oSP+gwNf/tjrgZ544KgPu1eVrzJw5nVgs\n",
       "ZTgMjXVnPDQe6Ns4nXDyXWqnKilRkMkI0ZBOuhPVMic4aXpGp7mDN3V7Mes5B8bXCcj6bBUrBuU4\n",
       "tC/A5j3qhjRN/cXuQj+1MZ+crdjaI84lKCtiY086hXCt7CDY8aeQqmKe4eAs7uejuv/4rpG5mgBY\n",
       "knZe9QdAbFSb1JY9hXx+Hd4HbXjnk66IdncX33VAi4cvkdPdwklLnyKqhogoL81OsAXJO+f+ygq8\n",
       "YstRDpaFNQE+eHsMPF+m7Z6JM5ycaIG1h3zYmSvkxGB/4w8ZKFNQf/mzkXxYgZDBu92i+pXKjUEF\n",
       "72qWiaKBO92HZTTcQ4RpfnQWKduzMCG9HW1iwGitkGU9sz/u9TMfDiw23CJpRN/ds7sb8NTVX2EF\n",
       "GPGHURhP2wSSym23ar2AAn5mvrFE2W27HudaXp/fEKHSjwgF7pgdwbdNh3GfKFj5Jdw43nupB1O2\n",
       "uvHrpBrpI94RYA5tQn5ioKG7+PVtOZuUBf3ae9RwvCk9z7rXF6VtBf4pp2L5VRtaiGX9MS6hQc70\n",
       "9BMVTYSCgpPd2NHKVgrxdUiyaSvN7OtI7pnWC23eoKQwtARXMR6fdUIB2a+zPPRPmdp1u9rrhNQP\n",
       "dXW3WEtcXKGKka9fQOt8l4jNLx1XqaKzyfOV4mQxHb4VcDjZpFwTUa5C8m61jrgi6XjDsCp7dwPr\n",
       "nTFGyABEPtL8EOYnLdmjMnKnpeXBmgb44QCRYZoWQDdV3G1ipp0uywrhaPIDzuaL5grLW+Do0pfK\n",
       "//BGuF482AxReh6T1N6j5ko3GxQIOMXLmp4pvmK/n8ilnTkgn9x/yAW0O57DVKJiUGnj0Quthkib\n",
       "gz+Fs9cs0Kje5x5CgflTlAn5+hPkg5eszDdupnVMGfVSRfEUMD/5UuWaoVXq57OEqKwhl+FA1ZtW\n",
       "hjA0ydstFogk2rATxJkLa2NMp/BabVOlOX3QV8Rx38HX6RE20dzq9T0ylB3gs/yQgbkih5bETzhi\n",
       "5gb7XV2UPgS73lsx+qATLcvmQS5nmsyZ2rAyGBGMRBtEf9bi/YwFeU9lQTXcgIDFA7bIeq3W2eD0\n",
       "ux9e38HaYfsJ2uIARVVKqAhtgRpEWTJQDHzRh2cxeheD/OGqNTiBTJZGpvR2e/hELTuPIy/SaGic\n",
       "0sPxUDJUQoCeS1Cj8N2BExaI3/fHaers81GygEz3T15dtfzcS8uF9DjDb60DdIamioRgTEUHagu1\n",
       "hshvR16EOkYyL6SBATHjP9wfcYI3T68F/Ll3K1vP00ccidKo7vzCmRN7hcPUxpevYdR+QgUnBAfJ\n",
       "MqcQRzrvyHz4c0LYhaNGUDqiWazR3onE6FcLkkld3hBOIWvJpYljDj9PHxvxVSlpVukNWR83H2fV\n",
       "5tKKkh3Jd6s0sgmZqSYS2ChwEiXgRLcIl9WEZXd662FQ/2HH5rScilTPaZjtpQopmHPXiP1b3Tqr\n",
       "HauzJrnMDwj7kcULmLyDndizXHTY9ssaszx9JX/lJ8rVOwev3U/1f56pwiyo6mcCBtjD+XKtO4eK\n",
       "7GpwMGUXG8185Icwg5SVUZIspnERXhnzd1ZIw3zwam+MARrfuiY1OYZDFjQzPt+eX40ZNfBnScte\n",
       "O8A5q2DgoXUhcPhl/kO6ixMP/heRhLlJ0mYcDMpSHBUhqCO2nBUIQS7Sg5qNU50BlxClDJZrG72A\n",
       "NSxrJHY4ZIOs8Cw3kD02LfTLTwBCJB8neBrB/aiCpoIG3/18QQiPUb4oNtN80G3RloNP6u0qOZNC\n",
       "gwzWL+zardTtYnwlI6Qd1NZRF/jqJLM/ifLm8iQrZXfwZx/McD9m7f/a7V99CfXlVC24uvNH4jsQ\n",
       "OOT7xxzkE2xzB3JVGv5LQtuOvB2OaWMCZXu0G+daaYwaVuKlAF/a/5J5dP/1PeLPZxy3jBgPddw+\n",
       "CoVVxOOE0zgnxQoBs8dptwl/p5/Ufx9RDcUo7re8IVGSKGBhc/SHRI8uPtoX6yp11+st2mPdTKRr\n",
       "zzlYyBmrrHw2oDcNSdm6uiNSfsRi4lvXFD97FAsyefw8ogzdbptHCPQg1HpluuUMh96wb14JNtr6\n",
       "71d5rP34XIkTZcqXEuvmlVcNvo+2J6cG26UUvEvWpTf7I3VqU0XTglgCdWIIMyJpnwWdiNw3ROG9\n",
       "k5lHoASIY83DJS43678kwhAThvNnFFAAAAK9AZ+xakK/AAyTpzWZHfSzk1z47KKTxUweOKqTBYAj\n",
       "MnJsyGAB1Y1+Razn0bMoBcyBXxbFfDO2ptt4zZOGUiWN/SQAqbOzLPfwoQev+YuhwTz59Xm8rrIu\n",
       "J2B28zj+omVKtK4qNAwD5RGq2/8jZx7vjTvnMG6fTA4Vgsmu6qHAXDlvQD6+x17ohuSK1F+VSf/R\n",
       "HnbxksDgNhEQ6MYEoYRd37GAEp4FX8fkajMLFe1NurLqKskArxLoU4afRlBaTxd+EEAKQ8VRObPJ\n",
       "53iEd9/7tWHak7WctTk+5WxVUdhUu5RoNUuVsTIHFfNNmJ2VJCuNhECkYsykJcwOw3No3AoxY7p6\n",
       "B0W6JZX/AAChWjBlhR/yVXmcPieYxCeUq8oFPs4FFEVTJDkw4CtTO3SelqmVlvS9kCCapq7O/QHN\n",
       "Hpndjfdn2sG6yMesYv+vz5ALpl/NrhH0fr73FaBegKV7rSkTiHFUiLA+b0bH3ycwTEcnL8og3K+0\n",
       "FMaqVlRc+ilkHPDhsdXtEhsJWCOk8EcLHZCANxMHNnE4ewZ4ZUx+fLIjw3SAKOqh4pvLd7MgRHSb\n",
       "J+8bKtLuNOPpOUuVY9GR73XmrTPBnWMAewQl1IAmPOOoM/k0aB87oEdGloj2xGBjCuZteKev8gB6\n",
       "XSmJleIIKhAoqIEty9rCncjGPSo/rcSZgyf8+ypowzrSbINppGwQ2J45rR5SX2LUWMoKFzChNfGx\n",
       "wl4eWdsWi5mZgHr1GuVm0BP1AYzijdjQGI/c1+7gOAgQMeloVs2aUziEZ8IAfcz1QOCgYGez3wW2\n",
       "c19lV4MfItxZ7AYE2CiCeifTDNREuocae/deAEU/r4iDI+uny5BowRSjkjpsKFUKWtuUZGwsTlvA\n",
       "+UrN1u2iIQ4w5FeJ6sNLiFnLrHBR9AoYZRZRY+svs4kh9wArsW4lmsC3CZkAAAg9QZuzSeEPJlMC\n",
       "Hf/+qZYAB6vbQjXGMywd9myk/QcEX58KWZVA+JfrDYYOzVBzw1W4WOuxoJXNXtF5h8jv/qMCx7fX\n",
       "K/U2iVXc2W5fUEmXlvCKAjITFt0TJvdwmZ6Q7Jxc6L1QHT+ht+RnwxjqcFYXy1z1v47lbnTaF6kb\n",
       "ure45gqUMCorZT8zSfI1EcwJIZqvAHp9siPEvaGzOOQk2TZNEAOhxw+OjUv4uwvj2z7vCPVtl+lQ\n",
       "3mM2bB5JTct2CHOQCzErxHrHdwb5miuIU7nJxJ8QZxxIU8jMFKT2dRj8IhJuPl5BF5bZDHOIlDZO\n",
       "VAp+2cHSCX8xyHqVWM4t2OAr74KScl9UXDOQTAbodRQUg08RImNKXjKwAmTP2FsMkUxvCh4vWe8+\n",
       "pCrtZdhscrYVRS/19wx6nHBz1YT6a2pDMPcs2vKObKyLLCIQbmJQLZCBBrBYUrh+XgIPcUFznfGn\n",
       "cxQJEgfuTPfIV1vpMyAkOuY1j4/BqEDZYsrp2g7COy0vNdstaLb++mdHblCP3GmqE4kIIhjV2B++\n",
       "kg2qgr85XkHub9sWIwS4ZmEFWW34yVrRDwr+oZpCWwixZl+flvHtcyrjLA1GxysZ1o5+Ieli1mHm\n",
       "QfHyGau6IX9KB32sHcJb5uAVSuoOoHy9CdAwI5whhU+p5SRF9Z1LE8q7nuhiQkM1/EUM32FuDFDL\n",
       "SHrS2SyRwLwuDtyd5RqjmSHj+naTRy3dO96z03FkjvI+OSk/haYOZcSFGFrMUK6nWr9OahFwTFF+\n",
       "qSYsdthZUlVehNH5EjfC3OLfri+4pDSmL15KmvbisZkNb3jRvXsbEQQjjrrJJeH2vPI6rdRMVL9F\n",
       "/ix/jd4gmYBuwylnDv36HKENJQvqzV4/1LislYExSXkdmiclPrtxPHVREDinGaGGg4DrMDauJMdB\n",
       "eWXop6guraxDFUA9mga9eNOAATqcnMCyTiIeDu57Y1uI3U2JDnH1otGSAkE3QtoEGoifGO9Kh50i\n",
       "YWpgjVAajHxmR9NpoCmmYJp41+oUN1dzPs1s1rsoi3d5i51pN6j78j6gICJRHXxM230PalVLtybJ\n",
       "OnC6Y43AAu195X8gk4p5cO+0DMJHH6n7FZqQX3MMD3J8FSHrFsGwlMGhmc37DvmHPfni8BtkKeQt\n",
       "YMxL5GPlwblIqxLHXF8LCN3t2BmOsxrKZXeVrY+Epq4Tq2W7DqmCAsBgyiTofG+4EbChowexEIHc\n",
       "1qUyxy2ITTi9PtgsSCE+nhSujC5BdP1XcHUozuV+5bRaEHySqibYjLpPtflk1xYtj94Ku7Htv6oT\n",
       "+0fDwqiVFRPj7c3H4J8w/tUd3w28BdNmSTXE+bHu9Xb4mUXDtUcYZgc8on0jbihdWxSvB78G02gI\n",
       "t+Y0u+gPFeH6lKkIHveTEJgibV5G8ii/ujPW1Xoa8zve13nqpEXNgGgX0/nFe4PdK2nyGfSUaNAv\n",
       "sQ71yX2GJPSysjKYPkZvNjLAvt6M3+PftVfzP8SgSZlb80CZ8YS4QCQBqJhBMg7BsA35WTu3qdx5\n",
       "ktLT6C1HVUkrg4NQDhMiobKX1aeKz2SUaHAkR5YDGXzSsm650A3zUUG3eWV/+wtmrhJgQugl52LW\n",
       "4In1kCv+nyR/1wYKP3HkbG7eAxsd7DHWILuYo8Sqip8xz/c7mlihI85unKb8x6BgU6Ey5JxWkVWK\n",
       "7zWShucT01VkH/ne2qBgcVwnhRUSJqeWcJmr6mS0eSvEd5z/YqGifpOiW3RSWbntS0AsT5LjUtlk\n",
       "DayUjms4rH3+r1LrQF0HPT4kApIXivP/jwtnG99bzWuFl7njTKH74j7JQCLHhEb8/EjaYd284Out\n",
       "M7uQzTsFll33lCQ6ViJQ5aZK5uxXU8BYokqMv7ZC1U7nKJ2vaNWA7cdvzwza1DVrCWW/bm4dVzKR\n",
       "WzoWs4IJuYruQjntX9a3lQoEeCcH4HV0HD78+DgFnkPPZNTT9DpIaBpkrUQy5FbrTV8CJm9QP9tT\n",
       "mafeuIsbrlY2frW1VJWf1FnUe/nKvVqZYET0W0h1Gg/XGsM5crUVI+tQJPWmnL3MA9k28Ywt5KXC\n",
       "IBuOLqG2T5qXWPVRtqgaEI/BKij0dHrf2937drRlraiTyqjK++qxhsT+fpyUasuqETAAaHh2iSbm\n",
       "v1Qn6l1Al935SLJw0tmAjEN4rgUeW7s4+jCNL0sLxAs/jUqzuE8a9L94wNg3Wwn6SSWzkjQo82Ar\n",
       "C3h1J/xRck2758mhFWwma+lT5ypu8tJzV+KAbt87+Ds36THm2yrnqSJSjHtA0uL8bMpNOThpxv34\n",
       "QTUzJV7sRnjhIDNRJ+mCs0dcRIoo0jhiStF27+5wIHFhYWNjBoV/aKazYEbcnf9Q1qN++wsxmo0T\n",
       "PWsTiYiN83w/4p+gr19Udd/wS4Zi3YunF/ew1CvjsngyF8PGG6h98mi6g//D7o5+VEDgB5DAtEYK\n",
       "iXHFog3/eHoRykRSw8qxiVnbVMUr8cACY0zmuN/J383eM7AggcHmj7Xf2cJ2uJtnvQaaf5XSQtps\n",
       "gOEbV+p2XeLKB6/bBwsSakeG5+bRYzueJdhLADskX/T8HsAD6Kheq6aVobmuMC0cYjTt+M2JVT+B\n",
       "gLByu9dQip4xl7a7oiHqw56dKn9surJCtDHYdlBgGvmCoiPC9FWZf/l5y7q2+NJHCsD3aE6wXAgB\n",
       "F+wE5lh3sUWES67qJEoirz4LiVyK2c9YS422lHRtC2B+UjZteIOHJwCpNKeVS8WYaBWeJTBxSE73\n",
       "SCrMv0ljVBinhX48U6l4D2+Ndy/iinXRBSy4/yeiRz4d/jEsKkT4SUkERuZp24niAAAM+EGb1knh\n",
       "DyZTAh3//qmWAAUJZyqAABTiYStBeKjiFxlRrft+TTc9/KCTn6lFrRDTef5laDz3CgGaljE6ZW8x\n",
       "besgCVCqsSCXSxK5Onq1ExWNaCzugxXpAEnuq42H23m0y3k8VEq1MSvudRgddaxeeq0Pd05eG7Y7\n",
       "pWEU8chYAYo65oDTbQHMDepAQlFUhDJdgtj8QL7GgmD8/zeu1Jo7IEpe710UZPmbNGJasrAOnR27\n",
       "XZCfMVEHD3SN3318SdNp+04xbok3+4nF5vTKqIld5/6LI4K/+OQlkDBgq4ATZnlD5pcd9bc8bZKv\n",
       "Q76nS5sDd9PW5h/mbqtpUw2sDxLoU+Mixn8EqJPYgzSJwS63TlPlgnr8JMIPm143bMKUNyUntOwq\n",
       "lnFOS4DLaH0Afqjl5sgFTDpdEFmV/+hFQiMuLbErdTkHViOvGmwJ0jjvJ1nM028ubZkYyqPEjnOv\n",
       "e/+MJYu4oYXXO1o70NRKiZ4OwsVJMcd8Rm3XEYWlwZ8Y/xVGhzvMwV0FuSG5M3Fx8mHr7cWnI5K/\n",
       "fXugKBlFQ848ZMaEPJOp1rGLhwva4a7+2omhhoZXxzZOSKE06+V5IFBc0duPxMh/IgVSQGhUup42\n",
       "8JrgqcvqOF/7qArcn47diSEDF8Si+9bqgzc6s8KlltyY1BlqigNJNWJrVK8WUjhq2FpKUA/0l/ql\n",
       "IYXMFBDJiL3JFNpcF5vdHtetFr5KNTJ7ooX1DyNm4UtRQ4Qs71wLHsXmJ4nw+vuH37lJzxzkmanq\n",
       "Gjd79Fb/QwX1Xi9Hk036/DXKmigcQmEaQ+gWllLCKN0tfiiyOPGzTWWfQrAFIpqnJQwlLu0V3st3\n",
       "4SN6gCR85tf2Bx/TInGbYIkjXaZ6DecJxIFSZvJeY7dGuT7k0OFHp/cU7YrvVD9kFnyKyUsdcuyT\n",
       "ZngIEFzrtQabW0wvDEOC4MUYiFx/swdbt+eJT8ZT3991aCrnOyB87/lxs947bPXs/VQ0QkSH9aQk\n",
       "EZWzPKYBV2kj/ES8UxOwpxQMDPYQYLspaqgPh5M0BoGY31T/8RNozE52nD2oDPUBlBLl1ncKRorz\n",
       "PxM4vrH9wcKw9dmlg9zU/jU0EwYBxJMjcHMRytWubkFfPqixePAVLywS6dbIlNd+Sl09MKC6MDor\n",
       "Yx/16K9mN8WQ5dXbiZ908TNqSmCVSdLEvtiR6mpKeWJEZIjnik4HqvtgeI0/Ymv2cTyNbV+wF7OR\n",
       "yodkmj5viRx/DXK9jIR7+RSYUoL0J6ZM0v3wYYZ22JWXSeXD3EsKmNcktf6sGSyuNrKZbHbjNtRZ\n",
       "NG1t/+fJ1wgBatzhs5O7gU1dWvjyDeV9d7Eo4sJwHyVWrObzuEM0fqcfnWqkdwlhnHmtG0TsrK3x\n",
       "kZVUfUShBAecRBGiyI7Ec1PsVkLannMb8DSaulG3gqKbwKNi136OGdfQlgSv75RAktgKbZESZ2jb\n",
       "hzzc33/jC3rw4XtSDFZpxLL+w1neAbWCIHs/oMSJIjnrDVnUtWHXEHMctm/UoYgJ0Xsd/Bkea7by\n",
       "GQyVyhP9SC0UGW7YLbnhRFjs3e9PCiOzqojUEuDby8pHSAL3xazV9SB9t1PPIW/P6Mt3/D+yrhxU\n",
       "e+0o7BSAMktNgbsbjB4mqqwRT6Lae6CjU+pgM5etzX4MIg3VELPuKLFzMFCl58VbtTYBRA+0zghs\n",
       "uLn1oj/AS3fM66EWx8oIGy6xWCkDK6lblGV5OcJtzBjERErdZPocF8ltYsavvaD1vJlQqVAQAf+V\n",
       "mSIacfRVnSt1HZodjc7Xhy9N822LOfS70D/9mxQRALxEeLCCxHdV4VE4NFNcKIYRmSupvcVpAIp6\n",
       "p20dqjGBBN/kNmRRvucKGZukTBYW/DFkDUzWRXFTX70ikefm5iqQ9TEUpuX4mt90i3HlsPgg1bv5\n",
       "k4L4qXumdhxFiG8M30DYqS5+6wevy4EcWRD0esTMftT9gZInx9eo0tQ24I9e7ntfQzBCMyKNiHcf\n",
       "7NrmlFQ7AATFbR4s662gmncp+Gw71fF8nbf/qDjhcaUxeie9ntk84zRi82sUZlBxDnJd8Z3K/Gp0\n",
       "IfuDh5+u5pcHutoEokOJ1PYdP2O4e9jb3puR1NNQpOBw/FP3ZBDp1+JZzbj0dSSbwbJH1b65Oqz8\n",
       "TGelMq5Z1+3JaxVENolLOWzMPM5XdToKC1o7G4WoZgWr5Fl5ckq/9Gopslxg5UoBal3OCtgkOFSz\n",
       "ayiPqygtAs+T3ifvwXdvHwAxQZ3HEbnKAjEG727Gv1G9nGfo8bI78luDLL1WsSdkSpu6Bfb3iV7J\n",
       "CiO43XsXmIdFVxnV43fQPyVzgN3AEJU5mLYEyGTIDRzC1SsejVwC/NvUKYyrJwjcp/mkBMcniNg4\n",
       "h2eOt2aVq8/993z9H9Mgpvr/3vs7g1iWWBXDkaSGNBpGu2qZ1bzLSWJZ1cJveR9ositSBiW2wWHi\n",
       "mT3/E0WyIqEWWYc7wStMVIBNTH+WijcJNrnzgq494xudaWh85FHSlu4qjxjsUsNGmHDNKJB/ZNT7\n",
       "V8teWRGAfKCwegBEWGSqGCkPbtf6UZi1mxw/5GxdEEwvTFPH3rGHupW9oTHAoVjTuD+36bLlRjvD\n",
       "/JS2LqyWnZMEVTVHOiCTCvWW8I29rzV/mV7NuPLIDZ6VcN5FI7JgJLxFIHIvD0AqOg5ZUo48XIfm\n",
       "iubcbrhC0gJD76JM2tFMD+/x0BtaDtrkWz6BAgIyg5omyzTbPiIKNrq03fr28miZKC20lg7Ta0MI\n",
       "aVebeG58ZSbm9Yy7WbPz4hwGRPZJlFRYLYcVmgRNARY1lXKJw9o31hVl8826O7LWEece1y+YRz3H\n",
       "IFrBehNYBBazi9BOHRykohK/0Cie51QtD/UEGY7QvfFmcd8pN1tkUIaWVFwaIDVU33cDLC4Tx7Mk\n",
       "vsjqQW3XpUh2AqSHsl61RMOjFiaAA6NYhsZg/1mfe9/VqXZ2/EKz7JkKRyoe2SqPU5jLCodTs+xb\n",
       "SL0vRlKdMzSSHqL+r3uogPs2okg80+ZZmotus3/e3bJZDfV/J7FJvHrS54KZOPKg/z2Za7MlHjbH\n",
       "vJ4k5bEfVgZQi8ZOjwL01002ITH1jC0ZkqCTKs0bZvLnkvANRpDvJjytPgid+AAFPRg5BovvXf4/\n",
       "/3XRCHafaAMtuhOwwAp0gNboft1Xa71x73i5WHLgv8SyM3k3UttY+sasoR9ahjduvoamrQJS/rST\n",
       "p70N/n1GqxNEnPnXNswgQ6uoHc6hKZM2YVlkmbBGhlibCHEcMubrMBL0bCVWSx171IiJcQDbifNx\n",
       "n2u2S07iLnc+B5FHnPubhk2dxGA6TMQqDmLTtPA5srPmDOlxcy68XN2YLlK6oyff+uiwj9y6kP+Y\n",
       "fBbZqcKMhTrZ+1izPubhaI6d/iYEU9RpE2foKakfTiz7pq/AaxmqzQ6WNGnyHJC1fUrdG3qOquVQ\n",
       "qDrA2FNJ3bOw0KZfmamC7yqTLaewX7N4cQWdKvyfTaCe/3kLYjXPkhbGCDcorD2uPj4htE1EwLxg\n",
       "zs8DFRBAcTvcRevF0S2VAyaGu1zYhIyN1U94KmYiqUos1Vi4szzRj6L8/YEvS4b76aOrFjAhon47\n",
       "t4NhbsNlTHIveplScvGblwPUXi8ceLICYO5Tu+FYE2/1d4Rw+G/ekqHH/EP95YVIS4cU5FenyG1f\n",
       "tJkd/WrBXSOSHmK+TL6pb7Si47aKM4A2UcMtWGsXYnwW0C9EFV7CmQlJlQSlaSxO6UX59p275HaH\n",
       "vOP3IOdsoIrh7ssyZ8he/It7ZakVKgwhn6/pQxyVbmPnmqiuCqEvYqVZSZAN4RXD8TF1nzf9gDVV\n",
       "kJ4BZ86A0bmKBeYp3tmXtp0cFlCyEytDblzwReLckNF8eg46/fsP9Iy02ERIrtqACXA/dbT9dTsj\n",
       "6XFrlGrLkPiEdBU/seHsZ+QyYfWtOOt9s/uDfB0+MRFOxOV+IYr4iesMpQfRHrKVd/eg1Mp/5k3u\n",
       "fey5UF5MjUyrDI1pUObxopb8M8fmUhypawZ3ceO1iI0SFr7zpCTAWI93ItAIkwGab+cShi1dDYBN\n",
       "xh92GUIUtnoWUnyw0t2E4AYT/8LpCiDJml2oAieK5OrIXfuKBy34y6LmUBURsagsK2Y/xMIDGnIZ\n",
       "lXTbFQ018zRiWG7EXlEtPu1mwU9DkDko487dShu+kwKoo/qvDNKzKXDaakcGgqM++Xe/4ZRiNaWg\n",
       "gXraHFuZv37LfuLlN8itTFvokZSnhGrR51njGBsEYqWeFujuHdU7Rt9oBD27gBorTYiDfSlTzItW\n",
       "Ce/dkP3FzCgAr3mkSlHtmGXDiLlNBJTvTRe5EXtvN412vbFkJDEgplfSsNl0BcJjuHJYSGlFtevE\n",
       "XTqw4guK+3JSOYBHunpT1t2VmhbhWqD0MFwEmm2ZIx8BZXirLPkFM7d+m51/YiJyvaCZ8LD7D0Y1\n",
       "D8Rwmdq0cvnAAAADnUGf9EURPCv/AAfxklRAmPKVzBLHnrpIh9lyDci7gl9xhfCcKwKX8kRd6dIr\n",
       "VlaMBqusAbhf4epf/aHEBxVWS/mXxwdf1ACttpvzWnQVwwPuzkoFM4q1L3O9W8Tj9isKwR4JBOux\n",
       "xaNbHbCa2b01PeJwBlcWyDjlAEHaHgtOAAD5rJJ8Cfl9ewjXsQDsAzl/FDZV9KljMnUtQ3oApeXE\n",
       "j/5nJKvSkRPMMNwykZjCjfIsA4hFCTQJR23DQ+zIGf8KkUVX1RjBwmUmf2wQT5DlSz3skFHzRI+Z\n",
       "d6LHTYmcP8l7pO8g9VRn1zMy+29hoiVGZuV1PXx5PaHTa0zzumJiio4rkcMjCrsmwaVdOZxDDQKx\n",
       "gUW5Gx2QyxCJGAEQ0297jN+deZLvg82lEYIOIb8xXiMAEL3Rx2bcam02sXX1iPVmCnN0MbtZ80nZ\n",
       "9+3JvuQYmjmJYFkkdkYSFWscD1qI3lGp8c2GirWFgKi4OQuN4z08MeqTeU9c5dhO/uIefhTxCyG9\n",
       "22d2bbHpu1AgkSMtJ4ulvCtPh4ceJAw3Ap1Z7X9goH194NHF5EYeU6x/oD5kjdq8rBMb1dAJ5ZsL\n",
       "O6T5567SOMO6GC0KjwOnpUoIZqPOfoghDbbbJqQtXTV8iZXM/Qws8gjpuwDv2XG9xQ6zUxc57Yy5\n",
       "6lCJo7mFiiZ8Ky1MjyfDMeNzS+1iJoRgdML/xN98/qmiQhViWTmf+XpddFOjA8qoOKXBmr+fQzjq\n",
       "nrKwY6JzxlhCafO8usUi7dZ7+PKuL4CKUHPjzwX27e4U1JcWWOu9HYWjL5682yG48Fh8Xzcw1cS3\n",
       "mWnnrcuQDnuTgAE82F6cDIP9v7M6lQX4FsOtqwLLXLRqCa94koinBmPHRpi7dCTNzr8F84uaxJst\n",
       "VlkG4oiN/DnlAhV5OuOTMDqafhMAHE/54vNv1lJBJ2kK3dJ0Qox6sNb99L6fk2+CT3wnBI/Rcwol\n",
       "3978twJ5Fhy1L87axhsl/lnIkSNRqE7jf6EXWpRA7JBqPh7iS+2ElADN/gieWZ6bZys6OuWOhzFT\n",
       "NCsNd8HWDWMPeQEhYZsBbXCw8QY0vnyIMYyJQwdwKmVcR7PE539vpNFix6BiofniO2JyKaoaJwRj\n",
       "diTzekZpnB2GPSQHa+3mYQcd6Kzsx70w5WjUvrG0mRg6mASmhbjk7cjr953v7EQ4u2xsTZVp/R8b\n",
       "X8UXfdTJQly1UAAADWKdapHXdRRSlga8JeEAAAMaAZ4VakK/AA+LKcdsHgUuHM3slmSRJuwg2QCc\n",
       "iopHfpOcCmIoEgWEgtebtTghummBL2Bsb1/Wtw8kAEJKf/bnBgUPstyNm+HQVIGZZ+j82wNP3Sb7\n",
       "jKVxmCOOHdx/S+iEH14UTHcWcVYOWMi9I+0WAm+pFaawGfaJYLxK+6Qqll3zJr/HwcdRHzrqR/gP\n",
       "QAy0HebE0EOWPP0ESkozNUiFHK4iOpkNJ8RtpttGISoxPUg4NPuLgipBZNz9eOO8AzsuBZD6/dJ3\n",
       "M2IkqjYgGh9mnPYmbvklDZO1HgPp6/JNhBeLtgWLmctwsdPRhjoB1uBGZ2FDTH/MK8+kvNZ76Cw/\n",
       "fkFhlh9M+yQxZeWnh9149fl0sWkrc6EoI5t4o4l+7TdqswqTMmwX20VB23pt8+OM/fShxsIjjrOM\n",
       "mN+gOeSuIGDM2gJaL4saO40Knq9/oBnITXVA2Tz9YianRBp4B1h66QR+C+l5TbRfJcRo/L3pQzVF\n",
       "Daao5G64pQWM+BPAxplq+NPMlSiuXASF7voUSzx0RaWcLVQPUFpUmu23/ypQl+OFdvmuZVqdkzqD\n",
       "6Wqyp4c8x2lag/OjKLDZ7BYpG2t9/1XVrtgzKaGrYk1zSXuwPBnsVJ1fyF9WITVotMjZ8eD9aHLM\n",
       "1QV70U85NLZGRQxQZ+A27iJ4GW63MWVhWrl9+tfAPpir/brH3E7yegjPd+jCaMmGVgy4cj9IPmMt\n",
       "6jFhEeRydY76Jqgl73XqGkHeAXAAkX5SO/NTcvZV+Ex0osLfXz0Dx7E1X+DYofxy9300C3PSyBR0\n",
       "js6+UyyUNuJmoyS77jtHfxKGmBx+PYvoNlp/wISSr6bK2+TSvnmkPPAPqlvULwBBdwCzBqzhcsGd\n",
       "AsscQv9E6SEEFZ+18nGH2T7Co2mZDWDTnEnJrJmJ/N/lRIfZLGVuck65Ed0EtVPoU/PCI3tNzhaB\n",
       "Wg3FK+KLF+NeuFwMtHw8OWq/3GAHu6n6PCobZLslp3Ud6UcaL8AgN9I1wBlrQ2rF1nkgWSe/aLwN\n",
       "sYvK+I8jQRuwqeMP9S4yzsdJBgPh/vHnvOAAAAezQZoaSahBaJlMCG///qeEAAnsL9fK5/4sO93x\n",
       "qTT8AAhpZOHngKuEGXsj8B4N7TjyYX1KnzBc9mJz78dLcO17KSsBjs1STwNOYrNPK0k5ulCPQxJ+\n",
       "5u+ug/b01VUM4LaqtvF1OLllZm5OM+56fkEVpcouHcNf/Eux4XD53joobG75yj+edxY79Zy3V890\n",
       "QvVNmtptip4lorQaZuhztQ9RRI0GBFYkkXzrk/Hheu0i94GgD0CY2ef3PuLvh4uvv5X8cix+jpn/\n",
       "76YSa8WGzOgzRDr6+IAOzHbYJlk4qQTh/+ZyqsSq03FsdQqt9jlsydrhjgdZbNPfIrC4sxo7s8CE\n",
       "csmQL4tkUf2jcrjFI9QbPUu3UbRdl828R1ADNJR8vcFjTzOyO52RWCjKfYQ1HRA4GE/Qbs/th86V\n",
       "1tMBOtlquZkRxbXt01BCDl8YrfBZTxVvMC3JUGe8XEeftaPiBXbSHoeizeGCWWIG+IFrcjV6oxIB\n",
       "dVaerAolceAiFvrux0aM/P4Mbww+wso1x0JBHqPS62cpGthS2defReH+1cdJzVKP5OABAIR4YeOx\n",
       "X/smXulWTKNvn+opKzYeBruvZX+Cj5yomhwFt13rdABlBvy7Dw41AL10NmrheEOcGLUM7srg4ARL\n",
       "vbKeOsKVVuy0wLfUmE+zgE/7Q6XXHDPTh+3LbXjkGC5qt6/jN6rMuDsPp8t8QjB2JZIQ90/FCSA/\n",
       "u9QOWUssr2lTZ3OEncPN7Cf62RIaS8NKfghj8kiKhJTf6EIYMJeNsK8/6LMHFqR0cDS279kl4ZcD\n",
       "7zW0JdjdX0iyEBJgznIF/ivYY24kqr+qwmvNeNaC35j0hTCWHQSRVxccksyKdPU+Wl2HWO096xV/\n",
       "ulypD3/jb48qdfziuZ1fndwHLdSOTZECLJ9YwBE9LZFfhAKvm8tzQsULkC+V4Q908qRq3Wr4tj1K\n",
       "NUsrZJaBdjn4SEADytXf5O/9vCP6waG0axxsXgIV0rNbFOyBgyRynPvUKG+XoxN0wFr65h2Ph2I7\n",
       "H1TnAGMdrTJVV/Xd7qAFJbLMUNd+Rvfw5gSPJyGcbkv5UAnSpL+mK/VI9VJIeGK8RbOMQS3OpoDP\n",
       "TFHQTZf74CjShhQ9pVmY1EXK4fWOqaOvVI6xxU4ySE78HchNC0b7m8tHxzk9rVkltcvOpYIL1LjP\n",
       "phzEoDTJUalByv9eH7DgjM1A4i20pVf+1Z8yQSJJb35Utwgvodb3DTM6wPKwxAKWYIq+Gar68Oa1\n",
       "kqvbnSTyuF/d/EFSY7XdxSfXbG+BnQA+ZzhO0Vg9ZuzodQXzhlKMLouigcz6EzhLkjHnri0sjhUw\n",
       "bYejG+J5+QnmzQcP9MBU5Ttng44HxMdm2bGwgCv9LPdIsGvsYpNNauR2b+6Mo27mfmXi4PU3CoYA\n",
       "b05x77Nj/ammwhpQ1y/nGAG24p12RjR/dNdeBBwo70Egq5clDrzp6Tod1pteG/LfvcPtyIAiY9kG\n",
       "EK+8az2QBwWWj9YSs5f5CyF2Rhzh48V7z0iU1FRw3PJKmH4/+Nw2Cg5N5Of1uKMBgw/n3cmyZxv5\n",
       "QueTfKzmRCX9YkqOq7hGTveAC1HuuAgvIYUpi9mUaokA77AF87MdFO2/HF9t7we9gadr7YYMQL78\n",
       "FxWrb3kVdesoNoQG1ZuIzVO6NzT9tzt3vxXfsNFVFRzh+UFEi0w8Qc1kCKIgxjm+sKeqsVmL/2Ni\n",
       "WTEze/gAIzDonCzeE6haFlUwbM6et0hoNhqN1t74hZQLw++ZvI2Rc92madRDzjmDf8sKhi+p4r9x\n",
       "/sn0QRcq5Q8zDfosNCPmIP7xsCK7+wJ6W+9jUf/c06sIf5HrjcLvPUAfxUAfWbESS9wCmbwznqpw\n",
       "35gFnVMS3QdTTWXtNEFUqNg8WzZaNw/zX5MD6ZWogeTDrWgajjpTOwA5znxr+j/rMUp6H6JrojF5\n",
       "OkxDNjKzTfctwT0F/StEdkVPu+DCbKi7GkVzqXYNmPjujbdudG8d/LVZCTjMRy5YreXLU6xVJ0UK\n",
       "MYthWEBGyZpPUWUTVcAHtbU0I3dinryakqji5pmKD0zBd13vPcIKXlm9zi+6mLFCbK8rrFVkUcJs\n",
       "eu+i3ZLa6CEhcxUb0KQ7wpSZz9QjDI+o0Oulm7BSo2zRg/I8RuMrTAHcy59+sYGHjeqiC5/v7EXs\n",
       "HKg2R8E6SPD0mXcb6SXXxWWhXTs6q+3VXERXTAm1PUpja/uefg9DtP2L32+EEd+VtuR5UR3PcnjM\n",
       "RSN7oSPhxgSK71g3wYnOGe79QWgiRXhXfWwMvkC/4sJW1MggO27tlsO9TEb/rPI/T5IGl2CAif7p\n",
       "h/LxsOxKrAv2GVOBQWcRyCNcgKzNdXUMkDF4dfxEvB1xGx7W9GgwBt5aYlJ7q8kRT9D4JDC1Uo7l\n",
       "PYKxHeNWdLvPreR86kdU3Jl9t4hfl8uGQNDBqbAi4NJu0y/0k7bXnXGItJHV78w00uxy7RGBowqj\n",
       "Mv5tXc+FBA8CUpWDOrx6MiSruFbc4haykARbvSggKEu+Ckcdq4X32Wuzc+s6Z/nFMsypo/+73Wsc\n",
       "6Lyu77rPA+9LP7t2C+YTr/TRj88vkZm9Yhlwd+UXwtH6m+GLVQUmTgKMGa02wPW40TmsFHHUDE7s\n",
       "aqr4RsGBAAADfUGeOEURLC//AAumRm0D3sCSAIeepI02nxrUTqQt8dQ6v+H4uYT581j/x08/tP5s\n",
       "MGRZ0bqscEU3wcyCBGkxv9I+NR7zuSBVLL9Z+zju/IwqndJQOu3XRuTM/DXnh5VOl8t30K/lolcm\n",
       "ez3eVgDbPS/JJTbuTG/vT5gcHcJlJ7pEd8FfbpTxdUCk9GmVPpPdzmfvVWTLekO4VBxKxXpSefGt\n",
       "U5JY/YMnYdBxd8ZY1emOteAXGjeQkrmFuP8Mq0u9cTpU7FrLSLnlqt3n7Kh6zzyR+K1RQcPl+Cuc\n",
       "2V5qtiBxUXSrYwv3TEYUINoqULPx/4SJFJJuMh/dxJ4eVDw2NiUVCOKofFc0udpPLPHliMMbYIDy\n",
       "uKbSqzpoz+FswFSEcX8s1POpeqYGtEhuQx7Hr45F0h2/A/Z1W4oVgRNJJfnwJPiub7qChMsqF37J\n",
       "qeGQ+l2of44ITLDLL84aXbSwb6feAL5PBNi8auYXc7oXeYrfJHsH9fbvdhnNw9eB0TZPDKOHTzy2\n",
       "d0frWXkePjR4l6epUek2i/MgtA7/ZC7/hng2UuxsxRH+nuwaQ9UJOHiy89lZFKUqRg3TwN25Cymh\n",
       "gBei4YuyZpokhuCYTyYlOpg1P0LD5f9dyZjFaAIioBq9yDHypUCo5qSAn8lecCIkQyxeC8GDp6Ut\n",
       "gv5K7zrT+BN29aHrRim6DBzYzqbquPl2qZyd9WnQj9ILUskF+1cCSbqsY0rSl6hWrItUoNj3IAam\n",
       "kC488HrbsqFbFbToVyP2xNtpuFZcNKPkIpXUUPhANGN6DwqEcfYQlzxquU5tUbsjZp4D7uFcuL/h\n",
       "0/GDGMJ4H8QMBlG2gPKH92Pfz0gRrBWR0v5A/OFIEIRvb8VKH0LJeI1BnKPllY9l9aDOiINBKZfQ\n",
       "DVvkxemeEYHXy0CaqG1ovJ3lBWtddCzBBbAJ8qnkKXJ27QaEKxivuQobK9zO7JLNxQZAW/f0vKtA\n",
       "lGXBFfbkG0TM6SXeGHoXA0FRrQ8u0Yl3cbUwDaqR3tCu0oW0dXAAJqcLllIhiwfRelRWBO504f1i\n",
       "VpzJWhPHxDbILzG4RCbB/6FNYB9Of2GXNCcpoTuC82xf6u4bQ5NNwVhFrq0K6Qojo6OMDWRF7GSa\n",
       "WUtpol8XlIQTCBDNfA1edJXI2vvtq/ckn72Cy7ogdym9bHRJuD0FZ+zaN7KgAOaBAAACEgGeV3RC\n",
       "vwAPhwI++d26alzQNSz5Zojc1YElhWeybPa5AAmkQR3q0oXByu4cG95mM+3UaoukaJUlc8rkyzGc\n",
       "ig4S/2guQPiuxQLG3Kzl7nluxhqcsySI3HAE5gqbFqHG43QsQ6lIAEeCx67nQcfdPJbjCv/FMf1/\n",
       "Z0sIp4miSd2UgZgVLNeJqMd76CyNzqTa7zW0XWYvKe7hUPsp5TDuQ+V9qbwuWa7g6RMZ6JjoNZPv\n",
       "XK7fn1qk99SQNxf2HR23Ei71ZZ9wpIAwqELNcURkEEcRh/BtjesvbjPusw+QzcPV/yT0Vp7ks7Xa\n",
       "SXaTaJ/40niBCd9Yfn8Y8i4NznfdK6Z+dUYFmdsKAwvoM2xFQvrqmLrYBMNN2SnZB6wmeyEAgwB6\n",
       "tfhMd+IY/7jr6/QEBKtloi+cFZrAcg2esQossg+QZfp0YAc+eKwise+aygR6SgZy4HoIVUx+KSso\n",
       "fAFpgJpWu0nRWpavnDQHyNSQUhu9byPy0jRJFEHrerNJXqguNJ/vlciBhrZbmHWp2Lnz1/RLbvkz\n",
       "a7mQD9d7bdEvadFHwprVybVcdZZe/X16wdwYPWs+fqZdKDdRnOSbmydsI/Vdilk5vwJ1a9D2hJB7\n",
       "fpYQ0Psr3RsyEdn9Ri0CKwIZwMrztNt2TI55MYVOV7WABkj+Nj92vUsVbLA2pYryeEqm5WLsohsO\n",
       "rCTEHJl5SyOkKOGVAAABngGeWWpCvwAPiyvcEHm5t1eeEMCg9zUyPvvSaQVhhxrnsqJ5T7EwBLIK\n",
       "wExtsovnjWIAWHSer4ITY64+LFobOGAnMNthVMqrVhrtHJcuRwuAiOUIpw0EKYADh/WeLJ+pP4X8\n",
       "X2mk4XVTM+a/Icb+LwJDlyE1yhfJMRVzGvwhA4EA1S8A19ha/721PutcqnUCK4NJ3tWoSu1ElRCW\n",
       "fGy03ZUVXTZX0DDz/7qjXtpjESfHWAz6nUP7waVWtzsK2Vc8JPl+xeM0KjyF06TdQopLVgIt1hEZ\n",
       "6z32Klw1BdAqe3E2U1gAMY8LNhCdqUM3GF3nkfW49OTT/8RYttV4o7IsvIyPR3lPYm18y/+jz+T7\n",
       "xL3vaORXDda9NXeS8K8LVCngM4MBNne7tiKGhq+ulzGGxrESAChpA4Uopebsz/dzyz8tjmNRHB3k\n",
       "7Qm8ryV36ebQntEXtC5NkWi1XcJre7jbGFyvRNGQTZFbUe9Q/owtmI1DrCpkLdABC17KjW9hO/XP\n",
       "ww04dRVFHz7YrCzinKlRmjTCNBJs57zWFvFCSMAF3QAABRNBmlxJqEFsmUwUTDf//qeEAA2PsqQt\n",
       "O+G8g1D5G1ABqWcA/GLG1GW0wxM6hKEiXwzEJkNHt+J9zNYBKAeUq8P9jlg3I8k6dkKyru8u69Bn\n",
       "3CxeIH8PA8xOKwLdBT8f0UULXKatd1xRqTm3hOOiTdmNSN4MhPaCc/pZPlqn9XdX6p8dynViDhIG\n",
       "h/3Hpde1B3xdkH15FP76HEl88dlro2wujWERkH56mV7c/2C//SWmDjPAgSGYTyJ/q2d/XNTlxaUZ\n",
       "0fJseVpIPODS5nLRL0oN+rQdrc1zrX88Wg3XItfbbkXtNj2AQsoTJ2O6v6Ueu8Q6Lhix4kZsZFgr\n",
       "3HaA0Up3+4MpS/RVCJ81V+dwoBrVNB8v/zS0Z/hLZvO96cAd6FhuTQKNv3CpVv3CiR63cjfS8BK0\n",
       "WR4L1wgFGGowBCExMeqKqlE+vKlJm3L3L5FWV3hhXbsKIoMDVtj/DtRiDfslf9LLERgKRPmMgO28\n",
       "aE3o5mWgBa90P/TtIlUND4H7gpyu4v3+DDzqffgoRiYsjuhW5xck0IRYBdCiiMkJHFb8C8fQk4mB\n",
       "PFc/eGMGuCCS7DDNygDcCQf0IVG0hFAP9+a0wmUGLXaXjiKajWIpZiCbWTiQHcvXc7JoPxuqcFpK\n",
       "xWievf8qQ48K1HQ5kFk0FP4cF9Y/khj23/0uTbL/OM9DDVtqNo/6OfpbUdz9H1DEzUzVRiESWigo\n",
       "nvbdbwUXJikWbr8sVrSIsR6bXqYC4C0IlUEpsoAWwl1WJxySIfEBM1YJrTHVnGOwlHrGiyb5/gjk\n",
       "G4QRjnyLesPhCcstzJU3lw4oZhZmtmYkeIWL4gqLRaETjMtyGRArPeBKVFhPr967aSgnJOzNEwNc\n",
       "g8yqty+So9Wa1pXUL71gQmjb4hhDJ+7NNLLwUThGX39RzGoOTQFXzY3kPU/ut3clnYKAIs4liccw\n",
       "UwsGLz16cRhdxkLsdVUCkEUJxpxmEsj+patlc2y+Jw/JQ8wzOIhPwWlMLQ83DV/Fw2T0UDlfSpcF\n",
       "QPhRRn4jWU/5Bp6JGUfv1CP9b09jMe491Iy4G217AAR3vGlsicbItRDH1aWV6z0z5IHOuRnS1dDv\n",
       "bsL2tD8D0w7LzTcGPalcM7bOhpVcUwcjP9KiCnB4cIHmgD8M6JKqbYhTXRL/1NgJ/q7orGN3LyCT\n",
       "F0ApYYu5PqszTBk/luWnbAuFSs3AtzRv3jHRdGKyOJGqnbvTDD8iDe0IaAN33i+k+dQUyYelioq2\n",
       "JgA1mIA6wsJFaxVV2dj7acf2sfi/qT816fF43/x8p7oTJTyFHJoX4ca6JekWxSYg7rfCXPoLJjad\n",
       "/7OYQvAUA3e3aokSxWqUlEzXDH/crvSGXsAzR+Qo8uO2wHPmhWk2ncR1oWpaZWv9fxArPO6m8cmM\n",
       "X/E8Pmmtt9JpiuBCO34oUl5CY/0ka7/v4myHxwyjKOTHdrk2urBN9nOxywQy5d1m0LVhA29Dg+AE\n",
       "qMtEmb4Thp+UbATidvAoaXTwedvr8MLN1IIs9xRneymljHY//+fwUHJRFu/4iwZWjqkItpMEhJ7J\n",
       "3GWwzx+P9CiCrdydmSHh3JsZHObxHG05i+HCfFEDa7Gx21MwL0yHd7Dc5aiwYX4983HPi8xkDRl3\n",
       "YDLiJzGcXA5HbZhzf7bG4XPNc/xWXw64w03KKtP3SO/fL503gGI1XPZsK9Mn9YyiZoG667UQqGSl\n",
       "5hfW+9ajvrW0+uYIgKETD2iIU81KctYAAAJNAZ57akK/AA+Nev7RtulNdomyiEdlipYDv2qmqq9J\n",
       "XjUMkJAhPk3wACzBrCXCP9LRF2m+5Lb9POPLUHJZo9SUziCmuVcZdHFwCLs1VjUHmV0UG/jgwipD\n",
       "tQUowmQO8g8k9frJekDR1dwzhoa+0hRgbriiuAHXLTqNmlYOifiKUiqBugXhoWpwqfg7EDRI4LaI\n",
       "wo8eBJGSAAs1RS8ftANDX63JZMVsV5iQc+j4z97IGU4mQB7IcYNDYQQ/DH98daZQGjlmpLqfGVER\n",
       "y4n2sBByFymeuLjlD7ypC2udHtSyskGGF8pjaZ4XQR81EqVFagvs2E6YpybdDkmB80n6yYUsouWN\n",
       "SfCOlMbBYYhmvb7GtjHHmcfhq3J3QNpubiAAIQyAaeBb+aimCX8SwLe8Y008wQjpP5YFKFia4zsA\n",
       "PucXPvWowvWLa7LiMPDx2FwWDESCtNpFzXvVTNvXimKwUxVegvHrXWXeQdGjmR4z+bubxOEjD01X\n",
       "Zq18oRPK6XLsXrZroF80Kx06YJhmRNanevVfLVRJrALf91znPLULxLHp8huZTUDFC3/rDroBWaU+\n",
       "Yjys+QYIaIX4KuoZ156eWCTG44/6UDjOMJ3vFjNfeHPvKvzIPWV8ck1gsg5/cVki/QFwjzPRvV7H\n",
       "O4zzOvlQwh6dyOX+ONJcyeBwgBkkihAxaXs7XNgRIZ6PZzW9ud4coLRwHOJH3YhsFWUWhEdhFyS0\n",
       "PkhvNhFFbICj5jDSCRsO6T+mnT0HT2E0VBpA7W+oLK6A3uRL8DUl13UZrMIVsQAACBlBmn5J4QpS\n",
       "ZTBSw7/+qZYABQWuPEwArslsjNsCde/FsQ9Nv7H9s8McCVXg5BgXgZE0y2acXieNiHg9h3IjOgfn\n",
       "9LnShzjXR7slVDzyVeuDYgupCQd5Mno23nT6deSwJBqKLh8Po74ZjSJ3/+fDCrl3+8VlzFiUNCxm\n",
       "8lVBbBgdL/W1alVk62OMMO80XOQcH5ARLTrcrSu4cX4IB1IjVB/p2/iZ/o7ctvUSkdtC10Xs5ysE\n",
       "5mKA+oJcXzEjuO0581jA3wXVz/O70o9z7FG2Vwp5P5D3IyNXm8NYpN6r4Kcmdpvy0hI5yXPZnBzW\n",
       "y+9CtZmjOA2apDWksxMql+gvKZDLg+0q9dJXdWtyl9pvaEKJlkDxj4AzRCPZvWxD3PzZTocL2PY9\n",
       "nyRg3LHjy9crpLUQL9dMC9kC2fRXGv/6Eobvvx32047mBdLA4NFkYizDs82lKlC+hPJ9ECzMPcue\n",
       "RM0ZZs7bp3K4NcFFwD+L0SzauOLD8Q8q0defpMe058J2zTV3UF2T/nknhhyKQ7wXXVOk+kPege1n\n",
       "Ea64brE0MKphMZVWR46hPkrCg57dv4DUHr8n6hYzfoyfNpn3UqhJCAAl6Xakt5A/LG57BPUC6Ako\n",
       "eLpkUpSLXqOLQL+/gp/Z1wYgD5BAweAwUUhPEOvtumWCdp+HjC+33pdv1lc9YCLaRCcgWgoAqkKJ\n",
       "U7+YYSXmOR+Wi2URyu/U76x70toEV7Qd8wgMJ1pK7AM5+IdD7ny5h3wHp/yafwTCmbvB3ohEVPRV\n",
       "4ieMpFcLy8XyRTu3EIo+cZrgYRjye8BI4aaBAXv0zRTbOwhfH844fTKnFaz3b/RnVSid9nNh31JZ\n",
       "2J01OCuJkKm2ICcjkjTn0gCxjEJgi2oHQvcs60I7NBo6+lHbtKHmBmehlc91gxKJl8XIY8GAruXG\n",
       "wG7CcIQe8Gu9psBLQptC8Ei8NV0Lu2biN3h3Bp4nVoUgDYn2a10CeFqsc4rkVkH6P2+OjR8mn1la\n",
       "ngflI3+xdnN/UoxEnXj81/9TawoCA+7MsDW1dThlvH7vo53FhXg5vmr4zi3PpDvak9hL3+gw7K4f\n",
       "4S80qDv+cgbxOwgPmT3mvBfxHgvjttV2EZeqCH3Pr3H3Uf8bmzAqlC6hK5LNGDPrJ2b5nAF/GD+g\n",
       "AAG3DhbbJVoNb2p5nkabfWSUSx+rQA8lZ930djhaI7H/aTLiecvMZ4lV+DaWL7jq8n3F75Ls3NGa\n",
       "xVzrm5Ruy4ODM8qx3kHdzW1kY1UqfnVWSylQHBuSzcOryqhqZ2CpzfEUks39Kwx3nQOEbdtxclo1\n",
       "4j7fhgCbAWglMA0h+ZalKcKqrza9LNr7j2ICIi8TK/fLXuFj0p4GiBw8dWpd3uVTK/FUZFtF5Epr\n",
       "O6Q5RsDMZ9dFzPhJClrSsWRKibE3bM6yHmriLxmVnnYdVjOibdhi5efSGzGNsh8MGpTRIhjrqmt1\n",
       "gF0Bro72Cbur7nIZ+OsF5mMdB/43xdmVtmsJbLwtVh2q+r8giW2bw6OYUxOK660v/s/xSVhizzsH\n",
       "oeg1fAYAuZBLPoQadq1KyuX3V1v8YsVOvqg9smOQbGl7m5hepp3s9+zUTMhSzjX7qM856Hpwja3O\n",
       "C+0Fi9+MPnfTEGpTGuFqAQFPIsQlpqSYaufLagzESIU7xQk/0MmdVz56njS4XbsRQ40g1a428ETS\n",
       "8RLbgtl7rDjP/bvpRXppfreEtz3emzdoCl/2IEzbbco+BLGq1SzELd9vTg3Wp1ug6Dc9lmmbMuZ8\n",
       "HtkqJ75s/+Zr5Secq/m1MPe2+ZwpG0pNDBmTTVtiCb9gJhhP5oqH1IcAwOxZLcvLtVoWhCWTPkWD\n",
       "ozUi/sjMEGQu5Jz/33fopKyu0mrz+4LcdzYVZ+Hkj6WF/bvgIoz9xnNhJv8hnFdMmqg+lkAplDv4\n",
       "9Ym/zOJRVdxp89fTMtnqQkxpQuzRF1QuK4ZT7Nb3xfyu36OgWYbX8Nt6bjifZEwzxfHzpBln/RDn\n",
       "WBFrtGLGg9JXMMYJ9d7AxKcYmM1yhuwIFZJJAjs3IWS1LPDzvuc43e1cPa9d0pCNe0uVk9t4674+\n",
       "VhXIkRW03rxNJS68d+D4sEsKpHRnffMRNox+3mBlEUnPEMoNgofKQfMSkrckUjei6Lqjy6exlxwE\n",
       "q59aCJeIfq8ydRd/kwcnsWM0s1OQUdu9z6nk8w8ZWq8nWXsP6kOgTUC/Rb3AFEQVWme1mUO5BrQZ\n",
       "vLjeXE/5SOIuPx6JpIlX/yJh4n01MpWCKFdwhDHKawrO4etH6AK5J7Xvcsks4QdV/wqA661wJUdl\n",
       "BJbHn7is0DqYBW30ThD1KsyBPFRH406rYv6gJGwo/4glEsgJ5lpzsDx50CDlY0gXz/x205j7bPAC\n",
       "QnALAr6UegWQOAEte2LvwFUtIF90PNyw4pL4klA3oCWS0NCcD+wOeos79be+jsKP8jwrTlniBtDf\n",
       "CiMbOPzbnNCzvMZfotbAQg2Emre48dlZUq6rCZWeLiNZXfF+ChMiElKJCXoFXoxA/zMv4GRuwt15\n",
       "IC4bqFrM94E9UrW492mFlBYr7gVi5nHPafmDMBY2Uywqwmuh9jOmi/Wrud4RfrfwRjdACgxOcX10\n",
       "MIVRh2uOG2k0DJ7d/zYTc1EX8mmIol9QVmgLDjjMOx+EajJifhPtgLOp/bmL5B78rjLe/OTILCNX\n",
       "8Ryvs0iU35wILtw5eI0iDKyQnB4lFacUGGBmN1EC2LKyWxN5tE16KJgAAN4eWnxRKf6mK+uD4L/A\n",
       "DBs7k8LLkbuUtwDtgysAAALoAZ6dakK/AAfEKcAA4FR9ekGRYvENg9gxalNk1OPPDfZzvL/Cd4es\n",
       "gCRW8Zqnv0i7RjE2XS0hVSP5pX1dgWWITTmx6AoRaIizGb4RKCkpkqrnXfuS5Ei8ha/VwFMHxOvF\n",
       "9uZv8uer8pZoPrelVupuF+t9ZwSxrYtXqY4AAQm7T7JrOFATheUafHe/xh9BZhVnbIuVu0PrZCay\n",
       "WHCrWGpmHYjS5A0+tPytq0uGj97x8cc80En9cPesBF3La0jz6LcrsZ8qBRQKA7FWUtOgWtpCVljg\n",
       "75HUB4NYqx5///YOfcsRwEz9Ui3a0oEMbKji31EpHYnluBB+hmGIfIir8Fjzni8dmJvnyB1HqMep\n",
       "rrqBZs7LtBHJirNi+4PKyc+zup112aD01m6TOigfGwS7PpUv36z5PlpdAy6PrwRtbW/+LUgbRKOI\n",
       "QOYwol4NEDfC8WTzOL9n8RAEKIHKdYVrVStFrrTziOW3B8zbFspCPs8FLZi+8W2FdtJkAtE3LJT4\n",
       "K3fDWpURmtENEuuwpCiK+3EjSqc6jvDvCbiJN5W/qFMQ6axKp95SFgbijFupSsjgpA4nZsJ3Q3q+\n",
       "1BWed0GGdfiee6jjlw8k17DlHJsUDApBilMH5sfXTlZ4beMk0qVUARFbRNYbZkWCFApNJKCwQpAs\n",
       "9/bzGHjyZdLaq2EMppdjE2+H8jva6ZVy/7LXNcZ98PF4LWdXpBtS5YWR0q1aWUwTtd1Pp/ozf7a6\n",
       "55zRMJO2yjN3fmjl8+WcUUxyu5rdd8PabbXjtQR6Ndj7EOcxFs/6Y3cZtbmcrJwpptmbEp9Xgd/V\n",
       "NvqJCSQzejRu86X8qs+LigbP+WMscUs8O5jEyty3yIWiVrTrisRH6oXD7wUqoCsta1tHC7wB7Gsz\n",
       "/mWOdyw+cOADC4NBDkfkGay6a5skqdx/We2u5LuV0IYveide5xyO3f0H3gMHpwIStI6r1xgbRuLG\n",
       "qHVHAXX1bCtZx6PuBV+10tw/DwFtAAAKYUGagknhDomUwIb//qeEAAnwJmfognXreiDn14AEsMg8\n",
       "QomDoFWAjRXEQA5uDxeGo47SIBBvajRAczQBfqtFu7hyvTrqaMt2ZcBTBC5dV0kthtcTffHiO97F\n",
       "KrBB6UMDdiiFxxJCO1qi3Rl/oN3T8RRGxiDaPD+HBqdevp3Df6por7k+hH3iD2MAcCy179PHthYV\n",
       "A9GAWzXBC9HhIiR4nVilqcKOVwkO7hxbIQegRjz2MGJxWgISIHc4UvKCxTJYXUpWkQ+Nb0iYvoTq\n",
       "iBLae73ST+/UD9sMLy3telm6gWFIyhmQOA67dd+1z1iMUZBOG0iYSXWca+msaVGtSCBIGZxPCPqI\n",
       "lPuMu+dxQU68bz4qESMHxFPzHdIYprbl7SMqaKI72MhIde+NGiGq3PZJFuo4EHQ1HVUG8rHSe9R/\n",
       "zzJunV8A8fp4TvXCOD4U89P27F3Kxq8vWej8lK4cLkh/lQBdlwoH/YABiGjR/iM8Ea8iT7uiJHRk\n",
       "tEkagwfZzKSxqdbzyXIzdXHZ5zmGJ5jwuMCBK2Amw1a7yDDAdhbwcxxz9jYVVl3p6GdL88tXSkH5\n",
       "/N7No/eUa6Rl1aIkNqGBD2KnMQHmTHC6Gm/6Zko/1W847DcUT05mupetyWetB4iTH4s4qr+tYsIC\n",
       "H8Bc/luEv3MqEfqxX4/gTeNyaUK9QeK/VLWreCic5NEoqaxzsiO8JOhR+ilt4iuIk4tfhoSTPGOs\n",
       "v4VJe9y3D2XdkdFtBGW6WnC2VhvU9cc+W+lGAVKq9PCvAx6HABh6/iYdIB68fZ54qnq5g1UZPfwq\n",
       "GnA8zGyN7Qo/lxVBQRuR9knmrroZgd530J8BthSkGwTm61JRvTUJREKcQPzm38/jfI/+IjrDzUqD\n",
       "1GR+NtwqDrfGk8umXDbqZnNXTSuK3H1hpAHzzaEfi4yLMEsoc3xD9JqhxEuKlPyWecnTcksh7NEy\n",
       "/Eqob8Qm+c9DXFGupAU3OPx/yqv1epAiJ8pKFNBQZ/vYXTNKpiXaGv8nvd9SS+O9uww8shkqIOie\n",
       "p+i72TCVFh6PdEytDKlLG2BseUChtntI+9XOZEUcZc1aJSlTD6UUKUJRJLSenm8R/sqm7RBuqkAI\n",
       "wOAyjC/LIwkuVFS+pRapqhL1cNlyFC/pvmrFuGPq+Q3DavrFTJi6rPcvmf3xPqn1eyP/cDHlkptG\n",
       "l6TjLtd3AmIYrSI5RO/r4bWxrn6nlRLgMFga4OFqDmznesyzsneoP263OQOkEXRtW/ftHa7NTd9j\n",
       "W3w4U5m6FdQWlW7KzzHpEM+gsPhEgPpSKoW7xuYXWd/QAjMUugCdk2uBPJoXmRhQjzEUUBGYWx+e\n",
       "aa/dxSsBH2m8/8ahyWnyxxygjhnKBdSxdZC6Q/qT1VMLX6H8CVX9KUxdRaaVnNfBQ8V5pxuf66Sv\n",
       "zcR21+GbMTANnmQO2tBvfGUXMKhMt3FNi//QgVtRCNqmwuc9fxuEYNcn+RPdriaJsZFZ+aNnwcqD\n",
       "tTOp0VNy9PqlY0nCx3kB00ANmE5qsP7CI5y2p/dapt82jtulrJ19ujBuwKhae2layGjWtLCu1+0u\n",
       "3uPc/6Qn1sRG4WotDFDm6F7Ps7MsQLV0UkzoF9mWq5Jbl+aWhr5Iv2Wx3kANl5aTnYOCk+6xmiU6\n",
       "dlrhR/c2aBW0atmmKzYMmYBLwTdA57RNPw7ZIK+Cfa8ZoHsuTnMHanSq0MEKcvS6Q+G+Jl4zhFVl\n",
       "6sanZh8TwVGMhY/9p+LXatWe1ihuWdQ9/OGAwzvsFZRQ1j+DuiJZwkNQJVTbmLovX50KwWmECGc6\n",
       "keA+G7jKf7+RnJIeIb+Vc7jOYrCIr4i1Cx45vAa7jsDDBITX+NMPd3dFXnLLao202ds3vjG2uzv9\n",
       "mkU6CjcpCCpEBKpDa315/HcQsz7LtdA34P3d7d0G+k4QnWywKItsNYqFAjGJMOC13UfUy7kk5+9+\n",
       "3UeLsFta3S5G2SdMKEVuO5agk2Zl9/c1Cu4/LGdXm5YVYijwl7sfxoSexbD1FpwpwcvsU+KEljTP\n",
       "K2blYOzK9tSIcpIMYGiNlIxSJO2twZ4TSovqh6RCTKqvJ+5+aXjw89WUhGqyWYJshmd60hg/ElLA\n",
       "VtR+DOPX7y/R/AiEZ2fB0jg5mZzkdMZSkqrTjGyo1OFbJI8BRFGf0Jd9K4DX6wtMPWGX+lQO5/gu\n",
       "ezikLoLnorfmlGok7BvSIR8hy1KX9mwkhQ6ui6FhR4jF7bmVneD3CtPYso3ZP/+9Qvnj5L4W7/h8\n",
       "fzXxjIKDtrVlhP7DTJYDyMFdJOwWXV7C83/iSPgJ1F3MxuTporCqre72UkWumErgRDgYGlzCuhhp\n",
       "TQ84Zcf/QqIr6agbv2Ek6T4TCGOMgJwLGXosbZpqpEdTTvuzcj9eU+wDHmCcFrGvsdcecfsSxlYs\n",
       "5OxwMLAwYN8Z+rNYKBpsNzBqYIkI7Eh41S5yfyjj1dWGg9Q02CUvRx7jZVzO4c06APJh5wAyCIzT\n",
       "OoYdT7f6C0V1GGwjc4XGdZu739Sp2XIpWyHlF0pVK5xFznWKReqOyWLad0mKmoAnN9nkVqNP4Y2A\n",
       "AoGfu43KAMMD0CR6ZMU9btYJ8f5aAADvKNTbTzQWgjLBycThX2BatoxYkIFz3NoEjJnvN5S+N3Ld\n",
       "RyvNqBJVVbLBuFMbvjQ4LsQqaL4YuN6QVfOotXb0hSkwvmcakzftH4ZlyANysblWhZgljp6rqKsd\n",
       "o/n9J3/AgQLsOWoQ3PU/PvvbpB8jnJXlloLY/HYuj0LstUEc9FlE6v9vSqoBGPkVR0S8xOeeihZZ\n",
       "Bh5g5MW8N+1LxwvX9zt6RDc2ljRXLWAZqtbBioAZQpr9VvriS6XJTaGuB7jScLLqsuq2bQ240frf\n",
       "3vzbdnqBw5+0qHLsJknME+9qWQpZHBuSCvZsAJfS7GsMsG27w9Elqf298yDXJyzjeN+x4ZPENDP/\n",
       "yWGzLG0yw7LvrmwW261IqHPbONK3GoAxVNhFV6W/V1md0eJ7VXL5XEokD5+UXP2kJgVtrBvKiUaO\n",
       "5CSRf11Kcp/ssn79am7MqEUQP+xl/3vmBSd1viqOWBl9YGlrN/d7njX9LvWDEU85wLxppLKQYgqS\n",
       "nZfW80II4Fu7o2NjW/nm4r7OZiLC3FD7AxrpJ2Bgac8rfTbPlBblSCjqXKyv8FSwVjx2egh6GOet\n",
       "mMVgxLuJevR/4Ip2J8DWv2ogvCV2MP4h6MZFF+TBhGR1UeQv2vTWNtINuORHcrQz+IJLDyjey/3d\n",
       "KNWY8qc5qeu0IK4nRHlFi/uUUTfAvTjXhSDxq7wzRIc9fRrSfYTxm6ms7D3n48MPBAOeNWUgwKNE\n",
       "AnqSfFKeQVl0plVqNiHspD+PnQYGoMV9SPAzat+z/a6kCx+iGCORoKeU7bnwY0kFcGifZHQupS0p\n",
       "GQFpjSYu8HR9dZL0aqKqmMraJZ/Jn6G+C6f++FbII4QTwQ6nqAAVtCzSxLgRj8M4xKd1+bmdq1iS\n",
       "dE90D9hpYVhCVYBaijOfo64Y5Lt34vcZ3WGirR9YTqHOKjV6wcNRvl4zOwOmPmpBeX2fVSv19eCW\n",
       "RAHdAAAE3EGeoEUVPC//AA6CYrxNX53wx7IYrn5WID5wABL/+hK6wSg5SEyHMeDG8gcq8YmZUNwL\n",
       "cAAnCe9fXCTolm7kcwD/6TGIDdcDwERnwsVmJawwVHefakyWHBs+S5aFyBZ0WDMcFkBeml9JuQYT\n",
       "aqjSZ76wLD6e7ltCEtCO88BlO//XX7l82awJgrw4QXmRHdw3ghXhDA4lR1W6mT7LgpTqvar9LoeU\n",
       "OCbUuqM2fxV8LOReNtEgVpARuDwkk6o60t5WBbR0kL684F2n0Q2oZAEAdipQepEKZZvA8rAdb/Zg\n",
       "0vznT9SsLr6OouwCG5Dd3DXpF+0rKZskQBFIV/ekqHJEPYK/EtR/tVgCZep6KsdjXVdUO5EeWH4Q\n",
       "mxEQYWg4ZOCQEsiJSOeJ2Ac4iOfPlbdWHN46xa7B7kzQm/G1645k5ZEPvOZ5HRhYdmlIKVzYIs0j\n",
       "Iebhhk52CqRNiL0gyEaXIIdYMkmx8wmjkdHKBS2Ga/5mDjhM/EIoGlJliD45VmMwRTnNSJKxX4F5\n",
       "PgngUONBDYmMoBMJQoZnbez/Fp29v9rA9kV8YNNadP90Q6IylNWf3qygIXGXdfM7yG3dG944qPwO\n",
       "IDvUZioSdK4m36JuzBN59azafqaNCd23uVc8Fjc0MVfuxkfcjQmkl9WmtnNUuXRCtBI2zwm3Asia\n",
       "F0yKgbA3jF3IpcOuu6kWVS7+RBJtDZbe6P91MRXmVYtYAGJazlTTM7vCnriFtu89O9tSk0tyOQPW\n",
       "4ts9/lL+woEv4eQCyHDZwmkk+ew3qPN6CuypoYXmjIOBdZMJtFxF3+7GbIEDggPT7b9rHnpSpyIZ\n",
       "SdOPwoI0gXU4ZAzTlwQu0ZCWuRf7gvSo5z8W457unU2UKZiyL3C/Cb5UaK/9kEYrFqdNC/ItdKWJ\n",
       "6DewGJCxcrPlrTt559uzM7oL4R7OxxzTJrpRSmtbx14W7GVpGqE0vBhCF9AvX7DwGjWmst9AWMZ8\n",
       "+2zpCkS/oso6b6nYpMPtmkgfhEMX0AwXMJ2vkOkNvRePed5gYe2P+KIryWHn/HKZMA5cSvAvg7Pi\n",
       "KiDJp4Wf3u9gfa3Y0liXLpO74yDHY5ikehJZPV/KnfUZX7jEoNEKvDkJerykZkVnbOj0StaC5zf5\n",
       "SG7XR25CnxLBHIld6Ckuq8JI6jBAc45rBiVzU78WbD6d53Jgp3Hm+paTFFdLDMtyKJUifGR76Hjb\n",
       "KTKLmW1HaTSgoK6/lPU/hDLavMuPzp32lhWMY7W3+hVV1gctU1+usVrIZOzf7GDctmhVWjhSp1XL\n",
       "FBGHXmBJZkfrJTDxV/xT97zBdxe1rEWbRGQVRVxYDHbgCALpa2lQ/26ABR1DcG/0PxVORo6cS5t2\n",
       "ciID/yl2NRABWpAAAM+oOgv0SF3xUuey+OUePOgjylUI+7u6+qrToAyFeI3MY5+U4+uPoQE8Q5BK\n",
       "nmr5yw41xJe9esUK6NgZITqx2MfwpRivMbvasPDfN5V04bbngbKp6hRSUAF9woKxFLh+5x39ctrv\n",
       "MsJ1lTWlHqUwVrpZv+n9ZfCN11f3JSwDz2dk4WRr0QA06yczgFzYW9pImOY7cnjqT/MN63d0l02Q\n",
       "Tn1Z3I8k70c9gCs4D9aWw5dggpQacx0Ae/aGtf3NTkecVbLJ2xGFNE3Uui4ADAaZxWFwCAS9AAAC\n",
       "xgGe33RCvwAHa2mQmf82w5Km/s8etBOLAYAFbOqqSZKue3GNki/TPIgmHRu0MNnI9rlbNV+eO3DY\n",
       "S4Ktdp44iCwikwqGpxHC/ygF7MsfhOFfgGX7CoXDng11zApN/FxsmV6i7o+o2LpCabqwC5MvSqHq\n",
       "MgvCIFvKQNswQBRcDTAdgpqLTp4waSfj8kG7kG/+lNT5mGpkUhtVJ5G7ldf/drBi6hRrvxnnqWxz\n",
       "zpmmXWkjyl+6P5vM63fX3tRWEe0QTY+DeNYjr5McWyktPmkiws5VMloKloRxtWc+A1guznPbiVMP\n",
       "FM8xmyJE7ZTBi8X4zwj6ZewZnowV0RDKrv1iTsYW5UDDJwBhzP57/YRhnZXXusBwueHU/hKpcUoF\n",
       "NWl5pMpyYDVaMAR4efDmlKKQu2vZwfVHpojA/MBTysrcjaAHHn56NUc/rjQ72U8R8NMustcCQZND\n",
       "AhTGUJGiEjRbiq3uZNzDnsFX67CEsFQL+BylOOKSDNnfhGUi3mFz33/aybo5M6nEyIQFb3yXtBOL\n",
       "Nk3ib3/LPF4EysApZGcvp5qgW+L1Um9U74/3nntAb5gBSOyqQlrrgLCB9BH5yNHjll6xfbW/knRU\n",
       "EUjUDE0Y4nl5K3hmq8ltc5wHKnplF4yDuL/YW8EkAp+8W9e9h/ip1Pxy/lsGeMCGOeAxxR4h6c7M\n",
       "8cba3v7d60icvHdvDUH/lQE2acmmqjSM3sCPZ0B4CyB3j7pCS0qpBPzxNCYAYeRvnaGFNMzgI28v\n",
       "YWg8rKsYCTH9/8tdC3JyNKnL/xc6bqKuXaoO4GAloMpRp+cbRYc0mZEa95eeVxu5695FO85IPv9t\n",
       "dms59hQOZSAXwi7BxlmWNQlKNcZYO+qqS4t+Pr8o/56QxbX5bp2fjvwd9VUX+ze0pThS5XiY9VWU\n",
       "Dd9RtBLiNHUceGHOJDoK8MIwYZ8J5WMw0AO6AAAC/wGewWpCvwAT6v+cl1vs06Lt6KJtW1atfIt6\n",
       "SiqVrD2QmbDEXsl6DM/O6Ra0AJLhTT1pm1Kpq2XAQALDIfCOmEjfREtc9mDaXVO9ynr0KKifcmRo\n",
       "RYpgQLNdrLpLTSiy+o++0I/0jygy6Wvhdu7gC337JB/TzOvbjdzWc6Ed5Gez2ndWS/2cQKo5YBPz\n",
       "CzDhLpBiBKWwyMkMvuTtBLhFcpxZg4UL3JWxY9KxXCrmanD9t3y0muw7yf14zPJDXe3YbPecOkg0\n",
       "xB18uofFkCbmUWoHqUec93nCWTiuA/ybA+S7ph1mVul2z01kA7piwPwFXnf4482vAEGQo7zOU39u\n",
       "VtjH9QJSa+8X70cYfrgF8vKSIj07bxnIyI6AqWK69hteyZ53EcVLPuGpf7v/GYdgFDl1d0z1cARa\n",
       "qeA1qAXcfDbrx8WG/atg28prfe3ccAjcaslrAZmpWoUV3LaBrDwXMh7akZyMPGYsCBJea5jqvOm7\n",
       "fuXvmvN5Gzcm4MRSCpYiwQG0MA7V40d5okA3kVIWWiF4G34tO1Cyxhqzf/lMp7GC4iFjyoQIKNZP\n",
       "5PfoyehmOP93j77EFoZ9twnJCdRqdyrJMr0vYGe5K98i5RV2HseMZkqwg9XpuzRonrleWe30FnX/\n",
       "3lSBk278VQ147W0pO57E8g7TxjlzWXAXagFYjn7bI3g3lW0nSnDpNpws4ySrQL1YOqY3dl7pIWMc\n",
       "vl7fg2I/hD7kEtLFuYYoybQvAoq+yAMpZzV4tWqk6k8gz1AY86SQD+s2Kv35J1ig8tMhDo/1Ut3V\n",
       "OoQW+LnK3GZ9NHStXd7dkStckvXJUzJkQk2XFvG+bK96SDA/7t0N7/4g/ZsB03BUPcQsxlKNXek6\n",
       "xHfZMyWpSaIyYdbptIlQ2Klan1GeIwUGQHe2AC/wToBpfFNkhqHwZNfQQk4Bu8ngNucABpjNEeQP\n",
       "PNR0CZV+udiGgq9Nn9lFvPZsJubsF9ZCEQ4kDpupWXi/3/aEf3u6HAWs9wSuM+CQJJR5U4IyVAEX\n",
       "AAAIokGaxUmoQWiZTAhv//6nhAAYn4CwQCjCMsAdDWLrNy0/FFtT4KQaMOc4giqu3d7bGLwoz7/x\n",
       "rZx5xBt5lsdI97MQR35r0UNi736F7WqZh/+/7jKwW18i4m5/TI+Ux7twYURQc35Lq/tEpuCb3EIa\n",
       "JCxgALhr20KdnBBdofjFUlMqVV98HRJA7rXvGeZ6OX1WKqRftdBJBs7tbCK0fo2tIElGru1LIljL\n",
       "WwWimo5Qz7neN8GW7a6+URDl281/MR72lEhdYiK7ffH2pHkFisoXNWAElnd+KTPZ1q3kMgru6D5m\n",
       "3S9Lzieus/uyPKtP7FzH/duc/zm7BFs1X8pylfL/B6f0VtBrKQeUBJG+buT6hIG2UUOqWAEau4iz\n",
       "xKvPVW3RtcQTDEFSt7a0IX9H2ct/gK5kOLO3dtGarN41wTy4FXM7OWBthFQRr+ODgtYFz/a23L7t\n",
       "BJAJ6utktgWXVaIaZG7/OXJPuV+1ni99mBxW9nVLxkY6qXL1S4/6S+7LW5eGOYxqQATZrwPEJ1fs\n",
       "RwczpWY8fsxBrEPJlgVpASHe4n1dKi52jINE0aibznDIJ8663c3fZ06drKWMpL6Dk+ymyf5fztGO\n",
       "ROn9yDJoZPbkDPY2o91ghpzrbbCgJSyrV9BZmz/iCdo4oKIRbl7qOygt4W5WVl0vkdMuW2P+8S9x\n",
       "J8KseutzRTWqcpXPwsWGSoZEjo/i7Qq69OLWxQ81HYTgQ0/MymFsJFvo4p5edwd64f+pmt/qlMkK\n",
       "kCfR5H2POQu5ZfgltGt3XLa2gUZB70vzoPCAi/oWGZWoF77O8C0eFpl5Es1iFy/1Eq8tcK9bfFYF\n",
       "+eyZjtGiTOvi/8bKI+ONUqjiF/h73J8OCKaVGoe3ZlyZqoQMHIeX6OPKQ1d4t/xnMpOa/E7/QUEb\n",
       "szJZZ7JxK1MoM/77XRbtNnNGF7B6pReF+fTOBYl0QBI+G12y7Ma20EPtgfb8WUWu/DkmzhvgBqQu\n",
       "7z2oR+YNaLUh5sOjEKesBhB9cdLy9Jqcka5o7bj+WLAX2qOEDbIUAuWQYtS3CidlAndJK95nu47Z\n",
       "hvDzNeDwAQ857jb5QT4eHgBLnplREPjQR8MKpqYv+5urW8kbXLkMk8Ep1zvcYWFukaE8BfxP/b8F\n",
       "E5SQpPpjUB9VfkuSQuAYoylLVViqhRCq0VOVj+tcBcZuPZQiiGUVqBeellx51qpMpRcflIMVyA9x\n",
       "t4CZC4/pzygPbUoy59ccoOwIy+b1ySaBHUaKNa1n47RwBAGzci7KKMkoixokalliZkpSRFC9elhe\n",
       "hRANWaFB/jT1KCDfSnN7Vlt32xuXSp7WBRzR5jqhgL7lMx+HH5eu9t3ofcshvXUk+gYghknTayz9\n",
       "/6Q9eZQTqKylZe9hHEOMVUfxgn8joKAyMTjFec5ori1fBh9Eix5BndxFDt8Wg2wJChJBNoVVfKL4\n",
       "Hk1fbSPVcb6wkvdkpxX7Meft1Ctb8m1LFuiGUOgaKvYpLidIXdUyrkcYdsvTD98MqZTuzfkrw0OB\n",
       "trhPFDSRGW5HX+yzA+V7xek85HzJeU/DXXcDShtzH5UPgyD9x7sqCJ/g2DlS2zX6vy72TDgBBbfF\n",
       "PSkPX4SHpqSQKwgUFBv1kfFNbkbaS429jV+BYsWr/eOAtH4WJCSdfq0XcWwcWhDBjhTCyETctQxY\n",
       "DIibi6LVX3PnJQgjvYQHNfZ9717ITdK31phzLGWARgml+YHG0ukhUcvrVGRn9FaHRF1HsiEN3Era\n",
       "8uISOjAGXDlu7SBHjEltAcW3IdW+P9wUb3iF2V0bPx+hDWLWtcjGw38S7I/i+fFklwT1Yalowgak\n",
       "aFlGWnk1iWmVZvQiSjZpFE3vcNwQAmEt3IWOUy51xmhAtI4ONWyJX8XiQPujQsJsm6qhVYu5WIVV\n",
       "hknS9JXNiLnBthXdPYhw8q7yfDnzmxOlR/WrQ4fiq8fneRYrCo5gaEoJiSI/2y/Krudl20v/UVSE\n",
       "/5pEQOIIXJQ2gJDiHXRes0yW1zlGJbMqWkLfdz0oRdVD7rIrKEeMsSok+WcI9/+CLFPi5ELGP2z/\n",
       "ozljq3d5s4m+ibNMe55oLJKHN6WENNn7MzcbjGXlaBIKQc7g0/PFmmqP4uBq5+FhAPeDL0j/P84L\n",
       "HA9clIZPFCCdh1onugrB4OTnHNJ72i8Wc3RN8rTQ+T7mVDNPkzNtKjCZMPSrMDehIOfD8IRYRJ8P\n",
       "tWf9HwZmzzoHVMvG5f1XaxGG0ZTNoNGleQvPqJYK/7zjhtzv8p5PHWNr6EeWOxBOamsbOtXxFXcx\n",
       "Z6RTuTIJK0z3mSXL1ZWJyzKDz+L2nVBZvkXHD6jO4TpL5xtP2BAVStzIpiiaCzWmcJ22WINQRSS5\n",
       "c98oa5VSaf1su3EowrrBwDX9+Aj7pWLNPR/+M8Drb4bCR06saxM1v2iYFp7RXtJkHDXD7AiujhL5\n",
       "VFXgfW2Gr+BLrLwDROX5KhS3GdkXwP1yIMG7bf1Ju/iu57LMDf5SWgS+8pt5LCybIuRjZbmc4P0F\n",
       "wBbug1MQP9sPOFVDwUWX4BG93KGBRSzJ+J+ePyiw+8NSfhcQDmn++2qSUqPGreULzX+pQ5jVLTDR\n",
       "v1wvgXG95sFZ6EC39Y/+4fX0zDcMOZtOPtMYWAtRdtdw/+9XwOHzQptVWU4mUel5t458r5v9eEDK\n",
       "e8oWulV93g9T3mU9qIKHYAHr9olMLyPmNEA9K6IfoSL6QbiugcbmE7VoBotwYRz/QfxXKASWtoED\n",
       "5s71ve0Fhq50nrtgxzuAkcOcWQP+rWe1POUK4MBIfoI6Pk7IKlKk/vdABiW1/Lt872IdbyxT7ZJ1\n",
       "MQKBpYaUOGP5E5i3iv8Fw2PuzUMHVdmXXTNHSaQ6vmWK+awPonB/x8Y3k5hpIuT8ld7Z5AxpgGef\n",
       "A8VhtDxc5qQ+2M/5tSJyKy+Y/0BHq3K1FVtvp01kkoQL1RB9EV9kC+ZCw71csBUwAAAEOUGe40UR\n",
       "LCv/ABPmnzo7bNdqc0CRwS9eUAN++JapT+4yOZ823Rn4yF5O9ZMTSzhRrCthyFiwT7r+ndciEFbe\n",
       "7hA+p3POZ5klVwz+EaaqTdB/ihv1smElZDTaizhn7rBxazGdqEtjhHXgNHiNEvBzJjP58MSI9YCt\n",
       "Vdl81WgLPVQsmZLys7Jld/X4moE9KOAYw81pUUT4XyUQ8kn47q/+SLVJt9moRF0ieKJQb2ryBNzp\n",
       "tVopxxRmanVcMCI7184DOeIxhNqjS8jZpqw0vLw9bDp3jjykBd6sHOGcsY6ojxXxrMSWT8CKtM+b\n",
       "ZbAYJyQX7vLEM4WDlzQbP5d96dj7kp2v90Mkt7rIya0XBqIxXDIyZPuOfT85FHuejEdAWq9UKmuH\n",
       "QEXv3isjQEvIxcptjDxs3Z0YvK0VWgv+NIEB1GYeaRSebICAwPvSmPIRloPHNLCcG5rRWyeb8nfY\n",
       "VJS8/LK5FrwwwPvJQayNBG1j5a4kyW5DuBP6eZYUkm1ZlLgbqV54+nQhGFYhpoB6hOTVk+mjauM3\n",
       "vSdFDLXLroFrevURP7Soydo1LRZ3adMo2uj2aG0DzdvhaU6nxpR/dQ8k9Uy5fM6fqBaqDMGDisUU\n",
       "oomTw3U3aLn/N0Q1E/uMORu7sNOXjd/+j6aM3zHM2/4gKLuNP+7l4BRIwV7ql/HiE/h7pzI7Aout\n",
       "pt9QtUZTbyYZXgsBevzc8hXYOsxiuxuqoDzyAE5x49HdFxa6VC6S/QjRV8FWTEFviH7BngkbbJe9\n",
       "yxDtvpoCmSRm++E7ncfkBxdPLY1D2LXrButrcSs6mZF9RigZfNJB0SpAjRSs6Fbun259U5hVC/f/\n",
       "StSZzFpJ9RcgDFD17Be3/nrk7DcVirRNvQ4BaaKAlyazY8kEz+jy7Cm/IUjfpDkr39rC+kCBJxe5\n",
       "8NP9LovnpKWUb3NCodkMFuwwDKJ95CgHJCpVZgRE5iwF11UlQshngGRV7zRSV09zzBcWk+WC2FVm\n",
       "6u2Ytq9qEwby5v5kwmAMlQssU8EmNDUGDtwmv18ptFklgdH2EAPCRS2BLuoxv//GisMqa8Pwvu/V\n",
       "DcGmUnQ0xv7n+HXJYDyccLItShzAgAMKvllilAIu0iz5i8cf48Bo/t8RK015P4eojWCCa5GNizQF\n",
       "lnnvB3bR0465Q8jJUIvMgX5BP/A+wUTHpiPrUmYiBVIFe2WwIZ5nZwc+YVjQ6D6GA8J9NQvjP46y\n",
       "3cJjOV4cQ/9CyChQ1SITZa0rXD88ZwV8++C2KvNmv0O0p1ByZo076b2V7dS/ayuHBWR+s8M47BT1\n",
       "Ay+ArF9y6M4teqKsYq7ECcDw5pBYv2phVOPCAdgEzax+uTrtZgQp0/y/iqwFx43NvAP/ZjHTmyuj\n",
       "A/Ab73rcJuuZjFt61fT15Di90iGnvMmY5pj8gQkpZD6IQ94IMugsOAxJbIVjYMIANmEAAAO/AZ8E\n",
       "akK/AAdsB2u6hcWIthYd9VpB/D8zaRxZAHQpiAizX/kd5OujKABXx/cX9q+uhPVpBHZ9KhK+7biB\n",
       "95FTV1TKrcqeBULVYCZxsPEgubQlCMUWeccLADzQj/bJhxbuJOkN7BBQ2LPC/RKmkl2ct5FCUEo/\n",
       "BxbZdOe2dse4dNBs4Ax9urhKKp4IMasMIR7hdwcdKukoEypw1ekobUA2XsiJY82oItujq2TcHGKK\n",
       "xj1BJCxSCectAmzxZts3i85ExR9JsHQvKiOUr2EtpQoZg7Iw6fnSJ7MXwczk6CdTQ//DzUDNT5Ya\n",
       "TpWWecwhko10KCIgaYofwUsrNv6pwRQB26gPqc410B4uEWUoElFRcse/FlHdyP2DS8kZtiRW75s/\n",
       "fd9pLdoc1eFbF8vnIRC/5JNgDSQWbflMlVMj1fyOXhFIR0D06Wu6223UlK+JbwCuvobh1PfqZXRB\n",
       "P8lPiuQZZJeyn6+/tR6Qv7tRke/06+JN/VSufL0U+wsFXx6gFORHScSYUcJ8NEgIvdT+lkjvdod2\n",
       "yrsOe0KaOylcF1qNqJi3StQ2QjWhI7HhlFYXbqxHI2CeanzfYTTOoEqgJZJ1pxO6+93Z4dmdAdBg\n",
       "IV06IuztZKd+JkeL1rVK/4yH7zTEQoGG+9/HHDHJAgPvDFqiux4tylY9kwf2fSw2dWvzlHho4KJn\n",
       "/D5jdZfiYKMT5XB+2SxghSS3gWxViBxtLsw51bSkBX9LxdmKlAjtAU8BTx9HWKSb2CXnp6KCxHBg\n",
       "yS84sQL5r8ab/RYKbzdXIlvJ5iTeO29Sxht/iyNpDGmrF01MspERENghsjVzx2gN+zmgLKyOLnZk\n",
       "48kxjCtsrMd76J8P/Xp4jITBwR23zclpIAqUr8e0s5INmdv+tbqjlC6t6dyT4wp14FLqzT85RPNA\n",
       "3ykD8zUVIjq4FGSSpQuZGSlmnGGFQuAdRnQAR7BRk1Cmkpv8h97s3HwF63IRiqIUvqaGDnj5sohs\n",
       "PqQ6Lc7jxzUYVrD5neJyf5w1A/aer1R8i7Zz7HqYnNrNp7+XLZ9W1qRCQ22ZCUya/RcBh1e586pQ\n",
       "nBlURaGYHx/Y94Sa4mOis3h/cWOuz5NzAVPc+oWM54blF4pkZEebI2WobwcqKwdMQh87iZE2Z7YU\n",
       "I62UWc7BBFx7rrgdEIbcdvZ2wnMtW0SfuYCnS1k6Scr5RmaFIaqth+mhwg5I7U9f/MguI9XqkDQs\n",
       "YmlZnzFJ8C0/94FQdB0DTrWe8zoPCpaw1bhH59o6O5bj6G0kTYKHjz934psAAAgHQZsGSahBbJlM\n",
       "CG///qeEAALoChholskgL0EKBdeK7gPNGOWAfvhVyASWYP97jCybnSbTkJPLCp+RpzExSvcSI421\n",
       "8MDZDD+p4Na30J4VvYEAqmOkncpociPDhM+mkepL4eVk4o4Wy9GaPZO4xlxRZaiV43QKbiK59sA3\n",
       "m/naacuDDF3+oJmwFtf8zUMvMcJIEWqFUB87D7z63gbP9sV7j39ssx/EZ6XhNlXsRGUrsxrZc078\n",
       "+GyAluXCCsiIj2cOyZTM3s1sTlPbGbRtKWQADexICU0sWKDmj6Qcn6i3OEX+QoxKY6MnnjVCyO8B\n",
       "bzzo7bJi46pyXxHHEZwt0lMEofoVn3BTSaQO2dwMDtKHOrxqZ4U4ddsJbhLg+j4alr22K9AUaPOz\n",
       "XoFSTwy9W95/4kmb3guAxEyHACglL6uxJhzc0rebhJmiuBzDULcY3kWNA1EXoT0auRIvgc1gurvS\n",
       "CzMlEnzKTc9G2CYzdowdHPSmtiAGrpqKNdqu/mcVkJGRWC1lyaXkeSqLOpLqnmq7rilY5Hoj5dUy\n",
       "wrGLxDdl3VzWAYXlQXr4rkaWxPJTHZ/2uKUhpvXGayUpkz+6nU2ZaDGrX9cGeShpZqZCIO/PkucD\n",
       "bQX4uyq8Jun+xwjdD2jPEKtW1pXRkaba0YpQB8E3cjUoH3X8E/USJw2pjfbUNOfSTtsclC1pyv1+\n",
       "IpXqbLKZzRORkg4MpCjxL9g6rpX7pMLTZcv932eO1T58F70OSagm08AdV+hoPsEWOvOCBOYqia9l\n",
       "fRDNc+u5igrVltcFCJJeT9r+Av7X8HTd2txxYRk3DlzZUkc/Xx9+wO033k3VEPfXat8u0a5qJmRB\n",
       "20mX96BTrQ7sjYWkZUTEQhHlIKPwqfxJLaCnnPlu7DLQNtfSTU4J+AZKNR1tmcEDP3Brd6CoFbKA\n",
       "C5GkvtlVzCZAI2G415r6iOqzZIyyCtSfoev3w9Bkk8Nm8MH9lqOSDws9UfSsN//03sMKEOgGlnU0\n",
       "7vi6/FwWRoxrRPJ6oZrJEAms8WCNH+xKA5dyEVqLbya5uIYgnYQ1ScHxtzLRCJX1YF/JuviMO8ce\n",
       "/xPGWSgbPnDw209LsaZtKbt5kRpfpW3p2Zxht2WdIRc2Js8XQOaV+NUCG52Z5VQWEvVHz2YKYJCX\n",
       "0kwLEidkxoKqWXARC2k1CvSQgdGae/XbKYPeyVudnm+34cbCADUxOKJE4Dh9pkdtnBaoXoo65Ilt\n",
       "KR3bAGpMXntl63IjrkXnEPwJLXRNzFXX0dgAkW/FanZXIF8iGzGQi47iIzv8tyVREBisTmJ5FOSP\n",
       "0T1Rpx6rl6pDJTRmtvY6VmkO7l2N9M18QMNB6xiOwJadQu4whkGOKoM0zDJjaJAA3DxnSiq9FHAv\n",
       "eKypVdYkz9aWmzctF+DUjoK+pAjBQlUXLsNSA20aj9iuQ8zUBdouEQTntpQvScUt9E5SIu7/GTsF\n",
       "ArWigIjPOWugqIlWZ7/ToosWxadAZJvFPZNTDicYbcFY+CYE3Ve6hlIQ9s18xclPS2SsnrGBudPF\n",
       "3cgyeqnojcFs9CKYJh/bjhxbDiz8v+CywdQsfckdRgHZX0mVO5l1GZmja2lk6pLgrxQVknDEDpZ/\n",
       "FJhD3KK9u7dmWuCedYg1QnbGebHwxWMF003sDgbHoCMyDYWJ5TfgLvugTYrvF5crBKwnWlXVNuV7\n",
       "+VE2OqMCbqLZ3C96fcAO/ZPbS2z3fQZHD/QXohBPdTRt1iSpRIXB+cts5dLG5TAS2utOo0ixMRSK\n",
       "KPcLuICuOKdJVzoAuS9xSb4aG7YdBQMdfpwGOuv9urrEDugtpW5gwl6Gy0dacfmC3rFBS8VkeUVf\n",
       "4rFjHQeyagdDce6Y/wtYnjrD7+HCdkVJx4YVSIObSk6NLCuYlkaFWoyVQPJNKlz2fchjhaedZmTQ\n",
       "J/izj2yxFinyFqW8UNOy2MBOMuSc3ir5J1VBEZWIB9YosY1X/rMYM0GRsuqAOHrLE4UICRpjRNqb\n",
       "c2RvU+vkjXFB2UJ7zIKYiVebb50SgIMiNjinPo7G+ki5SBP05nG0+m1NDD/gf+92uMzApKi2A242\n",
       "H4vHoF0L6utvZdR0JPACNQMxlYoOdKPUJrXPs+V5C1IBolynYxBtvw2NvGrGn8U8KCygnf+2bezU\n",
       "i1YlHN0ldFFNe7TOzWVbl1SMnp81TsNXJ0IybFdeM0Eqn56LX78NluDQY2Z9qITpBq2KJwvJQKjA\n",
       "0odTBUHa6qMciy/yzc5doheh5NoJ9k83Fy24QVxY93fXi4KYE/ve10K9/zBlUCeLRbivoSfuL2KI\n",
       "rjE5DBGrrJU3ccDC0fpg4MCMuEzpKocDXZqIPMmwo2i6Bh8fdMhCgJN8m1Txl6xUj39l8UtMTCVG\n",
       "ohIShPUSB1nTfike9SpvXKWqc//txvkvhBfWGoDH8hj5ZkaPXt5qWR+bgEhnJPHS/ZrSZ7MAGC+T\n",
       "e8PRpvSDc9xDfX5xmDUlNWYLsSbUfNikj6G7LgYaT8Iohmi5DZC1H9lJCWcBT8a69tVMlSvq8v4w\n",
       "iGAMD06rK9A6nLttqmIrID4wGLu2WlJNgAiP+9jeTOr1iFWZEsw94qd4TZJsV1kK2ngbcuWKP4m0\n",
       "+Ja0scEHZWWdUyhBh7jxllZex2wX49KrqzxoNBXGp4MeStH8omCjQynCttUgKv/GOHHahcouqLhN\n",
       "9xzmx78HG/wHK8f92sqh/+QYGD8qfSgjczXMZPBbl7V9fE5IdaIOKI25ZqIpVzpTqNyhAAALVEGb\n",
       "KEnhClJlMFFSw7/+qZYABQRcigG78mhuN4UuDzrcyuIgCjwXzDX4FM0AKHPjSAASu7g3AwDA4IwW\n",
       "bpK8ZTDTLoSdxalbBcoaqCuSydp2QNa0MrUpOI/z1sd0aVnwkRd+qOQIIVuXSMiS/Av5z98OqCsg\n",
       "Uj4d6nMu93eWBjPomOXYbtOgbTaiKx2WIQqrNr1RrxX3wJFRyIQU0DuwlWk2HmnCjlaZTN6P0T7R\n",
       "TZCtUHwl7IeuFJKAkVKQFbdz+Hb+/mCHqUnQHFw5AXleL+JB9hsTt3F/czJz6QB0O7tWShxAi7rT\n",
       "FwEW+4g6yR3TPa7hxsT8qdb3elPctupSQKVbmyUW++WNiC3U0UkyO6dNAidIeykfT+d8BOHvRLly\n",
       "uA40YmDBmuUq7D13G49LK9XMAxtyqq8Kst5Xfj+/u4a30nmNEVoyRoH08JNEAoGAcuI+MgCIPG01\n",
       "LrjaOTTeZwI9NzLMK7Pg3ktHFRp7y7ao9alUNxJ4ZMSLir6SDVbywF+rxOMTtLFiXSMk+48ZHfFz\n",
       "6tkJN47DwQPFJG0i0vZDLpqIsOLuwHFGRpeFQgrP65GMM+GA8pHy5714WgXj8dGj09GlqoI0n3DT\n",
       "D3UtmUxibfIikNrLlPYtIqpPLwvIwi4UEkyOxFPP8WLVrYFfrqmo5zC/HgHH+4Nu7NUOxCkHhoGx\n",
       "ubypHufLi6f2vfSXOlha7VB4VBPV9fRIXe4wfN+eskc4svx58dhV4Qd9VvjvE3V4HF3ty73AH1xe\n",
       "hEC5Q0TH/aeJAkABF2nz+0ThxWm7RVr9pYsK0uF18vU5XZXJXyL8KGFArOxj22zsbD13Ho6QajB3\n",
       "ku3rz1YLZFKm8i5in4JoPbYzHDqK6Ju/66en/xI3BbdJFP9twTFMs10I6t3defx6xAZFg5LyzHUA\n",
       "Vd21tXUceKxS0dbKY8o1Eymr2xcSBbE7rC2eJwSDPgiP+w/ohUhLubrbOpYeS71bUp6ufw+fMbl8\n",
       "AMDDtGRQQcrumGeO1NIPFLdr99CkO/seDbdlSLDYlFfF9u62nW/6bB5vaUK7eRh9b9mEhTcvUUDe\n",
       "m1sU11cx9atfbFqWAb0SpDnn8vGBRixNzqe4UNIjs9nTJv0vFBYKBAEGVK+Itx2mPwonENwS7M9W\n",
       "BuhAGi2EkaBGSSnBtGS64VbQ3un4i56dqYZKYjnYt6AqKpmUgEu7+8+8DqpQvzEYT7VPpzRv+3Qg\n",
       "a/XLtq09vz8+47LIhM2+qU6cpiXLT8UyZAeb2yRrPJyVRmwb79tt6hcqnGr42bfc5d2IrV51aJrn\n",
       "v8Jv98QYChLhMqOJSbOT9z3lR8b5oM3ES5ni+U7gbPBP0OA8ba1AhQxWuXvak8PteWxlR+x3uiBy\n",
       "XEFyghFIVkiNrDeCr8P2SlmwA24JxwnRlNlXEPQJQKsJ4L4Ka4x+Tzh4ONMOe/i4b1ryfxVdpIv/\n",
       "aBBcckHX0sFS47jKzwp3Myg2+dJrsbcE86gpBwPtZQgunxXTMmo0rSSLdw/ZOOb3mhJUH0nd+G3v\n",
       "oXfAVqgjwdUQqhSxN0oQ2hgpngyoKzSJXuiEO+RzdE4murLGjTwNUyxBblkZY55EU5x+rRS5IdLF\n",
       "de6fL5+F6Icl04V7byfA9rW0soVenZUA0lavwC/AzO3G8zStxKRdN9//wZljvW1Z2F6RSdGmR0Of\n",
       "5UXICl+dK9dd85keJOwQxIl5Tj2JNyhidYy0MKrhWGoDqabF0L0gddav/derTZ1YCJKhig8ISmMj\n",
       "I8EbxTEjhTF1blSiPgPMLSIULKlxT4z4U+R9Syoioqr/EMHgumUvx0oCaqRiAyqLfBeZoScTLMrB\n",
       "uMTML9yj5zemj1q6CxQmE2wY6KIqxawxg9ow4nvU2k6sc2cnWTZoi8WOXWvcNW/BVzzF2ZvpM7ky\n",
       "YOG5pYXVscak9R7tb2g5VR7YMZ6yK8lS8gSQlcu1oJP5Su4281I6pHCVZEpwwUJ2sRjP7JOmTUjm\n",
       "qOfAsy2Zq4Lg66LTbtKyJJilh3+X8uksES2BOrAq0be+xqGb820fNvSJ6UOs6TJOBmkPsE16JviA\n",
       "fMOaLcxmdtVTIM0QP0uhwaRTsWD01KLkXrPuQKAuwFs6Dw12oadotRht1iYZfkL6Lim+03qt1nFJ\n",
       "Vv3xkMkvnpbpshllP4Wr6qTvO/VZ5/A3q6h5zoNWbtxgksZTpyxlF/8QjkhwFpwyJ+zwKQeGpH5f\n",
       "usSGgKeuaW5yXC3R0iKbRY9aTpCYXhfHM+xXnPOUT2S+NsQ+QOk9GRUoFnoNvpyIHeLJYpKVcSdz\n",
       "TNaa+Z2u8ghyfCDOvGMnCsKmG1U0NlgknIgjdhjtad00X2M0vpQoCTfs/XJ8V8eO6c10irMTTYWo\n",
       "cmDi3KegFShsdAmY/vkMN9GJMi/GQxBOeQd1kh2sVQqL39AZ4VOQQaB0JJwZ62lUYHs+Wh97AsA9\n",
       "cwVCImC9TpjsiXtb0etwafwfoUbNiyWaoiC2cKUjmF9eDanQK39B4ABAeDuyBmVpim4kNNSlposA\n",
       "DsyKsu3V1qn7mGuP8KZli1PBHSaMHAAX17H5Jq9R9i3wzbHPsTcoxd6BmAoiJ1eAcmSGXJfEvrrN\n",
       "VcRXUeHMxCQbQ9LCvD+CTmmM/yqDhyTmeBR2tjZA/hStfmIta2QUScWmbHzdDIAWgA7yxAO3nUOd\n",
       "iLAcksD7JCiDiljVprRMoNyI6+ocCrdeYXrdr5r1Z8Kc9+oAlJpmzJQRzGCEO7LwxbUAWLPt9iSD\n",
       "OOBetZUFsI9LpqRKe73maWlzPG+4Y82k8KX6zBb5br1OUwoAIp74+ds/f/Ebz3DvjrWxDJhkUMpv\n",
       "Dlv5aAuEzlYTuouGZd/O9OkdrgwsRSPLP3aJ0JAoLHZLQJjR7OOeZ09kCy3j5Eav1/pbP2XgBaCo\n",
       "DwJl7z+cknm7td9p3cqjAPzfk66be2xP5eNFWJuF1f7kAAnwhx9U/zgwQToD5s6NTSqUAijOzWU9\n",
       "qDwwZG/tgais2QbcCRZhJQbXjGLUQ6v1FyoWy9d3BcX4XErqO0DFXPos+oPzn/Zqm5VA192fiWyT\n",
       "2+w8n6bifZT3e6/Ge6IQgvW1Ua1Gw69pRXFsQQ1CkgiWAQKt7OkHQ3QuOsgBbUQB2vqCE/fip5Bk\n",
       "b/+W9qbCDANqz8ddDVu/duDDropUgHRjZ4qb1rs0qENr7/cJyqSGlqEdGbWPS6lrZfR1P9brFGu6\n",
       "5Q9VvRABzfDWQsUp5JIXuUiBeZMXJ1WcpIP8NXvyEGvyQX2XJUpHj8S3TERjLfcnKsH0lCZ+yYMV\n",
       "TX//6fmqO6NR5BkflZuPKBKW0zkpFVnxskSk3jx6ay5jNO2mIIXyHwOB0hBx4PYzD+0qLzR/Mza8\n",
       "yHonMbtVtMUSotcb4tkiPb4Apve7SUjs2katRcBKV0qD8A/y0yxNVrtk6THwC1/ge7rH2VQV7TQo\n",
       "YakHDlDhzwTddoa4+Qe2lyB0kigZvVd0+o0Y86Vc0a4oE6nWdhJkEkNjdersFzXJks1gREJaz9g/\n",
       "K3m6igPleOtqeJHkNKfVKA01Vd4uLPfROwsDml6wsJ6wNVwQfkgWJiNI1vcfL2377r1GK264Tcek\n",
       "vpcsTuQMDhhQdsicP+DBHjmN6nJjTslsADxxhOMKgxM++PXaTnYAYrxbON6BaAHG85lyYxcQAvgy\n",
       "t9/xAr2/fLoYHbURklUXNjZMBJtNFb+3v9oKdRFy2a4ufn4c0JxFsks/kOWMwKJFZETHonbJMBZF\n",
       "KqcbBFnhOezb30QAydAeHAVJWK5Fm+WjLs+ohosakZ8xOe7M4Sbe/rAlGAYjzDfyXKNTldT0L5Pe\n",
       "83Co4NfW+mKP/0oimz58hIURPF8hdD+ilKNzfK5IFHl/jWLQdxrwt5xvGnSpOAaBAAADSgGfR2pC\n",
       "vwAGmdOrbKTYSjwls+Ni+Eoz8/ZDj20wGW1fo8wAlXt0fHiZsVpmBPan0fi4CnMk0vPfihPMBz3f\n",
       "x28hhWGteeZOCWeCi33tDonwr1X3aHrmOvIghaY2x+e0gK3XHH7HPycfD+DoaHNbpJnzyuuw+5gl\n",
       "YWTbFFEJ/VyxE17ClKF7uSA3HqNw9ta8voz2YffKMM94CMG7qwnmtvGkgEA9e81ptQX+VEXW8kGw\n",
       "n3+LALIgsBSUaOJXRunzt0aCjgB+VVJco3xQigyE+8E/lyydsHO24OSzCg41OC2a7KqEZ0CE2OX9\n",
       "CVUxmMgrrBB7fnavzxuFddm+Zv/4V/WTl42EYP33alGrE8QweaNRT5mpXJ0HGi1bJuauQ4WdCSGj\n",
       "9if1J7S8c9UdaUSBwVINiDyWjBWCjbuc6xNhg7R8Uy77Gj49RPKN/DwQqLjj09TQ2aqlSj7qIxMT\n",
       "J3mCaABJogoOCTriL6PiRnya5KvjM1iHm1qp1ZihMnNF7X4LHSGOdGXFM8V7WEIaRNRtsKsw7z2c\n",
       "9UeZXqrKJoNoHe5qT7UHUiQUUgKICFdR27sDJBfsbX9pArwzp+0+Ntsiq1BLynpnkbwmARVZkLq1\n",
       "gMxJvs0P+39gyEqVtkT5iug2Xx3xYERcE+EWB6LoAlw8ixooh9JZuPfDLYwpYc3mI3X8RbENZz1w\n",
       "Z78OsqNH0B5iWmIn/hR3y6SLCg6WZYGCBeabNwcgAS0p7rHtCUkpkVOjihhjyUf8dib0mUv0zvCL\n",
       "it6HSzB+2FvExRzgTfanD5iPVUES4sEznXr7B132WZaRfpkds34BWQ3HDEX9R88hwCyIfeaQv+m+\n",
       "/msXz3ZFXLHUO5xr/VBp1zqqJyjW9NLGT3eme+9WJeiy2DGowD/WgxNNHsLEEy1ggK4HwrX/zbMy\n",
       "+f7R4iqR8EbzYzjM60WrJVoIoI7wnI87bm4A+fkKe5456ic+GIo7wD/dbJ/Kd4OCA/xR4CJByciH\n",
       "xarOq0UYuxw/+eU2MaKOGUisRLKK4jnnvOesdD5x+qCtuyaoUrTB9slhlRgnTj5yPLOL0lE7L5iC\n",
       "x8bPGjZgGQSdjY9a5DszBKkFzqtIz89cHoae4ZJkCLNNV/EmtvaAAAAPC0GbTEnhDomUwIb//qeE\n",
       "AAnsMMdyB+AI+C3XjcUdkmwsadvxKb7CtlHscTgeRzhSaV6jdLCjcFezAujSlOmX3klP3NVW7KLu\n",
       "yYjm9T92r2rR/zpSnRDVKopQHYFvXHZk2BLsXOenKZU1ASGpa3zzlofIjt7mMC9FqVecdcrZcaAI\n",
       "s60+TPo/suNe2OVjjabtTYFkCLra74oqK2yM/hc+ebKNWP2cNFv5JA1OANA75h6kAngXNh6d7hEk\n",
       "zQML11ZHuadv1pxo8tbRKFt3UaVwN+I52fS1z9SHG9/43x6ysRveVVDCqnbQfFJs+NWqR248QIop\n",
       "+t37BuSXN8hOO79G+3JpqsPckfy9buNNwhwaZVk6eSvYlXrfvPIgGROOvysQKUrJbS8YZjOH3UZR\n",
       "JmGDtRyFegRkbiTbw9LYIAMD7kiZWmWqvVLuJe9JXXxh1sw3eEiiOYQzPdPfbk/ENnDCZH4eNcDu\n",
       "aKEJ2nFnC7g8p/Ir0vFJpwmpCnC5dkWSFs3tsduVDnhp5BqJ6qBnOr6b6z1ZbjX75Wq+zQovNlH6\n",
       "TN3JhhWnlovMfHtaaYZyKPD0KEzGWFcfUlmxFPG4QojiUrzYhdWIO65ZY8Z7pPI5eSw2xFkX5Ewi\n",
       "nPl1tmPJze9UdEEgDAsNOIPzxD1jFzRlCw+lZfiNm5upL9HMLqB4jVMJRuXnplowa9+5blXYoCl3\n",
       "PiGQ07RfbbCsg0Wm0VsV3icrsqA5CoZU1VzWaLAuFI4N/kYSRfEBkj6RMpAZGYDYxXnBmR1YblK/\n",
       "oHpkCBxo/KVRUu4U95bW+rvBoPaTKh9sscWnryhf+p832jKlWGiUb9tnZPnx9GqMs4d4R5G6bTh9\n",
       "XY5rJ4fTuH52DFX+1EZpjX+Tmz9HHKkDkIqWcmBQfWigt3H+tXFuzN0fKbPYWdyizVkn+LxGD0bm\n",
       "c+woW570YXqXArPry1LYw/8ASR3viWENNrtXFfw719wSwDaqc90VOQhB5TG311SRM7Ypez0Q9cnG\n",
       "eBSyE+wlBQrMVghhnPnWB6hKdsX64WALJczNKiz5nwaOQLmg7hYdDFYx8dsCTeGRI1De1OqIreI6\n",
       "+3Gw48aXoXLisxH0hki0dfEi2UUHV/A1d1/dQyX3qbf9HsVKJ2Wo8iDFWpCcH4CxDJm2bSkEEs7s\n",
       "048gtPFcK+tPMpD6HNCEEqcHxgUZNE/DxP+xf3Qsa5eCWvxUjUG6lhJvHtT9GukjkFq5YeymjkCk\n",
       "5+VM4htxUpuszNjFwzvp2ygYBShAE6kCqaF7/rD/VQrkOSbJa5iHNmBiXPw4eOgGiIU6pjEpMcR8\n",
       "sT964Wrjen9AgfV4oeQ/tNkE6c3JEAWnNsDWYZ1QwtFso5yCQvIMr3hQYdLGxDwefmDb1nyD3qRU\n",
       "bAyPMOJpoLEmU/6IoFIUasxU3j7+RnFjW1OGNF2Q+IOWg3RP+aQQ6kS60ebpbfFx9m0+7/s7qeP+\n",
       "KsfqX/Dlhpm9IXmskk5RjMbJ4krv7BosSg1xxP7IfoG4rhLGZXk2HasD0swSr99fJ4R0i2HuJ44F\n",
       "yrf7llOh8d92rDyw/q2uFlvKzfPyobDSd3nrSQ6VtFDFU5KIZCWNpViP82X4wDbmXnNWbmNqjHay\n",
       "7aKxnLT297fIyE/ittAcv8AvVYZkfANiuGCPyKUGTC+nuFkLThpGLNhELS3mXsiNoGJFPy+ycU2X\n",
       "Be7hxkGgfTW6rS+Rz3xXZmFAoPgdtvzXVWXKNJLR0ePG/y8A6BaNCHOWNrZwmW71Mu7E8LJKJ4k7\n",
       "KKl3LJa39NMHMQW2qJTQN7wpdJ3kiFDwvVuVBh9RcnsSccrjPkoIiF2J8+6Xf0oNCYs8B+ZYt/k9\n",
       "nzqGdCFren2wRluUms89rk/hMlcR3l/5PVSBkFHrbBRUMhvFHEpVZgD9+z9e9lxBrXwifJgeS8Ba\n",
       "DNatFVwnTtjxzcpBjG3eZkV4PiBytpmzy3IgFka3svr4d3PEhomalFyL3iVZLZx+zguAFy7rMsYo\n",
       "0x5n+TW16cx/zOnWylkWkCfr1MYMU8BE2Pmu7nM+yO02dFo6Hmxfun6BASoxlLTC2qsAPRC1FvUF\n",
       "w7MOkB+r9ufeZTgDQhMhiYPBgGNmFR0lyNa2pZqh1QsEdvut6MobL+2MNnMb2BmoczR8xkQ7D6W5\n",
       "yemRRMdf7vti1t1HuGY4X5pInMdrW+AojKxxveZrU1WnH8v/mK+1SYe08BjouneO1YkXW0T7tqEs\n",
       "rMsZ+Wmwx2noW/eqf6V87oACm7WdSy2nCOxApRNQW2yNjMiJFc6j4OA+VRWIjNByv0yB9g9DcFmo\n",
       "nDhsVxZvBHTKXcz9/GccTdr39bobzJZB17Smp4EK6CK+SdhZ2m8G+60+m4jEKiFR5fkGk1oPicjV\n",
       "KNswjUthOHgWj7exIrewKaitZl+Cidvi591p+S3Pjd1IatsJtR0NLmYY+DnTINDoNFPiSrrL/Wrl\n",
       "H+8YKiGR/fPpFSbSU35+cVoRXMmHSoUqxLpQ5H/DSPeAvIDoZ294Qn+OIOKZ7DAp48y+cguKcwhl\n",
       "VJfHAkz9RHMhgEohoWgDohVOIIzCH/yV/i1DYSulr5OdrqJPL7kFIwcWY+JMFCzppYon/0kJ4mLy\n",
       "buPYT855LPhL+gVixjTGC+Qq+lCj4QI9Tdnkki5mrbkuBfNdMwOkBKHoWarKrklvmdjiYvbNMI4H\n",
       "DCxc+iIGt7Z/65jRUjGll++QWFVCx5c1mnOyvbXG+mAxT9AwLuYdqPc5jOTTV+PzXjL600y4NYmh\n",
       "gFNMx023RR3lbH///yvSUOgL61W53yZyFAe/0GQhOwkwP8yVK028I3DgignFz4xmU4e/af3YVhZ+\n",
       "oAwGY+K18I0CEG85BPcRKg0EG2+YmKYcYtPtUZLsNA2WJWolOC8cFkVWlGMWRnoEZxELiBh0/vrc\n",
       "41cG0Du8vP9JB5lxW0YcTzRGJMvVzNiPAUPnZxl7Vt/W9sZT2eQxKz53Qqr8PlLsEAXmEV3rrOza\n",
       "RLj9hk+lnzet5gOqxX5f1r2toaV3YqaxNtWmjUU3bkInQzJQZWj7xf7O4AWS8d5okgEEEU2auRrR\n",
       "vJ4hxuq7rGJCsZzP5xKhA6eGdcDp0GAJw8GthFIg4bPLe1NbZi44bHATzZnz5007oDyaoNTZMGeE\n",
       "1Xbe1/89Xf6ELf/pEoEval+bSQ2hCA2ehVG2CDy04GZptgsGu1pwiB5CA/SrZG49Iu1HIlkJVzUv\n",
       "nqBYgvEkLC6n8WdHNblmyrApW5TGQSV55RQBz3EaNEel6h8R2Hhyw0vUxlE01yku1JFzsj7IIEhp\n",
       "tjOxYdL+q0e8RDUEut0R4uXnnSl+h4ki1RRZ8fsQbDSsBU8oOb18Co2Vy+0Pp3PqFRN842WBhOnq\n",
       "x4YqgRJc+KpARfmjMEn9ElCS0atPHFdib1cExLQ6MnYUR+VOHhPgzSd72inyP7DXgaofZ86uxaWu\n",
       "7LAAUyqWv0L7OA037Dd33apV/UP3YMQqGtnomrfw89gsSbL5SHCZzhPCVM0BYZfgsEDQdneXDW3+\n",
       "gsovHNnOuI5tnZde8mF6N+gHnIb3ZUwfg16uj51sStwQLsS2mApkWqzUzpa0IU++sfTw2JPgXlUJ\n",
       "I75LMfcVTmMdbatfPuhYXpw+5oHhKw9TsaB0F3voZdoGE8ptphl9aJX45QCEJ5NVln0mrFqgRXbS\n",
       "MaPYOCL5sEdOSbbRsnm1LWpP1ZBjohrbRl6onjBi7fCGB7A9fWhX1k8XcAa9GU8vAHYNBMDkwz5c\n",
       "s8yzntCOOiN0q2RDJYRvsQydP/WdC++Mbb8FROWuwgAF6xIF/pZEK52Lm+RG/f2g4pC+XV1692BV\n",
       "MC3ntpRiKxSilMxGOXABhqFIDXTc2NFq+cN5b9RGGQGwfBBWTv3M1kqAq4+pyxg/lsF4GPCGZNHA\n",
       "/AZGQ81VBkjtgss0IC1imWEsc41qXDREjf2SIm6jLBE6/f8f0R7TcQQqxWeQr/x3yVfzIyQmDFz0\n",
       "Iyhvh42uTzQGmkDSx9MzfuDSiHWaeW3H3kuvCCUzWslz/ssMqLUu+qjBpENNV6HPNuJwE057WdQY\n",
       "H3K41ETZ+TNeALbJRt8I7IV0v13cXBY3tYRsdLDzOilabZ9Duqh6FRdles+cxLznx940+kUxOhhb\n",
       "CFloIhpGea/E2HgddVDA+mpY1fcL4T7pINi4I/uoqW5rG+ImJj3XhE9dwJMnKerS0nrwEVjwUE5a\n",
       "qvCDAe2GF10vC8CDLZ/luQqpdnIFlSHAdlI/eEsZbTHt2dlSdV2lW8ygCh6PCXyl84Xef/oZozHE\n",
       "u3d03j0PhkDgRBlsBfGmWf6DuOwQBEP26/HnIfds+sKP88P3Il/9ZylmOsfYI3RuxlrPW+nzTpIZ\n",
       "RP++qhvPtkM6gdnxC1c5bNeIUDYKjY0XxjIilPtk4PEQzJ7StYnbb46TJc4BU0sx6+EgDbGHkGUH\n",
       "aGh8gllUPOvgPB+FxohO3K/SENRq2Yw2QgaLGm/eNEN4usdJqh8f1Q9M28uGcDtVkAkm/RkADG+T\n",
       "6LE9c8oWqI8h2HddmDbh3NR7yDGY7wwAWmqYkG84Y+IAS0yIs2M5eYaQmifN3dSxfSGqi8UcVxoa\n",
       "S5vIpUyQWyMFtx8kHv+FnZIHHeqsI3olXRvfySXM95ahMgpB4dnf9XrMriWboQehP24QQY29O9k3\n",
       "j8WXRmHavvXyv/6zvLXkVNuVnAxpFPwykddSE5/mrkkKAmZdoMghBBPe5TJplP+c+WISlUFyAsFp\n",
       "fWaWhqeVHlJ/HJjT0AGXQtlRyRizdT6lAypTaYDX2EA99R2gUKZxwKVZkb3F3n8iNJ+QtqTkzZdR\n",
       "/je8AfeDgOei+c6L5cYJqkr+BvRzGK1sp11Kc8YWx8ps6UnmaROC6J8D8UwzOEijZBteFTK6nOzB\n",
       "4PukyvTHq6DpYBjOkSmrcOHyAxvsdKLCVn/BBTudO1I/aBFG9EewX0pZjT+g8AZOtZRKaolwTKuT\n",
       "zTkKb/LIq3qcLtVhZj9l4rqEysvuxfF+BIHsvzIvVKVF133YTgR3275GzCHJZTI9S5h7IkWtV8U8\n",
       "QDwuyEbe3GbHh++GgjEiyOob4CkMTtDNk/asqSBjx1GxAnTRtv29NX5OKRpZlhaablsnLA36oo14\n",
       "iAry2AOOJwlci+FnrEHaHLgkAAAF1EGfakUVPC//AAujDwfyvMGhMFN1huZxwtFVqWyD9pT4DEvk\n",
       "jEoTDZJFWMlP9fLNkbR3y08YJO32EgPkcf0YAN/JLgb3S/Jr9DKNN0gu+7y7TqMVrDHaqXRXWir2\n",
       "FnOjHIhQWWBvJqO3A1HvzrfoU5/P1uENUmqmStQNSe7zVquxI5xXLcx/Qvf5F+bHYkgNR1maivNO\n",
       "Yt5/ovtcxpQtN3uwrnrBv3arT47nyWK1npfO+QAWrEFXoeZrlzxGg2nSlRGdZ4TQ6B1USmJ09LgK\n",
       "rhlSHjXglRMogNWlJgfNDKGqfKIjwQ+lC72PN7ObPOSne7S75pLIg0gYKtDfJmN3gbugyzZH/zK0\n",
       "Sagf8CTPxgqQ/PElQ8hmDyiGfNSGf8r5ppOmGm1CtaTKXLdiZyRZeX+S/Xa6Nn3Ahrjz4jVcI7ww\n",
       "71FX3unI21klOcyR3xcVUBykLGOPOzysDsogIsgv7EGVhb2VylsLoFqmOxG2UvJt8L0XxNViAHgp\n",
       "TtU/nC2aTxYiqthM1BQCfpWVqhKdNQsD3nTxHKxYNx9wu6K54dpCC8QsxB7LnNNGX4kN1tm1R1yz\n",
       "z3OTKsPCSzTTu6/Ck+xbZAZ6z5QW+W+n2RC0IFrEKj5jXhhgTYUmUPVV9ik10XmbMhfgMaiMFJhp\n",
       "SifL3MgVmB9E25AvtEn7DOKftRjCC7t5fW1/ahX4n5TxxTQyLw+E5Lz8bPtHyEkrqO2ayEF9l+Rl\n",
       "FpmFh2LfH4zON4VxlwZChGLqYfTDLqv6Mv48hNTcdoPaRlB2Y+eGgzGZDK4YH9Wuqvab1IFLLwpy\n",
       "M0hNCSSyqR1e4AVLTjTmObbnQPcQyYm43I5Z09lmo2bw78511KystXhovPaFB5l6KJIZhsS/Oell\n",
       "lrORMLE4C3gmEZNDTImfV2J6PSuIDHsiLrGABzUKPGNAib/DG50xFJymdFSAOxzwQA1XVYtG7aLg\n",
       "wva6X83bB65aD4L2WOpx1+2tfJqTd+QnKnDO5PC5QPEM4H8DjgxC1X0RbbPkMTpCXXheg8Hg+Hj6\n",
       "oL2tcT/HiiaqOgGPI2rCfWqRboAJDXdSIaHJR9qZnj2OrBzS1QvhRXrG0t7sNMxch+auchoN2DOF\n",
       "Tez5l9bkj5OszHWQbCvzJm42A0Ju7PdMICooS56/8z945k3laIh5CtawVwTH9sGCmqoKMAig+qbT\n",
       "JEo8oFW77HH+yEStEP+P5ui4cTUCTCwE5/C8h7gxj2XtqrjV4N9onl0aY4SzMkpZoiF0cnB921OK\n",
       "rXBllC+RqnXZ1wLJLQam+zR8SxyBC2Xu8A5MpIQHagQV7jsPE7DfCfv5xTzPrt643abtkx6dyYPT\n",
       "2bXr85U8+eMtbwq/zhcXmN5r9BKjJsBGYumVPeo/ikfxz++DqUCenK7O0oHRMzLN+KIOHRpcO2ba\n",
       "dlb0YIf/q4GdJsNEhQ8Rfb11a7D3t2azo+hHwuWFisWWl3bEWKZqFe3Snc3aOS65kKAQgi2Bx0so\n",
       "0BrDDAFT9T1pqqEgJPLgZLdAj+x1e10aoOWmA348T/jEEctk2S1BXt10ABF7ezsDa3qAYkQUyYy+\n",
       "YtTWi4te/mctJQqleYZfopaX3XbAJ2FZNKNCQTRYu73okNgiU0I04lrWxSwsBgXfV1HFDN1+KJAO\n",
       "rOUIyU/WTjLCS7P+k1V/+H9GzMHH8Ja/S6KTMpLOE36atocyfJbnOnD3eYf8MQ4fAovsvEeGLcOA\n",
       "BiVA6RpWaok+PIHmjVR6pJBrtGFS6uBVIGidGaUAdV6n5TD71OnDZCOBHBkqzNGLMQSj4sEcvVJb\n",
       "ZUFrIDvRz/oFwl9FzVF4V5PgmpkqFCTh/QnJhtau0Ah3yrPa15E2jVuxAiYXsr9GOm1A3GYGMPoT\n",
       "m+0rx/p7yiDZRhCOAC5KvAdWpppf6yhHy2mrl2FiRW8vSqjzPQoc1iqdI3Vw94S33yqUMmSkJ+ne\n",
       "Sw/ptGIcvZKtcBTfTjuxUgllK+uP4id1Q6pVxRWEtd0AAAMWAZ+JdEK/AA+HAXpNijx/SDlCe1Hl\n",
       "Fzyd5PGYRNPgQsKXR/fQgf0VxLjE1rcOvOJHHYPZwREFqEFKMrt1d+pxj079YCnQLjVMpJgSFgwZ\n",
       "S6p5ZPMACFY/PjJUrKcVz0+/+OLAdbvGzeqS3L1mh8HMEVxSP85DJC6sylkyokdKSoDwEcnzKYu1\n",
       "geVp2TFkc0AHPV7mHKTmT8Lknm9O3UAcqXux/IInG3GmioccLHVxWqhUQdkhOnJjvh/hvCUAIhXz\n",
       "3/B0haaXy0kWlhbhxmO8u2S8Xn3/hEqOrj5FabV7PuS2bE84fvsKmyZiJyo66n5y55SWzSvBIfCk\n",
       "yKTVIbUJGwoOelIawcafJPhxXcxTcZa+snmnmBeyA+cwsVk/vH8wXKuC+sbFmayetgodc0syT+13\n",
       "IQzXB+GflJZNMzvfe3jv6YyRKCh2bnLaY55cgLsawjd3ms+7chRFhzYx0+dc6z2JqW0Pweh0Z5zT\n",
       "OpU5EHXQ3ikxv3XcqzORLk1gSgenL+tm4thc7M++ACr0ztj61vW1OF+Jl8bD/GW1KBIv12UnxShO\n",
       "s/3FYUTRuV9HtBnMSNdvSd8NwhWD8vQON7JNqovu8FlkaQk79mBZiYxEBBEJlI2gRO/o0fpXH3yq\n",
       "PC85z0fVx3i3i9tUKmHnIxzFRJBMuWtanVMLgqcMVkYloBixZa5xWgAkXzEbbNpHH+fheYp3UMBC\n",
       "W9aIgUA7dspwvB8PngwhQhWdO7hcL0l6yh8G6F6glw1L3NqnOfOFpBFornUSPNEQxBz4GrqnzKtp\n",
       "J0u17TNzm3MMcWK5odsR7OQ0OYj1A24MQukqkUZzqXpgmVAIPSm/u2zTJD5TnFRlnTlLeZEcA1gD\n",
       "QXrm6Mp01Mg3Brzdq8gT93r1bZFGg5hedbljK+0wXzv/i9YTF6Emt3CnHVdzdgXl2IJxeheuUvXN\n",
       "I68G+wErxyhHdwV+yM0dwSPv2Rgy9My3qtuufSuG7SF1PX+C2igJJp/D/r5EtIa4qYA/nn/RYWwL\n",
       "qpAXM5IR6BERjRrPCdWpqD3MR+U7XUh8Ky4/wAAAAzQBn4tqQr8ABz/izHanVz69rEwXW18P3cy2\n",
       "b7S4ASu4Kx2AbzavBOj/y1cL2E76jpZfLDvgcTuDfr6PcYcnelXEM6pcWTirNP9yfBPmgA6sZRt6\n",
       "+EpDBGNLXZ6fWy1cnOwjY47ntLBJn9HWFry9lL3JqRrelAN1nkfa6xIeqaDXjqx133nxjr+xEVma\n",
       "rVEjLQYlZ+EGVMb/Hqq9hcLfoJcOjU2TCh7ZZ7DTjmL3yEUfmvsYCacHmPIHL7nh0WQ8gM7XSgAp\n",
       "A0tAhxoEzhL8E/R6Ol/+V9Ol4ul7xaP4SI7iwN6yvbhzjuNTacJL9X9QEEv/lVumJ8OnJXHEDoqC\n",
       "Boqx/HdZ0Zh30YfqJLzS+GT2cE8SPluvz9LJcr4jWZw5V2wOvNxAghS7gUX8skEbonz4WOcFUV6S\n",
       "9wg3IbFntbrRCIwZquPnFXLi0YYB2rwK57fZxSeE1krHhcdxkclYveQ/WNjywlvZuQUU06QSLzA+\n",
       "jeyTgN7TEp1ATKXO8aUSYpiR6ppEAGum8l4i28HsJZvkJxeOAdw0HbSFBkG7umMCKb8OluVUW+vV\n",
       "EOXuJAbqFjDSamOXxmxes8sn/+n68scZeHE0C683kIy8TL09MNka5bN6AHqwarnmYbVdDOC/h2al\n",
       "7/Elqjj4D7oXbJ/akjJGbvO8Qf+m8hfjtCAmwE7E3kn9o4TeUvDlEzMlzUV7m+BelovayRdrCvQY\n",
       "S3Fwm+dCJiVOXm+FvAg6k2NOULLN9CcB7lRosp0wgLtzUWxGMUbY3DnOK1b5WwsNfYONF6VyBQzF\n",
       "5v8tcmGhKi1Ukluz4FOXP3Ukbkfoqj6mXMWUPrAvaVSGR+K7p7M8MHh4ETOkLELb5n6BXAccG3/P\n",
       "/ZUnrhoBrCmfUn3+KCYrPBeF13JsJezErNPl8V9aRN+jMr52fNC56Hhlox1b7N/lpTPD7XCis7y1\n",
       "RMy3IR3UhizTy1uHTCu7dpsdnLUBp5fZVpH7MJ3ZXen+0C24S9nRq9JWQIEGOcCsey8BHA3ysWcF\n",
       "xNDuf1i5xJfrwBg1HhpC4mufu5SFho5Yn5TWMF6waFmiymtHKXE+KKHWKNHqY4Df1pUZAC8gAAAM\n",
       "gUGbjkmoQWiZTBTw3/6nhAAJ7E13D1rhX27kCej5ZXAdIDqQVZbx0GEXG9yoEZ8wWtoHEuzbmntf\n",
       "NVAFwFf5H1zbdh5i9yGT8SY79dTJa9w2PWxsAIPHusIoSMlXJ2VyfH91IeUUB1qb5ZoBA2X9jtXp\n",
       "7s4BuInGpB0GMTLQpapfS2xyECB6mTQ0IXK2k0XZvriKRJrWmSK8dSoef7HgnwoBqXfJkwBCQHML\n",
       "13ImBZLYjVUQh8+IXAqyiPj9Dt5XZfaCcz2GMhOhhSVC0or8FQF9Eq6QY2YyKEdKlgn/OVTW0XD+\n",
       "YJw/4XcR7aj8yyhNsK/rGv2yHC2nPtpraUdXErRwWJXmY2LAOWdfptpB8JDnKJ6nR4Z9inyxu1u+\n",
       "Nx2rb5bh9umG4MUOHf1YM151NblLqGvW25EphFew19A/BgCQFcieOuf7qEx9tDFmlFHI4AVxfkoI\n",
       "UQK35HPxPpq05ZQjEhMR0eQ0tn1vgoGSYO4llq57iTqC024M6PaFmMXwlrUtbZHzGCu+dr/1nghO\n",
       "e9xtbAIAxaZzlqnNwUVCUg0Ho6nP9/4JdFBJbfaBmDEvuzVK7u3PGGxjvQAp+tmL+s4mUwL7rFFs\n",
       "FMZ/b+Hb0V3jdXccK+A/D9+S5nPvlMU0aFzcrrZPbeo5jRhO8LYLWgypUJ7ygeZ3I0Ade/aJ9NJh\n",
       "DaCHhgJa6TpgqrzkFRnVJtix8izkRW3L5crc1otNeWvNMqE6emeqqBMfGVh/v8h78qyyzUSjYy83\n",
       "yl0usL/KYu3j4p6xQJs0Kw3ifQQ4942hPsaIlFBLYLuM8vCtCNgHtuss0BRdvMzN4bquE44T9/Yp\n",
       "UwP72I6OnzKbSkJ1uCzFkbdFPnFg7rcYeNni0uBEAeCf70GKt8EH/sGkOTEeP4Hjndj/n7JSykha\n",
       "H/80ISyXOg5gKJL001qUfd3ONVWCkzPUF1VUd8GHkDYtNmiWMXI3ajlm0JY6juHZQ6CKvZyiwYTH\n",
       "cTHQNnQFYAxnQe+Z3UR/wNkOi53fFGCpL3WR8PcoIENJY851lUsVYo/zL6iKM57zvlPIKNgddHuX\n",
       "VPyVXPI8JOOSVcPruCeSjL3RFZqfjXEcD7dEkfg+CfQ8F4jZwsbKNytEVBUclaJRCjmeuMXLMisx\n",
       "ZkrIwnyjCZ/RKITnclzLmqSbbeoDCDpD/Z4i7F2XC96qncnYHOqT4M61VCDXnN+MCm7le/erYtMP\n",
       "M/QdF6LHdGnuba+Jb6tUw0P69nWkUk7jbTN5EUBC2xNxpw5aWNA5hs73SlUWKY6cgLrdrYxGKLga\n",
       "Vfc+pcg8MhO3J74p5LALm89C/x5TPdze8cfrMWKiMP89wh4ZIpOAA5fv4aO71IE4MjIm6NZpua5T\n",
       "JglHaY6AUkSGJOH5R4GHU5kxrAnvioXYj3k7Gf9KFZw/VlUn7tA7qKE/rukllcbP73p7CfCss+xD\n",
       "NPZ/h0aK8FftoTxx+AimufW72fm7HfCC40TgQqE9LarNug+rrRhIfyHpbNMV1JcI5o0GVSgMYUFJ\n",
       "jU+uJJTOlqnuCEZ0+OyDTFWQGLKHrtNaO7FE9C6Y+UuFLmNGhv13RnhDLCxe1wmDGvjlLPBtAmmc\n",
       "e131XrkZFIj1xcql86hCZKjwv7M17qG3tX/aRKpjHaz2ZEH5ILyUTMrUwKDfXPLhxEvyuatK8g0I\n",
       "LwNjT7kecnEc5m33MyrYGlMntodSIkqZm7HvuXXFEJf7TofkbalV6e7Z1LCRw52LQ5UFcQ9VoQut\n",
       "xepNHezP6KTSph/5E/PlXQee7NdIbnxGCjmGGnjk2S9SpT5e0GEeY7wlBA3ztU9jurh/HRk53KMr\n",
       "WfdjeFtSfQTrelcrdnufI00/2+gMERoaBUXTKx7GYGLe3gCwfju5xLL1Yl61U8qLNbz6cWY2O4l/\n",
       "u+zCEwAOYrTRAV35f0UpelUPTlyAh9baMdtVaRVuFWDRP+V3n9gCD1lAK337UB5RLmq3EUS1zElj\n",
       "pkXxHlunmZJGgB0CuGaVQSli6/n7mZTWwZieQ4NGYhbQVdZb3/PzclSNiyMTQyH7qvTorheItS7t\n",
       "LtsUsYpgruNGEMgrq0NWJ7HpVgYc6QkP8kF7DMG8fn5ZDpySGetAXvLFr73uJYDuA0hwAuhAJjuF\n",
       "fjSfq+D+HCGIq0IlBK4yf6lTx/5FxAMFfUFYjq3AoakdVyALK8akDKgnxSlVVlqDcXYRiOwoB9Lb\n",
       "R0A0B+cqxLlvLN2Onb+C+Esvi4nJWr0V9rlA90t8ijeV5SGAaLZhADTAtTlnAYt7v0FCdge8gwmy\n",
       "W/IugOLE7esxpgKSdEfkPlWVpAiBTDsvXsm6FjXUb+9zm+ZPQT7aVhe7StXT3NkydEmRv0E8K1jr\n",
       "GBBSjQ6E4904Rl/rtA5ghKsvPv7O8sco2Z+AF45WnlR7/3Ap/OG12mbTz85AoMh2iz8trE1ZHZA0\n",
       "9pyYtTpDZNI9md4fLXM+aLsY9fhTO3PTWB8rJcgFLlslocnzZMNl2QlbFED1A1zf/zqqASHEpyc2\n",
       "xAxaB6HUrdAQ7EfAxMDMih7rSnNdlbCIFN1xi+B6nlR/IWNqSAgccBFiITcvOQyYSGfQaVlLt3Sj\n",
       "wAnKduZK2iwENTuPD68xhoafpQVQeEmkURXnA+R4he3ssRnLP27F066utlxd+H+bU2AJosnr0ygJ\n",
       "/q7ajmqNOgxg576rvup9UvTCcGLBi4k3Yf6hXIdbWuT5NT+pEj3Iio0oPWKc50rwilafGMRFpKzF\n",
       "WQKRSF+grFmf90047NoxpMwVYzYNi2aNkwv8JunlQky0ZUWou3ZSdUHJmOo4G/W2k/gVP0SMDrFX\n",
       "6ML/HX1rl1Rji1l7ugUE0V6E8gT76pmDFk7gT0fech2HhVuf4OWeHv1CcQHg3nmmn5uC0EeIxtpi\n",
       "Tu5y2/djbQd+ZhUVQeBrH1Y4AaWPOTlwh0EbJ+eNsxMcizq0tgTxeonKjFmuLedOpP4zVJfetD0N\n",
       "YGFfKh5z+pm8VPCZI/BuTsBSko3dEF2afWfgAtOYy8KdMzhLJo2fk5HpVXcGh3BHH1IjkxbrRQev\n",
       "nZgcyzut+M0t8vT/+BHVfuu6sJwgJMUSWNfc4BcG6zxfpUYGGGlXR0O+wg8W1N8y0nRnz/sQk5jA\n",
       "EPz8Qc1AdhU7jv3gTLYdjn0R3D196sppCN13SYvTyqI3/9E8AvPrCi/gGVDoSERr9JnFQYxDMc9u\n",
       "QbA6uXkpkzAd8XJZBjDh1nu2a6jm5XVrdkl6ZqzxpjDRWm9tBmd68WVUVDTFJPkfBEelF/bKeNKV\n",
       "3G4Vf2OTp8J9i1mEm86M/08cm09XSLfnkMMWAAApcisRUT1Eb73CVqqEnNbvn6vNaDn5V72iAH6U\n",
       "bZqRp0RSgChL7VPBHHyPmnVsT5O/z2OyO1WVbnfzmxU9a4B9JvqPDkuLXiQR2iVRwEpTExXgPBmB\n",
       "x2SYjq+wqnGxrpN3A/6030GZacSBYw7EPtotMWGeUPmT2Z5G8ZxR4KQvcR/z2Alu5drz2sGoaniE\n",
       "cTrDuCwSaJ+I4CtZeeAQD8OkfGToQnhDTVdX4UY3beVox9Tv9540Zmmyvbmcx694Un1hVcVoWqno\n",
       "nJd+qB4r8tVcVzYASG9jELRZZqi5/HIghPPniLmKjrFwvD9giqrBcm4C5r6H2wwpjacN2BW482js\n",
       "o1ptA1eRAH/oYmyIPDVa4loWbPis++ss23AWDRHvBUs1K3lbVe3D15Xrrp/S/v8AjhksU+GJwYMS\n",
       "aDE6P+bQn5zDMXJ/ve8VfeGi5F2lTsEtqoKHdHVZdj/H/5V4Us0ceSJvyV8PAq//16XSLtROTWZL\n",
       "6T3by/0vNE6RG3yVLsL4l0ueCL3mEpeZDzSdMGE1bybB3TkeGqeZ5A9As+ltXYdC1K7KaNSsZmmN\n",
       "dZBjnEsklzKt7v399UrsIzOB1ycCkTGCT+/llTHLg3lFis98Cq5qiNe3hNy4Gqv+Zfh6aqTK0J3t\n",
       "l7JvUKhtnP23rzb73PSxskNp69SdhRFMIF/V64Qs1nxDPsBSTHEOP7cWoeROa0SO3LKyaD5/SqJQ\n",
       "gkVkFZSbfOUqmH65fySRqIbK6HF5DgSzsoTGcPCpNmVrx7U86vRl0p6UeGcy2mCNhtAWzK06yJTU\n",
       "pLuq9MQzB1Cis8ktkNtOxbpzOxB7larJp4+z7KwrDEQGRXDLdDFc4yqFXD3ozBCV+UC8j3+Bz01x\n",
       "tzBeATPbi4MXRRbHQJ/qbtzsV64sZbFGv+pT65Dwg3mI2RvEAbzxCEbLa9gCHogxvQSx/FYb9AXf\n",
       "dRd0rVgWwly65QAAAtIBn61qQr8AB/GSNeOPPknK+sA2FAF+jgzoLiUwaNBXoUAAYvwvv6kw8zJJ\n",
       "AO6H6kCHBNio2U6pS+x++HfrQE348BaLa9NH5oabH5YroAFjCDI27LNHjod41b3YVTRf9I+CMJfT\n",
       "gtI72ISh3LnzqHpd69459K1A7OCsyfR2a5O6zCacalxY3GQ2uVjTL3n2+/G1p2Gp9DV3HQfn/68F\n",
       "WcnqvLhBjHbKzsoVJAN8uALtI4Pcr5YhN5SZ4KJIeEwVLPoSKtsHM2e9uH5A1KUtUZ/sKGmjNZAw\n",
       "+yTUmbg975rOa4tE6OtJAv42/JSzFBwZVYCv/ShcrZ1oj/fhzF4JJV4nSQuBHu03WgP/loiWWrMW\n",
       "X7SRLmDqCfA/8lc9KrERuv0+BroNo0sDU0sAN7WbY0dbXkZSOxKi4sTcyAz2XvJ5HeN9zeFHZBEY\n",
       "KknIhryg/lJvMYARXfI0UDf3VZpYrS/yL3cxTfc4zQcJKSKgxl5ziORQXEDR93GD4Pwtna5JpweU\n",
       "4r4DluOWSeRmQ1DknNmSCYz5K9TTnAcebKjQZRAx9NFg4gSF2Vu++lWVRS4IPAtrw9PCxUW+/9i3\n",
       "kKeze79rEW/C5QuJ6tjvk1SyZVt3EDY0qG48m7MfnSgIAnLdkikJzd/EyoNr45Bmbj1n4EC50AGL\n",
       "3mkjfdD3fP9ZRthh4NXbhhl5eXwKhA/RMSrqfgLkKDOZWevzkBc7lp+5FWXsSkYXWu0W0aqqjn+t\n",
       "NqWkMoqLyI1aJNFHnU0ExB3kkFNVq6gjQ+MfkoCPlWnALfqmg9Iv7g+Z9GEpoBXaAr61yEnsDl8k\n",
       "FjHhl2nBJB/FTZ2T2Zzqho8biqwzuOEsIcGI4ArpnpLaXhlaYgBU2n7QtmSHNIFx48ULUVwtVtgS\n",
       "pze7lt+01UC+KTLveqkmLrqENXNWwegsddUSFfx5iy8LiPdlB9lUaiGZBmhZfdg+R2sZMQAAC0tB\n",
       "m7BJ4QpSZTBSw7/+qZYABQKNDb8H3logAJlTWOwBU80faG1qxFNQe69uYdNShGVumx1zgUXho6Zd\n",
       "wNRRD0ZYBnfJgXv0eUiSGRgedhqGzycbncMVIXpAGCq2zcazCelmH62HEEssuTIiGXsxi4mb5zoy\n",
       "Npa/S8bnczGjO1Eld9j+iAm12eLTgfZGQGZeHkwKPM7C3mtZKwYjKrkwJtbdJcN/OEsRaSXecqZW\n",
       "u9g5n4n4t4/60sXLqLJygAEwxtQjjE8XB9gp2OaMZP4EnbpE6mE7yjateJUq+8akrEHBPY0g5BeT\n",
       "Ps+z+TMNxO2ElI1R+BdJ5FltKUJvZz4uSOyXKdbdh0j3ehtz8UonM4OREFg1WTVadd4jEy/75qU3\n",
       "3/REd8bfxPzI5nXX1BOzp1xWBbTiGGEdBkvzcdp2H1Y/WizZbgyGPyd/gQITvYmJGi+NcO8QKq9d\n",
       "You6xYG5+1zcBSov2bCDpSPGZ9jbbsvDq043VUmxsHkEeb4bTqPH/uye3x6MkOK+0PnLmE8MfoZZ\n",
       "N5AfQWhItPwB7My6xIFkQmRifAWIoVSUQHei4VBTdwoesoND2mk7CFVgaPumEX7VzupF1216YKfQ\n",
       "HAq1O8t8y7ZG01Df6gQOdDGbmMBDoYkLi4AcV4IfHUA0fA7H1ahXVhDY3FAP4KT29wEdicW4euvp\n",
       "2u48OSdIqBB0f43Bi1I68SgT8PjafzilfMtRGYJcgt0k7OwTzrrUE/VXzCgOB+0nEfFFXkkJKINw\n",
       "zLcvUHeUKDr1Itos8KC/t5RvjHACCikUfBiFX1o5wA4X+La5wnoVLbQcXFkPc8ObD6JOIiPMkIj3\n",
       "vjaydratfNmMa+OFzU3aHCf/lTQM6ephE2aQ7TQPGWgUFj9X8loy1Pg3xaSXoGaK8s5NfnUERegR\n",
       "WIXWjTQzCxogCSW1SBQJxJYbrfMqEgHqTUYVb8AYAOcOqa0ekFVzi+bbPPUE5JgAK4KEBFkABTVa\n",
       "3+vizJggmWewnHD6MZer1QbfctVXlvGDXxyAUi1gmsiIycd+k2h9H15d6B1w55uogImYticpjg6a\n",
       "OVjJufaYEOZCFkGzhWJCeTLf5XUxSiON/k8pqA/ClD/w/61dQK7QgS9HwygnzPcxEZGkTAfHText\n",
       "h3yFfFGmwCjQIfYLxKHLhnliLuGhY2oUsCLA1DK40xW8zCvrTozXhahzOgifwM8isp7e4n7PpFXU\n",
       "H6axOeAtDPIjTdgP3zNaUgFb12UGU9rI9vPXdhj4Z+bu0VfmlcHosTfpoETE2Pk9uMWAYe2iKFty\n",
       "cJ78SE6guy+jhNSh/EYf7nHXOgiZ+u2eanO2yGZ8vHkfiDZyc4z9X33GfgbEUanPjUSpuTNO4qyQ\n",
       "wP+ratYz9qTuuqAcUpNG197IqXEpcdMIM+t74wOWtdBTvUCs/N7S4q8abljO5t/msjiYk6/u9eCX\n",
       "O8BzUpsghjsPoeu1n0AHgh2KsG7cMlUtfGv6I9OIu0mUb2JUG4fHZKw8Cs9YkszN6BvkoxnKv+e1\n",
       "t9v498NE7+TnAPrl7JeSmMqw9Sy/262BrBuR1X4QgptJcvYlSaQIkcLMp2I5qzzX6FFdIyqgINPD\n",
       "q0jvjimlrp4U/HuT0w4lejUPpyqTzGXjfueRCZVMilH7A9Nmr9mMRJXNOuAwAOUaLuuAd2kvJL6p\n",
       "nW9AlZPVl/ORclGtPNV4u1CcC5aISJHpBC2v4DtQNGkZ5GYOreXyGgucFEfazRSwOfbmVAgN8aQK\n",
       "lA+SnhfeUja0y7vSqbPre/G6ppW/W1WBfLOFVna2rS9Fpqo07CesmSMAeKmkyKmK+SOyLI1qkJti\n",
       "lm2VvAGmWiMVdSQOPZnyZYQFpd9Ba58hr7tnG0roIe9gwZZVgr3yxuW6MhGbpfsbs3BL+wZLRb9R\n",
       "K8Bl6ee+ICHBWqEQylfgJyFOUvvzEPnrvdizenQUUgCi1gM/qaj/ULZM57TfQAE5GuQBM/Ikr6W3\n",
       "VypIjRNhklLHYW70kYgWT0SMsyuCSJlpKGCAtDmy8pNLLBTr+TPljzY+FMyA/lLSrCZKcUTkl08/\n",
       "kjMfFXsqeW+gZZisST1LWFOvLR6mrewfFLX4rR3buMUk12VW5pAuCwbiSkyDCbOhjJXOwCCO4oDH\n",
       "g6XvUS4Cr2pi6qRh3VXH1h0MX0UNAIxh4RQHUlOCjaY105pShkGN1HR88MV0ZEgHE8s7Kak787dj\n",
       "D4dakt5pzAfMbDrL3suqGk+HjdWtrUIL0H/9j6hdu9fXgiawR1+F2xN4iXmW7O07VRwhvuMCZPjS\n",
       "LeJUeI9/XkmJqS9hOGrP1XnHAbFdsXT8D0vVqyqevP+aHnEUMqGYRbEqdcVu9o8xsm8IzGR4GSXj\n",
       "ZpQa/2Af5NekdxfoMoytEsSUpfzKrUNzJGsd6jfKN3TA6sBIVawll7HDsuNebvV4HC2+fLOMVe+X\n",
       "6C5oa25Vc8jlE4qSzRp7rt5R5TKsY1ZUeE1aG4/XFLHhs9Qrm85iOkkHkaXcsy8DFhMBIuAFpdaw\n",
       "kdRABtlQtj8P9wtp8eou2i2tjCsThXNg3v40uydlTztFJN//HVPhJNat0EM5XGLmSEwMiaVXjTC4\n",
       "ZD4Pxja92SkGkztTaUMtNV87HIH+fARR25cNJvziVhuIVjaAKE4Y0jBsy+jMd/CTMC5dUCwiks1v\n",
       "hrSndiDU22uQj1NI0C1wksiM2CHEtB0NpF6kaqhLcCpOpto33mbNTw+itoLT/FP22GJC8AB1kmGm\n",
       "CtMnE7C0997WUYHPyJC6+b0sZNZNLH5ijafo7ZUbH+1X8dXMYDdYhIaxQYiDYYHLs+yqFXEkz88h\n",
       "Gbrx0+1i5Z14hMN6do/UCGrlZ3e3eIEl5R2lFlAaBwQVB4xP9OGXlhVcV2Rd2Eo0Uscv1fBSff0f\n",
       "3GjP0tn/GhaoDqlClMvd1hfAszGO3+WLTtyvcaKoQkD2evv/30OPVP2vjWJZ+fgYAOyNkPuqbSad\n",
       "9rfA89OFbznG37dbndAUW9sv0NdW9rcQ0YGtkJeQ+s9CaOak8bHi+5GCgZzeMtoRPH3A9mdj+oMz\n",
       "4s6F8dkj9vW///MAg5f6qLb5HJPAeBWi67Jxl0TR9kRwQuDacePrns5GAJnYGBo7T/B8QfHDva9q\n",
       "MbuM1e+lhme+gY/ADI1eVQFvwKETArtAY4Z55iJSnEaAbnWl1CKoyzZfXvN37Y5lyAzgja9am7pa\n",
       "1sUho5Dhl0kP6zkderymq7O4jOnJnaJjXL5Vv1KRiwbj9+1M6+9bU09oGocDdNU8zruKXPteza8Z\n",
       "IEwywoh0pX/NXURkBnN+zdFp2/ZTOWMUEkXfSfTvPNVZyToRkTa3skkFEU8ynogaoyAvBsxPANuF\n",
       "AOVKBlGH9+BjoYYsf/u55YmYin/Bc09lI4Pst6IZVnlQftSr9HD1peb5rTLURrQtMXwvUgfV8jcM\n",
       "lZsfZPWxgKTBmZkwEsTD/Trp8SSh1Gm+Mh6/nCuEI6ub//eVlLOeYdX8cWQn+G+X2EQcH0F4i/mp\n",
       "S3XSJzcnxa1SzVxmq1dG1UyilL4KzXxnMisb5tZhj5AtmZ8/zX11/t7KaqyeE72beh+T4LI+PhdH\n",
       "pz2DLCXliraLcePu/fi/UkW0JLdVoybEECoM7MCILi4XDi9c1k+4dYfJg6yzZ6Iqt69bXnETbMVt\n",
       "hSkYpdhQiA/ViJfKENw0HfkTq3m+X1wOXrM+mu37r36/4cuJML3kkVA/9EnDDaigVZzGNy+4PU0H\n",
       "wjnt1ufnPU7jUzpddF3S6Nbg20/sFpHiCKfQtyORPKW9Wz6SgQb3sK8Cjg08SC2kaP1xPtA6O2nM\n",
       "tNlLj3HS1H1e7o49MKHo8qblzmJGUJasWwYnxwcWNQgihJXmtGh8GQAAAooBn89qQr8AB0ASKRdX\n",
       "awZlx9Pw5ZOX3eKMZ9at8FOSM4obYprAJtFhOD795CAFfjFQWe31AO/VXlnBnBcjl9KeAMWqZfIA\n",
       "fsGUColaSzxEZaiT2iMC7HQdg+Ynwsr1w064D01jcu1nDhnluvDwT3xLD7ZLNNm0xTxKHJtt89We\n",
       "MlTUTjaCTOjV+xtNzpTQZFuf4xvNM/eHdarlL0N/EIdFrQDe2HVebIGXBRnVd0JIDnIuIvkMcMWs\n",
       "GGuGpp+5y6B5/23Kh61mDKunZH428ZYfhuw+T6RR/R/rUjLZ2BHMMtniJ8CeP+TX8eorjIkzABwU\n",
       "UgfOZVQWXV40ttUXi/rA2C4LyZDEFFTj8Iajy2io18fY26kDFALUOYJzaGqj6xPzANiEsLLzEsUv\n",
       "5Ct9f9silPa0h+DQXS/CK42wXU5YAa+R9sQzcVdUdu6EykMmjhklfBsLo6y3zCaYjCcZTLi0vgOb\n",
       "aiT+FiGXfsmSM3dK98O32loQntmbb8Zl67yXpcRzytc+72nsMLeZyzlxGmsLUP4FxbimXVI8duwt\n",
       "irw9MuSufYJMBWfYLmVZztZyZLGCcT5nGv2gEbAlhRHufU31gbpj4L8MBIgIbPnV7QncqxNdRQ/o\n",
       "s6qC7NC/M35TFNK4MzRZR2qiQM8tWngdRnwosYiApZuCxbr1RmbDyNMXiXpsnpzxB6jbB36AprlP\n",
       "cSf+UOJ9/qerh+R5lVP3AQ+43KSW9+cn7ACwmR7zA4I1IYaPe7hrj8q2pmeuF017TzuQ5KKEQ8PE\n",
       "qI0oUX8wR8O+64YpGIFyrygz9XjretXwurh5IiVhvX4Hg5pbAIMuzh1ll9TBSwdtwYl+YOS7REgr\n",
       "1KjCOQ++bVi7gAAAAGhBm9NJ4Q6JlMCHf/6plgACgb/hADbLlznPxfu7povfgfALsK/CfIQ0SgaW\n",
       "XDpFq8CXVWWdrZpf1icAbpe6rdsf9tsUmLeBdet7N9eLZEhJQVosmAKwn+WyDP8I8RvwkQXVca72\n",
       "4aOBbQAAAwBBn/FFFTwr/wAHESABKMay0YHC5zdiyMeR2abuDPdV3YzA8TN9aJNyse4BWLf+O9VX\n",
       "KZboJfiaVxELqWIOMe36Mt3J6W5gCH12nj6qetrLcTdYuv/Y1kAkwKwWAnytcBcZ5G0yj0N8pA88\n",
       "mLACHyMs4DF45wgiTDoQ4hgSN/V9QR26P3IfIG7q9eh2R+ws06+PlafFaQ4JfF7vzEn6agc7T/oh\n",
       "Zn9mIm2A3GTWf8lQ4+TKUpUF61JSvvWNyn8VM39+OUUw+GJ5bsq0mqllRcCb7jP/AROR4R6JeN0U\n",
       "jPDLwFk3uCj6O6qvhCfOqBkTm4dHhmg0//6AqXQAIM0NHzI97xmYe2U1xf/SpQu+vrXj4VUAXcWe\n",
       "yO69mgIhKPTvCDxvtO/2XiM184+SVrCD6fAdGOhnqhaGgbr4XWFvbuxnkUXQMKsD/uaBE1Y3AADJ\n",
       "Tvy2hz1mr/2mLCu4iKfn1LtUfp9kx0aEZxyTYXpH1aOSIi4tT7xJ5IrGOUXdK9WFnlv6gKK2u//l\n",
       "7HF6Ru/c+csq+r33iqc+41cZ51phG7AXPuRIq2cHwOogrneM/OG61UsftAQk5gnXDAC+97PURku6\n",
       "F15G3Zv3T4GOI5kukMlDzEBjmqlZGpuX/2NVskDjsjLiHJv1v9q5+M/upZvoDi4bdrNBwLBlAEVq\n",
       "ga/2OGiDPhJg07oAx8o6+zRHIFBRABWQZavHudSXn+X5hYZc1zNLxH/3p6rIge7RTqjWR0AO3sy+\n",
       "PzpMebi9I/EpZ6FSHX09FNDsLVDkS6QFc3+LkK66wL5GRZ45WoJvhJzJgX2RAjSOotgS1LJMmJaN\n",
       "AYVdqeTcw2DyM/pZfnTyvCSr6JY8JEfKVpntwqMgA/CdkSHDJj+KUuRTUD5hVBiLwdU6bv7Emf/f\n",
       "V+G9IujY1u6H/uFpmuY6/NGfmPp4UDNy5mrpcm/cOw/6RTyLOXJIscy/Jq5Lclx8gsQqQ6d5vza6\n",
       "OKSggdP2WruvOr7nOZHbgRn3HrEZNGEjKm6o/i3k9ESSFQMAAACtAZ4SakK/AAVmwaMo7uBf0vCR\n",
       "O+mCX4BFNhnwBoPmyxDsaooij1LLQbv0KxusEkJoaqgd4VRspnxYAZyoGRJ9ausI/VYkUJ5WeaCm\n",
       "qQfrFc9PMxoKLuOgM4a9UClb8AJFibInPS/Ejp9HZLxRyIU6SuU/yUnjGLa2ytGejQdCyEl/36kV\n",
       "TML8jAnquUHVU92sH1txj/0cKH/+vynl/rqGFqfFpl1AcLwHGnVlaYAAAAoYQZoXSahBaJlMCHf/\n",
       "/qmWAAUC79qe5sNQA1YgPcUzHVQ/kmDGBO7SgGHy481Kq8SGA9xTyeYAq2xk6tTJoZmdLv6baHmY\n",
       "xSqc923jY7fFmGQIbijaNLQXIgWOSGienBTXgUAm/6mcLaTEbR6x7ByqVzfh/C6AaD/uinq9Ur4w\n",
       "eJ5bGjzg2FhiIb/BYFeYdWzYYB6g8LCThUid35Mt4MqH8NUGamNrei644rkR4+BJsK/gkRPOA+By\n",
       "I2EpFD5cxvGURYKcNhJV05DKIeC7PV/iNxaajF6Cv2OJGNfjdFgz1MOtDiYfcHFsBBbRceemDVFb\n",
       "BgGHfgwPYZaaruhrG+i3sEI8ijjcU9fzWSCAOK7UaGQM9HmBH/O4UCjv0G29J5BY1Nrd+cBW68or\n",
       "7frxcQT5FZkafU32Nzb23OB+T8WmUZZ9AwWzgUM6O7xhzjq0T8GAlysbwcJEGuJjYhPxh5Ox1CwL\n",
       "VPgHgRNQe9uIkx7GpSRZfzdn1WpmsIkAgck4ZfrCPSd2Mqub+zpsQBt93loqlpt934iFI2G1QOG4\n",
       "ZmglqIiu1PMQTtLbJCuuXLEyahTsj2gWCrw5DgEg0ZoiS8eov2CTCReOhz314jhdFSYFDCNSFLa4\n",
       "ixtIzgZ+Odj1OEgm53Y1Xc8KPXQARXjsABvkBGT4UQvnTCxMX/02S+RhnTkPshs4qcPEJVn/3vgG\n",
       "pKC+kgJR8ce0qXAd+QxYNQDJ9vM7ELAggW6JLcJXTanc8fsM+ptkewknUDIh0GI1xmIkEPeCSggn\n",
       "8ObMa8G+jLuPGy+hKrLzzEl6h2+ZRAwVOsqDuhlfXLnwGwKiUMsqLSMjQz/u6owtYm3pU8FTZXZh\n",
       "n7ogFzWHAUZffN2MRRtAyozs3FHtLOPT7rHsC4jw99DAppBpuasZyMRG+BHHP3iOnjpn84MMlFf4\n",
       "JOuDoR0rBceBG9A/zPaHwnifTsfeD+AnvbOgFZBF4dCi6koJ7hXPUBi8PgrPJ3el9OMJMRy87fOB\n",
       "CoPaaE/3VExlqTjtzrfdEtTuwe/Mwe41OAUeyWG6Kaqk6gokvmJTdwPJ7YQ83SCM7geD1DDgqnJB\n",
       "GYwMPRxKUyPOI6MjATYWJ16bbJiCqqhZowTWk4zFmgFbs/NgdxT2SxtxCDT0vbtE9ZJj5MvFBBOh\n",
       "QsfERHT97NwR16/1sUWBi/CQcR+mKWgGa98yDf9tZEfL01aVUVCUonckZD+WXJX66U10Rww28GPw\n",
       "FrYT9pALO6j94f0H9tVw98pg00W+6ZE0UrcTES5/Ek5j1PhNrJKSLuC/tmlr7je228RRZRnIqDdU\n",
       "0+ejNDQYW/dfmOwxvQa9ByNvO3fIIJi3Dqdi9ViXMxDGs5AG9odObz/dhFXclkWWpzFQwQqqN8vm\n",
       "MKHnqPIqE0sHdpxlwl5T9g5acjGiBQUMLDq1SAN4EOtSmwNbu74hblMuIaUaEu1sEBECF9At5CHK\n",
       "7a6inUSaAuZtv9o8K/XvrhTC3ect3BoJcwYK4ZzpUxsyi+phIfsEXWz8fEZflq+VMopGY5qkQRI7\n",
       "latpzGw6vFAi8y5OevcBRarMs/MzTjsWgj2rx+6de5o7bkXTXb/yR/zhSyroX1G8o662JK+FaYO2\n",
       "g7ZJhLkYRA49XmMWYDHfUYL9SecG4Ijy5vYfJ2bsrqtO9GvzeOqsN3OUyiTczuhxpgP9yiqT3Keo\n",
       "3+AbOi//vpHbnp/3x+NdDm0dhXu2fjM7a0BTdD+pPqJooCNNdfR2DLq8O1kHMKQS+MZhh3j9+vvw\n",
       "6ZMEfayhom5UhJf89fX6bx5kqg6hVW/dgzmyjaF/lwavzIr6kjZcsEWH3iJV0joUhXDS/kSLXxUS\n",
       "WiYy0+EHaGdeGlCOZrl7l3KrvhNESQFNGTGv2TrJZnxJXPla2Cy2KJSqEtCgZoXkKpKjo5qAhyER\n",
       "0cpp5MA58BfHv05+DCu2tsOat59GHV4asakPW2ZD2f2iUEmeYCMYujopIe5eX+s7qCBrNLwUgDl7\n",
       "8qFPEeQ3GhQLXE5iap/AfFksI9co1rFAffY8L01srR2nFqGIf2vTWRKOnOPHdVsmrENanQi7/pm4\n",
       "Ogil4cOsTfA8XrwA7hU/6lTxs02Z+tE08kG207avvaNTi8MDxabzE3gt1gJ3XYE86JTL6G/K4bo1\n",
       "ENB/yiP7vP/EZT5f0C5tCPSqtdwW0AZAzc8oq/9ri9FYXkWBr1nhPDeUJapJfv0hVWGMcWN+Ha8y\n",
       "Ape9TYYMT13kd+Djz+wiGO7abXkQbaUlaqtuZanEda+jAp29D96j039kKCpK93r3Z/tPfyeAzFva\n",
       "V6STfgIOF1UnV7MtiMPFo8Tt79P+fl/aF9f4d0nzQLIwbk90dA5PtKBCt+uR/ak+sQ9VugiCHVZ3\n",
       "jKReFeW94sYl73Fkxc7NlDzs43+3swvlA0r6oCcOoUyooLEHI6eVn7OVE3SMFJieTqSB7VWDJMEG\n",
       "M6Qg4L0psX2S0VHEW1ydIf8bRJFjWzb7BILzZhqmhmsAYT6sBiMzWfW/K0ag9S6g/b3IoKQi8bP6\n",
       "A5qLhxZhflnITRTXL3SFQxyfBGOSY9wBle2m8zcs7hL0JQsOqFiUFWOoqA4yRcGJu9+mnfSoDvgK\n",
       "Z/2C+BWkFy/UFLBsyL+pFh7/ioBs23kqCfjy6zMBHn9IMjqDV91gH9I8joXbvtTieEE3V2mk3LCc\n",
       "oRO5q40jqw5z2SfaE4gp0Q33nSUfT1zn/lQP8e/7uzaQcYw5CFvD8OFQklZ4tga+Ut+y8+PrdHUn\n",
       "L6gduTebe2SUECoefD3KyyqZ8QAC5H4cWaW5+9m4Lu74zas072rO5RuIBxjqPscDgVaIW2xOY5Zl\n",
       "ArK3dckS1nJrR50UDUbif/7XitsptrNbX9H/1fe/P3LYF8nMtc96grIAye3Z9DQR+rRQq0k2jrY7\n",
       "K2RM28fCOhRBJIqkjOpvoz/wHFYnEpH7SpoorPC1vjp62McftTRANdxhfl9bK7KV1VlrpvmUPGxD\n",
       "FVXX9k2POMSaBagJ3nbe6dRqhwdHnULr7heRF/0bNSoZshThBMWSRfZrsymL/999JUDw1NWy0qCS\n",
       "wIbiPqUS4LLalqwWyABkkYeBcwgXrCXhmWABPjp+Bh8F49FYoUpqxKkRjh5HUvyNmNAS8fqwxKIv\n",
       "bjcELd2SqvI80t00UD4fDium9I2PH4IsKVe5SQGF9LDyE+F4vHT0HKvSyyZTRzCAH/zM/hvKCj0H\n",
       "EvqOsj8JYD0u09uq3uWkW/36BMqL4ZnrcJB2+2qj2GcK9o1Aa5T23stn0S8JB8RKHsPd6OafT/PT\n",
       "WE4dbN6r/j7lNcqULdSyJ0ZhlFTdeSqvmQnHZr4GURkTVDnKLZlHf+xn5//gJb+OGFV1iZfxPtk8\n",
       "sbyo8/6Rf0xvrb7Wu0ZpFn4fKmfHBRKru4FR1OmMMGtx6KnWrtUxkA2NUtkqQ98aY2okjHfsYvVA\n",
       "j3cp30NKMAAABRBBnjVFESwv/wAH8TIg3GL5ADUW7HKdorShHX7HU6KyALMNrkTpSJFIHv85sR3L\n",
       "jQKxIRFRK6kXqtn3YSwij4631gKW1SupwRnS64HbL+s83creyR+vjB3FHGvMQNcdgznuEdoRQ/cY\n",
       "zkSXoyo8ZWoI79MAGbJgALy54L7Jf3uzQp65pA0fQqACL3z1sP7yT5C4iMfVWhudVwFgVKvLeAUf\n",
       "H9wWj4Id5z4vj+nsIoCGePP4rBgct4HYAJZgffd651Kw603Y97sbPT0x/u0T1/bkW3Jqs1LSHX5V\n",
       "PIaJN6MVeni3jL8oGRcVT37vGRoHOFu3bps6y8vXb3YeFWqZg3a7h219OXE5dw5XtpHrEgAYS2Po\n",
       "esII4VDDLMckVa30I2k0uACPzcdtOpYCuIWI44Yqmd517CVnW6IIV1o97E9OxubvQK2CwS7Dp5P0\n",
       "Dppju0QBsTAepvlCacxN7ig1QVHnQ111uAtnvNwp3Qxe58J9GCpggK9z+b4bqQNX23T+RbODT+tK\n",
       "rZy/f8zJdV8YGuvInBIU2jgYgh3zFQ4MCqxioyoZGajrTyuNCkgn7TVqo7DfpQ7f4SbGTdu0jH/X\n",
       "ts0VYMWOK1U8iUr5yOM99BfRlMPpvL5MpZpXuePygHpbNUWgElemyG+UUtDYkH6wYH0lV7EC5epq\n",
       "jZsOmVLAzLu4r7vyIBK27aOj5paUBwEU5qjAzbQDQYG+fRQkzeVyfCG9qoCtsHt8yoc1jtvZJZpl\n",
       "qJRkMdWKwtLMdSY/QjAQpxnK+EIQeqKYN66pkTHrFHzYmktloiL8ehLUS4+Gj6yDAw59aXmNLUMh\n",
       "hjACxdCAgRKqNXqpsblkBAvorT3T8EETeSMpD8u8woFFBSvUphzgOOwVeqgdHjzFhMQLj0x3RZ6x\n",
       "liQwc5smxA2cUTFXVEcrZNRnF7wVYitdrQSqyKWWhMzUBYETej8AH0Uxo3ob6nvPrUNdmAHy5TTy\n",
       "huxn31iw7mnsDZg5z1srI4LJsBCJUleI44uRDhRmktOre78MnIQBQkpbEKCBZNHOIZheqdVgVUW3\n",
       "wgL9c5LHxJFZamviji6ptp3UvSHj/2SogZqHut54JUZTdYBd41DeSN/vkt9Px4v4l5nd+lr7/PKB\n",
       "AaV6LIt5Sx5EpxwdMs0WRmp4oI/SeXRYa0l6/ZWfoXfzLANv9IXiQsmet8od8LlBFJnhbdG1brty\n",
       "p/BDMBZ6H1dj+FodIFkRmzccBHAFJyrqiG4Y7od1mCOHp7KYBaRA0Xsou+WPM0Hh82prPDdCqx3q\n",
       "Pcshm/hNzob8ugontJV2moTQvUpGI+ozo6Iss22ELqlpirss5bUloWEgL3AO/Gmh0X7ZwOrmxI6n\n",
       "Lm/6hVeEBV/LJfUm9h2RpR+EvunByZHk0N57MNR2+MIZu3es+684qme6s1OCid204Lcygu1iN+oz\n",
       "N5CIWqsdcKen4VbNMoAKYJjkqJP4VVGZ7aOsWeM0iXt1KN8NNQwbQqO8EDWLT/Md9WNVaWRf6vfx\n",
       "pk9zMkjpiIS00APz2sVuOByFBGD0vRiTb/X3asWm+SN1b1+MPbKN1ARYeueXRgaEqwEVkJGDejCG\n",
       "bOpj5ftW0lve1tS9P+usCmSeTuhKcxx2gWcJsWd/uEt5MMSsBU0RdIDAXpU50DtJN9oP+rDadW3e\n",
       "O+4U9NdeDZatxEPFYb10T58oMlH6FVM2C13IWz0meACJ17/fNNTG7UHBrceAbzpUSS7350EAAAKA\n",
       "AZ5UdEK/ABDfF/6nI/ENU1bE/onb9IiLpmDIcMd8WBzsQz+mCV/6HAr1BfL37/QAg5ahLJUD4h95\n",
       "fe+qWZgmxCVVACzeD+C6C2mxcSL/wcUFs6vC/AqPOt1CBiK3NUx0Q5nUkMSTJTrhKmSkErB2Pt2t\n",
       "FdWiV+zCAeuVln0grcNmM1vDKORZwxzpYti6u6mR7K/rIVMm+Dgja8tjE6xyDIhdv8kzUvKO320k\n",
       "zXQRN1apeR6T1oCh2hBAkKuWJOP4OmwSvJVDHHhkRd52xMrQI0gmdxQDvU3ZqGfzEY6uAiuBQm0F\n",
       "kOV+OV5G7QMgaFq+toX7PoudxWPD6jNmgFFS/GdiY+c9AbsI27aVfkngpW7QjW3Mb3RgtA0M8UgZ\n",
       "C4pPTSH3ZHCMpWYkhCm7KLJ0m/OXjzo1xD/PhVZ96nDhvILknP369NcL36AspgIsoKIduYuPjXMo\n",
       "R2wOloRHyo7/4BzYAmLzDRLRPziz37yZTCPFpV42IMhosAktaxWc5sI4IaYmZxL5Ujv19i9fgp0+\n",
       "PH2HlYtuqinbCsypqGR9sSjBIHwkrpPgC58+THJKcvAazBucqE0XnQzv/UbLUjvimzDbY84aRQhR\n",
       "d3DkVEeqvfxpSkE7SKctFUNfsy8fj8eywZiYP6Ys1qfX43ccKTGrQjW30YpRLWeTInpFQF158P1l\n",
       "Em0oWRZjdyfxRdNU+YrH5S5VHGS5QwTZcY6LkeC85yWdDS3QsJIU3ezXMW1jxaiydsbGjaIvHKrJ\n",
       "aZgAUA5lZNgwnOt+6EuU+ExedoczBSuF/Kr1oNUrxJweQmXCMKEzz7pONQbaSXVdaKztWtym4aMo\n",
       "G2xnlEChKvBUY0CSYAAAAxIBnlZqQr8AENkmdn5wUjRPVQ+d6/JLP5v5mEnVhXgsDp5ro3ZX60la\n",
       "lPU9oQAJqXb7ngASm8tFSpR4MQp2JlVdMkM6F452XGBOmh04cTyx2CW4qU9dv0cixMviP9All/ev\n",
       "L7GchWpyYyk7fpjF4Mf+IqO+ZfY1/8fUevwz4m4FaSwwto5oK/vrM+UyGlo8OO/Yncw9Mh410FDO\n",
       "WEn+NkyZ5fpPum5mQEvuu12qgh/X9YhSC84lGLTNkSp9IycX5kEYEtS2qyzbZptKGRS5zFCvOBop\n",
       "EqqtihCnyVuvZ57BNnN3sjT4p+HVIebF60BNs512QnGk0nl47hiEJkeVL922JsoMzoi/1lB+9Evx\n",
       "/DrrQov/Vb7ttcAHYAs/Hysu4ICQ3NaMz387CmtV+XL3n4JcQQowcjy1J4laRwiVSS6szJfm86JL\n",
       "EnfzBIGxmumU6X1/bivE2HLEcTni2VHQujdw9reAFZibHRf8uillZrsww251UlHqFQ1f5UFrgGLC\n",
       "3X34kfh8ft4z8zMV7/gv9EQ6n2Rj7zKanpTGKBUHpODI7GyR2Ehe3aNmTo42NsX7T0Cqpsnpe/EB\n",
       "WCYZ8GV6AsJTI2gQDrKyxbRo/qNeoQ3WiT8KwW7RrZPp/dIVefED38tZjwvoWrBsYgZtmP8seznU\n",
       "jGGSLzUGrLTb3lxdpVGPtN473zY56CgisKrmnbLFVP8HrXSaiAMx6TkA4wzLMb+OzYHQO1SAtTWb\n",
       "XfQ7tHPEErDDSZS79QLwSWX1WFhrFV6VQPl0FReAHrA1lpoV1yW//mLvhcNlrV6SHgJXreXh5MAd\n",
       "nIa5o18SPEcT1XBjKi1Ws+uKLZ3x7SvUJVKcVc/qmnwXCba7pk/H9iyGqyJq0Qd3M9Ho7/0RKOlU\n",
       "5mcInCiPtZCeMU17a8NxAqkY/M9jW22yy0Y9lYBB9jqt5ymaIXP/oeRe/O0SnqEpAKyzdxyf1bve\n",
       "y4UAgUNigCFjYINlQGGGRSPU1bkUps1VFsfnmOTcz8nBFAPDMydRW9q+pCGiXMQ0bZflloM25gFo\n",
       "BHp2oF0AAAm+QZpbSahBbJlMCG///qeEAAn77MuAA2T6pNATaMQtq58RFpFPMXo96KQwiGFJdSHO\n",
       "e1Wgs4ckb1lYLH46VpRR9ZODHaftin5ymuslDBXcHi8PpA4OIa/lQAAW52mZ2bDlPsiUUfTfBiww\n",
       "ZcZ2mrK8ZzVs/lJmjbYIjUxJRGhsg5hiuV2ZxbnxTOM6/Np9E1Q1AygxU+jvs6JfpYKvQSXH07Q9\n",
       "C78FwXj0k3G1e4YEkm0DYOgQWGVhLMcbLsnIaQUkGocQdgj4ELUsmpTsibhiqESa9SwklNl6VFzG\n",
       "mQNOyoZsZFNqRQQ7yERWQl0Sd6cI6j9R2j5G5scvrq8jjwYGz7jjXacL0KDCsH1lXsraEbIqV9tR\n",
       "owcFnklZaWFsg7XKcOYCNiRCMOtQmhgAO31Ulp0Ou67EQOm8SciPywK464Tqp4R8Jm618kKB+I0d\n",
       "eGCQfa3EFMysXG0zMD6HUKR6AX+P9jnW0dJp3PW9n7Jsg1lHWqoWATAQJPakWmOdgpxyhlSDvxsa\n",
       "N34Wgt7T5EeIf6n582qKuDxwHCgIEQuKLHwdaRp/xdkyb3g+t1MKVTPkSIXEPn+S94kMWq5FmRRo\n",
       "txPkoorDfSaL0C6A393bCMTfTfqnsnnuJ4r3/+zi/q66KIwP/IauU6L4avBnqfMQgcp6bUsTylkD\n",
       "q7E2PT7L4pg1fuqjFzImp5wN0vQYHQIEx/usycDEqFxQCT0z4j74l6YyZj8RPXkVhnhowI/9o4Us\n",
       "3gc3q4pGv2uB2LGW6hE42Iub3u8eatBszvImGPS7lWi6zRrxEUrxezRR+43evR5AMzW2MwkRYZE/\n",
       "ZjJe5DEs3IOBA9PHQxg6FWK6myCOwol0/0JZpG8KA6aaxuf4voA7yRrP558RXJEfg8M1W0tvN51i\n",
       "B9K8WL9UTXiY9CE+m3xpo6TSImskg0I/UWkzSGBdQwed6Rtem07puMLOHWvd5vfp2EKzqB9YNZI6\n",
       "mCB/xRkQR9u5zTGF5Eh0HKYW6HDgKdlJcB4vuElAs8btR6K/bf5DoG20m+AS/QKWlE24mAiln0yz\n",
       "qfmzvC/KzW2EeedtENa1u6Sq45lo0vl3fy5THm5z93eU0eVNAC/QBN+1OPCnpGShxnFHhxtEtteY\n",
       "FMRR/tdggAAq0D9NbR9XQKGt3ij32mBOnsRYQUbUDzwcPARHTTVIft4UpqJYdkdZoLZJ6QSPwYnx\n",
       "9VakL9gYbzgEGj9PGGveH8DBFUsMXQlxzz1qzfHYKfAB8IhQyP9Dw/2v3g9hLmJHxDz9hNJeOARS\n",
       "HzQchZT24iEDWWpnG0LHV3Wgmo9EMd8nqoUSggBmv0naXyeHFecOeGoSNGflMYWA9LS4vflj6mYF\n",
       "yLZflzI/L20cBsAYMTz9h3l6V3t9IW2/oaWBn3VPbroCLs7tyEY9ANBuqTG/MV0fyJ7DePnmKJs/\n",
       "eG6xUKR5TgZ/asxucfmIndfcPALHSNN/pQcYIk1Ar31r29uqqmeX0yQ3pc8t7+J+Gyc0NDWi4JUQ\n",
       "xiwDxptUibozLRkWRY3FhEgHrPmYm4O2NXeUOz5EQoGH9EmLscuBeKVa02aJ0JuUnXI07WPntAo5\n",
       "JXW7NmkWOgNDtIOU7cqcgMRtBx/UwNdnS78AbxtDp4UwDBcAvEJ9D0teIquPmjFelnBVH8Jza7sk\n",
       "11Cz+uTk+mYAqh1fL33S/wTf3j2ioTDBvOZiw0Y6a5Oj00r5hlMbGA5WfgBlLPUGFaxXf15vaKB2\n",
       "a7fklfPVUjU69X5ydQKmMlB9GmQwA/2QXhhiy6LpOCH8LkldUboIa/PU79l8OPf9KYEMChmPdkxm\n",
       "MS9SbZ65Unhjv+qZKVuM85x+LEI0TPIt4amAAr7vRAC2Riw3q5MWmUF4nQVEbJWmKmR3xLfRubMm\n",
       "FjuiY/+x7VQ3Q8LKhh2JeZXh9dkxGX0Q+8YElbgv6K6PtYLDJtKO4zq7EmtHAvxvEhTb6mo+TOZ3\n",
       "GEYl6kvo9JNDkzkkIAl5DVpN4XdpJFeRVSoWDjHGdpuDbRqORl3vl/c3HA2CvfS6vIy7T6LnfeQN\n",
       "7OxrT1jzFHPYZvO9GfHpn/nuNTqpwkDlo6CodKLl0+twpWn0+GCNFSTsEEV27N26wCgOxsPXsgv/\n",
       "TodiugtxsNNudCXR0jy7KrdaC95fVR7EXoUXsuT6P84cbRcp0KDZate2dNDfi6qU7XoWKE8oeu/3\n",
       "iXl0gtiK0jBvSATfQasnwa6DvKEtYAFAgjtwHaL2YupVYbGQcwoD2xxigVB2sp9wf98VpgiNNxH1\n",
       "wHc8HauJ2iWZjMZLXmu5Qem+BL2XKOXsJRkuohxiHLxQaCEqtwMj7Yd0se3TWqu5FrDOC76d7rsu\n",
       "bsHybOYzFrpu0MkxacVOeXRCTeIbx8piwhDu0uLg7BtA+iAujW1YecRW7zhG+3jZVVY7tBQywrJd\n",
       "IjYKPl0KCzjm2ExDyN/5TYBPxoaTgP0b7kH9J6Z43ZILvXI1qgriaYKepFv9QNQSbdVUUP/In1Rf\n",
       "O/eClKU2s3AQAGlNS1jmPGK1jlfHKAhnarHS+mEQ3QfBMCAjtjTtwUZlL/Bk7DNP5v5CauKNkp0N\n",
       "tb0PmqXJL3T5IdA0fCzn4a/CHCSa8VwZZWaFs04DIAchQdOGXZ8HcMvka/QGn3dWLx06nmTxSyC2\n",
       "hOW3zyqSdRU6MF2Lm8LHeMbmpOYF6LhsThYqnDfddbhR6qn5VW/HMq6GoteCGqQ7U/2jVyHeSDCs\n",
       "+fsT0dsbmAwwhB+jLh4AQc+xAtHeLdTmfnEz28oUiU4658sAwLkvEaTgQqc7G0nKIRw14w+NnPCQ\n",
       "Qfk2r5DfbwFRsi19RtiUzw2BLgrCnCii6Doq1yaoEgj37Ll1T9um3oQZe+W76/XRrOaoAgQtGXWy\n",
       "gQmR9B/kvR9fHgeOPj+UIhZ15N4ep2Pbp+wNhzewC+zaPqvY5ufXN4At/blp8yq/V0rU/eXsc3Xy\n",
       "1XGKGkgx22pgA/YxabGNnaJtXjMCLUwl8wXCMVeY1ZA1xo9IbO0HlEDHuw2J+Pi2pe5w2bPtl20q\n",
       "9BEEk5PBDkMvLpoDMbdjJV5N2QpVErXuKaxMSKD7yarmO6DpeD6z+p0Jn87NHF/d4BjGDosoNkHB\n",
       "3FZHUu2iyzQ0Xzg/Afryt4V1ik17gyxNp2IHE+gCMA0gDhokVcEzxCNNPEa68vr0aYS2FdVy44W7\n",
       "HmBJxHJpAAtnQFWhuGh5PckY+EOQO4Zkof7/ngbnVbC2jpXHvX6vsGygxpMgFIo7YKici537pJVf\n",
       "ggbdKlfdsosfCoIHt8prmazK60IsKZTvXDaI+6oS/RjGxlUlTfwPQG2iS+XwjcSKzC4MQQAABghB\n",
       "nnlFFSwv/wANhEZUOnJp/EPY/U7XW0BLuD6AKjCIYCQTRQB9OZAid0hn4EHeZqAcmK42CjYWCLr5\n",
       "y5BzU67cYTfACu/BT2zx5JOyAEJqFsq9pVl+mmsTDxg3P1IFfchVpIdnyDeSbo+icyaPSS7DQ/Y/\n",
       "jiZHr3nYW8yH7Eqr1lLmbiv6xyFe4NuJQ15VZozHuI/7leXvuNlGCVJl/LnuLffDVIfCmfSVnS16\n",
       "VvuYNRa99+3tETjz/xpuTGTRDOEswm7KqtE304V8Nz6xD8U0fDQCGN51XZBCd3tcin0hsquGIR+z\n",
       "Y2U18J/F4l6gFlCMdD7fWloOBpjG8cjCfO9UXJUNepUv959Fa8xajYCwHJKtSQsUYQqhFFieZXDB\n",
       "uvwmrBmYcClKu8yWWMacYAaoQgCUutCaFGf51lsPkzK779cqPyaF4bhxfpav9ByQf9xmmQ8jn7QP\n",
       "ZLw/joZ0Y9vC19dsPi1pCjbV/MromyUfkS9jVPR+oz5aOJ+NWHHf4UIpoHUCjeRJ2Av2mR1eiETH\n",
       "9KimOPjbo6QW2eZc6ln31ZZBljFgonGyu1afGdNIfg90BH9W4V1XQ4h3+ijuQNDpcl0IQk8Iv87G\n",
       "8hiy+m8oZqTBBaRBAk3XecH3deXdazc+SaY6gqZ6YEwRW6/ktifKjHiGtQwh23+JJBz4J03aVi7g\n",
       "At7fTDlO0kj/ZHtVfgxyZ8lkcx57r8itNea4Z6B/je9QW2u4lkUFfWs09TRP+hrzWQusNTMJMlHY\n",
       "MkudYu1SI9XnXJTT2Yg5xrHvF67uVN1ME8olnUuz1WfwrBt1hOz2VAWIw1f5uCQ1ykTl+zQ8uBeq\n",
       "c2b8FxYLYaJ4dWY+OS9V35r1R2TlKnDzjn5DuWw6G7EHLDzmEL7Rx4WIo0I7DgN1/3W0E5ksIUrc\n",
       "IG3FI6rOrF7IDe0Fw6A3gSZd7PEKZPAbpyz7KfDj4uu53sQ4b/wACmjFKT317Bb7xCRFHYWHI3lr\n",
       "fbOsRYh31E190UYg+XRF6lQ/41AQNnltMv3UW4NG6vvFk44klsvq05AFvkHMtOKSOrm5il0HROpT\n",
       "aFBmWN9dKTxh/QP0rl70rKPYLLUj+7jda24A3T74NgsbfhYhB8B/O+tI26N2B63kws4b5sy1+W36\n",
       "Tn0yrKOexzjQ6YxXfropOenThA746h5RPDY5nBillExOt+yeH+odxSPv3HhXjiONA4aAj85uHGwr\n",
       "Qxpt/052n8C5002E8cTgTNRT1+uvPBcfOQrkpiL/qJ02D0xIUEFD1hCisSP6Cz8DCdqZFdOoNuhH\n",
       "J/+i3aeXDErcl9zMvFeeV/MvF/YOQPkCdGVng4KsUZno+AkRf3kLnNrSUuwmWws0oZnM7Fr2WLev\n",
       "x3cWgLyUh4hc4ZrvLHm9Lntp7CKO5iMR6dE/jRzNsl1BonySRR2OJEEoEpwBQhTuVfCjpN5MQRI6\n",
       "Rc3C550Jg0AEYn8v2EIOyJcaV3RpR+9SYVvrfmb4pbGBL1kVj3/dy0OPgk9nAEDfNGbJs/8Kjvsc\n",
       "zDY4kvZK5ZSvzVOrT0i8dbJQYX79psOWGChH73cDVjz2IwxuU4Jd/JQ5JnxMNOzsmDXkc+8HwOwy\n",
       "S65Zs7vWsOkyoLTTQe9KWRc7Yx76VMaOTR7bE+s6STLyuYRqpIWR0aCwYc2uZraoGK3seZmfTK+F\n",
       "IKobCmOqHnhBsQXa+LzEVfL9GP++parvfN23Fp/5reF6JjFqAtgrLOx00WO7aZ1hWYCpnzrEwz66\n",
       "PBPsVzofmS6oeRiJ6zWOt/3RWZDDVzUTC06u5jdEERqc7xreK2wA4/fVmBLwygSwaIJHYEgNZBMz\n",
       "NREfSO/9Vjpfw+BRKCPibyc4kbzp/gda44oNKfcfBq2CqhgbSkS9Jdc806eKeu4XJtoJLAo3FaaL\n",
       "JNtKlzvet+h97nYMc8Ux7UO4NbO+d5FemRS1Ty5J3pY47Fz0wbhkI26+BFob3gLJ49jy1GAPJ569\n",
       "TEQJMWNoVQf9f9/b98tRBcGpefI4LBES/EvaD9WrkeVSaAywlHvVLH2ijtPUp2I+WMnCDW4qPxzq\n",
       "Zg8UbgAAA3QBnph0Qr8ACxJiOdruSChIzxAHcEncXC+8JS1qZ44UiY0M+vLdxiaCvYu/w4nq+k1n\n",
       "oOhVaSREfomd2/YrRX+mYzcx32YTAK9YUuXHoBcPF6hY6m0nv0TFM4afDIS1P4IGp0lvcveXFzRC\n",
       "AA9v/W1lCHItQDCURsZNgeH0Z7TKCvCvNZDmdyXS6GNjt+U93Npz2nEreOfAfC8gcwNiP+HqW/e3\n",
       "Qio69HeAaZzlnxp7OComAtjTE5yBUzn1Oxd0GqfgloQ+cGzSyHjtzP/tPPoTyVZ6jiqdYFLgnyoP\n",
       "5a4WCF/aMj0p7TfDduvCBatzvxdTkQii/IQnVYmMNL7B8Ql/PzcPgenuSBbTmbf0zWc1v4kSDNzK\n",
       "ZqvipiBjGSJrThRyUrhazl/RI3B2/hdIpYfvTSO+q/TcNAZb1nzBF3MrX4qsgpsEHbpgEv7gEsM6\n",
       "OM5obzU80KfBal+izYSwfGh/5mIARaqnyDVxv9p3FXv79Ovfe7Hv6td+lUPauE/I0WyUFKgapF6i\n",
       "BpZEnlrTb/YQQbuRDUuG8I3sBQSS0s07epsEgYtI3C6acq/AEjwyAvB8e1n4QUu00dWjEdQIHZIK\n",
       "FFnp6m2ul8v+jxFeFtZauSeAai3jGxBPE3DxGT/DiY6JAOuvPbOGPzIkrsd9YgjbcVCzhF+OgPrN\n",
       "XVPW+N8V+srAj20EYBSdDGC006576tUgpqW6pJS2NJUa8+SfLRw2sEzvOt4bu+9YFOlfRuHUwFV+\n",
       "Ucj7zK426TPTOn3q7DO2w+rIF5zwaGkekvCdUFL9qJrRzrlP6U1gSYDVxCRr57oP6+3QJo6tgykh\n",
       "pnZDeuuEHMWF9hODYLr0iS2/ZtcmLVPMfbYyoNtDC8TNFFDb7PL0l6ZSAM9gPlYRf1Dugnf4gkDa\n",
       "U9363Nn2Xmhv2bjkAaG73AUs6rSDfbaGnpq2/sBonMe+f+HFldlr6fgOV6FgP0S4c/cKeyVZ0SqN\n",
       "BktGll6Aouiht/SAeqWtuOrCvkGZSt70WdEWeLR7NcbbloReJuKr7YZ0WpBS6m35xtI/9ZGhXIz9\n",
       "1RV91UR0iiGlEMEz3sSne0qBJ2kix2RC7W2g/zHbKFKuz9vedSgurgLd7fxQf0+MucJT1N3YMHz8\n",
       "yXgiiLCAvXVF0kSKj1xi+2PXUGQQS3NflyZbbFgs1kYML/LtoQAAA00BnppqQr8AC/OmSY5WLMdW\n",
       "BGmtA8MFHteRp1iYNYhW11VB+jME+onwbJGjdaABbO3Lvfgy0imlt8/0QDsAUyAiJH2929KIiBs4\n",
       "UJ6DN8zlaXg7dwvTC2oFqTxg7U/d7pi6LdjuxZl+dehZ3xDJVbcBCf3kiy09ZdUHKu4rhTJo288Z\n",
       "hnD4eZtkYL2OVUo+OyLRMheH7nugE1lkhrSlIasaQNbnMBQC/gQ3OtGz+sjoAALnKbGvZaQ0Ty3K\n",
       "kQ1GD+zb843wCuwrNAsTw5sw3ZxmLcFTWaQlcO5JqTlgfqwQuHUivbVnTm4RuxRJfl52l5Yr4Ieb\n",
       "lIbFylblztQJFfw1ZjR2+pY05Gq8/0AinnfoD25TBuEeXsCOKXJH/rMKPSGLeMLJYWFubJYOmd2O\n",
       "WNaCnrpIxnlSQtuu+nHD/XimloJy6LhZvKbWbZchpYxqHaLFIWylSjc9jMCTgTl2FndfVsEkHu97\n",
       "SE2f+B1X6k70sYbBHvTMlrx7PRssq4Ont9bXg5idHU36PCuHabCldtQfnsyjnAheoFJV9bWT3D9i\n",
       "tn7l8sJi/Wc5sGPQyAmcD7/noIPR/eOwppkUSXNdx2IDZ/yoBoKYEAwYU2ySUtH51igbVc+RzJXR\n",
       "7gZjvnn9K+wpUBc++7rB3+6QVh+ZSZgETdPHAzP/MP3Uur66Sum3GuP1E3npCOenaUQTtASV4sib\n",
       "4rlvSAbRm7g5TgzCQc4k+3MPxjBgHrbjI6JRbHiixyohG7fqcZAZO3azew182KPBqKnbnlFJYQIH\n",
       "5MnX5DVTJXf85HZnjMaOKDkD90sJts5bjomtmf27q86U/5wiNDw6boyZIg4IsczrL+EIKg0jQxS4\n",
       "5sGfRK0dVmIHbE2ZrNX0bo93xuJ8H1J+lU2jw0mqMc8g4UgGXH4GKP4wN/LNkQ/7JOeJwMTv9g1c\n",
       "xbYFwHJevmH7OJPKkDgsWRfXjNH8zj3uBbmFjzzpe3RmlgQANMgj663GDFAZ5F3GKwL9ALN/ax0t\n",
       "CHuai+zXx6DG95ztBCNeP6kjT/vKN6MRFnyfVfwDsAXOHXxuUSmRQA17vN8IdubEngeeEBHvPgq9\n",
       "1bhEpEdRFdPD72qOD1zncrvzQnipvOPAInGPZ9vUgAAACHpBmp5JqEFsmUwIZ//+nhAAJqWnlgEI\n",
       "q8uZI0+bu9o5kYPlsgwNOlLL6V1edNA2RkpjXckpYWQ0Vtm/YOebUJQabBq7IFCLVker4h7NP/ab\n",
       "LuAxVA4PjL3APeZOM2vqBt5sZgM8DsHMFwfHtOFFnLcffxbk7o1jgYUmiW5SufrHVr+5M40O8fyo\n",
       "Xqzom+0IwzwJrQWEYJM83vOzsUp949D1PHWeMB+yFT9KgbW7ZJFTYI5xFCeGN8xueltHG32vyIQr\n",
       "Gx+ee6PI0uAcTN27uo4kZ+v4naW+xo+LLKaVKuMyuSwzmSm7QJOO4FzvHRIGM4rNuUcOhKfIaihZ\n",
       "tSIK22FXqE1g6fqQ9GdKl8xRs++J3/nhGRc6M28JHWxjNHQcIomCvGFmV8Yw/zZUAHhdP78Nm2/8\n",
       "YQAm2vA95G5HSJhz2heHmhUqwOfVPjRANNJ+DMSmhQRxdcLTaVcHC0uZer0Au0yFXXqKlJMf62qy\n",
       "Xdq40BGl9d1dKHZUxurK1HrOlDhYyNOyOPOG4J4SDphEHl8It6EFgWxBrmgUx0hQTEU8pyJvrv7z\n",
       "4MCzUtcNDgPAZW+V0WZo3w64whPe66LDb7kE6Z9zB6XBYxy/mlxrzJDA72ErVUUxPnu3CY917LZk\n",
       "FxVHIElFS3bdMJzh/aQb69mOzxlVEfkcIvUwUUp9BBByB9qoLS0LpB+6+U8dP0+MgGH0kZT6cm+1\n",
       "ihCjWFKrfmyu3kp4g6lw9cnGg9GreYR50FaYWYo+UzHgmy3k42pDpgm1JnUtqdwyaXfbtPCagwGz\n",
       "Vf6le1jZe8JDf45i04SE33YI5eMcOLKOqCs3e9cMldhLKwWDCPKirdH55esIF96cMemAboNuK1bl\n",
       "bC/TXxEwFiK0DQN8wM3fe5nmy/O6+w9nUyvA8ZeSf4xBdjOGBOOKMYew5Z5tqz3Z4Ge2jm0PU572\n",
       "pT9JhomnxECATSPhvOzR6HYuwjlkoROJhTjFnQxjkJSWys0Js+GdWMV0yHeFfzUAl5X3OjreSAEY\n",
       "XFvWZXmFIaPbjNWoE8mgjbPsuztqDTAWWV7u3mW2kMVYX1EfBRIFKcNcfoUOrL71vtEohqhD4pQX\n",
       "9mWWWY2SKSYNOyxLfWzGonCs9C+jNBwdad0+WWlWhtW5SD5r/E9R//QKm5iY7oAPkoDFCnZtI5Cm\n",
       "lsmN3pH33CMiA4VWZV4xJ8GV1kPBTFqzWN2yPppQ9MeJf3GtduinOnYsSxPx+/NcP20sEYc6nW0p\n",
       "MP/RCnUoG72gcGfa7UUEBGAIVfBKy2Ofg7SflFsXXvBIP6lVF4XuGlcou/18ZqDtxdznzBFEedYg\n",
       "i4OwOpdvYSe+ZGtbJQm24fHTuiL50iKDvUD8mUU4SASVfnJ8/sdgNDLAYgSm6yE/51Zi1zVVWgtz\n",
       "EAAAAwACGq3tOTFBfvSjrARQtMJivoI0pB7u3nstYsSTBf4irH8x7vI3joRjOgrUmX0kFrCWOmgg\n",
       "LzfG3L0P1GEn/+Hobq0h/MTWS217t9vF+ulECjVRBlgA6aEfjMZBXA+TnrdfV3J21vS/HX+V/e0X\n",
       "63hJceNfUNSjcRNrGb4hsTEE+6YX148mLUs5aSe+UNfiq/B3kZOj83DB2Y6ai3z2mgj2zHCyH75I\n",
       "qogpgYZm/pk02Of9OHsxwOgdVQ5TlXn0KRxti7D+7WRWmU2U9JBTH0DplxTiCQaUtJPUkT+cNvvi\n",
       "39BLzKJN/xGhsIOkD5RdEKGH8xQ46OZfVsbKR/h/zR1VnS/2eqessHzItQSp4E4/Mw9+yS+n327I\n",
       "FVwyN1XwFxrH2Y+JUAHcoz6LOWvXIZqOrs4N7k/+9RNPZXwAH/tu0L+KqB/73O/HZmiUiJDeNMJn\n",
       "1psO4arJNlQa/WxmviKLpnuewFBUDQFp596MwDgpMBlxfyEm5nv0k3+VgcrYnaoc68/zFynikCUd\n",
       "iKtSxNO3KqWm8j/rkLeCmr2GAaWzjpnu8u9djNqkwp7pm9lF8ug/giXOanK0le+K6AcRyyqEDpbA\n",
       "yR+5MFJhH6Q+jwiSExn6zc38RXbDcbTBWpIGWwnXHpBe2cTmi0n+dhH4/9wnET1v/+l1WIWaQN1z\n",
       "A5Bant6RCJ7DK7LpZeyrrbVdUeGW+q6tRLH2P3Yhb0ZrVcHJ2jHyI683SbAsQ9AvpzdrfShN0+qU\n",
       "V+3W5WAZbXiY8JGFxkP9QH5ZZk0VihHZF55f/e6klRJ5meBD9QfVZEADH+zL+qhFOR43H5CeH+VU\n",
       "azAjyatMPH0AyQyTqWUrwK3bdbUNiRSmS341TKftrsXjkn+Zym+2ZoonIdMpAmHr6brBAsz97b8x\n",
       "cNn1+j2jR9NEHHUtBDI45lj/GbXiAzC+X+IVySRcQu7qE4r6XdDGKIAU4gqMgabHaMB/OTfQT/uw\n",
       "TBmWBGPtCzXigyD617++ohf/CaCq8jWHJS4tlsf0PcVYGd4auH+MDLwfdJwqXDfiZ1vWy1ViZf+v\n",
       "V/SvNVGXiGKoWQ6EQgFVBcf5YWqbcY3VQjryDNok0M8LcMr2KGe9IgQZW5L4RErCZCFPCY7Y8p1s\n",
       "gCNm7zXfuRjFJhxryF0yPSLgRp3a9aZ90PRhvD/Q0S+hl/mDwGkr/2AjorZzLkSn2Onzq54AhlSZ\n",
       "oTC1cytLdp5LCU07NGwSs7tG0NFHg5i9BlddvLYfiNdUr3paJkUBJXzZ/ZE5X8M9WuI8EZTzWOGk\n",
       "i3jd26moNwvcvWkW8pxDuoNGyxUW+u3+AYW15caM9Txj93cbzrKNaffT6MFVcTglzdK38eQAPDOu\n",
       "nGjpNRaTNQrDvNhsS6uKM9yMizRn8ktGdF7TTSE5geh2/44rfy2Z1jYFHkrkXeYN/WKAoxBAoF/y\n",
       "9zSoHwGj588nuMoYCcslXFC5n9l3NpwaB7R+88VfAvyFYzzuLVnxAAAEYkGevEUVLCv/ABJZJOFx\n",
       "tPyCo2yFmpdS94QZxDPwuBm/PxOD3r/GccZUNj3zCdlNazcAR7Ddwkw1KjqhIgabDZVvw48AB3TH\n",
       "Qu+MeWC9zf86RHUxCaPRA96CPGB+PDA522Ozni7j+gQHnJeOnNZECCkWznATHjtUJpMX8JEVmGaT\n",
       "3uWmG++xcQKtOQlWUuC4NfOTAjHzISKIN8xJT4ABcWaOTDuSoBexlV29/qx6pBL12ju6ZPWFOUfF\n",
       "JkqnAAPdWMZZ5PuhpZAHzEXFiSwEmILBuwYDrSUpflfvd7zCWDXarlKtDJIEedmsqAQjZ9HouRvw\n",
       "ZnISnPeH4Knz6QEGKY4YAqFK5sAr+jAP8Q/yUQq1IbXLQc/cIINKFyu9lJwVJLU3vyo8P+F5hI/7\n",
       "pyulPL/O27Vlw/q5A+MZcCLPbs3pU2YtRslrdiEdLu9QTEOLfI0m59gCqs0wl9bQYIz1NSCcYKLG\n",
       "SbLk1fWA0A/f+xQIkiiuDpduTf+fuBWbRvbZR8YFv9IXm0fJkkhtHfoi1UBWS9XV4kcq4PsfZi6A\n",
       "xcv5l1Dhtwcy1FX2OsmgpObzmvDQjnOJbE402JaDYnMW1a+zHp25olYV0N67JQ6gAPJ05pLK/L0h\n",
       "/LhjmaVpbUTyxFXo8HCqzuoBaJl7wd9slTd4BJRI92pLO1VZnCT9PD8LHD/JHh/xK+mESFOpDiC7\n",
       "0uJ+Cz9CowiiQxEgelgJJ+6Ked1xHCLSM1RJl5aH0Ff3PPO+4DkNMxIGSNTNBQK720iVSagBl7Xz\n",
       "BUNAIG7xsNHJVdFzIGnM0BgEjaj1q6Hj4/4l/yUasEyni/6kO15yusVXpOjDGOdHNMMQea81zv4x\n",
       "RBbZ4cWuTdcCZa5PXYsfzSNMBQigrXAOLfNUHYwxCgwuD/ZmBH5jJV2ffYAYF2Y7gfddBNYrHMdv\n",
       "NIWszUiNItAN20t7dD8Dq4yvmzJwac3MQe0k1YYWWZMpYLlWeEv1UqKcQtBHy5tZy9SM4CiJlFBL\n",
       "6SlQ94JmjQhNnZp7YRDeSeUadCs0kUX8+ByT1gbNWFww3h8s4Oboq9twpmTGdSBixK10cj9MiUI+\n",
       "9mp0GDPnp3XRrYejTou5DJAbeqbPwGQw/cy4HHqRSSjzVj6FesuDYtfpq8ys28h+i/1e6BLEPVri\n",
       "dQCNr/Cz4B0wW4+KDBcLdRcmThMy2pxiuj0COWfo6bMZuU4q/RFLINMIj+qoOsjNrpihYzFOeiuv\n",
       "QW841i04fNMFzxsy77h97GvnwPtV4Uz4guNs31FP/fyNRk6XAcxXDCQKMlVpveyUkotOyqL3QRv5\n",
       "1gRmwUcDVOEMWtJL7bXwFJyTRqiWwUqHlBAljebpbboztWDP4DbeMwFhWkeYhtRPY+4kskR5KWtQ\n",
       "Y+11KYdjpkWN33uq+aSXmAaDReH1jFu7jGKCYsJ5RSU/ki4+vEwzDc9ZMo4FqLejMryRkJA0cHUv\n",
       "2DDZFIeuZMtfK5nJNqumiq7y0+V2BiPRcQAAA5ABnt1qQr8AFisBGbs0BI7iS93tpNlyV+oE0xoq\n",
       "A4zIlpna94lOqwM2kAmtmgN6U4k4sWaABKFOqlBkdu5mkXKIkuzTMXsGv4VnHJaSLulbJsyvZvvj\n",
       "G+EaHcReO4O4g7TSmoiqu84Cjkw7QrWtYKXH5P93fw2YLoFXhcNYtbqmXgvZ7PLwHtGfXmoDcTco\n",
       "ThFhAjliCRUNLk85uPafU8WdMk/CFbGrGjioQX0XBMLVYdi1Ixfnb7bz1eUrq00c4GlYNyzmCc+h\n",
       "lCYnJ0wicuBUaubZdW1P2dQKnvoCmvAcVecZO71Na+e0mvuDDg2UHZgTVQxTMCTDWzrrNvfAYp5T\n",
       "+FqPw1aH52Jg6/EZy9ymNbAnjXkJiMYamVX+qgcVXaZg+ADYTkXhxxdtZaP2N7h88Q5xI6p+7Kma\n",
       "R0aVaXSndADkAzHMn1SxG30dM7BplBbmu5dZk2TqOlMQaSv8CyfI0R7FsAS+TD8lKxkNp932HiAH\n",
       "JZE9732L2EWnQ2t9IXHkDc/EDBpRf3OgAOJZ9KVnDxdj6WuJWsLyFTPs5Z4VeKMLNRWjAWk2CvR2\n",
       "NxOVPqQZFSAohF3CcfeFAMhhDkBjxUDfmVlhbYCxz45F8ySnmQhzM2OFqVpYayAV+4l5W04zqbLy\n",
       "wGusogX3AQfa0olAyvU6D7JLv3GP30A5dnvYvnE4NsYIzWvJkmZLMpirCUs0OnVWQjIFNlAEyhOY\n",
       "1ma7FSTyhc6mMP+QJU2iiHjmb5uIGbbX88HAHYS3UUrfC/6TXSzK+on4c4NNycDwOZb+NwufZYLA\n",
       "cBJDrJM6KWcWx9aWZLniUIZ3tk60oXunFhHnC+yV7DumbNgjP+Hrr04nctGSDj/cXC7HbQ7SeRid\n",
       "pDLXzw8owWcq+D5swRPlv/ekXa10U7dMG9JASJmeqst/5l9Q8FWcl1wJ2Mm1kuqAkmd8VnECvKPJ\n",
       "PBGkpvMVzaiJ35xWMnBgswvJdCp2g+Z2Ymef1Lk5hCZFtvIaZyNvvFlT2XbX6jerb1V2JMT987UA\n",
       "gYPkAVyVkyWFXe1yAa89mS542C7mUYSuQdR9F5umpUFxO7mvF1AsbwYlPaPed3B0nMOi7bPsCaml\n",
       "cOFaggsI+lADiTepTnZV02BSb2+GrK57IPBv+vAg6vAYXiUkA80ubexbqG3pClKtK0JsZJpivh0h\n",
       "77a/z3fyyZsfiEUN3pqIQfrPlQBslnX8NnoCoOAAAAlfQZrASahBbJlMFEwz//6eEAAkqQQikZ0K\n",
       "dABqVqy7WEKowKT8EtXOeFnq5Sgm4EvfIwsHjSd2OTMVOFWcAPVJRZ4DkcUniC0Nc1fLTgeJi9EH\n",
       "ZIDrGhTApKpKFCAZ0mEW+zSBCn/aASG87c93y9LFbgWOaMyhHiUTvFYOP6k0QmG+zTbxKM3FXKGE\n",
       "0LPoH5NkrBHV34zPrbe/zaRL7nmXQZo3BTVPchUoOmLngU0MCICEgexMCJFYDL64T8a0mtB/gwL3\n",
       "dzweAGVLisyMZxref0YIWGnKky5JCoFZuAvxlRjn4QAmpvUixXSKHGAA1XY15xm1YQAW4zmQNoh/\n",
       "0iOIGT9aEmvC8nwKF6+0tsI43LlSwY7u2Tj0BTfEfKypp2TvoR783RtQK/nMEVN5KHkc+jcpJLp5\n",
       "rHBhJiuKmxhxGw2VOTsMkS3YKgSW0pWNTj/7EvKpFruyqN92LFSFyE/1onnrdvhVHfllGw+zrgeb\n",
       "TThcYp++5A1Lk6gMJX/W8Im7ovjlzSLCTtHk1tGKNFabBocFKqFiIRT+w/FaqMd/4eMfS0/B/jyz\n",
       "+eVFhuY1zQ4Bj5Ti5E0CsVThxlJi4dl8BQ5z4JlrxTwmFoJ25KeCw/QWVhaU8mb0+WQBYPbwi6aV\n",
       "NAjDaew5nNQQPGLKrVMPPCUrcQvITww/De3nrxVkIJoHzH+rmP0v0WMjpUfdfKZxZKdwwyqqA+Ce\n",
       "Rw6TO6jqliSU15S4Ux2tOGpMJbNFu6uY3N8liTogvArMwQNLVgEmK4PGaMvGP+v1hC52CFraA2bQ\n",
       "CGtcEcGUC1F86OY3vXXH//t07aWfMIFlhV0Qos9mn+Z9T2RCSFcPjSn5z1xpBU1JkGNt+m/8oRf5\n",
       "70qkvLFGvbjEBLq67dF+27/pj5J9tdWidDhgzJDaY7aijikOn16dI25xurXVC9oCm2YfzZavq5KT\n",
       "iA3IbnSJT1hUe6mVSaQLesW5W+6Ky2EW2S0ogEEEtAgY3Jyv5HbgHaw3bRZ7NtmmNQisQUbsqAaM\n",
       "bOwbIeIJ+tGKNU0DCXs/SNWNDD2x7WjEfV8h+VM+Vh8llKYW4KXPM9YJ/9ItNyh/EITd3/xlsvZi\n",
       "3Pd014vflrztZkCHzo4RHpdlIVsO0S9OKHwAa/tMvXD8Zs+ipqgqNChoJQhliJanJffIc6FGzDGk\n",
       "JYwYWUIvCQ+Lkftw6nTqq651jDOod9JyrzE9aPgEypqGqF9+ETGqIG4F31WClW9M9mjCWbnotUBX\n",
       "R2Ac2icWcyTxSyicw26XKH4jE04Umd6gPLWJcxGxP8+EDALbAuAyLubFzWHGCKrnM2wDGa317Wj7\n",
       "sba4nGYhyTdzTfoMpyXx21O7jtC+KuE4r9avnJZRWKY4JB5YX/1iMt34BeIQGH0XxHyVTIFAhDbn\n",
       "cjLcjlK8ponvXKRox7I9yDs59mqZ5Q9GJsoPmJQ250h2rdaZvT4izb+YQsrvXnFjIIK/miOc9DNp\n",
       "VAMpGZfWUumKPewwEdUq+ENg0NHdTSY9ufM6Ij8cISEYpoxQP8iM88I3dIRB5bCaI3eZ1Lj140bq\n",
       "0OivSeJLZTtQkVqP3zbmz+alhbI9mm9KPNc3N9eA+tPfvTFXg4qZ+j/qqAAXb7cbaNgqN8v13lIQ\n",
       "8V6XaL5ZVT3OZMk2UlwWLRxPq8cLRFJ3JT5HqxhRjRmrZlGmiDyHLVfbNmpxRVyWceKXjPr3lTXK\n",
       "dtefrhn9fVXI3Len/mVmCfNcvinpYE8bLObeKnPkA07hcO/B9Ar89SiwhmPJZJOa2WNBG9+scX4t\n",
       "mCT9qnmnahHKNppC+WbGTaFJPrK5/SXlcuMDrWkSIGXU0x+jL4B3cj3GX3MC5j7lyB/kXjUkW45o\n",
       "lJLIfyhVoFEeJ3IRdwJsGOzN1jz1AYXQkUor6+T4I2g9UUCrIPudVCEm4coVhlV8u2ZGn3IRSVRa\n",
       "U4FHArW9/4EQEoAjUSFF1fDChQRnQP2sRnwyCThk9a6zD/sg5vRq+YI2lLIxfsh58kXd/Em4wVS2\n",
       "CfBwF+imUxvi/cod3B+iNle6mzRtfz9SW/6vm19BIeQOvDbYXfk5eBUdH7Iq7qgfh0+p7RVfqm8M\n",
       "gzuDwYc10ejZeRhgbUyEX3zloKOwy8H10yFFKUqg6p1FVGKDGeMOXGSuaz/CKs2CgZvBl3CPmTBK\n",
       "exksu5Zh7I8vrRVkJAZV6jrnrLAEH6WmSeiPEFKoa3Jx4QTrJ2OvCLX0UTV5MKGLJ1pvZ57jNES6\n",
       "bR7bKfdDvX1DS1sm9t9u+jc8jIqsiO31zRAOFsw1L2Qu1/59Ap6o56XQL1tja6LJcjtH2KdKE1FA\n",
       "YxgBdWedJ8RtwS/5BcUwm5Jvi7pl2xCcc9K8RbwFGyXl/jc73iheEeyZigmGMSLRE+ywGAQ9mDEq\n",
       "F46TVtXwBkWoNUSfzL4SBFkukkeoNrII2joNS+8/HoDxMA5x01d+mat79vpAqnfpTWeN9eUogYod\n",
       "tFGTqpFt6v9mh5vHT73Nqpce323QSJLXtiM5ogTQXN/p5wIDRKeeIsM9mZlmYzJZ9t+G0a4zbYyf\n",
       "iFn6zyGjYMHaCeo0XNuXRs4zDPFgRD9/443jy36vlTndE/ELQzLsDmFLrGScmCEsUdnYR/urzTm6\n",
       "bTJN5QdFtEbHUoO4QArHgGfjte6KknXdgNJSwP09Os7ErCvXT34tOqf/M6GbNaQV5BqSLPEp8yQ1\n",
       "MMpiwwuPE5wVJfa/jUhYXBe6d6q2pR1Usb1tFxcaLPrdoPn8RrtDsx2Khc6hh/P9ARvUXJe1nIY2\n",
       "u+aFmJwzlXxOP1MYgA1RJ7YCR6PnPscCyoxVwgznwfRqvCmgiWpWGC2hV0Rey+6RS19w17OSS72S\n",
       "d3PeicNoPQfrjnPTydweYInowDjgIizpwtPAPwAhcC2P7lsD3z/s43Akti/dxUHIWMhyWBgS8nf3\n",
       "SPsBlwivhw1Ov4ATZMHkQIKH1orbKXJkZktc3QnrjcfvCL53La/O/fZjF5GHnjoKUZz/Lgf15+aH\n",
       "0FHxUVp0CGObKI0r/971pzY1az2n/c5I8JG3s3e0nb6T1y+vEjK6E6pyUvD0oIxReQluxkeGOQd+\n",
       "ckThP2uBuYk7aGLQt7+Ymnu4CAXwSMzGwGh2x+Ny0f2dzI4XQkQf/kCN6RQfxk+LXdfUb0WZfX9/\n",
       "f5xWFq2FoYEvXQVLzESrsoIc9DIeXfH9PH29FTmVYwVm1EHQYsAAAAQzAZ7/akK/AAv1hruAM9mU\n",
       "IMVjYcfyLcfsZNVdjYqLZc6Wt+Lj7ogAALWgPOxozU/k/63N9Gsjnrpubp68ogBYAf5fXiC2MEVA\n",
       "3q7piNOxCrI/Cb0U/q0IRXPsGbGgxSxqZHW7icEQpk7txXcAd9KjEaj8yS0R6Lljg/MR+a1YZO9X\n",
       "x00L25NApW0jXv4drTjutiGYZRZ85mZ4QDrJCCiUcgJrwnKKCLCU5SE+LYCz1yBSpel5T6FEcCjW\n",
       "aXjYqJyVRPi+vtXfQquWUSpFU6VrS62iUIsp7lmjDzx0rGewILRQ1oBk0sfYdcxUJxGOjIOVfHtR\n",
       "LR1qU7EvPKRBCa7BEKWBz8Bkg4/b0c4rwB9LiH+UjclOXCdjGEWYwxABinse310ey2twTd4+ZYQX\n",
       "+KsrRY7x52vnzoX5IKNADQhFeiKdawQESKB1UT/DY1zF5cRTKmHOgQPD8jqfEuEVVdeA1Pr2ro2C\n",
       "b4HO5b48zbwphgqmos5KofZar3djuYvFZF/5oAWhJyZqC0GLGNRXWuXuPmDFlAiJmErA/5oiwcVL\n",
       "sITUvqvFd/4ouXzooLMrMY/+vnHIG3x+aBNZ3ViuRfnegzqPOxK5X6vJQ9TLzO9gGzmPJiNNi6rp\n",
       "KdjA6hPyQYuHqS/W86zy/TOd/MKnqEYWaZr/VJQcoZ6kce+/WB/AlUEnAsP4TRjBLHXjNPCw8uSC\n",
       "TEB4ffjUxKsARpKqH8K6pCd1yCRH0VSKBINf0yWbOChBYjJm02eGE/iC9zYdg/nghuFRCg3rkTpY\n",
       "dqRWkodYW7PurJJ7lMHTQyBYkw7ThrRJ6u5li6JwsYe4il42tW41xtQt+zXcJKSTkFWqx9NhtmVq\n",
       "JFm+lAtomjksYoAu1BJi7LKSZ7Xgv485yMBzTeu1BqjR0mdejF+/xHKxWFd5rgrxFmKOmZMB9nwE\n",
       "js8Jcd0jFp/WdR28QGiVOyNJhponhAxwytTMqHdH8fCvOFCO2uVmWpq9j9LFuJkql9vCmqZdiECM\n",
       "b+pYA0rfJcXTIchA5NZXhzaF4tGq8AuIxipi8njPP6lajukpwtFWTBor6RwxMQYNrjJf0VRImYtH\n",
       "mq9SaMj/6nW7a3qx7iT19udN8wBO+jQzkmWAQCtnWG0VY6LsX3W6O3I4Aa26Tn9OERVCgeh6twFS\n",
       "1hhUuDvdwCDz2tNXOBMdSObTwYv/eBF/3WAcdP1ZUCBFJVYv+2LxQnr81jMxaHAaEJQWvIhZ+sG1\n",
       "d4PmLyvacDnpmQwPu5LMU1Ru/9Hh1YGGiUgQj3XZ6z0oQm/mJHnL9lbQhIfk/RBOD0EGe1ZBXixp\n",
       "DA4JPzeVnRv92WfCfT2km39zlH+d/CIiuDPT1RI68F0Ydy+yBDRH4AafEAgzdeuR2w8FMfMqzBMU\n",
       "AJTIHlzGaFVhu+Q9QNKLnBGMYf9TJiJuMwEw064XVMaRsQAAB/pBmuFJ4QpSZTAhn/6eEAAmm0Ge\n",
       "k5rYEXq8vrYQA1aLaKahO3OdQKSmWoHyZkrY3BaSKDkQAyuKgJxxPQmdq+TDucSbasnDZpj+jSF1\n",
       "7xMV5uEYQzcUMpAzAkvD3veHM3jqQaArXf+GHGJHfZ6ch8G0idNx5qGtddFyUgZVZ7Ylw//5e2il\n",
       "zyf0ov3+aYEUOGoZFeq99nVW33S8KRfJ8rlE/+kEusvFEFWExW5yWLSv59yNL7+W9vyT2IXg0fC0\n",
       "Ctqp+rWNjOSSyx5s29SLtR9EH7zAfIxafV+xdm4lqIeJXKL7j6qj0HHxx/E8344waQrS4qSRNJXy\n",
       "eDbr09w7l2FCIZMIvSBAAgj12QTZ8/6F9coUnb06po4GMfO3i7VOvgW2RoG0dQzEpS+IYNACSnbE\n",
       "5SqyFuMFp6eJFJu28vr1/wfSoyFNXFNWkj9Kv4apfXDIluOdvcIbXtyjcTlExdLKfNn/WR4L9Mng\n",
       "OCRHOHOWTE13fN2aqHKoATgmmOxmb6Qf9Eh2+uFJGhqLpaz+S3Ug+dikXfrQA6Q+HTQ5J8RJcKrz\n",
       "jdL1Sz5gPzjwCW4V2/jAGtTsTFt2+9TmG7mD5reLnXdZWBs0LbMRzQ5CMSjZ3Remzl8zCceQEzsY\n",
       "VQ++Xy28PxD4E6r70fo5JuBVLxOnp7ORUp1+bceUcsdO0i1P1SgJFhEFyob2cHKFDpMb+QVQF1ur\n",
       "OLbXiLWFBXf8yGHAf8D7XHYNyzh/tJRRwIu4Blw5GN5x/U3kEQUubgZjMwtJNEuHSq/+MbhWlzC+\n",
       "sS8cOIkPEobn2hIYnOb7b7/4Jnzw2PGYCTEIua98hW12MUYqPSDRgOB5JjYDlj0IZt5dSSzftH8t\n",
       "upyofUSJfPIBlYdpcUlHgOOat0VeJNdht9+7/+eFuOWTUv5XFImrdx9QkCpH1Hrhc/eAW3Sso+Gh\n",
       "pHJfeNGfV0XnGxg20YGbI3qp0snM77SEHW5yb953ZUJuIiyu30IdHnnYrl/1r+ugLY+3N5mgra6n\n",
       "+6RnFpuUZ2WRH4d6+pyo30YxlINq9/MzRGYSMEbYsB9bxykxZ1J+MRbEuIgnLCb5IQZhHhlp5E7X\n",
       "w1U0lrSD769ZJ27J/fdzpIt6NlaKDV2irZi2Td6q+fLl824GuRrmmHFB6Jq9Y+hu4tnk7fnVTCdK\n",
       "xBVDtl8ftmIo1OpJfy6qd03AtjoMmVKPfJS2VwmFFKUl+ExHF0OGDglTlobcik1QCigjx1JGGqnE\n",
       "O8vh4nyJe62eW0/ibm/AB+/B0A9dQa9UL836qe/QRK7/pvT1uhCeXTB4HEaej8TlKGzp8UCio/Tz\n",
       "E7BvPFVPD4TWBX58qGDCqOlVSgz+qWTdKIrGCJZ2IsEG/gIf5uW7KffCG7gO7tnpDznwLxqea1O6\n",
       "ijfEvgRIYYx4XUhSP4/VVwFzK4qslWSlPSSVenw3411x/xMGj1nDOE9tO8a8F/q94CyvHH6oLO+H\n",
       "f2Fw49GC0q2yMw7KNJN4lQ/xE/6s2Hs+l9Pq/4X1Z9zU3BiSv6TGrhJwZC+daafPL2ZQNfHKn5ZW\n",
       "z740XUJ7yNuX3h8T//q/asO4yLipPmq3jMJkAly7CaRRo8ddhiMWHhbAESnE/ShbpXH2ABLkmq4I\n",
       "MTjB7EWW2LTt2t/nwmS8Q8Sde4XpqIms9lxGhlymDhUi9Z+mFg9G58SIe9nZbHv4brPuVZcwkTDB\n",
       "6tXQmmkNbt4wBQKvuSLKoQaIuUeZSYOXIFC8HQ5aUZmaBir3Oo7NhL+SillaSIa0WropE/mqA+hV\n",
       "L/LtICnZ0iOO5JirM3OLpKu3fEkhzhjTzKzVMvEEmaEEU15xKVPNkXR09f3WdLKPwnM2amK3draN\n",
       "cGE1E7qw3ZJRXtAnYYDljYEViSUpm4ETNxwnh35zUISjHrKpfuM2qk2TDiTnHxfVCr2py/bp6Yl3\n",
       "JSa0fwBd3Y1O6TpEWZtKjf9Yeb0blC4zykTzfrcI63B37A819kM9aTkHWTI+doBKPGWbTFnMAoTN\n",
       "UiPhD8UtdkUMKtOtrrBVsttutL3xJ//Ll8kJwLM7wNBkka/hYJAWkjdFaixx1u5xKwUUyeWE0OZ+\n",
       "3DELd7M4BJhz0z4l3/qH/Ha+Zt+G3reuNI0kgxVjDieXbsT2Jy6aD0ACV4FRmUQON4x+hENVuhZU\n",
       "cikNgwNPusKE1bbI02n4SrSO7xAfDeCjOuFN1f2GMthT8AwHEKipn+eIygg8uVgndqcQz7ign/2g\n",
       "AQTb/Za2MjcAInFr/eNBsSLuFmhM5BDowZqiS7aFzqrW/u1Ecx4Klcb+wTvZNH9Zgk0t365Mvq1s\n",
       "aIriAnWYaIMDPvPaHeMZX+bK2KDCeeFLbTTZknAgbUHVu/R9RWEMFkUzIg1eFeV2M7EaiJiVYM7s\n",
       "vhyFO4HBaaJ0vMF5Gqj8xm7A0OwSF3h2dgqhnHJsJlfiOV+JK7Kl+1A6XzGj3qCVmOdeMZGLZhCE\n",
       "9s9WKUiaSXrABw/A3kPw/pYdREVlRl0+kvvPciSYgXLfhpwIWW8Hqof/1rvABd9462KeGN/S06bR\n",
       "fhr1DrFLGQmJKN5b3bgpo7RXb3WtC0AtUF0aIzPokKIjEAHnPuDi2kIABMG49XBptQsIXSFeo6Sa\n",
       "0AKFJA3RoHhW3GsVDPimdK41ds6pWDhaTU3qS/gDn/dlWRLe4FYWiglrZf20bAH2E2gjDnVTzJ1i\n",
       "I02DksfFb1SmhQRiHXj+iEIsyFYVIlIUsv9uwAAABxNBmwJJ4Q6JlMCGf/6eEABLvixMGhy4H79t\n",
       "kgDo4PBTUpQWqOPWKIlSm1ye3bjH6d8b/XSmsVawSUZZYH1WT/VbEiqFr2lXGIHkl0Jwxn1L1l5y\n",
       "kcSIq/ATepQhV5q1vNIH6rQtKM6C6IAMAUZM5OxhYci6Om+aEdxj9JswKEgihLUg04drs9m8fvOX\n",
       "qt4afvbIxVNCs8BxVet7Ubcos6t7t28V7gGs42I5WMP9lB4UtOTa6Gqtd88uVqb+IIkxuRlmU3AT\n",
       "GT+/UgrputxYas+PMwoJIKZoxqvFfIRDh42GVyA+R3jVjNKiqmVBa1uABLz1NTAk4aSWjGO2ft9+\n",
       "ZfcXyi3/L3Zip5IucaZoor8Z9kqQeAQybGy5W1kQaDbSavOk9AC6wbDTE7rv68dZFbMLoVWiXl4r\n",
       "5lLxVqkn/Wu3+E2vPnntuFwD5EZpHaA1pdHgexsJYCafUZELUzDAmA8ym8CJi7ulfUJtASg3WuaL\n",
       "xpCzH9xyzZL4HgO2d//ne+XsHtGt+5kktjWF/fGwqtpWGJaAj3TseruRKiPoXD5X24c3BO/sMOgL\n",
       "nmAwcXO3zDLIpLq/8N0bm1+1OwIO7zq/qRw2R4HNRnyseHYMcBe3H8Y1YxOXvXSzxhB16WvouokZ\n",
       "lb69U8pltxS2nttLEFNPCqUpcesUjG/1RCyJktauLajNMsYOY7HYGEt3P4Dj5KqGAUdtACR6QygG\n",
       "ipnQFidjoJWcHJhLrdSzybrANeepEiCkZkZaSiiRTRuCxqAEx5qlNmihMQdcH+sIri2seFqtgPn/\n",
       "KVfQLqgd/tntP+AN8Z4pG83RG8c5IrXZsS2c3KOO+IWuG3HNy86K3unTpRaonb6tk3lup70f7tc4\n",
       "4kgJv/lBTgeUKQD5+XMD3gXjPO1fJdGD5trF5RHF/PBp+iUDRAK+KuDq6MqjPS1ZXd9QeH7fU0xx\n",
       "F+SFqAxBLaxkNYR8g6qpq9aDzElHGFsoiCLfQWOUqVtcEGVqRXB6hoxr7lZcsn6GsatVWGPjv2/1\n",
       "8icWCgNRZziUpQAcg/xjCPjkfNzJHmudtASOP+JYyZtZM6LaEnLBur6HX6KKcLbp8RfAZ6bV3CYO\n",
       "SU+v3DXINbdG1ITKA3VAuxNo79VWqlj9iI5qWneNvIUUp3WUFG/EYYa5Gh1RYsKhgCsE1GNKP6yw\n",
       "0KTWSg3C9v3JRrT/xDBxWB0MDXvA8XZaZSKCb196an9XLG/50SQyWcwVQvbL7/8IkoH0O7UeNQgk\n",
       "gFaLZMijj23L+1oZ5s2SQvNhK+JOhkufA6y2eqcNMpuFIEWaXQsasI4ANScygiiUqp0iJiwclICv\n",
       "M8asOhrbWS4h4NBT/CeCdOj9KcVevd8kSDMaZQbZMgRa6QcQTkAn/BW/FRmvGdPZ9QoVMIUtaC1A\n",
       "lwjlsIvjP3YIwab6eUxehRSLahGL+s/u/ysfAWc2VbBgQXm5AEADNED5SHCEIggQxmQNnXSCtL5L\n",
       "rYpt/yTQtnru3ZWHV7jmPaM2Y8XkogapM+BXNEIY0Ufm233tx+A9PacRplQtitXj5aLvxpMiA/H4\n",
       "h1fBpRMkM6+8hVPD3BKxH4Md8ditmW/9YlWde8u0S/alRRbEQKf6PPtDTvYwlKCFHBl869UeL4GI\n",
       "lNkmOAJNfw47bnbE5QMpGGUf9vAe72SqcHXlMEyAx1kUbfLZCKtqrUPv9nyCSN53dK3dRq8eCXnc\n",
       "//9iHuLKN6vETuw1Vv7E3HsYfVJ3boRMPSCmL+qlORfMNzTcib3phGhrmv+LIFj2bA3BNgUkT8fx\n",
       "BybOfD2KQHcRZ4KsZdjY+B98hjDG1KQqo5r3wAjnsQWbsZ767GH2ga0hCEI5aDsxjIoeGtxtCiQH\n",
       "dRbaBk7n0gA8LMnNG0yRRvorOWmFbLtnUVMnhUSYZjicT1KEVg/ZHNlq1WF8AZhyYrn5+IJiFkFU\n",
       "UVXugR0xHPWVFvh9NuJMrdCbeccsfGbpa0GXScQkUChN0xHjieHmDM6AULFy2Y05+C3TRSgqzFUP\n",
       "bcn+5lHp5eXLQTxPlPcAuxJX/QKa4V4Pw8rNspDjKV/O2ubLOFWVFD5edMHAXpSizqXq9hl+T0Ui\n",
       "Pc5TFJdQQm9uqR0eGGlWRmBinBIfy5UPNdvSGr6q+6315bUc6oGP21GNcqLY5ET6gkvzSoOPV2D8\n",
       "bkpOqi5xKZoieiKUAS4MmHxxCKRdpC4LYkNTwkwJElRQHLbEnpWh/E3LnAZlkxY2wFubB2awTW0r\n",
       "a/i52L481/x20oa1PtfrpyhWS8fHkBMGr4vE3EUm3TkpjHjl9epnlN3d019OWUd+WF7guj1R94CM\n",
       "vosRn7r3Y5+SYL2vxYEVqsibviWwUUH+K0Ml8h1SHIJmFF7QP2qVXoIbRCPUiNEN3s2X1v6wbgWz\n",
       "ZvOo8DZRCkZeWNfhM+D+xKxjvwAABoRBmyNJ4Q8mUwIb//6nhAAJ83h7EAVsAEyjQv7KAn0x2LIo\n",
       "73qtZiiXI350yLKB+8KQSIxsGWHi7gPQ84o45skbrtel4NwbHoFSkQRRPwm2KSMvaTMfcXFwD0XF\n",
       "857lhWR3IBepF4SD6Y+O19GdZ7w/auKh14Q2g25gki7K+jPNyzKs50LIfElDR/mf6JFfQAy1LcBt\n",
       "a/Lvu7OKNiysb7IpsgEXjYykVzodScGsfXM3Y5Ls0uht+/5OcpIisiNwyAIeqsLnf8mo2wMA4/6T\n",
       "MNIjgv4/UaZdO3JT8hkILxN8865Ojp5nHWRcPfw4Q8b3Cbh8ruQs88c69+szt9xuUZuSm4mh4kPw\n",
       "HWhX7oj4Jh/gjq7IdmU196+ITs+ft07WgPDaBQkAry0ArBo7IAwhjtnLURdINnA6tD3QbKXb5y00\n",
       "NcxkuDIIMWy/4ZXAmWsNmsEAWTQgRWzwHMOe8RDRs9sAUG7OTPCzSr4EZ0U5r3tNtuZ/rqYSD06h\n",
       "CfO76N8gmYfqfLhZANV9slDYB4ik+wDXLghZffnAOj3euKTMdRypsSVwFoeeNj2LWnVlW0surdn9\n",
       "k14yjHeo2oVD7Cd0zchgGeACvPSsmpFAMN/CP29Yr3gDsaRnzJaZE+Q/+P+Wkmt2OrFoMrg5RJ0X\n",
       "jlz4yvAROyAzEyG+/mw6LYnV+j2ePopHDJPT0WmMZr5fPr4YJyxZIyR6i+DLNiJdWYQ8Lda+Ru/x\n",
       "ImhtlzumCUuem4yZHAScdBc//lejiEQqr5YtsBOFAjhtD3OxUBKswzsQHoJ0EBAIzB6eenyFvMSK\n",
       "3iUFuurOzXOLZH9mD8ZHYJhrorE4NNER+sA6hPgC+1xgsORiEGGEd88U96DPoYEptXLKSpX/oQ+6\n",
       "3u9fXf1n0OOgd+ZW1STGJ4ratx68tTXDBIzhyxQq+B6GzEnpU6t9gdzN/NnjUPlHe+d4B6bQMaka\n",
       "hyWa6bIiODHkeMNxd1GyK/6ySXZx49M1KPGhAun78Bf2vkd4c6COCBMpl7NaUYAKw67CFFFxvzRL\n",
       "uoM8rRoJ7MAObYGDuR54C/KNsNbyZpEEv/wmf7vE1DAZmoKEHbHysdTnb1Q7vIvdaKUrZBkSWrBv\n",
       "Oz6rW1QfmjiJSYwj9vm60HxnQ9iEPw3qvTvY4mEPfKf3LhT6+5bL5Unq90vHwx6lOcikAdfe2pxy\n",
       "hfsRuyQQCFGxtcLyM56h1n+9Hk9wyqKo1kmtwmyK43RX4HWTY7jMDS605azjR8j8BLc7RL7w07on\n",
       "W4jWD7VJ5nlpjvqG8g4woK/MOSi/1qT7weLqRgfIApyitTgr+L7n6vMJX++CRKvgN/sDrTpcg2wy\n",
       "yywRRk2Qryr5/MAYSfZPkzZ430WOIGu3CTRSJGHkWVF0fZX/QomgSJV2tushCdLs8ItxhrNsIG2A\n",
       "oxrHtAoIOnmOEZ/tsRvKc6yUX0JjyzP6v/KBqIJhsPwBdgdTrraAHk+48cZvkMSnUK7jj3OMS5TX\n",
       "j0tCrfn4uMWP/mBZqssnq9oaKMoZG4l1zO4KeTuB6sHT7RvX9rFIUQi/hW+ztpQN/CBa9LJTBo2E\n",
       "rnGc4YJEwPeNV3CmNS2u/8+jTJgPxMuPJXhgCs4WZjRZqRTjMo4JTBVP4uHPh9NcPX6nzPKnVCZw\n",
       "GSW3krnSA6MSzVbhZanITcR1eNqjzqTZcpR4NaLGAlqQqLvOBi3OpDYFIcrKa/nQB6gGhFv+AAxy\n",
       "kPIE6wN/Z3plgS5RN4JK9T/qAl8G2fwtYW2sQuoTDnnO6q7V+I1DnbSPUJdyhx3+qUggndgnQ9RS\n",
       "tNsfvvP/+MF5v1/kGKJeXIfHFyfbU09D2/9UOeI/6hr75G7nHqF2fu+yZL16wKhYTb/4yCRd8orY\n",
       "SkcgJqsk2U+DGYygaDRMpbhUyfDkR/OmIkPTcalvBU5nuLlJSJsdebbyA3vWhpj7WVkTK7fqkQ9g\n",
       "4J5pXIT5eJcspgXyuhp/Mscltj2K48OEM1tJ2uROOGWBN5yuBqJRr/hCH2jVcFkv5Mvq5GHskGXN\n",
       "g89gnOXT6XQOlNPqMvzeZDI84o+b44TELfFp1ovHyizA50+GQZm9nW7e0Cpma6s5cJRFYyBbLvQL\n",
       "KKy3v7RevZdqL/7dM+hMd7p4taYi6vyPrRw2EttkpjKjIKghsidLyHazPBLr/9zchu2bBuIi5aJY\n",
       "/MrWxP3vTeQnlDOPbARsD/rp8lmxTo1gpy/DzamYB89GTAUm2NsAAAb7QZtESeEPJlMCG//+p4QA\n",
       "Ce6vQAFcEBhRc4tB1nLLZT4ur18smOB13fcH1yzUBSz56AUUiIdKDRKhZUqpOJs6p5ROLx+eGNH3\n",
       "rH+IXTTk//TtssQeuOgxKjCLikp8bGQRW/luhl7M2dU2aTB4fOUr6O8q9Fbp8HBMoQk+xTROqlRp\n",
       "dYjBIe5KYUCdO35CBjdyvhjSXrI82Pg8GqQjOsAzFyhETknYfMk5kcGrkMRBs8JZKuTNGqLSTi2R\n",
       "gJs5dMP/44XABwZ1+R4iAGiB11H75djzlgvX5eR1ylYmCFTLFM0Df3aFnE9HS22abo/juRZVXFxt\n",
       "j92KJ29SxdCl328ql49Dyu/gWCo5CgrieQaghLIqUG0UXu9L4R3yg4P5AUtIzeeTr/qcImLc8fd/\n",
       "JH0cHIxHFxbhj/8j3qqQQin6gh6xnP8QZUZR0Mwp8Bsxl7qnp/G7h8ng+lbh1itipSa9JK5fkbCs\n",
       "xH3F0XwXBIRh9rCFJYprpGe/P7qhp259MXHY+ULJ9s0VxRss2kGeG7f1gz5Bws79Xu8g3tnpNoQF\n",
       "yjsCg71vcupsD1b89Die6OdR2YMGSSWFvkspgnSfv4wOnv44thm3RoURYsK18mJmU4Ie2rKYamZR\n",
       "Cu1Y1jfFTjQYYLeYrc+ldDRtIZdqhTmh4LJZOlGMrtNvXSpsEvqenvqxut2JNyrqHpBhJtQvpYY7\n",
       "wv3UysLkPfq5bmwnHNnFhQO4dhqmboMH1gwr6ybeXQcgHlS073iUxrSJ14bJd3d3IlZbGpiViG7M\n",
       "38YVi75eMN8/RgORMK3UnNORfsSsHvdokh5paLOmz6CrMcmSw/HhvnsqjH7KoKjLjbsrv+TrnsS6\n",
       "rNXOkK6FWj+dCy8i1oSqzfZCC+VHqST7GV+hb/OLQkiQVfGEKaDXraEGNJ8us1Ce0XRW0UBQvL4I\n",
       "PLHgJFyELBrr6AeAefLp18VLCemx1FaNk+W9TE58uV2eTChuWt2zjVVx7azm9lA2Usvh3ILjTD55\n",
       "twiQ3lXwvvSK0K0KAbXnhycDCGvuXt2f8GTIIgNRpgV3eb3KGzmjNURP80N8DvbrOjvtWP/JscgS\n",
       "h5K1NLxJAar/2JIoxX3GbKtHxS90GGSTwlr1gdGefYpvf80xr++K/r4GdnYbJxCamGZLakzBg9Rc\n",
       "HBdvNoCNpr4EBsDYsxaJchmKABmv2vedjVuLMZhOUw0b+01fD89cEeph9oSTITKDLsQOiB+O8XHB\n",
       "d9cL5I1bYzbjg/LgED7zLbpSXura/jS85M+ojmFooTULou3I3pBuSi2NGCEKoskP9/MXZubnT9A9\n",
       "jUqIDf072V7cFeZVJsdJVQXl+mgjBjl8RzHPEyeBdvIT/9RphacmM4seZDCqI3/B+tHGI7XC/7Ym\n",
       "lzgnPSs2wkYFwW59rED+vmT5IMoUXHVINGx+CuOuSAenFanmXURWEeL0l42CajDGea/tRlNZzDC/\n",
       "fi5OYPCufNQzEWfl8KkegNgyhJ3n3CL3frMXAs9nvLHuIxksF9Ef0AS7bvG0hAXhNQPblPhpMskQ\n",
       "vPSDXCHNWVnmAfTJvF4aRwhlPg6i/PpdgYXkSdKW/t3C1JwHcbiyjxCmHwNwnSzQ5OePi9TH+z32\n",
       "qFIoHwaTvBBqX7HJCeaoakzMZekVYdc5fe/8G81DWGPnuDSBOidgNu9CK8DJzttkBdFexY5tJd1T\n",
       "5/6YHtpnzwPKI5aduoTifoKl8DSRXBpy5X37lfbdpPGEqc1goaK8kMHS13WLJJdH4LPlJ9JmWy3x\n",
       "8AxEuLXSgsmBVHRegjcxdgw0nF0W89Kg4UkzuG1RJK9faQQ5RYa5sywik1Ja/p89ouiaRdyzascV\n",
       "BBU3L4SAyxAk3EbVUf0QGtRWT/GBFB/G/x3wTqTjZop2OrrLC+9Jal3AEQmZUBh9La2jUJrLa+eJ\n",
       "Uz54lHVhA83nlQbwul4auIRVYtjZOho7sVbBFOGe+qnouQ33DAHndYUsAZ42H4iUUZ61o1gyMXc8\n",
       "i6kdvLHjewKw+Kg0gA7YkcSGs+AC6+Hz1MzUbKvNrOFFtonPZ7CN3Zjakjkw+OZ4/AScgMoPV/pu\n",
       "jnDbuQFPRaAGiUureAFvUyjAR7ZS7HZKdqygvyp2tUlsQ2qM1uZ8t1Pc7ehabuFW2IKbpeg3imft\n",
       "wgtMYw5rOSZ41v3ebaHqZBYBR1K/gaNRDDEdHJEYFtJBLAesaHmE2aw9qob0uEs0SOTGRteK/slL\n",
       "6RWlz1DmnRsw9rNF7b////Ze4UPuxFFBCuAYYx90x7UbZdxJMj6cRx2rjUCuAfAmjnP5pqh8gWff\n",
       "hG+77w8Hz8TvVG8v6Y/Y69w0O5lFtzqLY1iPUEK/JTCqbDiYrnwOI+lxXhz9L4UHTi5FRWXBIKVW\n",
       "smQacIEAAAeFQZtlSeEPJlMCHf/+qZYABAC4FFZd2Dd8Lx32ySXBBz4avAPzlL1UfMsbCzwiOhM0\n",
       "fUhC+X+qmbp674pWsCrKwqa0j/8QA2Ow/o/AllfUN7J0aZQk1kreC+T/BF+utg+fdIsGnixdzLbz\n",
       "SLdLV/EHoU3oZYcHP0g7fYY0vRFOjueOjLIl3XoScXni6GRnymfppi3GMDT4qv2oBeeZdnbLAn3l\n",
       "noMC5nauUSv0q8e1qwQWM9/avNnWMaTVk2iC6IUZN1jSDojnMAEdXesmminMPnhMT31/dxpsG3Iy\n",
       "75MnnPTrTd6WFxn8Ro3stiT9j38aFqoDFeaNIxZW0eH5IgcSoqEOxbZTU9vC+IbdZF9FuDCXRWCI\n",
       "U4Sw9hgkgn8xxuEZiw/TVdc+ky0YoGu2r/OmmsXITJzHvtro+vR25aKUYLkEi5ELBcxHZGvpyZL/\n",
       "sAoeyfloEfFu+b40UFurJVrOu+AE4zHwJRXluzhWT7hpl9M2fd4WBUIFvNFz+C5VcI5QbbfRXjLi\n",
       "CmDz36VIv7pj8auDP++pqrDZWYH3nDBGDEbZkDV7BHV+6+zfhxSFqOIHGTSRk1p8/fsUK/0Q3+yr\n",
       "zWmIfyowGPvTubeAjOrBIm0Uf944YBEX8yV/SR6oq3A884JcMd3hekmJYHAyRapVp2MCQixo3uVS\n",
       "J2d5qQIRhsRslWFcMFzOvuRuAfLwMsXps9ikyvjzeMSby/2S65VJEMO+dPEyoOF4TLbT7dGMrV+Z\n",
       "gT9kwVUMtXgFB/Ck5Xt9eu+e4sz81PCq/q7jm0kXQXhUwCIoJZ9z/hzSlTaLjt86STd1SspJNse2\n",
       "fGcIBye8HenhSDdrE5BNTAENkkpNUX2UcilasYHdEmTAT6vziH5gFgJTtKizHMPofEaSU2dk2/Jb\n",
       "6Jokqp7kipKpaoQK6Cm/khZTNnqeqnMKP7YcXpOA41UnNclu7NeNtWgXZr8gaXWDJZMo8AEbs0U4\n",
       "HYTYt18v9gUlzc+u487VaO/PGqjBOrEAJEcOQjdKHyO75oEHMdCU2pSH9sCpHnHz2u4eHvm2yMBs\n",
       "n6zUrppVAE/AQbbnHZdNODmBqQ9EgNoZ7StOqlVmTC+f/A1qAlw62F3+bUdWL3tdx/pdgOQ1kbKB\n",
       "SnW9gokvRkqEIuAXaJmEPxMMB9+6S8ZueqhxJoipsI5pjqxyjWl4iw0InbBmD632NL08AK3l8+tW\n",
       "vYlqyyD7ATvLsADhOqficYGAdt1Dz27PAu1XsT2+ZFGS4zgY+d6/gW+2ZqZLE/oGVK8UKbT5xayG\n",
       "Z6HOwmajq24baBTZYrVYEPF7yzfbEAWYEsX0iCcloKAtzVZLUWxvU4mSU40Cg3uGLWp07q6V+biF\n",
       "rmBcs8Tt1ts+WI5XdLBZk7DyktsaLKNy2R4vzXz4N42CAqu20fI85AGbu5jiRyudzNgFdCmkphxk\n",
       "W1LnveMjBSbw3uJd1kWJ7ZZh98pMJHDySvymzAsU3Pk6rMb0d/OZ7ocJ1Mg85zML+4JKB8dvMfIj\n",
       "OYTgerPGjnx4dErz7v/5WrqNpqN2TXc1B4oxxb44847YKrk5qPoqm2z1ue7UnwEDMn7fO8f+IrKS\n",
       "H+zkIdjZ/JWsW+npXp8gf+EBWmHxR+VeVAHFsFut1RdEIitQFvCCF2O3UZ3oANo21yOl9MMplkbL\n",
       "0JqdGdPbZIxo0WdjDzzcJdFFo4krlO7aU4RbVamvQ6cmBggnJLfNnzkaU4N24lN8vm7RuVhD1Vcd\n",
       "MoK1miEy+HT0ahw0VjUsb4WOY4z6S+JCMx8S2RF+FaA57Gcrqm7lq7k5zguy5VchL/tqC7jsYLv4\n",
       "XD3G0v12xiQEiPlsLHbcLcb147OtNTWykgCliDeixJ7Z6QEU6U0I4DuCmTG8cXg58jGV2hT2Cucc\n",
       "qT/6YPlCLK6bhbFxZFIigqix68ut7ZTpfw6pj8Xc7+cmYFxViNlWT8Na1YHJsLzPzhj6RMj5QysY\n",
       "98NLK3Xhx3fVNZ7AProtV7nqTugX53ue77goisPoC0AchNVINYJReY9xi1F6C83WGovbV3Z3eV0G\n",
       "UFARQSGlg4p/DYksZYmvbRsO4koggTlUaSHtGks2MroVHbSvgsuMNIrBzq5mgdA6KWLe07lWXZYF\n",
       "8PG+8ORuGfB4pH/QlKZcl30sJ2KBY7jr1tebM0m/KHtVH8GLT+Ly/fY42G5wCqeNQd/nwLFG6vBN\n",
       "A4XTHi21rKzD9KEZ4SVBpYouyBxIZwejSncuX5Eza3uECrPaiTrJEzY5N50wHjQ0nY4K4ktb0HA+\n",
       "69OQCykrvDU1gxcsCd969BxItJBgn6vihKvEM1UEyJV1M0HU2Iu9KoKVhc/G+TAAhz2nAZkAByX8\n",
       "/DutH6VWZoBVhKtlcnGQmeKW1rsmyDizgrOEMcweBKfMCh5Mz1ztjfeu+WkjoyVNlMVCV4MHHEwc\n",
       "DA212Awn4HwRRRgYi7xxmd9ed+ouk7r+F1Endm3/e2ASjoi5IdOvKyxtx29EVTnGwqq+yt+jqfe/\n",
       "VDPDiK5F/gHQp/jvnOLkelcAuCeZzxRSEmv9W6fiF26STLbokbo0tFhbW2ymHdPqZn2btJEAAAt9\n",
       "QZuHSeEPJlMFETw7//6plgAFAu/t9a0IFQAjK47bYP0dBIPOv4Hq/Seb7ndMlHzPuFyjqQ0jke4S\n",
       "TUfUG8cXmgIHFxdOue7+2Je4Y4wBd+aQ08sb0On/8KpiNWJZwZD1uC2BdBppBU8oZvzKSVLsg5WO\n",
       "+9SGyGvJXtPIcMYmWqhCH4KSXd4RmicmVCSIb9W8/j0YLMGyagQ7xUsZ4vYF7FjH6eyGjs/aAttV\n",
       "D1lJMF3s2dmyOLqPuANINdAi3LmCm1uk/raHDj043BSNpRDMXXRKRFb6EtRTVnovY6pO6u5aiz4X\n",
       "2ct+5pcztSJ3XAbN1f+Qr9wzNkohnxgb6/ZAiCGIWRViv8ovpf2kzJu+/yusPQ50igNJGUbL7h9x\n",
       "8ee4NleMtOIzhdqCKoomC8nZe2YE9mNw94uCcm/Eb7ARNIIotu4MdBblkjhVqLNSGyH4lXbptAHz\n",
       "OA0t4ux4535VXXPqeZHIq0hFnKO7luGxJHOShsgeUTazrHLZ5ZFnoPJHjB0t1ZIJTdmOdg2XrBuE\n",
       "HA3mAj0SGKGOc1kwCu/QWituEE6xcnGk6KEyzzcLCAjKctMzKoGssFuLhoC2dL9VoTMEw3ueyis4\n",
       "nrJYxd5cLb3BVyzaPwupNh1TmA1knh18l71xNKjOi7dveI1PjE6qPuw05Vy0XOiWiLO1zAJIiSuS\n",
       "WS2AlAgX4HOYn+am3uc6APEql3yn2F2gwPKNQM/Wsg1b4YEfwqmbS4v1P2aoNA2+e2U/SEZ/YV8T\n",
       "COaYVa+jqxjI8TcMnmYPKDm5SCtRMp8YxJWbmMNTrv2n5R1mD7bDy7NzsIhF/iUxQLQOJ3mOrr8E\n",
       "AYzRTkZ1caDJAl4papmWiMD+N6ihDTTgKyYsPWUyD18SLi5p0c7uFtZO9/vrqLv+qL0G6T2ZfkB8\n",
       "M14T59VsJBc7r8LoZuLpJli/2bGiXF7vx2u46OhL2W1fjJrrhZQpT6C8WPh7txktIk4Y6zrb3CJJ\n",
       "T46ahzJZRBxGvgjSTmCBjeyUBcSatxIWxTgzhnhT9zmy8XCDDWRgY6GKevmsW6oKMvJS+tUusliX\n",
       "rTHDU6vSirp/mMNpRv2vSB01mtgA5zwIsSINUMVFIMt96oOls7W01GyBf6NYgGHEj5NNvVuWAyrh\n",
       "dTPB6cVr12UhfSFlfPWqF9Q2/ANRHdwCnBqlJCBwgb6oR+xgJXb1WFLvPa5TafBwKdHlsY5OVYtz\n",
       "1dn0B1hVaovMATYI0mAUhofAAeYV7k8vPHwE79CR0o3I0PKbIx8Jzd3a30Jse+g3D+BE1XesLJSm\n",
       "O8+s+4ur72xG5VR6CrW5yUDRfkrO6330oWcsvuogK5Qlk+NaNgnIBgiRaKGUcE7cpxLaiQYJUEjq\n",
       "cVEAgvgkTyCOnPOMDxIK69lSQeJEP5RZIfonfkGMyQakWfNvceG/n4S2g46pxBJiO0ZSEHBzgtDW\n",
       "ohFWhvUQgy1kwBrVAzTi2XGAvPJTSX3mEmkCvT/O8qy71VLDyj1AQH8YqJFUfzx+2PrG7vhWtPTa\n",
       "v+nGK/ZnhcgsxjFdrSxAez4ApfKjaRmuWgQkapodaLF3VcgX7l9YmqInwxRpmwj6n86AEe6xW6Q4\n",
       "27+69mBIGTxrNSHKdlwGaS50/7Py8SdI5T2onmPQq6b57etzjHQVHDsS5C9ikJwHvU0IHacPG8mp\n",
       "Q/ePc0HgarXEVNGjp71q88Lha2EHW7+Zi6Q7mppZWJxT5AwB282GCQM0bg1s9HWQJvmGtmVt3fT8\n",
       "0Nz1YynUjjmtNO2H3UvSQ/gLNx4hY1AUsnwrdiTYS8Oi7iuXwEOKyRV43ImMJsAgcY6eh/uRa4na\n",
       "ql2AkO0ezx5vAPhF6hCFG8qmLPJgNF65OAy20speIasjHOqDB8d9c+MQ9bdl0NAhaiVOa4tro5ll\n",
       "11Z2oEnEdU0AsrazjT0ckic4v2bT+yO1EweXcATFN+XHuK00Dui2aPHBiG7m9wq69MIiTgnosGP+\n",
       "uSe+1NSVNQo29MwdTxPyCG70T7wsEdnDol1ADltV689aqm4tLdQGJ4pr4GbBJA6wD8H30ogiECNi\n",
       "pHV8ZOjGJaSA7ErWN9IsgQZUlxWOii5Nl8HPvCiy4iz2B0A4+CTwacqEHPVnR8ijUfix5mhBckxO\n",
       "oe7elNsz5bf95r4tczWUEzqOsf7APbrVpWGOy73/qnNc4Ngjgk5SlquIKERhBqByayfBx18sTQeV\n",
       "LTKoyZ7LshV+5jETplnVdpeoB/syEAQ6sFR1mSYoJLnP5dp9UnP1SUBAfJK/9y3DjwQEdjK2oYIm\n",
       "Ws67tPC4VoVDYND2kMneNH/lqwkkaFWU5UgcZyVop77MkzIlAgPcOTG8+f//bkN000y6MJFv8+u8\n",
       "hptiJtOKBoYA9OulFnCCo3WfegXVxuNEFmnPTfKJOp9lJb614uUjfnEMAq0aZWzTXqfxrpdoXgXX\n",
       "Y57h+yXPvfJzOU2U3i5iw+B+nlUfLMmNijTYNFUiep6q1bnwwyI7m84/hnpMnGhqE1998uvfIGOA\n",
       "HOw6rOwgliT2Ei72CSnxe//xKLVi3iwJ1nyvIzFwbm8o6lYt6zfQyWHejlXJnO18kP3TdyeGnotD\n",
       "FvaekiWc0Ed9Pc1okn5jTp9WFH/dPSNcK389pisygCjdcaxQlUBq2RMe9fZcl22P/75jaAzT/iiL\n",
       "Mdj8f0KW4Ezt8rcwPccO78m72YplzfXwZyvBeGvbwSLosyhjStSLYRlK7sv7h7XjI2QqmTmqQKIW\n",
       "5NoeAg559M3e05OdyITH8sEh5C7OBOnDAT7SfjwY4vE9fXeD+RVLTLpsdfNdoMZkEfD8QMU8hMwJ\n",
       "y5DBBybbJvn8j7CPlJCimz4iEYQW6kZpZptxGvGLFTaJZ4jYcJJJVnw1K7ABKHoGDlOdonlWR6hQ\n",
       "LNUFyUHyu+GK1ySfTDs79QhOzRDhqrAoB/CEBVZTzghRPYR4imPDCDKiJGmERB640Q9Xs2KEq7fv\n",
       "P6TZ2uwlCtVBenL6McHFw/5nCiCvjDwPOgUtMvPpDp+eRXhTTLA8XsmE67poIriR6e5wQjda/7Br\n",
       "z+ITYFVRtJLmRLV9BHwxxrN2zegTBFQrSIjEIa5Vez8tETfMwInt66GgcErPPR56gKY/QT5G1lHY\n",
       "KCl6DHiSL5y/PtTXyBu4Y27YIhRV9GqSwKQD9NMaBKBUEXtyLDJfniXsBIJNHVTHlWNopHpypOCj\n",
       "PecEs7fKFr9/aINOMSrDViYZRoeM0dy1w7RxifVLZFOVVkRaSGXLZCmFmoHf91LhZOc3ftiYuplI\n",
       "v3SsVXDm8GNOeKSvwkvjJ0ZzDEVppvtoiUqRqfmTkN1UboaRk9ChuQqtWKrGmhtSmYGOqFOfOG7M\n",
       "2OpLty9KFG2JU5IybgzNoB+rXoCbMyORNo3RujoOZGs03bA7/cwWIblf7xZw7q71Z+STAMUkiNI2\n",
       "OGClRc0/KTImgaLEH7wsaT7IdLxV8G+3N54KFmrHTSAfdcUvD3u48h1rIsSSwMuGeVF36QeE+C+2\n",
       "loWfQKleNxduLJEoD9FSJT4VxcOUR5W1o6J/T66tLX4XN/1FpoAg1QgIMCIuIeU/TbjF7+lnwJq7\n",
       "mIyQvHt63uJSWyjIE2LNVslInI4jyFRD7c+lOUsmt2GRywt9SKP3qe0X9/9qYPr7z67zqKRSk/9+\n",
       "V2PhCHTOvDVbCvAHg8j0ZyRRgpnnRHnZPlzav/1VemDz33/N15c3SZ1fMalwgh48nMjPVGT15Xg/\n",
       "0rvlPQx4FTP/sUjbeaYO++TLhIRFXuO4MYHuP4hvh4ibceQ4ucWOjGB0+u/cugxBhVwbMxJp7ZtG\n",
       "tnWiTrnrkLWseqc8xVE0I1eBkFwNUkKkhXEZE83AQ/iddCulUGkWZ7soQEgfRdhNvSCJCkkGiAmF\n",
       "XcizApUDLh60RH4oxGdWGnDBUWzJQ7FBLVSS5FySTkBRYQAAArkBn6ZqQr8AFiarKAVOkXSrNDdJ\n",
       "u5qZcaAFofYaAtxaQjvKE+b3jSFspQqGqjo354dCIHTi/sKWSrr6OgkJrkcrLH/eh65SZN/n475+\n",
       "E/7IlM2EM+TMN1rPwyqNGG8rLHWAZfgQgAlNK8wA/rktZWcqlz5RU5yuM02bINel0jKdLjPhEQbQ\n",
       "YZvbLAL0wx9m8Ls4FNHGSqa3fWvUtLzU/RC1gfoY5DBZSCzsxEJo9tNkUIADNGI27gRgsjlbjwAe\n",
       "Ju3/n22/chpX0lGHMzLqp9N+xYJyD4GKvkhpq2hZzAOWHv4SUPUzsACpy8OhcqsRZT7740AvYAMB\n",
       "3QlQvvdSkE17jMJf+B2E+LFWCb32LfKmQkiBG8zgRhN4NqQgnn+1Q7HgN+toyax7JGIBEkMu7y+N\n",
       "5I47noOGMZ+cX4Xq4rqaMn4mT0SnSu8VVnIZCtOHgbkL6tLngTS0QLsrUDqn1WHYkaaaEbMZZw7S\n",
       "1QpNvh5u4FGAi8iVJ7A+am0JHWpKmLrFE+eJaeCl7kiWozjgizMt14YLzrooBwiRuwQuBestU8P3\n",
       "RnSRm+qfi+6KV4tUKDGE1x9Zm4wmevVtgHdOVWhwZHb2cAlcLcO82pGYV1MPKQ1QJ4xgGQcgn1Eu\n",
       "oBkHRZ1PEYtPjAlC7iNGNL40jSkruCLcvj0tvpin9/Mp4X2vh7dU46DdiWbYGUGl/x9ipix3hC0z\n",
       "KnYRW6Enwk3B5elCSlJPHGbfkjVw+eqAWC55W2BnACexitytap3Yi2DbCma4c5x5MIVAb08jDl+A\n",
       "plHkebjLuPk+9ZmzH4SYpcJvBH9k9HAQVmiIZ8bMrlGqNbuWlgeCuALWDSe0sOgrJiX8U1ECRiS8\n",
       "0sngQz7Uxv9MmppYBv6qVvkbHCASW+VEOcb/+9hDt1v0kpkO2hx3XR130UNDTtdx1BOxAAAIk0Gb\n",
       "q0nhDyZTAh3//qmWAAUCjQ29aAoAcLtXUcwjqB/7KvCu5w8JFENZLrS7/pSH0LKhNHf4vJvrh4Ve\n",
       "zrmA41soH/r3YlyGr6wYnSeDLBg7hsFf7xBIkeGHumEUW7w4+xz+9XB3KYuVuqmLPaAfAIDg4zo7\n",
       "V7xywB+m6H6l/+ivv48VbFmzO0T3wNGQzplByuGubdoitJK8Mb+aZ7XT06tbukc7EDtZoGwArIKS\n",
       "rZPUlyOQR8HM8A+0Vjgiz3lm4P0asPH64qkSijAaD4YNlIMYEAlENcOISjiceQCBxDkT2qQ+d+P9\n",
       "05tS8A+Io5KEGvcUNepH1RB3nrcy+zmvZtdvus7um4PGHULkrNOdCxNWAUzjlEo38w9dq4XTdcH6\n",
       "jLREKotNqtPfOWtXXpvG4uTfqVf9z531ZMSKyWrKcc5j7VZynjlxQKE5gK7+wu8RYa5P56o4Rkh0\n",
       "yNP2V1NMe2Jz9QPsOiLjuN5Y9UMmqqffCgcosjTOkANk7Xu1fcUbYlpwJo4KWcdwPl/OnrSQ4Str\n",
       "n04lBCgaFl7trN6SFWVaTXEavsjKBjo/sKp8bL/2SeRmSt29V5vAIIbAt4e2LbWtZvDJSXC3bKaN\n",
       "nS9Z790rYlqUXKlyuy+O9459DqhjAnYfOr6OdCethju8w6IRLAgoCrs2jR7ZrqIrDcsTrJnvmeeU\n",
       "yxS3QY/bR5c6QMFp3RVEsu85QTAOkH/tqpZRyKz+eshJhu2wUo9Lyo2F1Q+bA0B86TiLgKyF2jue\n",
       "780wdDEAQDCmIscZn730I+iA//JX9z/TKTMmGAgOYClEHU3weE0N3Fu6PEPIN5dyohOaSc2iaByY\n",
       "gMpSAGm89DLN3JRXVbk7n2iyAbwvQMtp5crX0iRwcR7P3fgqPN7+pKgJucpa0tMZSDPo36ZgzPGq\n",
       "ORZwqsYo1AUWmTjlfHBrIUJnX9poM4emodRpyS19KWazEjIB08LPiYtOYBqLO2J8kaIKGrIs94td\n",
       "Wv+yln/EgEWAbxxgPHTWrRB3Lt3tWgOwJX+RV0+popPiVlkOUs02UTtmHCPp+5ABACRS46CqJnD2\n",
       "uw6y8oCgH4YxkhwpNQHq6G8bfGiIW8D9uRkYlCh1cWjCpyzyb5GSXr+iwHl7ACR3aPyShB0euhGJ\n",
       "fBOhzeIVuea/5fbOC4Ltv9wcV4bk695JG3rGXkrZIz6av8yxKcvGsz66iqD1ypX48mtWOuJRHwGK\n",
       "VUHspKcLacmlwNKYaskqxhaIhV5L3youki95StaMBrsXgvE4HJohEvGQAx3y2TVuBIN+hZw3CKC3\n",
       "I/Ech52tNrdvDx6SdkGBbE5JAzDso9cFro1jnL/VgDfX1Xq5oDJjCPmwVXyGtTccDypHTg1xo/r5\n",
       "4RMOV+v+CJoC4vHvBQ5SfZ3F6FcTmgtXx/w7DfUkCuEfJg6cuP438pWWeHfJRxhmX6mhJScQiudf\n",
       "V6U4Y4bOdq2vhX04VK8IxgOtirY74hCyYyWQoGjmMwADss147wTTSn2+kMOzKhurC4JIae5wjLs+\n",
       "UIt6wMsMbku6OktfFrcxE4c5uA0LgHxJ86uxQHdyLVfzW65Ya/C7KtbrSl81cRpkl5osFyvIBHuu\n",
       "c1XRbQT5ORNcpEr42l1Nlgy75oCHqeAgiOAt7ZdprkafGo4bhn/xoKNXeUadxfS3OLgSd+rlLzGn\n",
       "V/9kA0oCrU4z/70bkuZ/JOOQl/h3gMAzaItOqhCSL4V6mpVe+gph74TKO89iZOp/M6IhOqTy7XrR\n",
       "K0sTS+eK6Ettglf+UBeDmE3ylnhInc6Zr65N/sWIVcnDZ3CYUanbBOZJv87EM5n56Flbcf6/suln\n",
       "FDEGgVSMZ47vuc0IzPM7e111ZVnH5r5AP1XMfaKODTgb2IpWM/OtQ8NQA5eJJMUiXmQxNt3Q3CBC\n",
       "KQjDKJsZXEiJBU+1XimCkkv0h9/8PCPEDIqM0qbNiiUpGcIJl2YMa2V+QUSMgPAdznHkdx+3DyfS\n",
       "cM9bCIOa51ABTUjPh1yk6AcDkvprJOSoRxDPwKfmuX/GmarMVKSKPoWTKJu0gwLy15DJ12uvDVBb\n",
       "5IgqHA3+pBQiK1Y/J+MEu4jSJ3ay3P6CbOYjz+Ib8UcYoqxnpyhvaUO9Ot800eKAT911EJD31fPy\n",
       "4PWERXPzZ7+JeDbVfJUqhVZJwIL0zHIUkVNOvk56igJ2sWFYL9RTufsOxLxLTQLHm7r6nLOcWw8N\n",
       "vlpRF6GYe/ev4cohy7P9dPqTSavq8djlCjQMAQF13IzZZeVlTKMknUEr4TwAq1jSpNQmx6bXu9ze\n",
       "pKrYixnuHHgboNjk2sPQej4/naIIh2esKdOYwvVRreoAZUF7nNrJUVk94dU44ysOpUvLZkfHPx+t\n",
       "XJtPXRwVL0WIAiV2mBs+6PD/1N8MDPmoZHTHQE5JkXsZm5UJ++13pWUOiuP6J6Hb4MkmykwW1U4B\n",
       "/AZsAaKZC31mNzq8phUGLEfQaW6/tFd9sC2+zTOzW5wtEQrtQ2hN4QkiOdy1LkZXeLKKzobubyOO\n",
       "VbOpdCZYdcqxh3qUqI/uL5HLx+QZ/Ty4gX8zYXNrzNVh9xABevkjAr4TFaOlZSosi9n0RBo09xZo\n",
       "VEROhPw7Vh9ODriU0yt6EfFXB00XAoid98R5wD3HFZpTeJ9XFGivCguQMnRBMCmm2D11+wHp/ihX\n",
       "yElssxV0mfnhBL/UyodCEJYAQC5KrU3xOsJqOSQd6yYhl92+MUIUZgrgp/FoDhrDtUGUOLaZeLyN\n",
       "KiI81s8eewZODXMXd2/ozs6YPSFjIHBPi/OG9q5nsXHUiLVPZynjHpzAeJiXlr/T6DDysrg0nVS7\n",
       "s5qfs/ywWjSetIFHC0fE/jMvDKzYEXV+X7Dl/9EUSwab6bWLpRzFFi6scLaD4upUjh+cYZqCFKUx\n",
       "yhy0/3XSaxzACufpNcPyJfKSWtc2lxvFc82AAAAC70GfyUURPC//AA2EQUdlJn55Fpwd8l11YVd5\n",
       "jmXSHGs1vN4/EspADyl+CgBYhHsBMJlONtrVeRbvUfCzzx2ZvIAG3l34cJavZkKx7Lv8Cb4yUuUu\n",
       "RcgPVWwg62JtKPR/mm3ssrhrfrrU7g/GWo4GJlep+PWRCXbxs7da/OD6+EkXGdKk0tyzlyPE5JU1\n",
       "8SPTukMb8aTUET7t1+g5ShyPPeLWkLcQsueBPjt26h9hhz8fD+m8fymudlzv6r2jSJKBPqmOPLbR\n",
       "/agUGw31Moz+SYUK5A4F779buvwiakwa3zcEGrfdIE+zwVHqlyvogcXYvNMLZCm1K9Ws/Dh9cBgs\n",
       "aZ04Jz6NyXGe3Tfk/uG0QlR6fTd04u+zk+8lajxMYFbDa+VEvkg99v1au6Sb8CMVQDmmzqBagCt6\n",
       "hmBz2Sv6v/3EbS9FSiuZp17x5Q5ck04SidFjrnHp+JkhkW9xyqJege/6AtlAGXLGy/UR1VqMCw2u\n",
       "3mfIoWSXnYD85DfA4l8sbhkGNVfxk9Sn5mgn8+45zVwA4yWLbZbwB+YhGqH9dZH9QK+uv/MlVGgi\n",
       "i6fgV0u5TDMwPG3qY5ePEB7STLmzuQghd0H+/SFS7qSz4aFMPW097GYYGY3oijNnrh4pHA5Wu008\n",
       "d2jBjam+ETBrY2t0pCWe4dJEPAXK0C7zkTM1FS7LOUupOdKS+ukSSUYswZviQOt8uP4upEgsoQ+R\n",
       "Mz8WpLcZK1n+wSoY4U/gvt+tFcaQXj9fADbncT2hY8+Hut8QPEaQqtZNPJ7sUYbuub71tbjqxQuz\n",
       "0wC4R0D2A4VRCE9CMtIixEptpaB36uoaKhu0k4jCqPueLXtvYewBS1sfRAb36QIlbyN8VdrzaKM8\n",
       "nW+xRz0NeNe+A0Au8hG3H8uijEhAq0MVl530tkQIpe2xzHWawKYOo8i1MjIdW3lKArbH53d+55E6\n",
       "TKCwfcURI7TBzmdCNpxJ+TQvRSuLyab7c8WgtcAplgGiapwxOtnAf4AAAAIzAZ/odEK/ABHXNihW\n",
       "NSsh9PojBoVM2S6S7CeieqfBaWvG6b+iUlsikOelqReBu4rYXmELwiSLcPoXJqt/eymOp3vbDu/h\n",
       "nCEdIwrz9t72AAp+60WbLS+aLPNOIr5Z+p2bUpHR4F2YPgHvaK638j78a8Qn2n7f6FVOZsg7OElM\n",
       "sKihFnfFjIEws0ESoMlMWrS+93JWZnIBBsZbBvrcaEYaYdGMtY4W8BshCZegHVrW2cJkJxUsNZLs\n",
       "VfbzPWjOmzaKpXExIfKfbNqYldCRgA5j00xKmy5wwI5R1R62Usyjz0g89mDV7u4j8QtEzS8varC2\n",
       "Zw3gypE/ZQgNXTm0jvP+uNWvSvoSx/b8kkGKpU78Bgb09GHhfl3HWliiknP2bzaqy9lcHJ7PK8FV\n",
       "VBFpcfV0XolU/ugdWyDf4v5cRpr/Y8Cbmm2zFNd7m0AYIt2vmNN+jKCPPPwNGSe+HpBArwSVA2Zz\n",
       "YmPD70uN+7Rs9JNZtTRLrQ9hB8qHHCBD4C3zd+7KVq+30hlypQ2xCSsPRUYhbNHAZJqy6DHl8XtL\n",
       "qIeZEwXg9+0nyd8yrCfOPzt+putbTpqAz7lC5KdnguL/WPpQRTxi3zNKhjehOeXg3lYD1XMUpEnR\n",
       "4LBmz8OK0v57Ab8Tt9PLiF6zPwp9DBLDP3jW4H9CZWVMMs4SMiY2GeEjeh2YdTtfkA6abAguO/Ub\n",
       "p/5a3KfysW+lpPhpfmeXYi8o5n5SwqKWhxTpaPDKHNHhPVwA4IEAAAGJAZ/qakK/ABHddyo/9SKy\n",
       "Vi4D+wRHXqYIx45MuWGUS65JAJGVAaAPwvWf55EqtH+f+65/g02ZC8Wf8ysB8jCs1Nl0PeokZq+c\n",
       "QySh6SODeMHiGCUP/hl/yzryn3mR4mJcZv/lO+utNQTwYD97TcNY92sfpTCtyj/iAAAFU2B45iGO\n",
       "sPCIDZ70gOVAVYWex5GzwN8o3yLrALB4Lgvcl61z6oZ2oKw/NXZ9HpgafZNyXLVXEZ1hD81LruB4\n",
       "Pv2nSIG2Q10zsj+sWGR3AGbPWWf6U0fy7OyE1nR+msZrGaPQWs1dvZ28k6SJaDo6r2EAjdDHBS1N\n",
       "XOwe/kW9yqoLb4oZsae3CWUSmC4q0y+MJA9N1UIsnVn7G/RF629yAlJ5VRk/ae0f6F1XTtyYVNhw\n",
       "ue3xsVgXQ3eIoHEpDcb6i5lJ9pv2d6hwmD0NNkBuHkgFXdKKFYtaOBh6WSThLyZYkyncsRZc7Ui4\n",
       "VlwMhhhl3wmWylSL0wm5B/L3Yv3LKU7WcVWl3IGFgyLQICNWAAAIbkGb70moQWiZTAh3//6plgAF\n",
       "BGS8kAOFBQwjh0mTloNAxpJ9ZP35QqkKdkBy7zjCkB00C1/zBxZziu1ojwCs/XFLH7Bu8GWbz+vi\n",
       "+xAIOQdmOPQoq6jh6lsD9kMBQHl78DufDR/MyjC0Hmge7Aco2ENISUIHOWXohVnEtHzokCeCFJtX\n",
       "Q0SNctttE3jsFKDmH3K4Gl6dTJj9q43/qXSQmQdVkPP5645bfbjsA++YXYJsWcS4I2fJZBMBtfgr\n",
       "rjGSOuDzgN/jWPxwBjN64Ftp4ibALIZddOCzaMzNG8CXU86rAAecaceUhSHdTje4fWk3Z6aobg/N\n",
       "EWpis5QELTnJEF2x2nvBtA+19LyTwX9NALPWyqEz8dndDGYXFDzrgWBeLIdnx6ZutAXET8R5vtDl\n",
       "klBmlhw5W8nKzyuQS1xX7kIXSmQ/zgwn7DOPECjv2Ds6vsDCJhuPEn1oOXz9PzePJ53betQ2Eei/\n",
       "6gbnUZ0xI38azXQ/g2ZbOjPpZCM+4o5aNZzIL9IKdUuqLwubjk2TkxnoB2aFnrvG63srGLruam2D\n",
       "DKnBpLL/c9a73ooPNYwUDIsL7DJyBgKWbVft4oTVeZD2il8x7RKdHq8GG+C0pNtci7zAXkAjMxhP\n",
       "uTe+rBRESBwN7ffneKA+JDIj9D5qO3UHGvZKv0LxMaaZ44HvLDtxwGRbQL7vg4mrQCS4OuckphG3\n",
       "/PpBKcsYHGFv34YR25oOijdD+BFADALkcrjxs0nQjpb4os0ozklnnSNd0TIdO25B0B3TW2hVW9uW\n",
       "6mH1L0yxSeDmtr9Otmgdf5DleQWueXQEdWD26xJngfVTBZa4UmR7XmeJ4WGSY/N/CqQKhlaBpbpO\n",
       "/ftm7L7QYB1m1tI5cSbpk+jL96E1HIfLbPQSz+OW4r5eP6+qxdosuUKkVXCtylK72pbgq8gs0q6G\n",
       "P6hRG3jSfwCByFQ7v2lEAO1kbRJVIB7kTb4UHgEOrPCEKbpb5G/xnD0moqc48GAEXFOUonuqETsX\n",
       "WHTIZl1cFc9kcCaxG8lbcG+1l93NNrHmLotesjQUEZzomDTmk58C7oLsXZepw2WAET7foHp5Mkqu\n",
       "aS7DL5rROAD6GHjWx1EBfxa7JiRa0GtVMUt/y9+9Rh8BK4FaxkEr7VkVGWS5UEoeN74xxdlDZ4nT\n",
       "IKHxXP3xeVBNkBwg3SL6aX6Gag2uXi/tJ4+y7XLAI42Bk67QPkJcBIDwsWXTc/xxG4BixB0O9hb6\n",
       "mlAAsTkfiks2rOk2ZLlZiTQ1ntvoKbH6yO1TRsoKRBdwUQMAl6y1eTcY8bOZ9swAHwfCbn0MhpyU\n",
       "ByAhRQg4Upg5HmyzEWm/6hOKwtuoGRoKO+7w4mwwy+QCvhS508cHM9iOOCBBWVNoSRC7MLsRaTfV\n",
       "Bj0ADRBX1UJSwZAeScjgg/BlVnjFWmOra+PtPnrgH46EDOHqa5XhH5DpOOM9zvbieI32HI6VfzH/\n",
       "4IrZgzxQx1ZgqGj2Gcg4hgI7WjqjHmtF6txHk4kR9wtzi21PgYtvITNhiFTqG2b1Qtjojaqfck4Y\n",
       "Qj+taOaAvBM+z823MrxHtdnR2e8CbVQXTkL5Ve3yl1MdpgApNzioqhn4QE9QQJpm3+JdHZoloVW9\n",
       "T2AUwso4XnhtaX8lVTP+4iGSOkaY3sZaq9VJxek/62oK8YmdrS33jHilny2MSBqYlCnvv1BaiNhb\n",
       "ZWNs1bGBaDmdXV22p1oQymuYexx6AJTJ7nwRV/394h5E9Pl0ZeByNAiaDaLqoCMjcc0nk4sS9AWM\n",
       "dMJAm+RN8P/rzBMlZfMXLuqE07Rpz49SmjiZVOLFOS32NFVOz4P5+ZnwCZpdgu5VJgrwCj37yWTE\n",
       "iFEM2dBxVKZ2dimu6VHOO2APBPUgnqLJUJ+xP8A5LSMB+AYBO4dax/qX4Xe2pxkk6kIemWJvgshg\n",
       "feDTWpc4cO78DwDRq9JuakaDA9ZoJ2jH/Gubn+kqSEe88RUcZw9XdIq0dzjfkzbRHb75vHGCzKxt\n",
       "9SVhE43DgO+B+6bpzpSe3GvtejA89bkna7XE6AJo4Ev/z5cvf/F0+EZcnZ4ne21tHRI8qrxwa2oL\n",
       "R50Jq1CfP8tIgQ4ODH9+Jjdt9gBmIMjeRmfwDbELZPTG8CLW6WNgtUxnUUBAHgv+bMvRtxeqj9Z5\n",
       "QZAv9yvsQ2yoU0O/s4ySjjHwG3u80EINmdvEAGvMtES5H4UODCke+fIa7aZX4bBlKsJcdxlxibgG\n",
       "BdwrRSIyUWnqqSqtf79Pz5Fn77d/x1HjDLdryrTjR1/CGrdhxwNCxIuRTbtAFJU2sPTMWzw94aQZ\n",
       "7sJtXTOJGic/woBW8Fjdexy+YqmgCEHgcupu+sBCH/G5enAyN/i1GeEeuSnpludyQXeXSNq8If+P\n",
       "9KJ4lbF8yj5cRR7AMGGmAl1TasSROm7VdIjdIP0lyXYEQE9X9AmwQ68uT8+MSL5CVwrennlFo1Yx\n",
       "6bUOMuCF4EHRlUV3B0nTxG/ByUJry1l7Wloujm4lL3VEWGxnvbSGbmkgWMmGmjYs9WyDaNZyoDfP\n",
       "zlhkY8s9yqPHZVmN2WWoxclM6zLOL2MNDGsIc3deLA+6AUXcH0lae4bfxSskXIJ3tsFuF9bsZvt4\n",
       "jsQtT9SplhZ0Fw8aY7QuIFU97Ah9FGx7dvofZ3dtsQgrsOxICbSAafrU01B5FXAO/g+mwf8v+170\n",
       "8Js7ya33VRssTD6FJEk3qPLNcYoYk7mw0IezIAZK9jYrecG4qFQ0aDrDo/gRM6Vh4yL3lfzZZ0nf\n",
       "KdSnGmtx4zcmOQLvA/drQT4ifTO0afL8dZt1A2CuryMtgvFgZwnh9pcyW+MPDUNo9HPT/j9WYOy+\n",
       "56kPUmvw7bGAPSFmsk9rOtyGD8hGe+72h6fWAgYABxwAAAPuQZ4NRREsL/8ADYRE+5QWSYXKeKO6\n",
       "1Pj04FXN4nhaArRfpmQdBaKpCq6ZpQofAALYPqIVluSALFAEfWYqU6gQSHp1fa8k3n16BCvCsg87\n",
       "FJWX7/gcFAfVL3122CylXZ3C9YWnRaSXyF/i82dEC9uXJgLgvWXR+VIqAIVG403GbFXDqAvhLOjf\n",
       "HqqDe1+aE+rjTOcpnXgrMZD6M5pu0d1kiZfpm3fE3prZWxJ/myAk59DMei2UU9BkIWar3J20UXNf\n",
       "CkJIGP/v7Oa/uB2+9SrRRnOmTl2myWWquNJKB4zT4DNN3fHcvtw+tSFvpdTe4Ee2kvBz8QR403u4\n",
       "mXN9IHaMKqUAL2UIGbPLRgdVRVBvQvpOA8e8etOi0bnaWVVYcbwGl/oZpRbZLzHskJCzFYef/TJg\n",
       "AFm7XfOw9fq3tGaOAtMQfSnNGuGLMlf8iGQQX86nSFa5TEe1CD7gKRugoLnOkW85luVY6+LyEuGV\n",
       "C2DnJML498trUXw0QDNAPArskrzzKRgYsyeXRWSUcvxaEUw07JJogd75B/NP2BZMdbjn8y9iIsRS\n",
       "K0vszJnio8PMF6RL6cgUj+DjKT+ob+omJaaAl6ayfLz+icf22atI/dO7bOcQ37kYvD2B7/StgIrm\n",
       "/liu4++Q/UT1P0m2TfLMKFr/F1lt6/GBh0mHjtEM7zxZwh4UO0HvtmamjAqeMZpW/Lybb5cDzfRM\n",
       "F6kIxIQLWTzZLtVQCdUXEgxJ1KsAL5cBNUuWqKp72Frukhi737uS8GlRVrxeaVynralrpn3SjvjI\n",
       "T5ErqYrLequBueQKu/hDYX8wRzG9GnhW9iHy9BeeZuemUlL08UFBBab8pmscAGBW5mMxoxZfe0gY\n",
       "3I/CA1+1EoSfF8qvmUzKDlw4GCmNGzXUAnXvKsEIbSkigj86CCVkSx2oPZgNz2+gHiUxY76phh0m\n",
       "hnrmgj7yNXny2SaZ6EkB34+jDyFS4t1Z+/u6HZL4Iw3mVC4xANaxJBtwhXglKv3jXddfcUUOs5Gg\n",
       "7b+U/ke2HrDAylNs/VGAZyIx3q7OpHdGpUrjy73gEzecT3/gTkgX+XFRfZTkjFIWCQbMGLmgPdci\n",
       "kN4aoeEEUeHRiqE1LoKDVa6VktFK3vDNsn/OHJQJSIVxf6bi15ss0tJWLKMcW19HFDJ52baSpHm1\n",
       "E9+6YhoKPnYlt7v/uPE1J23459n4Bny4sl7f5YuTdJ8GkA/tf5vRqOIa+mWMMLnJQtZUtvxWZirP\n",
       "iaUo4hCGmJk+xcHXrk8Ka1hpg0jHPNWtMSAAAAMBsV6oO74W5JK13LASG7Nvv8r31YGW4eyVvLtO\n",
       "n/pvM9eCXVi7vqgMtVjxsQAAAiABnix0Qr8AEdc2KFY1K/l+x3NlRxDSi8AWHeCXqeiXnusEgru1\n",
       "+DoDxtBQLyC8w7Wc1bpf4wAlST4otZPkmlEPedrRbk4lqj6b5iQXXHOrD0viiqOl8nfI/MIlG+3v\n",
       "7QzcwqYAAZxnLePERsYeAsc4xMxMHon01zS6fplxXpRytrn8UAszXkyFgLQg0fzp7WgOhMdH0rjy\n",
       "ZRGT/ETaeHLVaq3qEDkaMvG7DSTUbTD3+oFo3WgJUOkCnCkwnpfTHdqtLN4r3zvgYkN6hjICsaUe\n",
       "9tquoxtrGNlMMOWrWAT72YQL6Zq6XEymwontBDepvgVYTPTqH1Wbb/ndu2dPKW70/wDwFDo1KOaH\n",
       "yHog6n/QYmznTHAB/uFItbrVbIZBVd5EMSPq7gfH7lHe4lYQxSv7dDtVkur4mw+NUAiosN0P6xKW\n",
       "9+yvNVn/5lZYiv5b11nDz6VxtgxiF8pkkQ3i48kgMBr7xUL2AJeo9oiabLB/aKBea5CLMyIC6Iz3\n",
       "2TxtAoiuP21uaQ96vh1kyOf9/FV0vWlOhh8M/Xbzi/UduIAALd7q58xOJ2mUZModrSP2GKPcq74w\n",
       "ujnFONDWznQAuLNBsj7mSADl9ouyRYtVucYHYM1JWeimDtqUgt7cgnO/oumqvaWDxYPzh6mHh3Vu\n",
       "r/NKM+tzMpLI+pmhPyhRe0w8hn4FaypiX8zM06egMR+Pvl/VgqpLH+jpQq5gfPFyCg05AAADAQGe\n",
       "LmpCvwAR3XcqQUlRWfTu7zZYxULgoVjfwmUD7Qy+rtRPE+RzYHc5uLDxQUxDVWsMOVAZz23CsDMD\n",
       "aqPAXM4+ID3kJk6eh9CZk6i3Vee1cZq++jtd7ySPEu9WuN/M2BzMlA4mJGLJYnh2wjH3RvdCfhOc\n",
       "GYbkJx2nvLuBA4jrTXufWZ9dRR8czQIFw+o9L81z0dCrjkDG9JXC0A/m48h0epKjXozTH4K8pRmO\n",
       "yURYUPputwwziV4qtKIjbkgarbUBRN0Tup7ZYwoHLUwu5P4XIOcMJVQSEV/20IOs2yuu4aCLqq+n\n",
       "2dglrumI2EruZnfZSh/oSBC52MhhGRqnqbhe1x63wThXDKN9K4UdAYAmKyA8RRN4ex95ZAACgk8B\n",
       "pzWXOmXrDUeJCjamHu8yqi+F4wlEEpAL3DZZk8cbgIBxn9wMYxt3ym+olTd8GxY2GRQ5SJyGYnRn\n",
       "UbLH51ZnPw41zX+jIyEjFIOdNGk4iDt8JwspcSRSwzUsQikLOzXxrWZIb1F4B6HEGrYNFU1rTNZY\n",
       "YiwGeeUVe6B2NW+VXd+CMOlI5eGNbegt2K6t5mLX/ASrlb6MgOVBhboBz0PjVxPRw6JjKixUN0VL\n",
       "ELEuhS3A2XOFDHf4ljSf033sw5KcY0FTxuk+tDv1193f40LnBrMueKU5YB+w/V61bwcYwNpCb5dv\n",
       "pRrcxT7q+Cdw0VB8068xrY9hQrz2putUtAsXcuBmvOh59svwf0RVtNOtf2drgXIW9Gg3yWVWysG6\n",
       "KxWoWThr1pi/a3MY8do5aadugvGcpgZ2gjD0jOBPYTGfPfqq8xL3DCXY7EJavwG03lj3SKVtp0YN\n",
       "IgXZwN8vhhv7+AoXOHcj6irgvFacyeaG8PgF0RroYfR6BxNtCoFAfCEBSQoIeyDGD8t90uuyQLeB\n",
       "KVs38nDzFl1gB5qTwyHyHmLQHOoWumX5oRm/Wc8FfFrCa53zjGiZHi5JIK9sJ/siX9oz60t8s1QB\n",
       "tSiQE4jjnm3MtbrzRQBgXnV/udI2r4g+zoEAAArVQZozSahBbJlMCG///qeEABDvkbFIXOagCJmG\n",
       "DA9WSZfeUvb8CbaY8Eu6s12LSvCR6haAa3Gp10QLXKvplkzgP0E21GKSYQMUCBMgrJhyaUBpW3/j\n",
       "4dMO93fdne6gcC2/DnPx9jBUefABANtWKpJPtjEIJX0KH1H3H4HEIQHYcUxmfSP+yzJNy4SgSQTe\n",
       "5xAPNwt7lTXLTrle3nDr0uwiYICtDSoZeQ5wwoaXfMQD/oA2njnsSJoK7NJhuwvE1Dyo+j1v9NX6\n",
       "8aQfUogmHa+K1HoTVb3eURqKFSjOvwxZ40imjD5Smgfmu2RXulnirx3qHtkrpYrmNpH7d4xuMUuq\n",
       "Uq/oDHlBJhg+EVeTr+MOOhLKFeSvkx4f59WCO2WtO3/owHBZUDmn1SwZaL7zl7jqeOhxEIH8Hw5L\n",
       "ulBUYSyOGZFYiLBVQSNhnUB6OohHyOIsE/EV8sK8kudPwIUZogP4Jk2yK3qdyuhHSI7Upe3gEGjo\n",
       "WNT3oNMiCq+uXkWMX7TKSiTnYDBY9A4bjoiPsvEcWmMR1WBmaNlNCTT05Ea3rv4jMq0U5nFdZ00h\n",
       "9Q59dUiMfpMm7qWy2n8FVtq8GPNnBtlPCougy3ws38Re6WZsw2FwQgS54fBWgNM8RnfSK08GzhTS\n",
       "Xe2tbBvthiZBhUG4hO5Po6c/ovTtAUNjuFGvi1xZStTxaXufFro37EHG+3X6vUF00sGaOWY55COW\n",
       "EGAPc0dEgAwY2Z8ETTFDfQzQZoDPO4LxOj/qWwg4x3pkJt5ZL9+kBOQrSPYIJu2AIpyxesSfIH5r\n",
       "DnaYtvZtgu0R227imIJNN3/3TBlwt/osuBw8gjjNptFk28tp4CcpG820psXFk4Eo3jgAPGjZ/BcQ\n",
       "XFaqJX2MKjx9djILq33J2DuxY9kaYK2qmsVmEh9PWgxb3vwhHZBuEEX5DRgdMnsqVa3SNNqKPozt\n",
       "I5+hldculfei+Npq3qqJBa2U/1LvMTP+svPYlrsk2bQ07WWhxzI4HFBKI3D0WyINJcdTrzy/zUGl\n",
       "r4sxdzMhFIACnnvJ/8wE06awecY7PLl36+vaQuozVviqwp+fplqHAT0FSOqonSg8CvzuP0UVuYig\n",
       "TDMak13+Og2H9iWANtEGqdOQnKwRyJbqnGSJFCe3NrpWv4V2HtWrurXPo8AF90Oubl9Fv3Ib2BUW\n",
       "QqnuBed3crfgH6fga4DcdNQvtz3ID80ND/I6eS96oYX0Qw+8VV8GIhk101yZXyZH45LCngqtl4rX\n",
       "O5qV3VGYn6MZ8WrhpyI38IHOHlt87RW6CMz7YndFY4ujrdVfELe34cfm3hSCeqovfhtfhJeX2jDz\n",
       "dnLX07ywN9eaf9ogO3B2PV48Tr+X6xod+T1g+JCI0AHp2W0L4zsplS8WRPcK84WMOMpaP/8Luzz/\n",
       "abKMxs3e+xoKG6MWhsSiWHWTnYFBt/5qEmT33eqQix1L3aMsg7iS9BX0qLWk7VKgbnKWPDjvE61W\n",
       "/hzT9aLAz3GFxjg8bZSOXqsCRLxaQAySwDiZS0mTqN97jKZUzbSxTvEJJp7GRN//k65HaSjM/9Vv\n",
       "uYME07iZ7WevmE/XIYInl71JzsOnOyhHUWdrKRmpAYTjJFi9vNLC6Ww6AnArCma9p4cu4iJg/yvW\n",
       "Mj49rnbelZKTybhIOuLOjI7y9bQIxEeBAExaj99nNSGIfZT2etT3vi8KPT6WO+Ar+1v69nuUOq7y\n",
       "UkH8p1JY60GFA++tju9sYS21jG5jQXLXFLdaGpWNbhvAf1tM4WW6Ba9ZZCY8yZtgMPytAz1fMoyy\n",
       "t6ZxpJB456xdbMMppI1/ZUcAcOzjmHGIRWxOXFGURKaX4Dnqg5mCAO5TXd9FxDxTpB0BlZeIHkwp\n",
       "l56Eita8Irpj3u1EzhWIuolL5FJDzVUFrnbF2CXot2g3yPqHZJ9FR2filDhXG5C0tF/NgtYLYe/u\n",
       "rPKxTxLPuGUhLmrr+br1jTBolTFhvvPCnU17r1jTxT1/IkXjrntZkDSkaxyiCx2ozZ7RGCbEHJwv\n",
       "Hwl3g9Q+BDaJ1F9HVJILPqUPHc32Zc2E0kcKHm8v/0j6Y/2UD0A3BH7tXx8DxJmAecXc56SyDuEh\n",
       "Gqg5nFSR6jDUtqL+a79QkHoxox382PNpwNgznyq9DZ8OEEUtyxGHtd7mwiLqe6FgYyuMk6Y0yw4P\n",
       "T3PECA2EERI0XN5fEZ+21VaCUrmrK8ow8r+Q1WMd1a5La/4iGgTt8NFoxACQFXXSdG8o6444+Vog\n",
       "GJyYy87RuYlJwUcNHpehBksj0ka+JgaRUWTBNuXKlIIbMDn59Nriwz+9TEfN4ARsCw4EtT500RMI\n",
       "fX82KbrRofiNI/EZbJfX9CSdkm+mCule5Ez+wTBvi6NXgiMgUFKAP6vPHQz2A/OH1L2Q6cUlOsNp\n",
       "t49H3tFSMs5lmRbHrvP/Xt73l95hXFWNClDaYcKN5/EhcP54WvCLB7N7vHpkZ6NJ359uxv2ik07X\n",
       "tHmJwoWxNlddbq0Q5ZPOJOUBg4FpyMZVljMWxiT8AtU9/yIXVWM2jhUxR1u2X3+iWXXZz00tL0Cl\n",
       "rXrTQd6nrqGw9PL854KlcPMYssbdYeLu5+XgnMcHsqmULPhuXAzVPwmj8bkZKydXz3RS6WP+YGQg\n",
       "GLD2O+3CuaSAtiNgdtVYOr8u7DjJEybPep2djcamCN9XHV+Y3GfcBwLIX10f1bycRPcYUtemnzPs\n",
       "ukahrHpuOnwzei1k3ZwqtBWPnotP7Lz+XGDONx30MadQVk7K3L5mSBbwz6g3UIOa1KAJkLv65GcO\n",
       "th5YXFdV0qXX3CI0B46oAVdOXsVbnVnUSyB8f4WRJGaGjRMtuWAlYv8Wgn/jM7eKAVjYd/V7J753\n",
       "i8lWi6TokxGhR44P8OFW1PUQkCcdeDvAnBDGJiogBwlauxiGOfw4mKkuzzAEPq2GySlqfHwLsanT\n",
       "K80k9w04mVuUSfo07EOJxF4INbkPF49HvS9cvhZ/fqIYD0Z/rn4EiGH1q4M3K2iDVDviL/46D2JI\n",
       "r7DYuUpWVGL6eC6cvLzOH9+LKWuYxG1LwA4aNA+SRU8C5hrxRWejpl3dA7vG/X7N3FhqfcOs6JxT\n",
       "t3sAch9h52u+/icTxiD+ZH/UdSGRcqlBC3vZLoH45PH36c9hAzPYSGrMZHBSq7AQ6nu2KsqQKGfb\n",
       "Soh4+bBydmLfkn69DnxbBYCh35G2SkvMq3XiNOpadacLUngEIMYnB90BhsO4dDh+7gTJ+GppV07C\n",
       "QG/FNUdatFGCiow+dDWwrw//FTYVtzZS4upsukX/wgDu0hCV5kUc4EhqrBWJtUT+qFF2mLctOtox\n",
       "YeqDc9b/il1QKaYvoTpvj0E6XN9Bq+PoHpscQW31f6kkf66LJ47Ydp8xXsNVL3LiysFGmJAvsvpx\n",
       "04ln0pH50YOu1yIHpR9wiNXQEhABD0iaYWXsvSLVyroDcmimnrPw7brxJmzoXeuQfZNAMejIX9kf\n",
       "hL/ywfNEYQjvlF9lahY2wZyotZa7RqqYz/FVBRfK6vtZ+2300ZMIQHnWjt36MqD4EDEPaWPmfzMB\n",
       "j9X2RFcN7aZOzpHG6hikhRQ+KIEAbVHJVEbfQ+ySQU5pxPCYP5oGan3PneyXWP+naP8F07aIJIhO\n",
       "g2c72vS4jp3w2g0C/J5AkZ3a3I0x/3qEbHWnhSieViJ9d32ySdy3drhwarBtO+4jTVGJ7FBYkY9Q\n",
       "XtOnrogn5gB8wAAABblBnlFFFSwv/wANhET7lBZJ3kdrYs2DWvy1aVc3far0g134QBBswPdBQp/U\n",
       "tRXwmQawFdwqMuCxI7LkmNW1ICybi6CmYk0aNt7tX75eNfQkWqb1dXiSDVaCOeLIFmtzuZkigAO4\n",
       "+rf7msOkmeMcdMZCVsRG1rqquhRg40BKbjfk8IRRvOzW1e0mYnrmf/oTnnRMhzHVzXiejqr9nkdO\n",
       "kl7ajTSV7W+K5gwRpyiGJ8jeMbnWd9utvJ0lRTNK+vHrSkXSfmSw3gcmMUtinIpepr4r0UwbIid1\n",
       "vFzBgQQ+yLrGrUQFxfMXmcvQbCWr0imQWzWy7xleZnWcxxPFz7ZyGDLz0YBqzta6c+FwzXsWqUi+\n",
       "Qu9g8golCVE841gH3JnHWOaE0dgXHhmGN5TXG4J4aLtTYjeceHhnI2OlHupyvR9IYTBRiPwlaOa2\n",
       "1NMTITJkjhTPDIwj1HWKQSwWXhB8l96l9KaiduaA2q/bN9gxHsBfzEN/qIcBx7Yv2ka8u01oqEZB\n",
       "HAxjNd4oZN5C1Wzpt4eMfex9ylY48HXwSRrOSl1R6nrfr0ZdZ9KIPn5VYSJm1hhKt2Jg91EAANP5\n",
       "MqyOKUGALLLZYzixunUX/6rlhmNvWdaT6A4WGqqfmTgRO+2B5/yzSmHVQXgZkTtz0MvzjPVEQl8G\n",
       "bPmQ5l2aHwmD8HuetpTfl5xGbnjp4/4mBlKjRRT6A2KQTmi3PbGAKRkhQ2S1kFLq/gT58fqUMjlK\n",
       "GhDTgxnFEpRXqXwwQ9Mgd2IPnt6UqrMJqUNzJU/fO59/wCQZ1IYOIK+YTmi579x4AiyrKBAeg7kz\n",
       "9mkcynNPjRuLgmSUPG2YtzLzba9V3ymAX/1gXI7BGejBLwiClaYe3RbOLrloG4Ko2Tn6maOoYkVa\n",
       "VkNBtzWafTAoJPylj6ZnfZexcaicYa1wHHLKaHSsg9I72I3PAi2XheHD018pRYSq2a8rYBNQaEb0\n",
       "+v50jw1PImp+BodURJUp9p6QAGWZMxt/Zkn5ZsJ9yX5lORBszQUzyr9W1j4IQ9ioJ/3a0C2NMWVR\n",
       "BEbvTjUpxoLKzEmBAY/+fN6GFUMeSR9bRuttKwH3j3nZBCx67K+CL1fd9Nz1Vs6dhQB0bPNDVom8\n",
       "qWLnOoWKFSPii7+TCjiCfhrLlgV5esCfRoYAEiKTfhn0pWWqbVqU/SHeYH8tiXdZdLSBefpy5AkX\n",
       "x5azIRe/raTY9Y6UW2jN+PXIsUUeCEk2uhMRCgwfPsR5MYCzGJ9NAAtjQq/aNFQBb2CR60F7GEoc\n",
       "mtn7C2TUGneI/RLG/EiPqTPV73ZQlJI8dN33yagjNQQzghlu18cDMFz//TUpfbSuiTlN9RUbFZrc\n",
       "P8sA+0bRUjiGvKc+zzsGFW3vwzziGBhaynUIJ9j4tHOysh+Krhxa3T+6Cl12Trh1Cx7a/DPGe830\n",
       "eT52TJVqtOwoB/hTSWKYy5spsP3ByM/l5Srfn3VH4nf0Msj5m2SooyBu+519jTSKDL2eSdG6ASCA\n",
       "CeBIMYDGdp3N1pVcbk45sM8sfzeOMOzQIeme+65iS2p5vFOeCaBBkuJl19CbbRtpW1fQEn5bD9ab\n",
       "K80XbH6PBZncSR4zvpGB1ONTALGFv0VY4VDKsGY2J8QCHfEJOPD/DLdogAAAAwACeVVtYp3tzmWY\n",
       "VYedrCx5DsSrfE6l4uqk/xZduR2hUBpuO3pENoFEMdkKAHKUXTnPdaIHsNq6GlUZGQoasSOG4QlQ\n",
       "8Cw2WNd569f/ynnYN87O+1+pK7DyqqjlOK0sC7abHZN8obyx6zr8Qkf+ObkIbUc4gZ8kj+4fmUfT\n",
       "Y58vkyc+3buOrBLACa3Yc7BRWB6WwnsJ5T6ONsbNVx0H/C/NLvyMywfYqJnwK0KdDQohtratsqLs\n",
       "95+0c5V23PJquvZc3XgCejIy9LjTsdfxuSNz/ftK5IkkBMjgJcsnP1SgAafwAH6EZTFeCIHAAAAC\n",
       "7gGecHRCvwAR1AXFA2s3U6Ik/dEeQHT0NytBdIGDgJBeubnwsbUXkBgBhq3NuhOhN2GdTwVJr5n7\n",
       "Lla6PACzqh0ci4fM9hEEz9iqH5iuOJND/zdBslrmEuQ+SVlERsJ8kM0EOargbQGn+6lbzmWcYyYj\n",
       "QoJNYBYJgAxMLjLc1ElLPg+/cQBTUk8R+G/kNv7YOm3B+NAB4n/eGmKhAflyGqckv7md3n8qVW4R\n",
       "sXClo8E0tR5YsS9FDjCBjJsfQs+uEzCXWmQhVeEbjxZ57aJwtmSiMsRBVDOR3Nyl8sA1JU3JgsBw\n",
       "Qfey1o35riBn5cV33MnrTRGTn/6zGX3y+02nXzGjYdWL50M1gnDQfdP/j43GhWvoqX06L1F0dPQV\n",
       "qUW8qDRflfJwmee33AyaVQGu1Rk2zXMIj1CTWQrlpBqCsx2azMuOuYU9gLhJjeNkH9ucFxKnTzMh\n",
       "/XDdImFd3TWGvwcr94mod2iRaCZZ1EyCdsUhwn7vZuIHAub15XZSIJy+8UPP14offuE3lIAzHJ2u\n",
       "3C55Q+gxmUhC2jtVroLDw+kuKv2s65CoFnYEeaGb5lfY/LKVYlEGbZGMKhtj9n397RILQNWUf0qE\n",
       "H/7FIrCWl12Fg641GkWQ97pxAD0pD/QfjJ/N2aweNcZhGr2KM2r90m+dLz0r7ZOVvyzuf71ALqQh\n",
       "Xdla4UELoA3ZnVy4nhEaczVHJUQdgbCGw1fBUcfb7UoHeB4YZTRx7+OpsG9VdIDnBDby7F8FttvR\n",
       "jS72V5BhgObHjmXB+pZs7KVvw4XJgBTIH0ykS/9lHyFJcrAuIpqrqm1cXeNQoIPkHqiKHPdoOI8S\n",
       "S3LWYR/d+Y046t/U4eiSFr9ohXDYdqSBtY+JN7H3ZbYZsSB21cMSKWb4LaILZHH1/Pc+705Y3h4l\n",
       "igGhSKeO5W16QqWAnTPosMQnEep4i1OARAgUC6/2Kvxe7vctByaOVG0Cu7RwxsD+g3DnZiQQ3UPX\n",
       "XIBaRh11mt4EvQAAAz8BnnJqQr8AEdHL7vGamKej8o92/shgFsbTqqyzuNC/MXV+KJ984vmPzv6h\n",
       "RJlxUYAGDmnUAJL0s1mYsvgt1/1gG/ISQSp+UfCQDW17FWGbDbXSsBQ4B8Jw0o/dmRNTcqceaz5J\n",
       "B7OSWS0dL0ec4PViOOXIXNqbb8bC9YOtiXoupTbFr1v3LMDLxEYyXUQ/tLnNcaF3xXS+aufn2WR5\n",
       "TmIKEs3mbWVqgHdBnYJs66n852Dal0MyfdAIZjcb+8s4mcFCM85hnQ6xWN/8d4R92XikfNMOgf7j\n",
       "o6VLMWhp5IvpVdLM38VNlePKaKonzbsz9ER8G/tBt8oSHFUNCpWt3Jfgw8P9YD9St3gu0sy3/B1W\n",
       "64FTQcNttaVqf/pTNIHcludr2HVanNrtn2k5e5IIntpvPoXV5um5zMVHff+cyphGOAPaFuNi6Z9h\n",
       "GT2dkfoHJvyAKAxiPHZhr1v+VFB6XaGWITesO/VoR4zMglwB7eREY/yz4lb9pylgMqrTDT1+Da3e\n",
       "qBMF9tN4rOl9DpfSDCpWmKh1qs3WvSAc3Hi2pFPMuuloTLaUluKYN+iAD5nRlKLu9baYqgC6/6rG\n",
       "zfbH5ac1cUmyD6DFYvSjRdtuu4+rRJrNwD+0Zwl8vZT0PmTl36oNka/vPorR4GV+Nv91o+k+l1OH\n",
       "EMDy0kumCaYCKCsElTJMSv+vvB7k/1EnR29C40M/vyiCeZTDg3x7R71PPy9Xi1CpUmun1G+D2wqC\n",
       "IEi7wiML57Av9CNdrTuRgkj5aFZjv+JFCswRPTaXH+ujYzFOYpF64dQplqpXy424VD3IApH0kbyJ\n",
       "+ud69hwiHFkU52MgzLG8kcUcSi5XHtaoTMuQGHBd/JD+/X0F3EN0iicBU9TJLhg7pWwxfD2mkpQv\n",
       "qRW2uY+dc2RLvVuSH/zlV1oVHNAxT9o3HQAk83OYoOeZR+RNgp/Te8TWObecJbM5SsHApBJXsJfa\n",
       "1Etha5g9KoNNi6+Dw3FjkAdJttM3Mf3bLfb4Od8ZauRTNGdoUnR27QkveZjF1LK62+/SttH50TKQ\n",
       "Ae03u4eFjaf1WBqTnxBNWRQ+ljWdsl4m1ISZ+I8uBrlU84QH4jAPpI+8/i05yegAAAj/QZp2SahB\n",
       "bJlMCG///qeEAAnsMbqM0FUgCO77CDlOodVpTdN9EA7nJre+ncm4iKCpHcu2RWTpHwBpEFK8SAA+\n",
       "+H20PLzpb+bjk4ANS/b1xwqKRZvkwqT+g/jOIRZoGYAsysOFWKEiJ3Uqm7xTGmQd9JZyMoq/CiwL\n",
       "ii1RJZAy8IZP4nCDIUMT+E3dkoI12zHQcSgEM0n2C2m5fvpJ1o93chXEyN1z2dAkRt4hbGt00Hd3\n",
       "/c96MH09h6rr/9JC2rI1QlNnSvWECCuhOBWIrVn0tUmYOwddjn5euhuqIw07IrHVsav+TsxRTwnp\n",
       "kclJ7vbzBPsPRwyff8qL2Nam+Q75wa3hsQnXJB8rUB1BlTFL0sExBdBEVYMysxRBSCIoSIa4abDs\n",
       "2Hu6ymP0bWJB1LGl5jYNkDMrO+7HhyXSzSnWvp+3l5vcHGl2V+7aA/0LQD6/tm653m7y7sKq90HW\n",
       "QUuzkNxsWcfBAP2PgEd6bkHmZwPRbFVzJLdqvjqD7fZc08nDTgoGbqfkgHKpL9Uh6woreJTc4Coe\n",
       "E7pEN6zQhhY2GW/BfjNPc2liKraA/18xcCXkyUNwxhr2remIAkwDs95Rc6JtKTuQWT3xaXvyZzbU\n",
       "mAkOko0tpPwWQGuiySPFUuAgXBolA1SQeLvBkRD7iHWVp79U1SB83IDZqiW+inCqPMma3PK2Cdzr\n",
       "/ZrZfqFiErHy3mwmp63kTe5i4SEZFBtwHuxGH57zu7XsS5HSBi8TBQ8Zhabry0KFXZKuAUnR8W2t\n",
       "VvDbe0PCUc0lHT2ePD00liIxCZs+ITjgyXZS1Zy/KytJK2EwiqTi48DMRBwYfaiPX2VRv8r2nDlQ\n",
       "mjW433U2FUHgoMaP9AjFvJtpg/GiW/x3X+PJSjcmpUU3+tfB2FxZamBgnvbOCxEks1hwUtXFlqtX\n",
       "ye2AkDn5VhrWIJKIm0w9k4Cbb9vbu0zLxc2RVlKidnPHydmBZnH6Ek8l2kf0DJucKVFt4vscgR/3\n",
       "vw+2XHM/WddNys7cvKdkGUs24hjjppB9Qu6J/Oy/sUvtJ8+qwoUZFminyy4IkiMnUITM64KZBSUw\n",
       "BkZN4GHmy+NBwTJW/v5276myvqIVAS21qwDT2L7MI4Gd6uX4j0KQWeYsfEzY448MxF04SmLJmC/2\n",
       "IbrPptSUWKr+ct2Dsg7BS+MgFvoGNwxp9W7U+dY5Ow5PG+YVTu2/6Oa5n1pZFtDeYscnft5q3ueQ\n",
       "Z4NY8VRoYoBRba/mI51f8GQ0KTIc8mBbfcZOP3IQXfEDYge4CT2TNbFX7hU32dtbYCZyntCOwKAs\n",
       "lo05IFiH2lRlDtawm5bmOtT9l8Jo0DM/dXNqZr5U07cFOC512mhXeeDZhcNEGnvhBGEyRHkmefIm\n",
       "4eMoNL5XHdxYIax4bXppxwT5DnYCMlvrW966H4sMVr44qUtKGiFYr617LyhvvixXhEuVozFYcPa7\n",
       "i4Lhh9EAzNS5NL2gkgVsPpTyR0OxDPEJfS39R4FfwDb1S+Us7bV007hoirfDiSHcsAxYpf+wJWSk\n",
       "FE5YxxumRxf6rN+FIApVFwVJKuaqJlelnN3YhssWpYZ7FXLkkxYQXKhspoLov6ieIIXAfwM8qOqe\n",
       "0/thSrkubqEjeB7IGH+DhHvfzJ+/tiTJPQQuNAe1I2FA8waSOM7HXXSaOzEwX0xMXMoLIskDs8I+\n",
       "tQ75DVgkjigqvCdh0zfJv1QlOnstlKo9TY631zWH7GdhUtswpAcbv+a2v3Pj6z9zzPRgh/QzYW1k\n",
       "vV2DWF26nYYjyx+Zc4l6en1jolHb+l5W/lOUFA46cTIL0PKxRA3KCaUV0Bp7H38q/N0OJDh/4dcd\n",
       "9yL8V7ZaeRvQYgLSwBVKU3tBu1HoR5U4lNZSQb9n5KV170cuUfijc1cvZVKqt6pBsVo2zh0a8iIw\n",
       "3UwMzoPeqbyjPtcqaHRKewnv/ltd9387okXw2MgOr1d/0WkE/N/5BghgCkgTuzx4DLMxuRIIVA9p\n",
       "DPieQrPrpYHQUxbFL5JEe9Shn/Rfs5DaRbb6G7FvdPLSCWu4fKbahSfzUWedD2mg28HcwJ4DutNH\n",
       "D5SO4Bl8MZhof4UfcHlk5gPE7kA42IdwcRsK7rXRBWjeL3Z2X9oJMaPKUzdhMVjr80NVG4EguckP\n",
       "YQqz8Mpev/siBcKtYdY9x9F0l4jkyNMBYRcd4niC/Y4jEp81mqyjsbAEsPgTQv5bKzvT4deEGpLS\n",
       "eBXeOZJxzAXtE0C5/B+yNdPGBd1VgqKTIbVVTjpa5GNWyKZxJ0Lp2532z795pO/bM8nqgPeAQhnL\n",
       "0D3hvqJb4T5JeRCxlDwmrGHlo2HjiyIRw+12CwV+M6ERX+jBRmUD7cc88/xSkotvzrzDNfJ3CHlY\n",
       "vHoVQxxfCz/d6u82THJcKqiAat0D1/TpLxoXAZ/wOjhkQjTC3siJiBtyxOvdia/czh9dGtLb46Ri\n",
       "y55wcTaIGGZNk4wQLmzDDe5Qhvwlb6oOhD1tzkUJPlNH1CZnVkg0FWc/kCa0Hwa0hpusdNbzDHcK\n",
       "vbq1XM8hQohyfnObWauXjctfupxU8fwoNSdqa6en0bZqooHniSeML3xfdVtnhHkiO5s7KP2ncEMJ\n",
       "jDyOE85j7Val980t4ckRVd5l0MJY7fCP5L1EuOJyZ4/+8NpyqW+rchfKvgWnGMcUCFAsf98BunIh\n",
       "Wh/7zOzNMHEF5VMiK5kv4p1cIonv2Seaiz72I5AeAN5YRwANzez/qgJWaI8Bx6vgNQq99mUTqLSw\n",
       "foxf3eQJGngSW8InYSEzzSW3RSHpRQL7bhPx4dE/afuncYAMNySzdnLDahBXz8PMIAuDyqvMzJzg\n",
       "okM1tEvmj9Oj+E6W6SeS+BUwJtKvRSgQbOhOwvoNFcpgujMHQ8bcU0GsezAEqx3Ni/yRTjd3wRap\n",
       "NalkFohirDDGwUW10lSd6irK7z+elfW3JDjyn1D9yl49ePXif6ILvkim68/jPQPjqXJd9zeNNwAL\n",
       "go/hjDnOfLULctPijU4w+7dodYEfGO9NYB8h7pgIhCDOO7SIMKWdTs+qceC1yRvMu5+mtzGAS2j/\n",
       "M2OZtyC/qAulwRcNj7hAOmAAAASqQZ6URRUsK/8AEljaxeR6Aqj4Bt/xCrr2AIfNP6mYQ4eKu6LB\n",
       "IhwtP/aFrERDIBkqxXYQI5GfUd82d0Atyx6ijwCavVZD8/EsnCWF9S2UUPToFGIAmo0SknVsi8UF\n",
       "MlK6yWExNRZEZOA0ax8sIJ1l4SfcsR4uCKnZkAj6DgmSNCmVGP1WvFrLMMB0ZMlKKBVf4bxS/PPh\n",
       "NnLCh5Bvdi4dCfZd365xC5mYO+67Du8s4smI7MJaF/tG/VQ4HTDkIaIhffVCJC40raTw1VJoZXD0\n",
       "7EzB1H6++NfD9FiOWu3RplB64vARDvASInWNSJJZQZ8HTPbH3Y/Jlet4Zzx6QwGFm1O9Hn3wD7v6\n",
       "6I51acQGB+gsNPaVtgKNqhmin8YrZ1OmLF+FsIv3H5G2PB03DM18spzj8gfcUInEJwAjeMj3R58J\n",
       "R6DsiV2zw7LCfHpWkbKfjM85Beq5NESXrKKKjFak8MV0ExaIaCzpmVhxS9ltVc1Se/rnIF1r94ah\n",
       "DUuPmIFju9WH6mN2/7Xm2ndVv8L3711+4GE8BKDuoHf5ScVaY4gBLK+e1305g7WK1nudp9cLAbwJ\n",
       "c4ZG/3udoZfp/KLvTlJwMrqHc1FzxOSvmreb/1FCPiTXTVptyW2hNNH7bm+s5T+zStGo3oy56IdL\n",
       "duBhjnIBInz8WVit+rihqbiWggTPO6p0YZ/3qnKvKJiRF0vsUaQFxPn/4M/SzCVZtU8AXJIzCkcB\n",
       "OPLtbQBOkv6Dg7sg2uvDFZ6u3j/xm/6mGPjQ/u8YuyPfMG9/Cvckau/rIP//2JACwIOi9jUTGhgK\n",
       "ytEOd46xBN1XvHWNs0pE3YoGxhdZzlaZMlCdcNV8Thx0BDihc7jf4jth6v51a1znf7I90Vtc3g+f\n",
       "P99YGz30kyVA+VVU7c7WUhCBRzF3Z6CYqR5NgPSZdVv0kIQC/XBfvzqq9qWUOWqoRP4/PqR3S6/i\n",
       "t3FWv7/fN9EqAPP7WBkWQaLEUirx31Wm3bL9kzUADzBuu2tkbkRshHyVGW1z7des87DBT4bWn17V\n",
       "PzErBkzdvg+fS9kYz5ezXap6zvolNefQg6ojHlk0mY2/prvJ2Gp7KTZOm3jOsITHmmwo3kgi+KvX\n",
       "Yo8jvYIGgr0AMvuJcd0E4viEG8+lO1lzMercqozKa15yDobv9bUjB5qYw/gqe6UzRLO1WzSPr/UG\n",
       "KEX5kzh2OoYnVbxUHOeaDN1RTifoVId6+w+ayOFUy5P5fyXMriNnZIWxBHyU09uvHZ15ISbqjja8\n",
       "gxF682sznXWpXR0//9ReRf7TFzt4Hg5dmBW6vEq0xk0JOmIsf/aVYQg586q24xZbVX2y4ZbIHVZc\n",
       "0gu471SIteChWfNWatE3zyHr4VL4FjGXxNAibWmftmDpvrq00z490NL3hTFqHLawlwTqdGtvcyLy\n",
       "A6F3ZVUFWTlAHg82ygMFlIgDNWqqYBh8PSVmgdtgl6HwIuNgWKh/TpWYl8/1U5xv7wVAYdFAQ+nx\n",
       "TMOozNQD3AERSNVeRQ9W/ue3ATVRUm+AISdf03FziHRnzOvnQS7uwVtZwOXDiBPAE5ZBo3XgJ2SY\n",
       "gwVof1hBpnAroAZGIDgtS8WBAAADxgGetWpCvwAWM4tJ6qInAkvSWN8JOdy3yy/XZ6tX/V69Crsv\n",
       "fjittFAvgEjK/sGoRJjEAAbsX+Jc8emAFkeMsPLH8J002CNTJYm3Q/O3ugg/I3v6ahNZmAomp4b7\n",
       "osk3k4k1B6Gmr31iIdIo90G6WOgitkh4eKxM6+VK0usPFgIMCg1X/hwR0aJVlrouPQguiOSWeiCv\n",
       "CSOC08B0HqYcnN+89DhN6SXTxfGIhnnWNGEsTcn7cvLJ9MsxqobQ0HuFT/KCRxve0oLZtDnawbEc\n",
       "Nzq30/9f3dhf4vsUgCo34vzmYd1WgXvbt9C2uvMWyDzt+AT7/xPweWIDJAU7IcKtg+Z1LkxYaYzM\n",
       "kOpBlimTkS8BrPf77gy6m8obDv38fBh4pCFqhS/DO9inLfNEcWYjy62xTK0x/avbijCbLZQ64k9n\n",
       "f/txsgfsi8My5FX7PB9QVyXPS4al5ks90F8dUN00iZP+G8DfvqXhztuCZffy45EYYHtpqbyXQSi5\n",
       "YN53rkvEYNdLoV/u2mIz7hABiWTTKU9hMmbQHC4RBFcB36uH+BGfaMokusLhUF9RySwqQb7L+WzG\n",
       "fnXzqZdmXw+0mbwcDE807MVDxp5SfqR6FfltgIoWDqqHXfhURkeMkVj5swbt83a8v4pBP7v25bI1\n",
       "T/erz/L7qssba677Ucm1vDIhNOw6052fD97tXAU7WG5ThPiufrh4ozMcqm8mA9e6/5eeU+kUH+HF\n",
       "/n+PZsLoqSGO3RnjMvewtu79KhjEuf358oAyI1Jd91eo5EZFGetFLcK9WoDJoxnW4WamkxXmBCns\n",
       "Fwcd77uIcAdA0+GQLlviBF78EKEGJvKyE+rKUiVt4M37cMJroOao5BAsfdcwJvxLh384utfZPTAp\n",
       "NmxeIMyyIABNYJBcMU3uFGgB4xSoEPoc/ieRHbzC0yVACe6KKZP8YeUMMMcV4owqas8VZgacEkV3\n",
       "UdJqoS/ldjlwx0zwAuF1zrB4cxwrn1D4Y4UQ0tHPwh0RCi/FVgjAld2Y+tpWI/WOpfBH/Nqb/CLC\n",
       "P56INDonj/ktE3KUT0rw0XH/wHXcOBgB0U3la8N4ZB/jdqIMnwhZJ7kb34n/WLs3Re1k1EZh068y\n",
       "yA59MDYStCaeTEidCItncaEjjICt/Tz4oX+jhlhsyjVLB5tsmhx5EU43zVAO/1GVgH6+51tVZzUT\n",
       "CVMAL0l3DkCe9QQDTMj8yVZGxYTAFUfKldqTvKTbN6naIzURB8czAS8ROXwlWlIjJMnvw4405PJ1\n",
       "VMXK/Kektau/e4nWdWlP0fPNgAAABwZBmrdJqEFsmUwIb//+p4QAGx9lRLnW4OoAbsMn3jSurSD/\n",
       "6RSU+O0fe8QvweX/oqz3lz1Q5j5p95FlKBXtCSNQXIcR6SmQ7jXbm+77iUAaE67K9ZbSLUyg8n20\n",
       "/FL7/XU+zuoQAh9AtVhw7g0V2CKdEKcWvznecMtYP0/2TBSXJ4WlZWXFl6twtnX3sqVMfde8HI9V\n",
       "sSiGYwNxngOTHOq4UNMbydbNWKRorGRnBv6VMJSzEF7756cmODCN79PqPtrN7K27AKvXoC+ks6dS\n",
       "DOHKwPvl0UW1ZYCMrPiDhk/C0LXyEL7dVTu/gO/R18E6hqgtFVc9r/0l7np+/UXTa+lxRVuZpXd7\n",
       "nGRQo/hYvRyNwulFLr2S2/Zj3KFkhfMt83ZG80+1cAYjxYB7QHiQBnVgmDfxcS6W+7Ev9eQ1VBNI\n",
       "B9fpizvRB2Fqk8xsbCU5IcTWiGEYexEPdd9+7J9qEmEYZMb+cklJrMVBtS+hxnZ7922Uo1KuIliE\n",
       "NGUiojv2iJsSde/clDaBSSpO6UUvA2btBC+eu+xwZS6U+cfPiDx/mWbfBitppNms6DEE8xz1/i6k\n",
       "orzvyZUyd7+ipv7HuZG2sJAd3UPCdIR9fmyPEi6WAMmQqh9KJnEtjeMCHzHfC/ZvkZGmz2vHqUgp\n",
       "QLj02Cb1SGp8ye90nGnOMA4OtraWLdoj1iuyteb2AxXigFx8Pt4L6SHF2EUWKRCe0/HMp3sWYfN6\n",
       "OoLtEf6mXOP5ZEXkfw4MCSvJXTgUpqdmyA3s5ltbgud448kKddLs08gXnWZ4X739sgZ46PZMoeL3\n",
       "OFANhM/5aerEkKCfLCT0ZMNcSMEY4kNUKRWCnAWcAQIrmDDTMCW78q9sj4eZuOfFzSX9rMU3GqWj\n",
       "LFGLhyFlAF68v3yJGTreKUbXkgpK9yyvyKqS0bJztLUtVcKOR/u7ThVAug85y711R0gZlZbzhfcK\n",
       "AGiDTO/UprSiGSf12kq5qNPr6fvnBpMGLAYggsyrDLvkDdZKScnm6PrirsNxn2rI0+IwezfRf/vR\n",
       "dhxEpsIre1xk0MknLCdVfazDdP/vGcD6H8AtsXnWAtAv9KmhaELT4xfDeA2cu6VNimBTd5FQWcQS\n",
       "C9VOpHaoQvTso3Yc6/IHzpVoxJvctH05f/g3i+dE0jt9FXAzmqToU75de2mWcGFMK4aBJFixkVHO\n",
       "g88bUBepKZfExSnrlzsxl9vf/2WoQQk0k4RkeeMFeZEURMqV1UjI7S0dYN/3q4NlsQjlpZA/2hqw\n",
       "XRD2bAK+5UTyRmrXAXFz+4fiO2DxyUkXcFp/9bC6+yQSCQQKeJKS0aO7bJ3hLbtL7pljiOYGSybq\n",
       "tVyweOsrcuxQ6H8NsS4VYAvaPLIkWzkTpZuW4SSWDZGV5puAMLZ4Vo4TCmBznR6KAQKnD8jVaRJg\n",
       "CU23TbCvenxx1d8lb3q/LF52YHswleojx/HG9tFJWfysGOzkLgKyoHUCqhPq6JFnfapcGzuArmf7\n",
       "LUB45E8PpS3VC5i6g/q+G7YOPVuzcXk2bKtK70rNXWZsZvF7oWEbMzSWJ5VcTm5SBk+Q3WCGcty4\n",
       "+M0jkaqiI0jSzE/0FO5ky5eox9VQAJtfBml4LqAbgIgb8Ed9dI2u+P6svP11BHhkt8OrkunF/18F\n",
       "LoYv6qvR0YlZnNAoDLsI8aS9csO1a+j68y8xAz/k64iU/WNBqceHJK91ZUMSTyhg0FVMFfs2kl2b\n",
       "jd9Kfc+fdd1WZ9//tUa8uEUYDfy6h2Z/3BDzBtli+H9+6bCywR4KBBqytuQ3EtxW/B5afgxj5TEd\n",
       "izjn+8YMLfjeyUEHavcmj8/WQPpIr+L2HLMLvanqsDoGjHf4c9VFSr2973X3NmjftLDF40ZXgehA\n",
       "0q/ocsM/Rs8wxDXi6dc1kndP1wGY+F2IsI3cMS1BONSl7ViP9VIs7vOTI+eJXB4claP3zI/PxkG/\n",
       "qbYgE2lEb3XbQQmmnFxOmfdbOK06lqEPTe5IkUcDORbFhE86wMrr9dvq2PhNgr+7fOKI3aULx4m9\n",
       "G1mqUbOjMnptsKql9tM1hEfUzOT1DLj95W668QXuC2+baUqzBqn12XZ8f+H4qXHBPZbU/I3smNCz\n",
       "bTKN1EsOoRUOFKD3PQPJGiOe+EQlDbGiXCQGw9YD2PuNMrGEGtswFN+Uzt0nFqyWQAu0TLZkaMYy\n",
       "xPxBTVM3inLjS0pHhKeckfI7hcMC3Y3kmRN0cfyrBP5zPV1v+L9WzQCiYzJAp0tMy9SvxJVAAYJs\n",
       "tgQ6KZnW1jYkhXB/cFwPetP5CzdUupYN7npda2K+nxjSg2IxvlUWDZDIOZK0qo3h7Tm12ANh7gkA\n",
       "YDkr1Rj8JLpl7EcM7e0BnNQ0ttRU6h1VBSZurJ4A9Zh7kjhXk98GVQgZlgHB1v17z1MGE3PZAAAI\n",
       "7UGa2EnhClJlMCHf/qmWAATlqirusCAdBgAbU07rxb/nFHZk3RybP+yo8H4JBsj7u2zPP9bZmiZa\n",
       "OvF4NQbaNIEiv74AaQyVUs7DQfE28G9n1pq+BrE8NHFmwg2yKV2lsmQeMA/9hS9fnOdv0D4LlDJn\n",
       "TLOM9HDCfRgkD3iaqGqcDqy7LTI6ODxCQK/4Qu75ATtagelbh9mbJ9r9BIdb6TyOVUkMwuAEs0kZ\n",
       "NO7kBzJ+5+8yVTAKWP4LDa5vxwxIE7ZRVlnGfZvMtBex9mq7KiJ3GPeaCq49MGcbrb/NlsoynJN2\n",
       "ndXYJIjlKS7f/wqSvYwtqD5C2YRs/s5VvuSTV75H51Aflb0pUVKEUhzN9tmRlAn7dFTePOTuiQB8\n",
       "405oVhucaI3AQkZlL9N//iBb84eiZUCJ7bMw0b1NHVoufsz7UyNiAVWas1rrmmHS1QAwa335xFg1\n",
       "e7TZuMdLx9SzvNk1kvD8cFjxQaBDWetxie4G9idi7atnAAGrPgIkAZFpaK1y9LaCCN79hWSCwSo9\n",
       "fVF+DC6IGaB8F+qd5iUIJe2qvh6v0WZCyjcOXYLcgFFUTlfn6udHoHFIrY+KMjc7QAkrK/YZTqUn\n",
       "ZN02iuwSGzpawDyFTyE3th9dHDhuAHAtRKMgLetJljDs4DU1UGFRCtj09fITbXr1uuZTqOvTO3QZ\n",
       "pTeg7c9bUWrH4EWmFOdPdFU9ll9XzEFStRBeLzsVtT+TH4jzWKeC5UbtQAtTSfFd4y9vuRkcuCBo\n",
       "ZMI/Khl1m3JY6BTCDlyJvlxUkqcoNMG1GZMtrqZ7w+SJKIrv5BhWDy0Ud41WC92fg6LejLKIpvrS\n",
       "oBe7y+YIfMlMP5+lDdVk1kabvSDORqPtICC/SxUnnZgrYMGHS/yFKVBpJoueIccF/eLYojuiF5JE\n",
       "44yEkVMU45MkuaFMjSUxHfjo89rkVDei6DqN2FCYqyNmiSJZ7I+19KESDdsZA89FLUwIpfV7a9Fv\n",
       "zhzbL3j0AC/He67E0On6ELKTq5klKAlVVvCEz3+eW2V3HSDgV9nG1MxVUa3h02NB9jurvbsLBzQe\n",
       "aoIYBpSS/BXGSbofXrtlOWQ/9kJC7px3m6xEvYIt8cVcjLDOOKdp0tpfgdOWsBxoBPey5V046Hg0\n",
       "9edjwwcjeuMrm0SA0F7F5t8XoDW/NLYGw9tyueOMTO+wrh5OKO69d7dkAX+NRxBOG3vlQZM3/ZG9\n",
       "2tOeN18JrFzaXuam/ssRAJms1rFmzgOkNSRnBRGxstW/rGoABanMqNHdJxdAFBdibvUakHbLrrIO\n",
       "HMQXin8qslEEQXHsu5yBNDTIgb+F7ozEB0acGMZZiY00/toVgIBzgt1uyyvP20e0122QOrTYxk8R\n",
       "lad4IfkU1bM7GMdN911pZFZTG9nImcSmdp2Iys5PvR5XiE4jv5gbLt+8/BOYdwL7Q/t+ewLL1WZM\n",
       "VWdRusotFGbosbRCTAGlmxLcubhDjzyiNfsTWr9yp7urAsufmQ5EZiMv6Mjf5GekHjtbnPKtj+4Z\n",
       "MWOT6RawQBMNGuy2OK4i2rIX6m34PzSAhXewG04bFMOse8PgfwXDzZfjD+4FL6IXP73+ESfRy46h\n",
       "g1zEMIyIFUxXQPUfz7w5bRdaJF9CRsr21RELoVkNSOC9ObuRohy4FtiMlJkKA2cblapzBdedSMNa\n",
       "51JZb4tTspX71r80lRGCZm3PsYm9u5vgL6VH7ECDKfXjThaPYhmqbgLgzDcw+5xZ2iZ9dTb9BNws\n",
       "jBun4Tgy5LuKvBdCx1FiLZP3swyyhb9NOvPhe0N26hTOibncMHDXSazgnJGTOHmCPYeGbmCQpt5p\n",
       "TeK5Rh43kQd8oQgRQ30t9r7k2Wv2Sv5nb07No01xmFrzduJTT6jxO1vzRzYq6/lWmofErydEA4+f\n",
       "jPnX2tr/UbkC7CNg6NMadMNsDY5HQ5EIgO9ek1nKvm0AgdDExEG7q9cweM8Piy5ZuNQ034FNGIdT\n",
       "fC44TRFw7acJwyTXrZRbVgO/9ZYfuv6uC2+hHrrAb6YexLb3kpRInLrf89v6EpVC12i9ZWbba890\n",
       "zSfSQyPksgOiCAZOT23/3jDDJ58DUhHezjN/WHtvMNPOTDwKIpSAF3Zvj9A17Gq+w7agUX1vp4O7\n",
       "AF8apHjGexw6JrDnMMV9JPlLNDQ2PeOh1TJwCl77F7dNpNpinYbPT89iKmXMQeKJTHwtOK8RmQWH\n",
       "2/ue24P4h6cJaWel+eWqA8VWmX/HRAwiMLD96H2DzQXjZgFKJxj+teqnJAHF0ZHBKC4oceNfx0zd\n",
       "arwDY8vvf2j2gcdoG9Fl8z7f5hw/AvUUVWmYuBIaamGN8gLM4aOGKn7OwI86qZa4WU1shVWLRABM\n",
       "XlUuevkm3KOq0OF6jGzE9/2//r8X7K94w9ZL2yxHY4QYkaWwZA3R7/YtrAurLIlkwqWznhZ2MILr\n",
       "GWP87CWRRsGNnWYMozL5eiKZL6Otzy9mS6w8n4BV0U/oFYn8iZElB7rnl/KJuHSOEo4tdO0VCxn9\n",
       "NgRtGKjDaOoLfkhs5w5NdklNQ/AMgNORCFPFJpEKDMQ5W/WElqqK0AZuXCynHOcWfluh/DW4cVqx\n",
       "9TOyvv/1XHe3P8i/R65M+abt2L2JKnNc31fAE/+p8UYuQFidWfIaCD5K57k19DSFef8CTggoGZm3\n",
       "LO7qp/j5DQdQus7NtM/zr6vdoagNPc/M1qJuwiBoDcbS6QZCtl9jeN1uySp/ojzPFkvs6XTH48+s\n",
       "eP8i7Lagzul99Q9YkT54wMZ5KUS6UrTXzuN83HbHimuFfE3vUFTM5kVBdpoHYtHXhdNkaRHuaeO6\n",
       "mBbhv/4BTZwVMrZlbZ09KSqYVd4DRKqxKl66bBmIvaTvlXdOyEh5j6iAY9fxZB6jacr1qugIT3KE\n",
       "SJJQQsz29T6MP9rB+y21WXy0isNUvTBgjOSOhFc3XURNS05nmUiBqbSacz3OL47CHxQyqDi2KEDk\n",
       "2DnIzgkE0WkMDfFHoIYMIyTspQOf+eqzSeizwNgOWqVMPnnrSMw20ijMsXVxa65ftdkTHhV0NojM\n",
       "iAI4V/jZAAAOYUGa/EnhDomUwIb//qeEAAnsMovsOfgYABq4AiBCny7a150JJwvyobATb+YajNfg\n",
       "ZpZaqFpjkVOPOtEUDUUPY/AdwsJ5dfjHZwCSFZOGLMSkU06jSBGiAiohrgYhCUPnR8B0UfwxRp56\n",
       "TrdgOFpbKxakDIhzIWRFlcNHkeT/qtltmtFO/5JGeN/F8LPBWMFCHZaj2IUXMNSEJ0gqkyrWLx8j\n",
       "CAFVdg050+jmc2ydbXbv6eMXmsZMa2mMuXCP6DnrLyB0wggR4CbFHX8qLgJgiQ72qYH6JYQF5T08\n",
       "Sbo0TXOYlQwSkaAZ6ScjAyGVRAs8FpS+44C4Dee914YJIMdpurM3WH2IVtHdOiEdtzMyogM4nB1D\n",
       "qDocQ3FtrdsRA1nIqeRkizIsElFUi4vqJjEkL9htIbM5w6ZIUQTaw3G1sOB7bv6DlOuhwCOCrmDe\n",
       "PSMGyN9qfzxaq0sjeDfhrJobTrMdigR6AvNB/sSQ7El65a11TnGRU1Wum4uDiMtgX6Tkd4JAYpLf\n",
       "SyxVEpkVYG5XpmgRBJtCCUHqblqxYo3jpkmepFY5FNdqkQKXnf5xUOMunNWSaL3seLcskgBByAuw\n",
       "gADJK8RCFlZatfeHEl6CYIY47J3Tjg458dcMW6BtWb6Wqd/TpFAoADMvT2ohFI9/Vtm5AvMG2WaZ\n",
       "OHb2KhqGW6WXwhU5DYeOkCPJUrUNX1cczLiukCu8/p56tLxIWK32iG8EmzyPU0CGqDx2zT28CUC0\n",
       "XSgMi63fcgVgPmdwGObCWrwPaPC8Kq+1k98jAxdTV59ZN0Hlt98AmDX6OobyikLxnDAyHFOblqh2\n",
       "bC0fHkUuFaxP24Rmw3wK9AM6sKW1yZeX8ULnYo6Ptvgdgie2V6+DvSnzNavFWnq6/UW1rh/dlA6I\n",
       "x1i0mnUAEWaSlbj1pHqa0NL+O9CLy6DBaMM0zWu5D0Yum4iGMHWZFr9BziK+lkg0v6UAtMpEOZwr\n",
       "Gv4+elUpVDZHHbPoQDGjDoJMSe8LJ9pLhBH/b+fGU4Iv5yWDTg5Y2PDPDVSif4J1udGO4Q9onrKe\n",
       "qAfZAe2Zb6U1TIvcXRq5C+52gy/+AALzlmu4hsdRg1CB2/dPZEL/GGhfzD6atZi1VUtedSwu1HwW\n",
       "NQDRi4JpIbha074Pf2o9foVAromQbzNu6A/6B4sIW/3NzMmYoSAWfRvKxMXWlg070nHFuFWofuwv\n",
       "mNb6L9CIzTPer25N/0W3lRpfftaVd6BtJ+bPX3RAgkqvNiytnnKl4h+5pmwsz/fB68yVGETKra+9\n",
       "V80H8qK3W0AaXWvgx/bgWouR6QLr6UVuTHS3MGTdcuStyBbkQNxU/m8iE15qCmNkyZmuLfudhf7C\n",
       "mDUBgwon39fkn+YZwt9U1cMhJryxMPf2tzxiQvzaoO2XlYPHE2vsq3vhqm1zf78l4dPZWXL5EMG2\n",
       "bgWlVUykRpkTrcazYFIILs78gK4gZhD2r7EkGgLLbo8206gdKZZq0rWl4+kNYxHLl8+JervA9O6V\n",
       "ancDYyFfvNXKX4fUebPpOJiHHChd6bkxG/43UMRuY+XbSfqNMFcx3jql3ghDxvx7HVl9WbyjuUZZ\n",
       "lsUwucxLyN/qMHD5Ox/xCO9QpD3HwKykBQK2CLRABKsvB085I5QG9KhtYzWlpZPkVonuKtliZRBP\n",
       "u3P9/H5qyoD5CCNBF37hb/Hxx0Uo26VAXzOrwk3mzHU17/gsG/81JdFMGjroTEGRY3J6Ig/ux6SK\n",
       "Y2ZISdFmq6vtnYCceHoxItMTElBic7ElpsMdP/SKJLG3+UZJFhdvc9KLD2Cr+7GcRxOvNtKBzWu3\n",
       "rL0CwX8LTfhehzvYSwnYPMxzhRcsCp8HdvQiWtc/8afz9az0J8oiIzPDLfNvRG8GY29mY0Fv+Gvq\n",
       "vz3nDASN5aoGT4h36KPpRGM0MidVUm7uLg7lU8cXNzc5qV8T7jWwAKLV6rrudnEL2DwOWlldMKU8\n",
       "YNzOFQ3zUxPl/ymha2J6f3+3GrSK4d4Al5qBtmc0NtH19mmE6hIlNdbIqLQSGuEQv4zmCD2zctBk\n",
       "7PC9hRcbPaGtQG+UJpIUAhbWuJ6MxoSKUkSXe7QubaicNA3hB7MOSpZW/Iqq+dPGFBIsNHhlqYgL\n",
       "FidM/hIDhhqCpazYA3NnjAa3Laa1OunKRFN+j4ZVlW0D2qc5+z85rcyQ8z56A1jEpCT+4/WJwshK\n",
       "jUqeb5RiAHgY4O8JMIq4Ms5uW/+ZXNkQFCAJfhPaD6TUDk3swQrWGDqjUHzrthrOIZ8ZxIEp9t2n\n",
       "9ngIfUZrxNeOQbGIKhLs6hccMbW4JLadN4KHSFiu8Uv/Q5ZvCkw01si3HRk0Lq960ohQIkrqHwE0\n",
       "y5yqGRO0Vyzy3PIlfCD25+lw2kshHE0dWd0bQ5NVTjhhjF7FPNjkyy+v1X4ncP2NrEC02qhTcA4r\n",
       "E0ynV4VawrwM2NZP7bk7OlULR0ycapN45+sP6bhTGE1YTSGdaV++wc9SUmbssvbzURhU0fSlZt9+\n",
       "XOK3r24H+/4eEof1vbbxzgBcJUydXn3ceycx4sKG6E/V4vzgkBnWAs3N0UAM4/dF8l9koGv6fCRc\n",
       "0kgu2ECt4LQkWc8g4PS/Gc94lPszSHI7ipgvbSlbnp0q/TyssGyPdw57amrfOlaC/eVnmQmcGWLz\n",
       "0c1bx+2nYLYSo2G/ya9ORexVySrj4RMqPrNhxD6OhWKkB5k4gkuWH35TUMiasX5dzJVuQR8aPrT0\n",
       "4V1yd0yW5wvKQA8EnBetL2hVj5SAMo6l4juLBsiZY53OWRiNVcLuHs+35t/QHZXs0zc0OBG1XRDb\n",
       "I+elFmpBSHRpqwtscuq8zEiwWTZ1k6+Te5J8j0I+UV7CAQLFYuznPs+L4RXwo6fHwKMgyD2jvNwm\n",
       "h4FKDHss2rVDlVU7kP13rlHb/r6avj592LHGIV8l8EpGseo/Su+IID89hk2X8tZM6wlo7BZb04kk\n",
       "0vANn8zskDuS4aUlX96gEKxqfUwGJJqPyt6Gt1T72431I5wAvRqoE+BBgy5sm/A1G0WBmW0JTYlD\n",
       "3w7KXPsXBFlsQNEBWbJ9StHPBgbhUZf81gWyFlWtn0Q4E5ADro1RwuYNZ2XrC/JpMD1FBKRd/Pws\n",
       "My2A5h/pastNTR1+o/apJXiY7WB/XE0yHtCBkhpDMOIMaNaSOFpmxVrjEWIy8W0HR8O2oH+OKxgd\n",
       "IkZNw/EzR6/KMFexzn7wRA9e4zfwtsn1yPSUhbVKUPJxwizOeRD02RwDIlfPqtYH2jv8AeaET+wR\n",
       "xnnwTM/wxKQj44AV2nRusmThDlrQ4W59MYaDwckNcvOaR4EFVohfg+8bJYiF6cPLDgrMKwN7M+3N\n",
       "dhQp7K4zPjRnsDTzSTDEEa7sT0Ua56xAnlt72WPnikP0Ex+F38W1RLYt8EcAMutWrxEi+CB6r44x\n",
       "+FE+P0C9PkWAAWky2G1YcSQPAsseGvFO7KwHyyfJOv7J5tLj5gTgL4TGhKEzRKdrXxM6k4JuDAMY\n",
       "IpAjw+81pTonmySsIWumNe+chGunmRjpDPUgf4IF2HQ1Nwpf9NDToFOvNlsGI1WyDWbGQ1HUk3cZ\n",
       "GdAvWuTKt/1VpmPxMGnn4q941daE63MXiwj9WFQDAJHYTI1RW2U+LmW2d+2UrJATla/8c1UxzFTA\n",
       "6QxW/VvCVRM/4D2M+Hcaz4FWS+qRn669XTeHQQqzcP5+GD//Ap3fCbHtTeWTrlJ5HyVHUIzKzubP\n",
       "SnNodKU5RhIeziX4nCosBqVFiLuql9kmka618FqlZ3ZLdjXCn90R8JNmzEB4+X8QYI5j3yTV3gVb\n",
       "M2XdCtzfywx051Z1w1dCXcqjFxAnF+KWNc75EeK3ixStbz+M/fxp5tVT+oR3T9uIdo4gud+kyVf5\n",
       "r0LYlNHMukL0qMBpHyr3/ZMSYo97PZsNrv6VOgOp7HliMbIRQfXmZ40Pmc3qV3/yekrq2UIQdjs2\n",
       "Q0Jfad4enSfUtDhMvS0BOG5o/nuHpoECaGh2kRiB/5hEuW4vKOX+9aYFcE0uoAQk4Pu8Y2MiTBU1\n",
       "N85eC/kxee33HwLsDIsNbZ3ayzKnqcEFmzFRQO/FkpDFS2hgWITbRsgFGplMugbRJNPtfMPIksHn\n",
       "GjttnHVaNvKgJkD4uOb0+Ym9DrFuBCXl3XgedR1/vwVLfA75pzoDF/4wBv3YqC43vAzs9OIkXczn\n",
       "g2oyEI3TKaMgdfViWZ4RpT3xLyioms0M/H1PIUcOMgYfNfYhlVOUMvQY0VxNR66CZB0l9sfP/RFn\n",
       "9nO1Tkju7PYCAAADAHiWWiGyxL6c1OPo1Z/R5Ag1MElJXOoj2LzADBcYLayR5S7yeBLgTb6SSyei\n",
       "Sb3opPuLMZTUcFdH/r+2GNdV+yxQgsFCJKwAwEF4qNaQZQ+zZgVyRtAFDlcyLw0ONAZeHqxWHhMi\n",
       "VYc7uJqM42Wyq2nLVmT/m41QRthA3X7ijMRlHlgI6eLpScjHya2z1ixtyF2uGBAP6kAbkpcJuRJn\n",
       "eW0bjPvLu7mbV/ceFEsxqyEpkOjYnc7PSwjqcUcFvP/BllCCacn7K606seJ2fS+WlZuvre2Cfbqi\n",
       "vPBHVZY2TxrMfz0HV0omQvjVVgbMDG0jpX8Alg/WKs0bTbxF1hXpgEI812YXJZE7HaOAz7H5XerC\n",
       "DCMMQWV3S8kADMS9QOwvVS3tRt9Yc1ziAbQhSSfGSZX/vldrE1+Hh13NNb1BMZ9lUB6a1BonXErV\n",
       "Afu8aJzb6UhDpAlXjjk5dhyjaqc8YoSfJYq3cJUIXKg6RzK2jTvLQu1B4cj+XR7TwZRJrS5wqO+G\n",
       "e6bsR5rpHj5NobsGE5Cr0+rYFuX7Eap9WoSlmGNj+UMVUFnj5rRwfyp1kut3LbQRLmRMOjWWgwRf\n",
       "h27f9jmSXsTWSF9mDYDyD4e8dmwXeQtCBG+7fwY0jxwIS7iv77JvO6W3eAAABiNBnxpFETwv/wAN\n",
       "M4rkxpWxYlPt+bWYIQA2BRtEXTxZ4ubZQmIEATtesHI/nNcJWRDKHLpWIaCBhNfAahsJ89Np96vC\n",
       "uWpYeyhvDOGKtj6266apSyr/57BSLLyY6GuKo4LhuQm+XqvWUvFl4F8IjYqesIbGdAxZO4nMQvBc\n",
       "0ZKPaIBQ7IuENVasUr3cZBVAL+Vx32LqPNFILHBJXXy0bFqM954Mw7CF8/Nsq3nep0jWjxXqrYqP\n",
       "0S1LsnJbSEg092FYV9NSLe8U0VIgVkp68P2U5KRVMzZXOUFMLVZlvP7A12yxGxfsCcBM77zJrw26\n",
       "zqJZe17trm3P9bLd3e76nPTk+k8L8mKAz2AUnDdpkalKzIJsEClE/gS9um+MpmuZe7gefqgmNh8w\n",
       "A8J2BnRKL0J9u7/28/Mc8I31dNT24MluKtS7YECU4M1yuvXiBNJkOoB6PanCROfYtJu261WBD2Rm\n",
       "hBnXD6ybNLcgRO+jX/iaxNcFQLKT7Bi1Kwv4Tf3S5yoJNKtmxtj0zLxAYlnhriMm5ti1Ygdawu6K\n",
       "C5xf4xIYh8PKb4vRhl/FA6fIyGpaZAUA3SM3SXgH9T3r9vjkBLVpf//QshK8UGUO4QNFdjNcuDY+\n",
       "W59kNu13BrDFuKzobii4+Naebi2OW9zdBLAF1/vRrmKrqUDHsus7nxj9oZtYlitp0PIdrj4uSqnK\n",
       "HPDLM/MaUh3/e9V/A4urAWfSmu6wezxWp4xrWJy1fN0FoKKgTJh5c1zgCqjlAuuESZUUWerbXE0t\n",
       "Y1LfLbzJb3HRILdKtA8S0sCmbMiQ1y/4hLAGsk35kx/eq9Jr6zo8viPxfnppNCGjHMzgm6TnHde7\n",
       "TszcJQn/NcQnIRmSuSKaAN1dy+IR/X4XQ4/Uo1x0xt0PUBJ3B5j7uD/NQ5CiuVWGrqy1sQKkf2tm\n",
       "RmU5hPIi6nluy5kjL1NqFptLbvXtLmXcj06Ct99e3c6Wd3NHAHX4aTRVmUduW5dHVD82rB6xK5TV\n",
       "p/ExglQybDQB/DpgIL1mJsiBJzFTfZ3vYzLcvw+0Wjc/4UB0fR/HJzHm6EAdzgcAl5EELc+JROwR\n",
       "GdZXnMiHaxydrc13XcKwljuu3cVmpWlgBJ4ycnymgMDxu8XPvCE0tIhraBRf7pW/DHFfJiBR3gwQ\n",
       "UEXdb9vyzVcj6EByH4KphOGNa79omSQRTTiamM6W2F3CFIt01YsZGmOBlvJl1bPoNqYRhvldo5iK\n",
       "7u6t3i4RdXSu8QAekBg7KYQGsAVCYWg6QZyuSb3XASBmQWz+RCP666JtBb3SIk0iR66Bo82eGYSc\n",
       "UtkaML6zuqlN15W1fw2Gxe9U5w/4ncRHqKGD/R+WdiPsecwhJD6zSTcxfjEhaQ8g0J8k1OUbiFId\n",
       "FOQ++daMkSX0/4jGNeYyZene39ZfPaKnyirSlZLFTVxmagU7TwVS6UcPhOtkY5DC2Pkw6eiP2OYJ\n",
       "WhP3BzRJwMQEhPuHDsagMcxMgCUJombJ07VPzNUFSyDvnleRCv0Dtuohk4BeeUbuFDYTKmP4YqCG\n",
       "D2rsbU6RESCd6CNyNqYjf5P0nxdR/epBP8Xb1ZzLURcLa6J2v6LpnzqCfBvBk6erRF141Knjrh7F\n",
       "/SmqjmgMOxR/YMqnK3UAI3JzbA9bb6fEOgSPDAv5/3QTehE3Odlon8i+K2s1+WNLqZXisy5LkTiq\n",
       "y6KjQZkA3cDw3RkmEIxqu/d3CoEN1gFBLCJQ3kVQ4iIqtPdctbq/ddN/gunj5zOcuAvnZlBXZ7Wo\n",
       "sa9dMJYq78EARTq0PNc3IsfP3GMK2PLdxlN1oFLewJStGsZPlGSUndLQ0/kfePW4cPwCH+kFvHAS\n",
       "YAnB47EfehckyKLdIARpw9iOPtlQx/yFxY/AtZ/7lRo04N/PajNMdjbWCe3Rb8Yq2RFdWy6JBy0F\n",
       "8gMpMJcYM7PLrnMOb5pUu//Mv24D+jDhl7TU14AW4p4SC9iQAOZkxBFllkkXb4oNXoak+V4yB1kZ\n",
       "JLVrq4g/38INbLOoOjpMfQGrzbY3i0KSPB07vMIUT3aRNaik8ZZ6vDUlXucclQhvmpaOCXd/WBr2\n",
       "/XHM01qj6wmRXm+lZaJESPE9nq+rsQAAAy4Bnzl0Qr8AEaWSaKDpZiHLzVqqDkHYmK/nBKqGkwdM\n",
       "GuEBI0Aj1u2CKA2JMjb2xQRe2FACU/9+CvsK4sGNGg+WXZANfDNhSJyrJ+AIxFBEnwFPvTV7RukY\n",
       "Hc8omJoTL/jGJGSkSqyIfpEMKatPupudiHpEsAAa34B5fGqIiJNDHmlt2VkBXG3DYFMO3tCSAt6N\n",
       "Tdm184fx7Xti8Nc9VeXOLkDElH9jWct5a7vWnqCHufkFA5uqOYKKQEbsrKe3I8jcOdEFyRtQknm7\n",
       "eCIdYcVJr4KkhTXykbyk3IdqvGJUinJCI9kz6gxmcDAYxP9rFyDV0ciw/mgmEhCbtTxJ9tHKYz2O\n",
       "q+FaH5Guy/dG6XiVwDncgpr4APv3pn/Cxo2067Q45AWPpqp5ydVldhA3cx129oVQeLZVl+/dy+L+\n",
       "qQ4v5TKpdmC2Awlt4HljP591CFF3dE0dWgTOFb+jtLTZrwTLFIzFqo/0gt/OMaE9ZTvgbzbHMoS7\n",
       "itICKAfvxotKeMVSnc7/Vb6X2pINQoWDxK9W0evWSjyEXzMzyfWmG0euUwlPqdTbYMDM5yLE01Uz\n",
       "ROFsyfXwZzFc8xKBY8TAKzs28vh9/9j6XM3+bR4MiLY403nZClgeB3UUmDRISrwIbcLNIb337bMS\n",
       "SQn/PgS4S/3scHIL7TEg5U95Yt3idS/nOAfBJmIstVAosu4zL8HjRFa0T/tEbYY1nV13FS/GPfzu\n",
       "kN0z11GSTAaDhYxF7WzMN9C9IUY3ATLV63n8jF1zFBeaTGPlcy6GSO93GVr2hn/HU2coAQUg7VMw\n",
       "oD2eeU/tZ3XmaJADSPfRt+JOsYF/hiwC++l0Sm8Z7KPrv6Sc4JYteJZOQpokK5r2fDSCHJCYHzru\n",
       "8C0zZDrB5h6JzvSle9BFu+vQtbxuJuEWEXoZQ8Cpzy/RVFjk2OqUBa+0omjhg8xfnn3RRgDYrCcW\n",
       "14fM6GezMrYt9NOxOXh0Fh258zAdOFke1HS/qloMCR7xDPfwIGzId7ZWKOtFqpQYhg+RWM9q8qx8\n",
       "U2bYVdMyw5xQrFmR6Xc1u/ymniTMQ59+j4oBlwSl1NZdw1CnbyYgkIsoAAADLAGfO2pCvwARpZKQ\n",
       "Xnk62RRv+R2oKZlDEePFRxrtb+gBaIGbyq2oW21DJrFMUlCsHhPC4bQHkfHf8QyXDUo3YFEDFlEE\n",
       "QQ8iykSoLZwW3xsXGZFKm/R+7RFzglWwVSws1qjDgtj8Ggey18ds7RHtcpHK5G9SRixptGFem7Tz\n",
       "sEjEDDPNAR+2gc5eZFq/tM+l3Zw3C4OT0cI6XrqMSJYthrI7gWDALb4sJeFWuWrOety/kVnyYrX/\n",
       "EEvNNxp61u1vYGFb9XYHPxZZQLNWQBYBGdvZEAoU9xJiF4C20VtDTmfmJVyRNtFZj8TmJYTlGjSn\n",
       "bgfAptjwmqNG32MtiW/jxzWh9Vbg9gZvlv+NNwCGHFngWYBLdnCeceX1Q/zBnnsyYdBZU02GGIMt\n",
       "B278MrKdxkwjpN5+qp+hNd83aQ1++KrD2OA+4SjXs8HHDtddwLUGomm5k4XKjqm0Dfi1P86a6K4V\n",
       "4p+w366Ws3zbpkiBlA2mIWfHGYM65u9FIs4VPrch/CVirbUTE9g9dM4uQSUbwauiiT73ou3GCy2I\n",
       "xq2qWiSljkplWax/zDX8ERQmsI0Io47eOuJpRZnlBLIu9TdD7AiJuIx4e/XToQh5/CIkin7P1WVY\n",
       "wbrvyoFbbmLtzIj2NOe7L1cSneVuNBUXSXFSG2HJLIsATk3KRB88bamPZqgwYQVZLnccWnDtJAnI\n",
       "EYyj3uxPefmwHf0hhm3gnPPf6Y3v534wxga5VorJdF5WDUaCGqR8SHF8aE9znfTUmimzR9e0sqbs\n",
       "XmHTBva4WrKrxeELF30xjGlbJwP2y0I9eOJKqzI1wuG2aqf5qOzQVfiTesU7PjdTEUBQ7RXT+bQx\n",
       "8hJDYWrOVyps7UJVPLVMtZA3VW2zjxrodYs8FUCsCvCBQd1t+EM6aD9x+L8kA4/FO66DE//qmMGL\n",
       "ioHszvx9n3ryLXBrd8jBlVz5YQbBl0m07gHg/5KJtbNb1zfzYhp9Y5a+hBpP8wUbYTXxxTjXNND2\n",
       "DDnt1ck064MlV3xuMZ5yIad7gIjpwsqrDPK8FfH1UI9fp9PhPLAPXdhlrp0jEZnKmayjSOGUC5ZQ\n",
       "ZYtJAAAMfEGbIEmoQWiZTAhn//6eEAAmqQAc1EB3y/oAWI4d07KB9X3ZzKQH+trfa24wp9stixCG\n",
       "Q2WPDbS6nLBvspcx4AUsAqG1mBtP7EUanAV3zt9rmfrS/csb/uph+cg/HLhSMY8mFU0XVJ/93IfR\n",
       "ANJS7KGqAUPUAJdc1QEcN4u6sA/4aZkPD1N11fF5QQHuCLcHhPrFo4GdRqQTrUx+vGs6m9r7ntDG\n",
       "RBlvdic5F6MebSkqfEb6r+agPXj8HErHPedRcrU+PvRaJy/j3NnBU01fx8w0OQmInQ/PS1IzRHBP\n",
       "ZiLqc8cSoDzGvqQh9gMlFaQEdBm7Yaj24UmkeM9jNs7eZNaIWfAtdafquEXStu6CzY7H1yqBun/Z\n",
       "VrSKJ131PuDkVEl5FuOJfwdQNXzaluFfhe82ZijOdBrjv5BWYcWj6d5kuuu7SCTZcA6CLdZfVTM7\n",
       "t+kti7IURs8+lVT/KjFLW49oHKU97NE3eeshsoB6mrizDDHR+0HFFdzxBJ+HolnKuMHE6Rz6ldWp\n",
       "1HlbW/EAgYtlFk+dDZOVV6+eEvDquV5exu+C+WKm2e/LNAtAPU6Xl+IjZji0T5UL9LQiwi3Iz5Gf\n",
       "Yovnrxz2MFwV/2k3GE9h7UtJbtU7ZByOZdBO/OkGsCsJKCFuKv9pSuFDze4L0BKrvTAMg1MquQpJ\n",
       "1Y3syDv5rNhfQKP6G/GurKTwHAGWk8/HQJmlStKUzHEMjw0+/rLnXW3fgL1rbkU5M16mz4ACJE8Z\n",
       "BJRnQ5+ZiPHb7W8rMLUUoXolT/0PeOQy4paEjyWtO2WYSmWr8AN63Fskcjuspip9bAe7sqMjBKC/\n",
       "++5ClKmYdzx9kM/+BBth1Xd//Nr+fxZ2Jsopev7VXpn0fR6scQztW7PgQMKzwLvj0CF9gdqq37p6\n",
       "cyynKJ65OkV4o7CGGbcfXQt6vy7TdNPdvV25oOItzddDbhWu9cYWxmwo+ThmlzreqJ47wP2C2i76\n",
       "CuvhYQk8BpTny89lDJkRBT9EGbDN9oP3WtAntVs4V8XtEG2BWYytwUp6TFbLXtcFxEpO7ItqQvdF\n",
       "dtVUpw5tRCH9pCAKO9sHYXlTENb349FwMUmiQ3fGlsyTFIjIcAb/FrYT7rEBaXDF09OD8cGlxdfi\n",
       "Cr3o3krnrE5GhxpvDHMpHTHw6Hq3OabEtUoBin/ev3/LpZ40gfBgAkjI7VjR9EZB84C4pGZk+1p/\n",
       "Vu3fFBs/BOiVxcVRlMgU5wNlV71yvfiUg91PsbpJSv4hd/ESQ+HyBHNoXUN5bGY62IS4fUHt2lcM\n",
       "yT5QZMozplzJqH8ImK1Tai0iWHi5vthlikjBJ4qQ8KgwATOUlyuiI7n8glcSWBP1Qz6g3u+yyFRa\n",
       "17WfLTnrnUjkf+laJRo5xKmQg4ctu7/Go9fvz8nZw0iqTSEjd7WQdMSHUSD19nh4wUeJODCwPkNe\n",
       "a758/n9gXmBEVaTXo4BEFOsUEmuc4yyDapUlpbMDmSNvNBd+etUGQ0j6FL5191P59zmYucjaCGFh\n",
       "gI5I2R2+XnIHFgJXbauBi49pmLU/nC5bTs4mLXCKLCMUZNdsf+68LRLdoFEuQCqWTgo8yE3UEF5Y\n",
       "5Ifu8hrZVXR2frhRQADlSk5t29UpLmBqrfirbw7ElouTDlwtyEsE+3vwjYDVlT7F1kpnMDaljdwP\n",
       "B1xEGeTakCB22Goik0QXwRICd7KXsM1a0lnPYU8RQg21XPpDXg6LhUDs2Tsantp02BL4LZEJrbW2\n",
       "2ukk2nE3TprSBZ71qRtgq0Hx39EYa7IMzQ6Ci3Utu2vyi6oHVY7o9YE4cQvpHfFAokVsRGTbrR/7\n",
       "MtSHUbXhkjrxn2+sgi+rB/U7FliN9ImGarwCraZG2Z64QEC0N5dxfFGpo4Ch0foFAl1/GjzBkDiM\n",
       "nPd1xqv/vcN27vdlJpKYbq1Hdr+D/Ce9pxDC/D/BdA1Ewg5iljpSPkXKHDNxKhrED+Wc+8kXLmDn\n",
       "EfSWczWFrtzHxnxRyDXe1yNHxYcKJ6gqeZMmhxYaDC7P5t4nAVNJgDTcfo1eQpSJAHc4PsrPcBSD\n",
       "/EH2hjbhYYoabYIhiHtnvYejVfuTI7WhmtEGpyqSGBzX8W97ga8SX5vUoMYJDM+qw2oQoLkyIrwu\n",
       "AjfqTqUwfoZprX1Va39NZwCDYFvSJHVmoog4KpyzqlRZvSss6CerY6yOflMSlubFd7zP2t+C4cYA\n",
       "yISnN6uIOF8n+8mC1A/k/vkDJesw1Kh49+3tjN3UXAteu3hs8udqIcqAw6qmDl7WQNzbUq7LkORa\n",
       "plr4Ws8VwrwyosA+kzpzGjA39VUcYxToeG8sl/CDEGjessbEEgLu3eX15Iv4/ygVyq8VIVus4seu\n",
       "g0odvO44YAeoD5NXwJRXH0n/hbrAJ1t9ibmV6VT1Jf1SlpXsn+63/H/dQ7hKS/Lp4XLo66cJN8ws\n",
       "zjKyafEYuc2TQpl4Dc/RsgJP5iKmpF1TIvLXCOTygHo2J4JYP1suMcOAigjXy/0N+bfWppFmVyUk\n",
       "pLd10k0uQHu+nyf5uLxYAd8CanjALGyCnMzNZ9sIugF4BVd9zFZZ+8NHEjpW7B6CraRh8tRDlB7t\n",
       "dS3i6xHG9+dHpB2xasQ8VgPEDlyl+ubhJtL+EgZlGz2lJRC9cCfzT10kwMMgwbvJOLRWKACrCfcs\n",
       "HbKYkceu6hBKqWMKXvL6EEGN9KtP9WS3eDbmD+cHQQGe/IJE2LhyyUQxq36/Lk+/TA9U/+kABgfN\n",
       "4u0TUpIRzcrDC/9u2nYhgWp7MtvMeSWVy11jZLnrs1L++8CSFzWSrHp/LhAFfnVkyijsW5joNJFQ\n",
       "HZT9zT/MztYL3VzVRMkS8SF6C1nWa+MVRV1WeE3g07/H8PHVxAlUP18rX9lnp/zAiYC50PVpeqKR\n",
       "Zn9jPSSD1gnw7RtTBYINeQ2Mb8eSIxhT58V5sK4jEsPGMNpxXmos9/z6UaH1LxoueutYOHwwM+0l\n",
       "QK2CUbsIgqvHqih1D+3WOnq6n6c/aAADhvkKBeRIuk2FydTWJmUORluW16q+FgWGXi7gku5LZvEY\n",
       "jdEYii3eT9ckv5VkRssoaSWu6KBmqlm5ONQq5D+V90WpcYez6bFczNWdFEy/zdAQlXljC/qbpdIn\n",
       "Ow/21zDuohA6i0s+XJ5AFmxMOhoqWA1KuE2MHUD2SoWJaPPn5uRec1cIv1xqOm2vsy3l9s8PzTvy\n",
       "tOFdcIighu/sqsg35j4x52FhcPmb3p+pSnrheFQ7vARUOpgxcz+R2ceqDhUXralu//VZm0oLyBHK\n",
       "+OrGjAOxDRCP6V3e5H3g+oOeB/fcN3x+p1hLh3b9FY18z+PHZ+FscanOOn0aEanrfnhJBDRl30Ok\n",
       "sojtUw9tXp52VbR6Y+Sk4grT/V+1djYC1GzAXqCWbRpKNSy9W6dPhmvPslagmB0HnFO+0rgmua6s\n",
       "tFfO88s8fFV7ipPKBQxq3mcYxih4Scikj3nARYvB96iRsMzI0z4TO3kLDXktbFEYX/3/xXuUMZbg\n",
       "ch/+l53drz3iHxJNWXiuCgI1PNtBk0uAOVP0hFCtioKAPNMEFjWaPWrRpVp5P4wA2WwLlBV7OBui\n",
       "5gU44qFgtZbKSnhx261mH/Iwu2cyg98JArW6aLXiM8/a3bXFxiJojDyssEJgsEThzohVvwdJ1jxz\n",
       "O9ujgwsHIEbwIUbfBtWVeHMpu8EkSdUqdR8M42+2abbt6MAmdr7u5T/0sPreeBsUll+LOOfztLmM\n",
       "Eey3cpTZpLRoqnzwATyXIi8M+Bj3FVgiyf+eOl11Ef+f9KEdNmobDGWEADN9LcMH4T3eeUVNBLr2\n",
       "QCGFafNHPNqoNd9r/5lyhR0yUHaCEDofPknKqznS+xhvAOCrsahUToIlT3W1ref3nTDWVGdUbBWX\n",
       "IQ98bX6g+Sb81ZIBdrk7pgimaLfovnDCR954mIdANKFu3fmHQ1Ie7QNB9i+xyz+NykeKQHL6R+O3\n",
       "IL7G7jvhyrJNmeiWUvqFS7O7wQ706Q53BRDXmUgQ/oJmiGu/5ytCil62tGwA32JMJ4o1OtpFsD/W\n",
       "nW1ghOa6CchPWkTgRnwE+6x/hKb0oUDwpERQ5A3BJFjWBmMrbYUS0KIdNaKQC3m9D0DBS2vw8Tw9\n",
       "4CJ6h0RirToX2TNhCEXwsR3TEFb3lLXuZ0NdNltlWhYV19sPfKX+I/mfkKX0aMsR4Vnnsv2r24un\n",
       "2FLLkV21o1JdjbNUv+NQw09WOdSskjjNvfTg1sqnfthW4iedws2WpjPNF7TUiATh3VkiFpC/bejZ\n",
       "zL9/mGhcACZdjskAAAU/QZ9eRREsL/8ADoJmYwV01Dix73GukRfeSIkoeM0QNhhQsMcAPqlniM8V\n",
       "Z9fLoeHUMGuV6CqQNnEH5uZvvxgw/iH848PcR9IBQAN/JZRIeBgf5E6m8qMxE6ZgAgUSSKS0jvr+\n",
       "esov3VbeWDwenZlBpI0EUlqHhcmkeabyrBswOtu20tXf7DUgTK/L7i8di97iwNiqc9oMrwWPS8Ki\n",
       "CvpRWFKPcA532gnblz3lORAjsNRVXINW1Ekpn8wkFliL6+/+0ZifBnXLy7fOQrXNFG9ztSUyppyy\n",
       "3/5aOVlLCvWE/URZBQfAqddL5Nc4VPdxkO3huLH+zUDlBA9bqXOa62u0XQE/xXdrWQGKsCK1cJVi\n",
       "Erix/sEgPgM1kDtuWDmRTlpPDR7ZHwRQcMeVsJNRs1Fy2Y1a+YwKZxYIF9ziEjdqYKDHfPCxM9l/\n",
       "pH1Lb9i4xfrCVhJ7EbfmwwxNQwTuFxN3YMSWKEaW2NFoHQM3k9254OGlPfo3o/2dD6Z8tqz4AWgf\n",
       "FtG+68ZEpckL4nVaEOffdaDGks5apG9Tsoe3f+8fXSmJa36Q+Fa4Su5fA+H+2x+sSwZRTDRSxiKe\n",
       "5iat6kY7icMupFaMw4K7DM2D6j9SGAOz7Sv/6F/qKDEGmpbNM3sBhMU6zB8LOMyjWQu7MoNYPqjy\n",
       "w5yrqEU5bj/VgmWCF0FhH/YJJUn6+LM08dK94gL3pb9M+QhbYwcg0Qo3bcyXYNmRWtQvAOHkIkjA\n",
       "taJ3x4QOPN7IY3bNcpjsvHsjKG+9owjGLuc84sG3oG4S6x9hI2czqjdQR7w27lW/nGRdSlNUEJB7\n",
       "8Wsln4AC/WUwJswTrB/OCoB9tk9LNpdRYRTjyRJZvHgv4n1W+SAwmNoiw/Wo2yuGfYzE+l78DvmG\n",
       "1pctlkzwjjA3PgAAVllQIx+51E42vopVZgmzSmgXoDpglj/9VSgM4OfRVJ07TIZ/d6/hgbdvtiQN\n",
       "CsCBmRV5KVfsTb2xED7DvSGC+T+zatguCwFo7nTQGV2XgZ4iXX3zc7zE+l9qY1rlBIi522+BKTWp\n",
       "OLc2D8YEL0oibPKCZpGTFfkhxrVGjDnSqkj63AnNdCKH9OV5Ngmc0kvWbNAycFHz+jos5Q7O7dW9\n",
       "wefajHVQWQTe7XcLzQkeAb2Lt7oLXlvtseSRrdyHv53VWpUiYAZNFI8ivc75lWVH710YtoGWhum8\n",
       "m1IEQsTdniLVfXSvc3Ne4ML4scj2Usa2BSqKSwmvldu2/RqobvmfMgdG+gtSbZL4Jap3jWJkoxTR\n",
       "lxrFdXf/b7C/KtPo41zOacitxdjWl2z05uhrwi6lcPryR9waB89yJVMKFzG+sRO/hzOoktUun31x\n",
       "s13cPKE8DgTswGvsSuIPj9MVj6JAH4Bo54NnGB4ehNXR1vru7gdxSWs6Eer/GFbhQ3rsB/CBD/U5\n",
       "2OpSEoDYyb2C4TCqLVuBB6vC1NbDFumkWCAw4r+BQ9D+RWaLxZBlvkPD7PBcjTqoZMiRGFNBBCmB\n",
       "cNQ8ZlzLDMwVFSH7qQhItHA7Gc8zjBN0Asd8TFvwiZ09OqnUxTCXOet0uYF6ohgjpUpDQUTDPyZL\n",
       "mFHlgp4wG95ag/bX7+pa0FBfJsMPwb9ceA/JtcFx9A4coRsWoUYsYvG7zIR56lnXexrWoQ5ujLhJ\n",
       "urzu0HDWAsDjK14XQCq+x2hQ7R/rGSCPnR8f/bA1RReUjhqLQd3Qif8VaOgkVr8oFNXEHHo6BmOA\n",
       "N0lMWZQjhXRs4QPCpIgikI3BRFxGEL48VgGkU2Ae8mxTegoOuEKJUV+wTYBuZioAAAPBAZ99dEK/\n",
       "ABHXNihZUHI8ePtYxU1JzRElnSZE2sJSmhW32fsW7KAEqCF+XRxfQCI4j4m385HmR5e4GBc2lpew\n",
       "cysbrBl2DR+CnSF104wKAAFR3gC635A13gUrNwz8SO+Y+wzEtTVkkcBdXclmrw2pnW19CHcPrio7\n",
       "oZOe2yAkW9JGtrNip7AAAdd1OBCpUHK4dEkWcQJXOXCYqe116rAXHN8xP+x6Wuzhopu7ZlEIRruF\n",
       "hcCny/8XRP07lO0JODGu4MX0Dx0+dyXkmRnUSMJhCbpw7BS9X0WF1uQ4j2WqLhAdicjb+MVSp0p9\n",
       "ChvEfuOfhU5rAQD0rRbMw8lutrjMi1KBo9XfgEbAknUbuLU/bAgSkZ9YwB0q3xIpt8DnR1wpuqDy\n",
       "kzIK1SlYLoeenD7hd133sdMG1Y0SZn7LtQOEyiTg6hj67KUvLRo/ipp4fFXfVcj9khO6S0vQA37S\n",
       "3hVNoPQxDEMktCdl3IjhGMd2Gn8R9mGgZXUlDQL5VvRq3I0ip40EkoYZw62Yal1PiUQujoP96t6b\n",
       "uHPhrY1Ke2D7MTcALCgm2OAe7GsN4ZpftFf7yDaxYPEZDGF7B8tEu+fwqek8PcB+wE8DQezkikhr\n",
       "oZT1IAuoFh2PGA0ZjMtdbw2dU+Afhe5QKZy3Gotgkq1mt8ym+OUo58bRu+isYdX1UOdZTZljOCzd\n",
       "X+CQegO68kWg/YtcRPvol2rgHE2qSTv4NAxseDUNrnVT3skhblMJgmK/3qPIhKSk8rDC1Cp33TAq\n",
       "B0gM87hdMGvtW9zZRciFuAbbD0LDKdMmav1Oh8JQekfrO2Gn7ewuh+qX0WEt0z+XXsBa9UAihakE\n",
       "mlNOhVLswVffSrX9EQqeYdqQU0/bvTQ//94OlRw/Dydo9m0sdGWvIqKAqQqI3uS+kk6IeRzOU2bT\n",
       "mvpP+Z1mrXUMBIYcTpsJegTnqm2n9eNTou1d3jc3NrPp2AWCKxb02fxwpKbNJHWG17ZnGYzyDgg5\n",
       "UAGHLdo/Q5QDwTFMFNbu6rKjsjFaAhNlXt9R9Zlf76GkKZZT6vzrvpMU0qnXHVh2/haa97v2+K3H\n",
       "XXvaM/kd3D8z2EhK0iwAjXLL3JELL230HvfC8CV/VcIyeKW6pRybdTuwNBxHHmK7bCnAiBc3Vwjr\n",
       "Y8HEggQoCVOc/1N+UDonAcLT5DrFPkB17MH1WA5JvZPo9F3ZzEIbGFvMlpxwS2rpZFDSCyGqfgvQ\n",
       "XxrOv3jwBRf4L+/cRkQ8JztqDY0AxaTgq7Fo19RPBg3lY/l7Bd7aIwz8DgAAAtoBn39qQr8AE+sF\n",
       "5hrnk7O+gwAhcx2RudXMhyGve7qUKo5YABMAvmTtoeXizjPr9OSPyEHkU7DtgidR/BIxK7hmKsf9\n",
       "kLlrVwP47QwH8EKeSOoi/MnLJLVf7f8VGGj7BFOBZheDMFLwYepqF9GXoanAV/aoZJIex9AkZarA\n",
       "DI4PIj7ByZjyUWW2ap8y7mypJh+5XTtpq/ZRwwkBshFHeCzBIBNgebGctm22iQ+4MzeWO2RR7vm4\n",
       "xxeb5x16GfYFf9iGqGImWk3ZGi4DxFR+a2iLOO1dzFjiK5QR3TE1IKtUTgbBeQvNRGhy2xW1e+RU\n",
       "AET5T3CVfz8EcFMTYijwbgleXRWzBMpS5vJ0l1YH/MeWrVLySQX9RX6nFawYnCMuYZhWxXYRF2px\n",
       "V8OBu6KIne0eDrCIJ5cJtty6yTIob8t9cHkI0euFqdRqfY+x34n9OZuwaTMjisnPZuTAQHFxjy7t\n",
       "58p7CuOL8nzGLaBZmPt1SBez9okMksGou/xO+pCp1y2D2UaG6LXX21QbwRAwYGUVxSpGSGISY4o0\n",
       "XKroLid4HbDe2Qoh3HHVCNBfukyzyFgk+5srSiCDeI2kIZxOnrsXil4jHWxjNhXtsc8M1dMj7AtA\n",
       "+1Ewd3cUVvlBkNuJPmQBL1DLijzEJ1DUZmy/610rvy/RYRPZvPmCQfQ8OCE8hMsJSylWyiSeemMs\n",
       "xo2ftWDv5/KvvynW73wfypGtQ4G8uPXK0IW+IGq1SMjnJ6bakL+7VVCFHpwA44VQuj6sDFqe9Dpe\n",
       "PBdIm5jUgDQZXeYQvTGBXqi/Ka9JbD6jnvPCcMGE1Oz1zDM/EdsohUBqgSn6LeNKSTVeMJxwp+P3\n",
       "uJ4IrtrKuXXZZegYSTUzgiTVMlu5l98cJ+E/YxKkZobXASJmyOEs866YZk/fc5wJFOLhWh3tCV5B\n",
       "3t5I+6/oYyHl75f9yvXyAUbazjx5FcxOIYFqNEidI0FPD5bHAAAGnEGbYkmoQWyZTBRML//+jLAA\n",
       "Zb1vN3Chh0iHyjq2GV7b9bDI9BzciEGOLPL1Sj0qaEIAbsAFIiVLhGYIkaK42XqIr3gr7psgMXAA\n",
       "2/qnL6HFptpujRjdOgeSZ8a/M2jY8Y5bLGeFtHlwN8Li4HjCkQvvyhadA1uCbh5DIawoMMS0+R+P\n",
       "aOcSJfi7BpXrFDhXCotdM0M+Wyj5e3nBXYR+oDQ3WKrlCOCjF9fT0nJ0gVW7rHi6whTWkTIoHOoY\n",
       "cUT+PpXOC7HpmEgs0ZcB+vLdKedmehFswh6VJbjkc2kfJfILohXdZjJLfQurT6hwGxAHJJg4R8/1\n",
       "24c+IduGpEGer6U/RIvwbS3lKfV6XA8e7AL6pqxUbRpVqNBRY+2snawO6Ak371WaMitHr2TWjx0e\n",
       "Gr9U6jsBhA+ubKFUWriry0CqXJsY2/mdkdvJuNbeZfXwehsSaty4sKmGhG496NdHKnD4vcGGcJLR\n",
       "c5bYd+HRsQElgV2AgLUlHKMXu4RkgoDcrWfkloGyhdNQEQFE9Pnuqr8Ahn7Of2n1WgQx+4CCTueT\n",
       "Gx9/rmSEqrt2K304uGY76rRkXxVzxR+5NJsG4WT5XeGc1LS783bM0j5z1M61wi4mJ9MjoRWg6YC2\n",
       "WVw9ZEoCRg1i4v+uvIEejtObF6XUfaJ5tfMzhO/LHfNPeFRCt4cJEESDPE0QSPCq4RrGAqBZLbX5\n",
       "zRJRHXkT3m2aFj0QO4MA3jfmGLzouzgGwrBcOEHp5Ej/sxlYXrj/G+byjr3TqP6KByxu+P4AS/7W\n",
       "ZmGW4L3y3itF0nGPGUSgQ+fstq26xMRVP46bZf6bkYc3cBJ7hANjN6G+eSUzCtSO8LptDPHP4J+/\n",
       "gplIOz/oF1WlZNJSdwTYW0lpwZxmnyBc+LSP9n0FahMg0DQwJkEjghJdEO9M/kqEEuL2xm/FvFzZ\n",
       "G4ipmjFtzC16SrjusQlu6mrANXb5HIf5f78UqC+cDjrM3TAYhjB+V96VtHosMg6ZauonIaVVc4Zb\n",
       "bTHLDUkOpz/Kiq5amVVU6DLgUDSxi13xYjuzPxZy/4r+4IQTdKyDrYqaZ8PkeZSCtavL0pO1YoDC\n",
       "sa70ecLaJLtlgumhCLzw8yrrjsu2nUZbqLZ7sWDgFTAarIY814Iv2wP6hiDYSg9WB2V1pVHV9i6l\n",
       "OoT9/Pb4vNxZNEvAd+OL5gmp/M1Iyya0TiElp9F/Si0DpBW+/3kqH0A+cZ7Ydr2iScadLguu7ZNK\n",
       "OqUv7pgOzyDvH43HZj9XDds7rG1nTuHATLcqto85M9O5rDpHICZ88YpJfSl8vmqUYVr9LBGNfA2o\n",
       "5y8UggXpEardWqwTTWA5tpX7Obl1Q8SrHl9Xfka9Kngi1hGMQQF4crM+VWYvTqRyMsZe1wmvw2Ig\n",
       "4HlQ/F5QTgqgPqW8NO1vGW6o/YDU1sh2nP2zfjXehy361WgKplWEjnN3IP0l6AzE+XVrBd024PZn\n",
       "e+yOpAt3daOgAOlRByIOoM+6alEm2MeaOoLQXrmetDhLo4RoH+J8neGIMBP/1uSRFl3C8DY9iFzy\n",
       "TipuBwqCdfpaxrzdGmRHBVo6nHM7oinAtCKZDmj4FeLYNoZeGYcEdh3wYYbDelSB/28T/zgP84ny\n",
       "ujZK8sZip8aMTSHSGzddqu8cihFKEP2hg713+nN4AmVS9pyW4sMweHnHFurmUSrF4T40jlovU9I0\n",
       "pXUqH4+VPhCP3j31q+glbSZQSryhzkpnY3uFPTJ9xZphZ3k1GIjyMGpszH2TihuOgabO0zeSnA7f\n",
       "ZPY562Zgf/r6vdmubHv/QOkYu/1jyC8AO9OgyXl/KSkdrAeDl9wdoR8t5sDKt5p89AMmUN6Ba7L2\n",
       "zrT2DjImdLkzc1Sd8FbWRPuXIR5Vjqt4+FRH4IAzHuIKNxhbcr+WzyayIEIGZZLDbG3TBXpyFfoR\n",
       "mD2Fb16NFT0TWmzuqQ8ptrHzudGkC5SQMjA+ab/y6RHBqeN1WzcOQWvcb1NRGIQAt8SY9nfr35TY\n",
       "8gEppz+QgmlnFFZSWs72uTeuYJzf191aAvTQUi1O22oMdWZ+1HL50FSDPBioKYEqX3whnP6SgGyw\n",
       "bHSHQEjtqStG2izVcX5vIhAqK4HRX9nSGifgbQhwBKmQ9M8uv7ZZHhkAGJYemdLs3hq5ezHBGedJ\n",
       "zGW4PyIZNhx7Ot1nkJEAeUYI7UbHokPPwFB4xCt8uQAfZDwxleXLWvOl56z9CvCvXu9qksn047zE\n",
       "OBMgVnmswA2Xu5F/Z6vdvrARfjIQ0AAAAoQBn4FqQr8AE+ar11d+wuvNWd0hBY8AmylBTkVdIj1O\n",
       "O9fxWwpRGz4AAIOdm+0M0qNauLKOgFxK1+779xY/cbv7goNa/rRJ/rCXcUbcGAjCM9EI8Ak2KjCj\n",
       "Hv9zctDXuj/wFy/3gGsiffuwfo3xODOmSW7y/Qj/U0wRiIWYyvwMuXwW046Ec6roWWCjEeazG06m\n",
       "9dyCdtA5t5r3B9cefyvEae8s6muWDa3CWJhX69JRjdwGZmZ/c9mWEvvEy7S9Dyw9Fw5QYpNTNnZE\n",
       "dO1WUhtouLUtCP2SLTX8pU0k5aW7/0ogWEbOwcPkdNO9OKp7lgiramQSm82f4JpwXripsUVEr7lB\n",
       "3AZiUJqcaP6UZPYK3sF3tAZ5UvPO8G+Z9mM5QR60dARZLhe3jeeH5xDswmqGRG4KcfdO5axNkQ3w\n",
       "xDWlIukRB8HlTHxCU0r0vpxvJbEihwV4J+oRUGl4d3D/e5tTx3vaRYRNL66S6gxv8val2/EdrvXV\n",
       "+rDvv3uPZCfrIn/sEHcfI0YMia8ZAu3gRa02QCCmPz+BWuIuCJUonHk9ULr44T6io+l3FqLNcw9I\n",
       "Rr5PzqJ+49Ulc2O/E3Qb8ebNax/93N1BZfz21hGZrPxreb2PeTe1HWhuboJFtXyncuvInf9Fy3Gq\n",
       "xdC2z0rhKrGV9wMeI24IgoRi1j1Z3o2gy8ipGyUF9e7Gx2dg9f3aRS9maQdPsqA4YFMJDKAUiiwj\n",
       "cEKCvzCHYmOLf54Go1xpYFXAmSJBia/3kJc9/TIGSIb6d0HsyPkRP/41VmMSUbpvlW+l1VQdrP5h\n",
       "Bx/V+0ca0ByI54P49UJUX7/ZHNduLVVoW1MSMOZF/BsuMuRkvYwWHfZtMQAAAZtBm4NJ4QpSZTAh\n",
       "X/44QADT+pF3i9UdKXFtrmjue1ckZfJF3EALXo9mPFun1irtz7hbyE7/BDsohvHh6GrjF5Gyse+2\n",
       "ubdt23HahvvsjrrG0WT6fKXL8bC1NGMYtSJhY6DLjI1ZylvqgqLqjxJKe6xDXZ3SDPjFtYuqOJ4H\n",
       "Ibhru6LJIFbOYnQY6wm1+XH1qAZRMHInGd9PZu7qDvYz0IR1NvBj6YW84XhjGuJYPojqdgTE0lLM\n",
       "2REUmx7o+pGG02GYg2RNChOdMc1TJfwIjon7Kfn1rhurGOZycATC9uSbwghy3i5SrqfJdcALc0P+\n",
       "Jx1+RtCCl5ISyQniPhRUfge/5OaqlsVS37AMDApkL4MAft2gWdXbVAYP1BAg849si4HVg1R2bii0\n",
       "yJ5puwDv1U9P6fUSpgpX5/JJqXg6Vz30hfCMCbjlMFX1G2kFldaxN5YJ6SpU9F6bUHwf0WmCEz3q\n",
       "Y6CJY1dB84ObBilnTXotTQ226b2+RAZvTS7OlQzcOchFCTd/U81k/rbOSMpwnJlSnLbVMzA/cVzv\n",
       "v5gAAAdpbW9vdgAAAGxtdmhkAAAAAAAAAAAAAAAAAAAD6AAAD6AAAQAAAQAAAAAAAAAAAAAAAAEA\n",
       "AAAAAAAAAAAAAAAAAAABAAAAAAAAAAAAAAAAAABAAAAAAAAAAAAAAAAAAAAAAAAAAAAAAAAAAAAA\n",
       "AAAAAgAABpR0cmFrAAAAXHRraGQAAAADAAAAAAAAAAAAAAABAAAAAAAAD6AAAAAAAAAAAAAAAAAA\n",
       "AAAAAAEAAAAAAAAAAAAAAAAAAAABAAAAAAAAAAAAAAAAAABAAAAAAoAAAAHgAAAAAAAkZWR0cwAA\n",
       "ABxlbHN0AAAAAAAAAAEAAA+gAAAEAAABAAAAAAYMbWRpYQAAACBtZGhkAAAAAAAAAAAAAAAAAAAy\n",
       "AAAAyABVxAAAAAAALWhkbHIAAAAAAAAAAHZpZGUAAAAAAAAAAAAAAABWaWRlb0hhbmRsZXIAAAAF\n",
       "t21pbmYAAAAUdm1oZAAAAAEAAAAAAAAAAAAAACRkaW5mAAAAHGRyZWYAAAAAAAAAAQAAAAx1cmwg\n",
       "AAAAAQAABXdzdGJsAAAAt3N0c2QAAAAAAAAAAQAAAKdhdmMxAAAAAAAAAAEAAAAAAAAAAAAAAAAA\n",
       "AAAAAoAB4ABIAAAASAAAAAAAAAABAAAAAAAAAAAAAAAAAAAAAAAAAAAAAAAAAAAAAAAAAAAAGP//\n",
       "AAAANWF2Y0MBZAAe/+EAGGdkAB6s2UCgPaEAAAMAAQAAAwAyDxYtlgEABmjr48siwP34+AAAAAAc\n",
       "dXVpZGtoQPJfJE/FujmlG88DI/MAAAAAAAAAGHN0dHMAAAAAAAAAAQAAAGQAAAIAAAAAFHN0c3MA\n",
       "AAAAAAAAAQAAAAEAAAK4Y3R0cwAAAAAAAABVAAAAAgAABAAAAAABAAAIAAAAAAIAAAIAAAAAAQAA\n",
       "CAAAAAACAAACAAAAAAEAAAYAAAAAAQAAAgAAAAABAAAKAAAAAAEAAAQAAAAAAQAAAAAAAAABAAAC\n",
       "AAAAAAMAAAQAAAAAAQAABgAAAAABAAACAAAAAAEAAAQAAAAAAQAACAAAAAACAAACAAAAAAEAAAoA\n",
       "AAAAAQAABAAAAAABAAAAAAAAAAEAAAIAAAAAAQAABgAAAAABAAACAAAAAAEAAAYAAAAAAQAAAgAA\n",
       "AAABAAAKAAAAAAEAAAQAAAAAAQAAAAAAAAABAAACAAAAAAEAAAgAAAAAAgAAAgAAAAABAAAEAAAA\n",
       "AAEAAAYAAAAAAQAAAgAAAAABAAAKAAAAAAEAAAQAAAAAAQAAAAAAAAABAAACAAAAAAEAAAYAAAAA\n",
       "AQAAAgAAAAABAAAGAAAAAAEAAAIAAAAAAQAACAAAAAACAAACAAAAAAEAAAoAAAAAAQAABAAAAAAB\n",
       "AAAAAAAAAAEAAAIAAAAAAQAACgAAAAABAAAEAAAAAAEAAAAAAAAAAQAAAgAAAAABAAAIAAAAAAIA\n",
       "AAIAAAAAAQAABgAAAAABAAACAAAAAAUAAAQAAAAAAQAABgAAAAABAAACAAAAAAEAAAoAAAAAAQAA\n",
       "BAAAAAABAAAAAAAAAAEAAAIAAAAAAQAACgAAAAABAAAEAAAAAAEAAAAAAAAAAQAAAgAAAAABAAAK\n",
       "AAAAAAEAAAQAAAAAAQAAAAAAAAABAAACAAAAAAEAAAgAAAAAAgAAAgAAAAACAAAEAAAAAAEAAAoA\n",
       "AAAAAQAABAAAAAABAAAAAAAAAAEAAAIAAAAAAQAACgAAAAABAAAEAAAAAAEAAAAAAAAAAQAAAgAA\n",
       "AAABAAAGAAAAAAEAAAIAAAAAAQAABAAAAAAcc3RzYwAAAAAAAAABAAAAAQAAAGQAAAABAAABpHN0\n",
       "c3oAAAAAAAAAAAAAAGQAACoYAAADfwAACUEAAANTAAACxQAACzAAAAQoAAADPgAACRAAAANlAAAJ\n",
       "wAAABmAAAAN/AAAEKQAAB/sAAAk1AAAH8QAACYcAAALBAAAIQQAADPwAAAOhAAADHgAAB7cAAAOB\n",
       "AAACFgAAAaIAAAUXAAACUQAACB0AAALsAAAKZQAABOAAAALKAAADAwAACKYAAAQ9AAADwwAACAsA\n",
       "AAtYAAADTgAADw8AAAXYAAADGgAAAzgAAAyFAAAC1gAAC08AAAKOAAAAbAAAAwQAAACxAAAKHAAA\n",
       "BRQAAAKEAAADFgAACcIAAAYMAAADeAAAA1EAAAh+AAAEZgAAA5QAAAljAAAENwAAB/4AAAcXAAAG\n",
       "iAAABv8AAAeJAAALgQAAAr0AAAiXAAAC8wAAAjcAAAGNAAAIcgAAA/IAAAIkAAADBQAACtkAAAW9\n",
       "AAAC8gAAA0MAAAkDAAAErgAAA8oAAAcKAAAI8QAADmUAAAYnAAADMgAAAzAAAAyAAAAFQwAAA8UA\n",
       "AALeAAAGoAAAAogAAAGfAAAAFHN0Y28AAAAAAAAAAQAAADAAAABhdWR0YQAAAFltZXRhAAAAAAAA\n",
       "ACFoZGxyAAAAAAAAAABtZGlyYXBwbAAAAAAAAAAAAAAAACxpbHN0AAAAJKl0b28AAAAcZGF0YQAA\n",
       "AAEAAAAATGF2ZjYwLjMuMTAw\n",
       "\">\n",
       "  Your browser does not support the video tag.\n",
       "</video>"
      ],
      "text/plain": [
       "<IPython.core.display.HTML object>"
      ]
     },
     "execution_count": 22,
     "metadata": {},
     "output_type": "execute_result"
    }
   ],
   "source": [
    "# Show the animation\n",
    "HTML(ani.to_html5_video())"
   ]
  },
  {
   "cell_type": "code",
   "execution_count": 23,
   "metadata": {
    "slideshow": {
     "slide_type": "skip"
    }
   },
   "outputs": [],
   "source": [
    "# Save the animation\n",
    "ani.save('PluckMiddle.mp4')"
   ]
  },
  {
   "cell_type": "markdown",
   "metadata": {
    "slideshow": {
     "slide_type": "slide"
    }
   },
   "source": [
    "# Some videos"
   ]
  },
  {
   "cell_type": "markdown",
   "metadata": {},
   "source": [
    "I find them cool and instructive."
   ]
  },
  {
   "cell_type": "markdown",
   "metadata": {
    "slideshow": {
     "slide_type": "skip"
    }
   },
   "source": [
    "## Bowed Violin String in Slow Motion\n",
    "\n",
    "https://youtu.be/6JeyiM0YNo4"
   ]
  },
  {
   "cell_type": "code",
   "execution_count": 24,
   "metadata": {
    "slideshow": {
     "slide_type": "subslide"
    }
   },
   "outputs": [
    {
     "data": {
      "image/jpeg": "[encoded data removed]",
      "text/html": [
       "\n",
       "        <iframe\n",
       "            width=\"560\"\n",
       "            height=\"315\"\n",
       "            src=\"https://www.youtube.com/embed/6JeyiM0YNo4?start=55\"\n",
       "            frameborder=\"0\"\n",
       "            allowfullscreen\n",
       "            \n",
       "        ></iframe>\n",
       "        "
      ],
      "text/plain": [
       "<IPython.lib.display.YouTubeVideo at 0x7f7b89332f40>"
      ]
     },
     "execution_count": 24,
     "metadata": {},
     "output_type": "execute_result"
    }
   ],
   "source": [
    "YouTubeVideo('6JeyiM0YNo4', width=\"560\", height=\"315\", start='55')"
   ]
  },
  {
   "cell_type": "markdown",
   "metadata": {
    "slideshow": {
     "slide_type": "notes"
    }
   },
   "source": [
    "About this video of a violin string, note that:\n",
    "\n",
    "* The oscillation is created by the bow of the violin, sticking-and-slipping (this is actually a real expression) at a frequency that resonates with the oscillation we see.\n",
    "* When the bow is removed, towards the end of the video, you can see that very quickly, the oscillation becomes like a fundamental oscillation, and nothing else, the kink is gone. That's because in reality, there is damping, and the higher the harmonic is, the stronger the damping acts on it. Indeed, as we saw before, the kink is reproduced by very high modes, and those modes oscillate faster. Assuming (and this is actually a conservative assumption) that the damping force on a mode $n$ can be modeled as something like $-b\\dot y$ again, then it proportional to the frequency: $F_{damping} \\propto \\sum -\\omega_n\\alpha_n\\sin(\\omega_n t)\\sin(k_nx)$. Therefore, the higher a mode is, the faster the damping is. After a short period of time, damping has killed all the modes but the fundamental, which is the last harmonic standing (pun intended).\n",
    "* The violin is out-of-tune to visualize a pattern. The string's oscillations are way too large for a functioning violin."
   ]
  },
  {
   "cell_type": "markdown",
   "metadata": {
    "slideshow": {
     "slide_type": "skip"
    }
   },
   "source": [
    "## Chladni Plate"
   ]
  },
  {
   "cell_type": "markdown",
   "metadata": {},
   "source": [
    "Please first watch the following video first (also at https://youtu.be/dXeBvQdkhaw and https://play.library.utoronto.ca/85ee379e108e534320503428bf84cdf2). It is not the best, but it was a pain in the neck to record."
   ]
  },
  {
   "cell_type": "code",
   "execution_count": 25,
   "metadata": {},
   "outputs": [
    {
     "data": {
      "image/jpeg": "[encoded data removed]",
      "text/html": [
       "\n",
       "        <iframe\n",
       "            width=\"560\"\n",
       "            height=\"300\"\n",
       "            src=\"https://www.youtube.com/embed/dXeBvQdkhaw?hieght=315\"\n",
       "            frameborder=\"0\"\n",
       "            allowfullscreen\n",
       "            \n",
       "        ></iframe>\n",
       "        "
      ],
      "text/plain": [
       "<IPython.lib.display.YouTubeVideo at 0x7f7b89333040>"
      ]
     },
     "execution_count": 25,
     "metadata": {},
     "output_type": "execute_result"
    }
   ],
   "source": [
    "YouTubeVideo('dXeBvQdkhaw', width=560, hieght=315)"
   ]
  },
  {
   "cell_type": "markdown",
   "metadata": {
    "slideshow": {
     "slide_type": "skip"
    }
   },
   "source": [
    "Now that you've indulged me, you can watch the much better video below (also at https://youtu.be/wvJAgrUBF4w)."
   ]
  },
  {
   "cell_type": "code",
   "execution_count": 26,
   "metadata": {
    "slideshow": {
     "slide_type": "subslide"
    }
   },
   "outputs": [
    {
     "data": {
      "image/jpeg": "[encoded data removed]",
      "text/html": [
       "\n",
       "        <iframe\n",
       "            width=\"560\"\n",
       "            height=\"300\"\n",
       "            src=\"https://www.youtube.com/embed/wvJAgrUBF4w?hieght=315\"\n",
       "            frameborder=\"0\"\n",
       "            allowfullscreen\n",
       "            \n",
       "        ></iframe>\n",
       "        "
      ],
      "text/plain": [
       "<IPython.lib.display.YouTubeVideo at 0x7f7b893378b0>"
      ]
     },
     "execution_count": 26,
     "metadata": {},
     "output_type": "execute_result"
    }
   ],
   "source": [
    "YouTubeVideo('wvJAgrUBF4w', width=560, hieght=315)"
   ]
  },
  {
   "cell_type": "markdown",
   "metadata": {
    "slideshow": {
     "slide_type": "-"
    }
   },
   "source": [
    "For an in-house explanation, see the web page, created by our very own Prof. Stephen Morris: https://www.physics.utoronto.ca/~nonlin/chladni.html"
   ]
  },
  {
   "cell_type": "markdown",
   "metadata": {
    "slideshow": {
     "slide_type": "skip"
    }
   },
   "source": [
    "## Fourier Analysis on musical instruments\n",
    "\n",
    "https://youtu.be/u1Lz8pm2npQ\n",
    "\n",
    "I love it and I hate it: this guy makes me look lame. Goes way beyond what I covered, in a compressed amount of time."
   ]
  },
  {
   "cell_type": "code",
   "execution_count": 27,
   "metadata": {
    "scrolled": true,
    "slideshow": {
     "slide_type": "subslide"
    }
   },
   "outputs": [
    {
     "data": {
      "image/jpeg": "[encoded data removed]",
      "text/html": [
       "\n",
       "        <iframe\n",
       "            width=\"560\"\n",
       "            height=\"315\"\n",
       "            src=\"https://www.youtube.com/embed/u1Lz8pm2npQ\"\n",
       "            frameborder=\"0\"\n",
       "            allowfullscreen\n",
       "            \n",
       "        ></iframe>\n",
       "        "
      ],
      "text/plain": [
       "<IPython.lib.display.YouTubeVideo at 0x7f7b89337670>"
      ]
     },
     "execution_count": 27,
     "metadata": {},
     "output_type": "execute_result"
    }
   ],
   "source": [
    "YouTubeVideo(\"u1Lz8pm2npQ\", width=\"560\", height=\"315\")"
   ]
  },
  {
   "cell_type": "markdown",
   "metadata": {
    "slideshow": {
     "slide_type": "skip"
    }
   },
   "source": [
    "## Ruben's Tubes\n",
    "\n",
    "Our department has its own recording: https://ugdemos.physics.utoronto.ca/db/videos/rubens-flame-tube\n",
    "\n",
    "The video below is more spectacular (https://youtu.be/2awbKQ2DLRE), though ours has its charm.\n",
    "The first minute of the video is pretty instructive, but the entire video is like a pyrotechnical version of a Chladni plate."
   ]
  },
  {
   "cell_type": "code",
   "execution_count": 28,
   "metadata": {
    "scrolled": false,
    "slideshow": {
     "slide_type": "subslide"
    }
   },
   "outputs": [
    {
     "data": {
      "image/jpeg": "[encoded data removed]",
      "text/html": [
       "\n",
       "        <iframe\n",
       "            width=\"560\"\n",
       "            height=\"315\"\n",
       "            src=\"https://www.youtube.com/embed/2awbKQ2DLRE\"\n",
       "            frameborder=\"0\"\n",
       "            allowfullscreen\n",
       "            \n",
       "        ></iframe>\n",
       "        "
      ],
      "text/plain": [
       "<IPython.lib.display.YouTubeVideo at 0x7f7b89070850>"
      ]
     },
     "execution_count": 28,
     "metadata": {},
     "output_type": "execute_result"
    }
   ],
   "source": [
    "YouTubeVideo(\"2awbKQ2DLRE\", width=560, height=315)"
   ]
  },
  {
   "cell_type": "markdown",
   "metadata": {
    "slideshow": {
     "slide_type": "skip"
    }
   },
   "source": [
    "## The Walking Water Mystery\n",
    "\n",
    "https://youtu.be/KJDEsAy9RyM\n",
    "\n",
    "The connection with standing waves may not be obvious at first. Jump to 4'15 or 8'14 if you are impatient, but the whole thing is worth a watch. Awesome stuff at 9'30."
   ]
  },
  {
   "cell_type": "code",
   "execution_count": 29,
   "metadata": {
    "slideshow": {
     "slide_type": "subslide"
    }
   },
   "outputs": [
    {
     "data": {
      "image/jpeg": "[encoded data removed]",
      "text/html": [
       "\n",
       "        <iframe\n",
       "            width=\"560\"\n",
       "            height=\"315\"\n",
       "            src=\"https://www.youtube.com/embed/KJDEsAy9RyM\"\n",
       "            frameborder=\"0\"\n",
       "            allowfullscreen\n",
       "            \n",
       "        ></iframe>\n",
       "        "
      ],
      "text/plain": [
       "<IPython.lib.display.YouTubeVideo at 0x7f7b98172d60>"
      ]
     },
     "execution_count": 29,
     "metadata": {},
     "output_type": "execute_result"
    }
   ],
   "source": [
    "YouTubeVideo(\"KJDEsAy9RyM\", width=\"560\", height=\"315\")"
   ]
  },
  {
   "cell_type": "markdown",
   "metadata": {
    "slideshow": {
     "slide_type": "skip"
    }
   },
   "source": [
    "# Energy of Standing Waves"
   ]
  },
  {
   "cell_type": "markdown",
   "metadata": {
    "slideshow": {
     "slide_type": "skip"
    }
   },
   "source": [
    "## General expression for transverse oscillations of a vibrating string\n",
    "\n",
    "We take the example of transverse oscillations on a vibrating string, where $v = \\sqrt{F/\\mu}$.\n",
    "\n",
    "Consider an infinitesimal piece of string located between $x$ and $\\delta x$.\n",
    "Its kinetic energy is \n",
    "$$\\delta K = \\frac12\\underbrace{\\mu\\delta x}_{=\\delta m} \\dot y^2.$$\n",
    "\n",
    "Its potential energy is due to the stretching of the piece of string when in motion, and to calculate it, we calculate the work done by the tension force $F$ to stretch the string by an amount $\\epsilon$, $W = -F\\epsilon$, with a minus sign because the tension $F$ points in the opposite direction as a positive stretching.\n",
    "And from lecture 6, we will use the relationship $W = -\\delta U$.\n",
    "The length at rest is $\\delta x$, and the length when stretched is $\\delta s = \\delta x/\\cos\\theta$, where $\\theta$ is the angle of the string in motion with the $x$-axis.\n",
    "The motion is linear and the angles are small, meaning that \n",
    "$$\\delta s = \\frac{\\delta x}{\\cos\\theta} \\approx \\frac{\\delta x}{1 - \\theta^2/2}\\approx \\delta x \\left(1 + \\frac{\\theta^2}2\\right) \\thrfor \\epsilon = \\delta s - \\delta x \\approx \\frac12 \\delta x\\, \\theta^2,$$\n",
    "with two Taylor expansions back-to-back to feel alive.\n",
    "But if the angle is small, then $\\theta \\approx \\tan\\theta = \\partial y /\\partial x$, and\n",
    "$$\\epsilon \\approx \\frac12 \\delta x \\left(\\pde y x\\right)^2.$$\n",
    "Collecting everything,\n",
    "$$\\delta U = - W =  F\\epsilon \\approx  F\\delta x \\frac12\\left(\\pde y x\\right)^2 = \\frac12 \\mu \\delta x v^2 \\left(\\pde y x\\right)^2.$$"
   ]
  },
  {
   "cell_type": "markdown",
   "metadata": {
    "slideshow": {
     "slide_type": "skip"
    }
   },
   "source": [
    "We then let $\\delta x \\to 0$ so all the $\\approx$'s turn into $=$'s, and sum up all of the infinitesimal contributions, yielding the energy of the vibrating string\n",
    "$$E =  \\frac12 \\mu \\int_0^L \\left[\\left(\\pde{y}t\\right)^2 + v^2\\left(\\pde{y}x\\right)^2 \\right]\\di x.$$"
   ]
  },
  {
   "cell_type": "markdown",
   "metadata": {
    "slideshow": {
     "slide_type": "skip"
    }
   },
   "source": [
    "## Single Mode"
   ]
  },
  {
   "cell_type": "markdown",
   "metadata": {
    "slideshow": {
     "slide_type": "skip"
    }
   },
   "source": [
    "For a single mode, and assuming for simplicity that $V(x) = 0$,\n",
    "$$y(t, x) = y_n(t, x) = A_n \\cos(\\omega_n t)\\sin(k_n x),$$\n",
    "$$\\pde{y}t = -\\omega_n A_n \\sin(\\omega_n t)\\sin(k_n x),\\textrm{ and}$$\n",
    "$$\\pde{y}x = k_n A_n \\cos(\\omega_n t)\\cos(k_n x).$$"
   ]
  },
  {
   "cell_type": "markdown",
   "metadata": {
    "slideshow": {
     "slide_type": "skip"
    }
   },
   "source": [
    "Substituting into the expression for energy,\n",
    "\\begin{align*}\n",
    "    E_n & = \\frac12 \\mu \\int_0^L \\left[\\omega_n^2 A_n^2 \\sin^2(\\omega_n t)\\sin^2(k_n x)  + v^2k_n^2 A_n^2 \\cos^2(\\omega_n t)\\cos^2(k_n x)\\right]\\di x, \\\\\n",
    "        & = \\frac12 \\mu \\omega_n^2 A_n^2 \\left[\\sin^2(\\omega_n t)\\int_0^L \\sin^2(k_n x)\\di x + \\cos^2(\\omega_n t)\\int_0^L\\cos^2(k_n x)\\di x\\right].\n",
    "\\end{align*}"
   ]
  },
  {
   "cell_type": "markdown",
   "metadata": {
    "slideshow": {
     "slide_type": "skip"
    }
   },
   "source": [
    "You can keep computing (in which case you could use $\\cos^2 + \\sin^2 = 1$), or remember the normalization of the inner product $\\odot$, or convince yourself by drawing $\\cos^2$ and $\\sin^2$, that the two integrals are the same:\n",
    "$$\\int_0^L \\sin^2(k_n x)\\di x = \\int_0^L \\cos^2(k_n x)\\di x = \\frac{L}2.$$"
   ]
  },
  {
   "cell_type": "markdown",
   "metadata": {
    "slideshow": {
     "slide_type": "skip"
    }
   },
   "source": [
    "And because $\\cos^2(\\omega_n t) + \\sin^2(\\omega_n t) = 1$,\n",
    "\\begin{equation}\n",
    "\\boxed{E_n = \\frac14\\mu L\\omega_n^2 A_n^2}.\n",
    "\\label{eq:En}\n",
    "\\end{equation}"
   ]
  },
  {
   "cell_type": "markdown",
   "metadata": {
    "slideshow": {
     "slide_type": "skip"
    }
   },
   "source": [
    "The expression above has a lot going on, and it may seem foolish to remember it.\n",
    "However, there actually is physics in there, and it is not so complicated.\n",
    "The energy of the SHO was already $kA^2/2 = m\\omega_0^2 A^2/2$, and so, if you could remember the energy of the SHO, you can remember this one.\n",
    "\n",
    "* $E_n \\propto m = \\mu L$, the mass of the string. Why not. \n",
    "* $E_n \\propto A_n^2$: quadratic dependence of the energy on the amplitude, a super-duper general statement that you have been needing to remember from the start of this lecture series,\n",
    "* $E_n \\propto \\omega_n^2$, same for the energy of the SHO. \"Everything else being equal, a mode that oscillates twice as fast has four times the energy.\"\n",
    "* Factor 1/4: we all wish it was 1/2, for the sake of remembering better. Oh well..."
   ]
  },
  {
   "cell_type": "markdown",
   "metadata": {
    "slideshow": {
     "slide_type": "skip"
    }
   },
   "source": [
    "If we had different boundary conditions, we may have a combination of $\\sin(k_n x)$ and $\\cos(k_n x)$ in $y_n(t, x)$, but the derivation would be conceptually the same, and we would still find Eq. \\eqref{eq:En}. "
   ]
  },
  {
   "cell_type": "markdown",
   "metadata": {
    "slideshow": {
     "slide_type": "skip"
    }
   },
   "source": [
    "## Many modes"
   ]
  },
  {
   "cell_type": "markdown",
   "metadata": {
    "slideshow": {
     "slide_type": "skip"
    }
   },
   "source": [
    "With more than one mode,\n",
    "$$ y(t, x) = \\sum_{n=1}^\\infty A_n \\cos(\\omega_n t + \\phi_n)\\sin(k_n x).$$\n",
    "Let's discard $\\phi_n$, for example by assuming $V(x) = 0$."
   ]
  },
  {
   "cell_type": "markdown",
   "metadata": {
    "slideshow": {
     "slide_type": "slide"
    }
   },
   "source": [
    "\\begin{align*}\n",
    "    \\pde{y}t & = -\\sum_{n=1}^\\infty \\omega_n A_n \\sin(\\omega_n t)\\sin(k_n x),\\textrm{ and}\\\\\n",
    "    \\left(\\pde{y}t\\right)^2 & = \\left[\\sum_{n=1}^\\infty \\omega_n A_n \\sin(\\omega_n t)\\sin(k_n x)\\right]\\left[\\sum_{m=1}^\\infty \\omega_m A_m \\sin(\\omega_m t)\\sin(k_m x)\\right] \\\\\n",
    "                            & = \\sum_{n=1}^\\infty \\left[\\omega_n A_n \\sin(\\omega_n t)\\sin(k_n x)\\right]^2 + 2\\sum_{m=1}^\\infty\\sum_{n=m+1}^\\infty \\omega_m A_m\\omega_n A_n \\sin(\\omega_m t)\\sin(k_m x)\\sin(\\omega_n t)\\sin(k_n x).\n",
    "\\end{align*}"
   ]
  },
  {
   "cell_type": "markdown",
   "metadata": {
    "slideshow": {
     "slide_type": "skip"
    }
   },
   "source": [
    "Notice the $2\\sum_{m=1}^{\\infty}\\sum_{n=m+1}^{\\infty}$ double sum (like I need to remind you of it).\n",
    "The factor 2 is here because each term that has $m\\neq n$ will appear twice, say, the couples $\\{m=1, n=2\\}$ and $\\{m=2, n=1\\}$ each appear once, but lead to the same expression. Might as well just sum them once by starting with $n=m+1$, but make them count twice.\n",
    "We start the second sum at $n=m+1$, not $n=m$, because the $n=m$ case is treated separately, in the first summation."
   ]
  },
  {
   "cell_type": "markdown",
   "metadata": {
    "slideshow": {
     "slide_type": "skip"
    }
   },
   "source": [
    "Before going any further, let us not forget that eventually, we will integrate these sums over $[0, L]$.\n",
    "In particular, the double sum will only contain terms proportional to \n",
    "$$\\int_0^L\\sin(k_m x)\\sin(k_n x) \\di x = 0\\quad \\textrm{because}\\quad n\\neq m.$$\n",
    "Therefore, \n",
    "$$ \\int_0^L \\left(\\pde{y}t\\right)^2 \\di x = \\sum_{n=1}^\\infty \\int_0^L \\left[\\omega_n A_n \\sin(\\omega_n t)\\sin(k_n x)\\right]^2 \\di x = \\sum_{n=1}^\\infty \\int_0^L \\left(\\pde{y_n}{t}\\right)^2 \\di x. $$\n"
   ]
  },
  {
   "cell_type": "markdown",
   "metadata": {
    "slideshow": {
     "slide_type": "skip"
    }
   },
   "source": [
    "A very similar derivation leads to\n",
    "$$ \\int_0^L\\left(\\pde{y}x\\right)^2\\di x = \\sum_{n=1}^\\infty\\int_0^L \\left(\\pde{y_n}{x}\\right)^2 \\di x, $$\n",
    "and therefore,\n",
    "$$\\boxed{E = \\sum_{n=1}^\\infty E_n} = \\frac{1}{4}\\mu L \\sum_{n=1}^\\infty \\omega_n^2 A_n^2.$$\n",
    "\n",
    "In Fourier series parlance, we have illustrated here Parseval's theorem."
   ]
  },
  {
   "cell_type": "markdown",
   "metadata": {
    "slideshow": {
     "slide_type": "skip"
    }
   },
   "source": [
    "Just like for coupled oscillators, **each mode has its own energy, it does not communicate it to any other mode, and the total energy is the sum of the energy of each mode.** Remember it!"
   ]
  },
  {
   "cell_type": "markdown",
   "metadata": {
    "slideshow": {
     "slide_type": "skip"
    }
   },
   "source": [
    "# Summary\n",
    "\n",
    "In this lecture, we saw:\n",
    "\n",
    "* the take-home message about Fourier series: what they are, what they mean, how we apply them to our finite-length string,\n",
    "* Just like Fourier modes are orthogonal to one another, standing wave modes don't project onto one another when using the inner product we described.\n",
    "* To solve any initial value problem, we turn two equations ($y$ and $\\dot y$) that contain an infinite number of terms into two infinite sets of one-term equations. And it's better than way.\n",
    "* Spectra are plots of the series of modes, displaying the coefficients multiplying each mode on the $y$-axis as function of $n$, $\\omega_n$ or $k_n$ on the $x$-axis.\n",
    "* The energy in each mode is separate from the energies in the other modes: there is no energetic coupling between the modes."
   ]
  }
 ],
 "metadata": {
  "anaconda-cloud": {},
  "celltoolbar": "Diaporama",
  "kernelspec": {
   "display_name": "Python 3 (ipykernel)",
   "language": "python",
   "name": "python3"
  },
  "language_info": {
   "codemirror_mode": {
    "name": "ipython",
    "version": 3
   },
   "file_extension": ".py",
   "mimetype": "text/x-python",
   "name": "python",
   "nbconvert_exporter": "python",
   "pygments_lexer": "ipython3",
   "version": "3.8.16"
  }
 },
 "nbformat": 4,
 "nbformat_minor": 1
}
